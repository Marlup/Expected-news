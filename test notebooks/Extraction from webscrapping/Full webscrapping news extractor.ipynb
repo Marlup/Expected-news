{
 "cells": [
  {
   "cell_type": "code",
   "execution_count": null,
   "id": "2ddfaebd",
   "metadata": {},
   "outputs": [],
   "source": [
    "#!pip install lxml"
   ]
  },
  {
   "cell_type": "code",
   "execution_count": 1,
   "id": "ccbe86f8",
   "metadata": {},
   "outputs": [],
   "source": [
    "import json\n",
    "from pprint import pprint\n",
    "import os\n",
    "from datetime import datetime\n",
    "import requests\n",
    "from bs4 import BeautifulSoup\n",
    "import re\n",
    "import pandas as pd\n",
    "from lxml import etree\n",
    "# Constants\n",
    "API_SOURCE = \"mediastack\"\n",
    "current_date, time = str(datetime.today()).split(\" \")\n",
    "current_date\n",
    "\n",
    "path = os.path.join(\"News storage\", API_SOURCE, current_date)\n",
    "\n",
    "file_name = current_date + \"_\" + API_SOURCE + \"_\" + \"extracted_news.json\"\n",
    "file_path = os.path.join(path, file_name)\n",
    "HEADERS = {\n",
    "    \"User-Agent\": \"Mozilla/5.0 (Windows NT 10.0; Win64; x64) AppleWebKit/537.36 (KHTML, like Gecko) Chrome/113.0.0.0 Safari/537.36\"\n",
    "}"
   ]
  },
  {
   "cell_type": "code",
   "execution_count": 2,
   "id": "2ade1d37",
   "metadata": {},
   "outputs": [],
   "source": [
    "def extract_html(url, main_root, headers=HEADERS):\n",
    "\n",
    "    # With headers\n",
    "    response = requests.get(url, headers=headers)\n",
    "    print(\"Response code:\", response.status_code)  # HTTP status code\n",
    "\n",
    "    parsed_hmtl = BeautifulSoup(response.content, \"html.parser\")\n",
    "\n",
    "    return parsed_hmtl, response.status_code"
   ]
  },
  {
   "cell_type": "markdown",
   "id": "a3f773eb",
   "metadata": {},
   "source": [
    "## Extracion of full article from given url"
   ]
  },
  {
   "cell_type": "markdown",
   "id": "4de13d11",
   "metadata": {},
   "source": [
    "### el mundo"
   ]
  },
  {
   "cell_type": "code",
   "execution_count": 3,
   "id": "d89db316",
   "metadata": {},
   "outputs": [],
   "source": [
    "url = \"https://elmundo.com/\"\n",
    "headers = {\n",
    "    \"User-Agent\": \"Mozilla/5.0 (Windows NT 10.0; Win64; x64) AppleWebKit/537.36 (KHTML, like Gecko) Chrome/113.0.0.0 Safari/537.36\"\n",
    "}"
   ]
  },
  {
   "cell_type": "code",
   "execution_count": 8,
   "id": "1113f046",
   "metadata": {},
   "outputs": [
    {
     "name": "stdout",
     "output_type": "stream",
     "text": [
      "503\n"
     ]
    }
   ],
   "source": [
    "# With headers\n",
    "response = requests.get(url, headers=headers)\n",
    "print(response.status_code)  # HTTP status code\n",
    "\n",
    "parsed_hmtl = BeautifulSoup(response.content, \"html.parser\")"
   ]
  },
  {
   "cell_type": "markdown",
   "id": "41605472",
   "metadata": {},
   "source": [
    "### 20minutos"
   ]
  },
  {
   "cell_type": "code",
   "execution_count": 7,
   "id": "cf1b2296",
   "metadata": {},
   "outputs": [
    {
     "name": "stdout",
     "output_type": "stream",
     "text": [
      "Response code: 200\n",
      "https://www.20minutos.es/noticia/5138821/0/asi-gesto-apoyo-pp-psoe-collboni-alcalde-barcelona-colau-fuera/\n",
      "https://www.20minutos.es/deportes/noticia/5138820/0/libres-3-y-clasificacion-del-gran-premio-de-canada-de-formula-1-en-directo-ultima-hora-de-alonso-y-sainz/\n",
      "https://www.20minutos.es/noticia/5138393/0/directo-negociaciones-partidos-contra-reloj-ultimo-dia-constitucion-ayuntamientos-pactos/\n",
      "https://www.20minutos.es/noticia/5138817/0/jaume-collboni-elegido-nuevo-alcalde-de-barcelona-con-el-apoyo-de-bcomu-y-el-pp/\n",
      "https://www.20minutos.es/noticia/5138821/0/asi-gesto-apoyo-pp-psoe-collboni-alcalde-barcelona-colau-fuera/\n",
      "https://www.20minutos.es/noticia/5138821/0/asi-gesto-apoyo-pp-psoe-collboni-alcalde-barcelona-colau-fuera/\n",
      "https://www.20minutos.es/noticia/5138826/0/trias-enfado-alcaldia-barcelona-que-les-den/\n",
      "https://www.20minutos.es/noticia/5138826/0/trias-enfado-alcaldia-barcelona-que-les-den/\n",
      "https://www.20minutos.es/noticia/5138823/0/colau-collboni-alcaldia-barcelona/\n",
      "https://www.20minutos.es/noticia/5138823/0/colau-collboni-alcaldia-barcelona/\n",
      "https://www.20minutos.es/noticia/5138813/0/llega-un-descenso-de-las-temperaturas-zonas-que-notaran-mas-la-bajada-del-termometro/\n",
      "https://www.20minutos.es/noticia/5138770/0/podemos-asume-su-derrota-ante-diaz-y-el-veto-a-irene-montero-para-ganar-hay-que-saber-perder/\n",
      "https://www.20minutos.es/noticia/5138770/0/podemos-asume-su-derrota-ante-diaz-y-el-veto-a-irene-montero-para-ganar-hay-que-saber-perder/\n",
      "https://www.20minutos.es/noticia/5138730/0/directo-guerra-ucrania-rusia-bombardeos-ofensiva-militar-putin-zelenski-kiev-moscu-ultima-hora/\n",
      "https://www.20minutos.es/noticia/5138730/0/directo-guerra-ucrania-rusia-bombardeos-ofensiva-militar-putin-zelenski-kiev-moscu-ultima-hora/\n",
      "https://www.20minutos.es/deportes/noticia/5138820/0/libres-3-y-clasificacion-del-gran-premio-de-canada-de-formula-1-en-directo-ultima-hora-de-alonso-y-sainz/\n",
      "https://www.20minutos.es/deportes/noticia/5138820/0/libres-3-y-clasificacion-del-gran-premio-de-canada-de-formula-1-en-directo-ultima-hora-de-alonso-y-sainz/\n",
      "https://www.20minutos.es/deportes/noticia/5138828/0/asi-ha-sido-el-increible-accidente-de-sainz-en-los-libres-3-destroza-todo-el-coche/\n",
      "https://www.20minutos.es/deportes/noticia/5138828/0/asi-ha-sido-el-increible-accidente-de-sainz-en-los-libres-3-destroza-todo-el-coche/\n",
      "https://www.20minutos.es/deportes/noticia/5138430/0/respuesta-viuda-reyes-sobre-la-orden-de-desahucio-me-estoy-enterando-de-todo-siempre-estuve-al-margen/\n",
      "https://www.20minutos.es/deportes/noticia/5138430/0/respuesta-viuda-reyes-sobre-la-orden-de-desahucio-me-estoy-enterando-de-todo-siempre-estuve-al-margen/\n",
      "https://www.20minutos.es/noticia/5138685/0/asi-lanzan-aseguradoras-caza-okupa-nuevas-coberturas-alta-demanda/\n",
      "https://www.20minutos.es/gonzoo/noticia/5138716/0/farmaceutica-pedido-cliente-nunca-dejais-sorprenderme/\n",
      "https://www.20minutos.es/gonzoo/noticia/5138716/0/farmaceutica-pedido-cliente-nunca-dejais-sorprenderme/\n",
      "https://www.20minutos.es/noticia/5138657/0/impresionante-forma-de-embarcar-en-un-avion-un-hombre-salta-desde-la-pasarela-hasta-la-pista-en-el-aeropuerto-de-malaga/\n",
      "https://www.20minutos.es/noticia/5138657/0/impresionante-forma-de-embarcar-en-un-avion-un-hombre-salta-desde-la-pasarela-hasta-la-pista-en-el-aeropuerto-de-malaga/\n",
      "https://www.20minutos.es/noticia/5138790/0/loteria-nacional-miles-euros-provincias/\n",
      "https://www.20minutos.es/noticia/5138790/0/loteria-nacional-miles-euros-provincias/\n",
      "https://www.20minutos.es/noticia/5138699/0/limite-dinero-efectivo-viajes-evitar-multas-hacienda/\n",
      "https://www.20minutos.es/noticia/5138827/0/juega-primera-vez-loteria-gana-premio-euros-ano-toda-vida/\n",
      "https://www.20minutos.es/noticia/5138827/0/juega-primera-vez-loteria-gana-premio-euros-ano-toda-vida/\n",
      "https://www.20minutos.es/noticia/5138784/0/biden-preocupa-seguidores-acabar-discurso-diciendo-dios-salve-reina/\n",
      "https://www.20minutos.es/noticia/5138784/0/biden-preocupa-seguidores-acabar-discurso-diciendo-dios-salve-reina/\n",
      "https://www.20minutos.es/noticia/5136496/0/sepe-busca-personas-trabajar-malta-sueldos-euros/\n",
      "https://www.20minutos.es/noticia/5136515/0/once-busca-personal-ofrece-contrato-fijo-dias-vacaciones-asuntos-propios/\n",
      "https://www.20minutos.es/noticia/5137408/0/para-que-se-levanto-stonehenge-una-nueva-teoria-cientifica-revela-una-posible-pista-hasta-ahora-oculta-el-sonido/\n",
      "https://www.20minutos.es/noticia/5137408/0/para-que-se-levanto-stonehenge-una-nueva-teoria-cientifica-revela-una-posible-pista-hasta-ahora-oculta-el-sonido/\n",
      "https://www.20minutos.es/noticia/5138687/0/llega-espana-nueva-cadena-supermercados-busca-competir-mercadona-lidl/\n",
      "https://www.20minutos.es/noticia/5138687/0/llega-espana-nueva-cadena-supermercados-busca-competir-mercadona-lidl/\n",
      "https://www.20minutos.es/deportes/noticia/5138492/0/asi-lucen-las-espectaculares-casas-de-messi-en-miami-dos-residencias-de-lujo-en-la-porsche-design-tower-y-la-torre-regalia/\n",
      "https://www.20minutos.es/deportes/noticia/5138492/0/asi-lucen-las-espectaculares-casas-de-messi-en-miami-dos-residencias-de-lujo-en-la-porsche-design-tower-y-la-torre-regalia/\n",
      "https://www.20minutos.es/noticia/5138763/0/muere-anos-tiktoker-carl-eiswerth/\n",
      "https://www.20minutos.es/noticia/5138763/0/muere-anos-tiktoker-carl-eiswerth/\n",
      "https://www.20minutos.es/noticia/5138720/0/sofa-disenadores-ikea-puedes-llevar-casa-sobre/\n",
      "https://www.20minutos.es/noticia/5138720/0/sofa-disenadores-ikea-puedes-llevar-casa-sobre/\n",
      "https://www.20minutos.es/noticia/5138815/0/rescatado-en-estado-grave-un-hombre-en-queralbs-girona-tras-ingerir-anapelo-azul-la-planta-mas-toxica-de-europa/\n",
      "https://www.20minutos.es/noticia/5138815/0/rescatado-en-estado-grave-un-hombre-en-queralbs-girona-tras-ingerir-anapelo-azul-la-planta-mas-toxica-de-europa/\n",
      "https://www.20minutos.es/noticia/5138803/0/el-precio-de-la-luz-baja-este-domingo-esta-sera-la-hora-mas-barata-y-la-mas-cara/\n",
      "https://www.20minutos.es/noticia/5138803/0/el-precio-de-la-luz-baja-este-domingo-esta-sera-la-hora-mas-barata-y-la-mas-cara/\n",
      "https://www.20minutos.es/noticia/5138477/0/estos-son-los-pensionistas-que-no-cobraran-paga-extra-verano/\n",
      "https://www.20minutos.es/noticia/5138477/0/estos-son-los-pensionistas-que-no-cobraran-paga-extra-verano/\n",
      "https://www.20minutos.es/noticia/5138688/0/mercadona-nueva-bebida-cafeina-desnatada-proteinas/\n",
      "https://www.20minutos.es/noticia/5138688/0/mercadona-nueva-bebida-cafeina-desnatada-proteinas/\n",
      "https://www.20minutos.es/noticia/5138788/0/secuestraron-hija-tres-anos-encuentra-despues/\n",
      "https://www.20minutos.es/noticia/5138788/0/secuestraron-hija-tres-anos-encuentra-despues/\n",
      "https://cadenaser.com/nacional/2023/06/16/manuel-jabois-sobre-la-situacion-de-mbappe-si-sacrificas-tu-carrera-por-cobrar-veinte-millones-mas-muy-inteligente-no-eres-cadena-ser/?afl=20m\n",
      "https://cadenaser.com/nacional/2023/06/16/manuel-jabois-sobre-la-situacion-de-mbappe-si-sacrificas-tu-carrera-por-cobrar-veinte-millones-mas-muy-inteligente-no-eres-cadena-ser/?afl=20m\n",
      "https://www.20minutos.es/noticia/5138800/0/el-alcalde-mas-joven-de-cataluna-es-gael-rodriguez-sumem-de-19-anos-y-de-portbou-girona/\n",
      "https://www.20minutos.es/noticia/5138800/0/el-alcalde-mas-joven-de-cataluna-es-gael-rodriguez-sumem-de-19-anos-y-de-portbou-girona/\n",
      "https://www.20minutos.es/noticia/5138493/0/matricula-de-honor-raspada/\n",
      "https://www.20minutos.es/noticia/5138493/0/matricula-de-honor-raspada/\n",
      "https://www.20minutos.es/noticia/5138369/0/mari-carmen-adios-a-la-ventrilocua-que-podia-mover-los-labios/\n",
      "https://www.20minutos.es/noticia/5138369/0/mari-carmen-adios-a-la-ventrilocua-que-podia-mover-los-labios/\n",
      "https://www.20minutos.es/noticia/5138259/0/carmelo-encinas-las-listas-de-la-discordia/\n",
      "https://www.20minutos.es/noticia/5138259/0/carmelo-encinas-las-listas-de-la-discordia/\n",
      "https://www.20minutos.es/noticia/5138357/0/el-sorteo-mas-temido/\n",
      "https://www.20minutos.es/noticia/5138357/0/el-sorteo-mas-temido/\n",
      "https://www.20minutos.es/noticia/5138777/0/identificados-tres-menores-paliza-granada/\n",
      "https://www.20minutos.es/noticia/5138777/0/identificados-tres-menores-paliza-granada/\n",
      "https://www.20minutos.es/noticia/5136314/0/como-pintar-muebles-y-darles-una-segunda-vida-segun-los-interioristas/\n",
      "https://www.20minutos.es/noticia/5136314/0/como-pintar-muebles-y-darles-una-segunda-vida-segun-los-interioristas/\n",
      "https://www.20minutos.es/gonzoo/noticia/5138719/0/clienta-metodo-compra-mercadona-viral/\n",
      "https://www.20minutos.es/gonzoo/noticia/5138719/0/clienta-metodo-compra-mercadona-viral/\n",
      "https://www.20minutos.es/noticia/5138631/0/encontrada-una-momia-prehispanica-rodeada-de-hojas-de-coca-cerca-de-un-campo-de-futbol/\n",
      "https://www.20minutos.es/noticia/5138631/0/encontrada-una-momia-prehispanica-rodeada-de-hojas-de-coca-cerca-de-un-campo-de-futbol/\n",
      "https://www.20minutos.es/noticia/5138807/0/belen-esteban-recuerda-su-pasado-con-las-drogas-y-lo-duro-que-fue-jorge-javier-vazquez-con-ella/\n",
      "https://www.20minutos.es/noticia/5138807/0/belen-esteban-recuerda-su-pasado-con-las-drogas-y-lo-duro-que-fue-jorge-javier-vazquez-con-ella/\n",
      "https://www.20minutos.es/noticia/5138431/0/asi-es-nacho-abad-el-presentador-de-codigo-10-que-empezo-en-el-club-de-la-comedia/\n",
      "https://www.20minutos.es/noticia/5138431/0/asi-es-nacho-abad-el-presentador-de-codigo-10-que-empezo-en-el-club-de-la-comedia/\n",
      "https://www.20minutos.es/noticia/5138664/0/kiko-matamoros-explica-por-que-no-estuvo-en-la-ultima-entrevista-de-mari-carmen-y-sus-munecos-en-el-deluxe-tenia-mal-caracter/\n",
      "https://www.20minutos.es/noticia/5138664/0/kiko-matamoros-explica-por-que-no-estuvo-en-la-ultima-entrevista-de-mari-carmen-y-sus-munecos-en-el-deluxe-tenia-mal-caracter/\n",
      "https://www.20minutos.es/noticia/5138563/0/el-hijo-de-mari-carmen-y-sus-munecos-habla-en-espejo-publico-por-encima-de-mari-carmen-y-sus-munecos-era-mi-mama/\n",
      "https://www.20minutos.es/noticia/5138563/0/el-hijo-de-mari-carmen-y-sus-munecos-habla-en-espejo-publico-por-encima-de-mari-carmen-y-sus-munecos-era-mi-mama/\n",
      "https://www.20minutos.es/noticia/5135812/0/asi-es-la-increible-mansion-de-jorge-javier-vazquez-presentador-de-salvame/\n",
      "https://www.20minutos.es/noticia/5135812/0/asi-es-la-increible-mansion-de-jorge-javier-vazquez-presentador-de-salvame/\n",
      "https://www.20minutos.es/noticia/5138413/0/asi-fueron-los-comienzos-de-marta-riumbau-en-youtube-una-de-las-influencers-pioneras-en-la-categoria-de-lifestyle/\n",
      "https://www.20minutos.es/noticia/5138413/0/asi-fueron-los-comienzos-de-marta-riumbau-en-youtube-una-de-las-influencers-pioneras-en-la-categoria-de-lifestyle/\n",
      "https://www.20minutos.es/noticia/5138251/0/que-ha-sido-de-felisuco-el-presentador-que-paso-a-ser-vicepresidente-del-real-racing-club-de-santander-y-politico-de-ciudadanos/\n",
      "https://www.20minutos.es/noticia/5138251/0/que-ha-sido-de-felisuco-el-presentador-que-paso-a-ser-vicepresidente-del-real-racing-club-de-santander-y-politico-de-ciudadanos/\n",
      "https://www.20minutos.es/deportes/noticia/5138742/0/el-paquete-de-mejoras-de-aston-martin-con-el-que-alonso-buscara-la-victoria-33-en-canada/\n",
      "https://www.20minutos.es/deportes/noticia/5138742/0/el-paquete-de-mejoras-de-aston-martin-con-el-que-alonso-buscara-la-victoria-33-en-canada/\n",
      "https://www.20minutos.es/deportes/noticia/5138812/0/enfado-en-el-bayern-por-los-rumores-sobre-kimmich-y-el-barca-por-que-flirtean-abierta-y-ofensivamente-con-nuestros-jugadores/\n",
      "https://www.20minutos.es/deportes/noticia/5138812/0/enfado-en-el-bayern-por-los-rumores-sobre-kimmich-y-el-barca-por-que-flirtean-abierta-y-ofensivamente-con-nuestros-jugadores/\n",
      "https://www.20minutos.es/deportes/noticia/5138802/0/jorge-martin-gana-el-sprint-del-gp-de-alemania-y-marquez-acaba-undecimo-fuera-de-los-puntos/\n",
      "https://www.20minutos.es/deportes/noticia/5138802/0/jorge-martin-gana-el-sprint-del-gp-de-alemania-y-marquez-acaba-undecimo-fuera-de-los-puntos/\n",
      "https://www.20minutos.es/deportes/noticia/5138782/0/luis-de-la-fuente-sobre-sus-jugadores-tengo-confianza-y-fe-ciega-en-todos-y-en-cada-uno-de-ellos-no-nos-va-a-defraudar-ninguno/\n",
      "https://www.20minutos.es/deportes/noticia/5138782/0/luis-de-la-fuente-sobre-sus-jugadores-tengo-confianza-y-fe-ciega-en-todos-y-en-cada-uno-de-ellos-no-nos-va-a-defraudar-ninguno/\n",
      "https://www.20minutos.es/deportes/noticia/5138806/0/detenido-un-camionero-aleman-seis-meses-despues-de-la-muerte-por-atropello-del-exciclista-davide-rebellin/\n",
      "https://www.20minutos.es/deportes/noticia/5138806/0/detenido-un-camionero-aleman-seis-meses-despues-de-la-muerte-por-atropello-del-exciclista-davide-rebellin/\n",
      "https://www.20minutos.es/noticia/5138725/0/horoscopo-sabado-17-junio-2023/\n",
      "https://www.20minutos.es/noticia/5138725/0/horoscopo-sabado-17-junio-2023/\n",
      "https://www.20minutos.es/noticia/5138283/0/como-votar-si-vives-en-el-extranjero-para-las-elecciones-generales/\n",
      "https://www.20minutos.es/noticia/5138283/0/como-votar-si-vives-en-el-extranjero-para-las-elecciones-generales/\n",
      "https://www.20minutos.es/noticia/5137930/0/como-votar-por-correo-online-desde-casa/\n",
      "https://www.20minutos.es/noticia/5137930/0/como-votar-por-correo-online-desde-casa/\n",
      "https://www.20minutos.es/noticia/5138809/0/hermanos-se-reencuentran-naufragio-grecia/\n",
      "https://www.20minutos.es/noticia/5138809/0/hermanos-se-reencuentran-naufragio-grecia/\n",
      "https://www.20minutos.es/noticia/5138824/0/comida-tipica-espanola-boris-johnson-confiesa-busca-visitas-nocturnas-frigorifico/\n",
      "https://www.20minutos.es/noticia/5138824/0/comida-tipica-espanola-boris-johnson-confiesa-busca-visitas-nocturnas-frigorifico/\n",
      "https://www.20minutos.es/noticia/5138097/0/con-vestager-no-se-juega-asi-mantiene-la-ue-en-vereda-a-las-grandes-tecnologicas/\n",
      "https://www.20minutos.es/noticia/5138097/0/con-vestager-no-se-juega-asi-mantiene-la-ue-en-vereda-a-las-grandes-tecnologicas/\n",
      "https://www.20minutos.es/noticia/5138765/0/el-binomio-aitana-yatra-arrasa-tambien-sobre-el-escenario-en-su-concierto-de-madrid/\n",
      "https://www.20minutos.es/noticia/5138765/0/el-binomio-aitana-yatra-arrasa-tambien-sobre-el-escenario-en-su-concierto-de-madrid/\n",
      "https://www.20minutos.es/noticia/5138814/0/agreden-al-jefe-de-seguridad-de-joan-garriga-vox-ante-el-ayuntamiento-de-manresa/\n",
      "https://www.20minutos.es/noticia/5138814/0/agreden-al-jefe-de-seguridad-de-joan-garriga-vox-ante-el-ayuntamiento-de-manresa/\n",
      "https://www.20minutos.es/noticia/5138811/0/concejales-psoe-pactar-con-vox-sotoserrano/\n",
      "https://www.20minutos.es/noticia/5129748/0/hoja-visitas-inmobiliaria-obligaciones-conlleva/\n",
      "https://www.20minutos.es/noticia/5136527/0/tipo-vivienda-mas-vende-espana/\n",
      "https://www.20minutos.es/noticia/5138798/0/el-pp-releva-al-psoe-al-frente-de-sant-josep-ibiza-tras-la-detencion-del-ultimo-alcalde/\n",
      "https://www.20minutos.es/noticia/5138798/0/el-pp-releva-al-psoe-al-frente-de-sant-josep-ibiza-tras-la-detencion-del-ultimo-alcalde/\n",
      "https://www.20minutos.es/noticia/5138759/0/nina-cuatro-anos-sale-milagrosamente-ilesa-atropellada-tres-motos/\n",
      "https://www.20minutos.es/noticia/5138759/0/nina-cuatro-anos-sale-milagrosamente-ilesa-atropellada-tres-motos/\n",
      "https://www.20minutos.es/noticia/5138734/0/nube-venenosa-cubre-cielo-ucrania-bombardeo-ruso-oleoducto-quimico/\n",
      "https://www.20minutos.es/noticia/5138734/0/nube-venenosa-cubre-cielo-ucrania-bombardeo-ruso-oleoducto-quimico/\n",
      "https://www.20minutos.es/noticia/5138775/0/comprobar-loteria-nacional-resultados-de-hoy-sabado-17-de-junio-de-2023/\n",
      "https://www.20minutos.es/noticia/5138775/0/comprobar-loteria-nacional-resultados-de-hoy-sabado-17-de-junio-de-2023/\n",
      "https://www.20minutos.es/noticia/5138709/0/comprobar-cuponazo-once-resultados-de-hoy-viernes-16-de-junio-de-2023/\n",
      "https://www.20minutos.es/noticia/5138709/0/comprobar-cuponazo-once-resultados-de-hoy-viernes-16-de-junio-de-2023/\n",
      "https://www.20minutos.es/noticia/5138707/0/comprobar-bonoloto-resultados-de-hoy-viernes-16-de-junio-de-2023/\n",
      "https://www.20minutos.es/noticia/5138707/0/comprobar-bonoloto-resultados-de-hoy-viernes-16-de-junio-de-2023/\n",
      "https://www.20minutos.es/noticia/5138728/0/euromillones-nuevo-millonario-espana-bote-millones/\n",
      "https://www.20minutos.es/noticia/5138728/0/euromillones-nuevo-millonario-espana-bote-millones/\n",
      "https://www.20minutos.es/noticia/5137529/0/cotizar-para-jubilacion-sin-necesidad-de-trabajar-convenios/\n",
      "https://www.20minutos.es/noticia/5137529/0/cotizar-para-jubilacion-sin-necesidad-de-trabajar-convenios/\n",
      "134\n"
     ]
    }
   ],
   "source": [
    "url = \"https://www.20minutos.es/\"\n",
    "main_root = \"https://www.20minutos.es/\"\n",
    "\n",
    "date = \"20230524\"\n",
    "# With headers\n",
    "response = requests.get(url, headers=headers)\n",
    "print(\"Response code:\", response.status_code)  # HTTP status code\n",
    "parsed_hmtl = BeautifulSoup(response.content, \"html.parser\")\n",
    "\n",
    "#sections = parsed_hmtl.find_all(\"li\", {\"itemprop\":\"name\"})\n",
    "#urls_sections = [x.find(\"a\").attrs[\"href\"] for x in sections]\n",
    "#print(urls_sections)\n",
    "\n",
    "a_tags = parsed_hmtl.find_all(\"a\", href=re.compile(\"/[0-9]+/\"))\n",
    "\n",
    "\n",
    "valid_urls = []\n",
    "for a in a_tags:\n",
    "    try:\n",
    "        href = a[\"href\"]\n",
    "        print(href)\n",
    "        if not href.startswith(main_root):\n",
    "            href = main_root + href\n",
    "        valid_urls.append(href)\n",
    "    except:\n",
    "        continue\n",
    "print(len(valid_urls))"
   ]
  },
  {
   "cell_type": "code",
   "execution_count": 204,
   "id": "130e34c0",
   "metadata": {},
   "outputs": [
    {
     "data": {
      "text/plain": [
       "[]"
      ]
     },
     "execution_count": 204,
     "metadata": {},
     "output_type": "execute_result"
    }
   ],
   "source": [
    "parsed_hmtl.find_all(\"ul\", attrs={\"class\": \"default-secciones-menu\"})"
   ]
  },
  {
   "cell_type": "markdown",
   "id": "0dbad707",
   "metadata": {},
   "source": [
    "### larazon"
   ]
  },
  {
   "cell_type": "code",
   "execution_count": 3,
   "id": "d370968e",
   "metadata": {},
   "outputs": [
    {
     "name": "stdout",
     "output_type": "stream",
     "text": [
      "Response code: 200\n"
     ]
    },
    {
     "data": {
      "text/plain": [
       "(551, 0)"
      ]
     },
     "execution_count": 3,
     "metadata": {},
     "output_type": "execute_result"
    }
   ],
   "source": [
    "url = \"https://www.larazon.es\"\n",
    "main_root = \"https://www.larazon.es\"\n",
    "\n",
    "date = \"20230524\"\n",
    "# With headers\n",
    "response = requests.get(url, headers=headers)\n",
    "print(\"Response code:\", response.status_code)  # HTTP status code\n",
    "parsed_hmtl = BeautifulSoup(response.content, \"html.parser\")\n",
    "\n",
    "sections = parsed_hmtl.find(\"ul\", attrs={\"class\": \"custom_carousel_container\"})\n",
    "urls_sections = [x.attrs[\"href\"] for x in sections.find_all(\"a\")]\n",
    "\n",
    "a_tags = parsed_hmtl.find_all(\"a\", href=re.compile(\".html$\"))\n",
    "\n",
    "valid_news_urls = []\n",
    "not_valid_news_urls = []\n",
    "for a in a_tags:\n",
    "    try:\n",
    "        href = a[\"href\"]\n",
    "        if not href.startswith(main_root):\n",
    "            continue\n",
    "        valid_news_urls.append(href)\n",
    "    except:\n",
    "        not_valid_news_urls.append(href)\n",
    "len(valid_news_urls), len(not_valid_news_urls), "
   ]
  },
  {
   "cell_type": "code",
   "execution_count": 4,
   "id": "bcd37d8d",
   "metadata": {},
   "outputs": [
    {
     "data": {
      "text/plain": [
       "0      https://www.larazon.es/gente/famosos/gerard-pi...\n",
       "1      https://www.larazon.es/cataluna/jaume-collboni...\n",
       "2      https://www.larazon.es/deportes/formula-1/jarr...\n",
       "3      https://www.larazon.es/espana/feijoo-tapona-bi...\n",
       "4      https://www.larazon.es/gente/famosos/natalia-a...\n",
       "                             ...                        \n",
       "546    https://www.larazon.es/gente/famosos/gran-amor...\n",
       "547    https://www.larazon.es/andalucia/situacion-ace...\n",
       "548    https://www.larazon.es/andalucia/situacion-ace...\n",
       "549    https://www.larazon.es/television/juez-tain-te...\n",
       "550    https://www.larazon.es/television/juez-tain-te...\n",
       "Length: 551, dtype: object"
      ]
     },
     "execution_count": 4,
     "metadata": {},
     "output_type": "execute_result"
    }
   ],
   "source": [
    "urls = pd.Series(valid_news_urls)\n",
    "urls"
   ]
  },
  {
   "cell_type": "code",
   "execution_count": 88,
   "id": "af560fc5",
   "metadata": {},
   "outputs": [
    {
     "data": {
      "text/plain": [
       "array(['https://www.larazon.es/gente/famosos/gerard-pique-clara-chia-casan-asi-sera-anuncio-matrimonial_20230617648dbaaa44049c0001c830c2.html',\n",
       "       'https://www.larazon.es/cataluna/jaume-collboni-psc-nuevo-alcalde-barcelona-votos-gratis-colau_20230617648dd57de9f5530001bf5ac4.html',\n",
       "       'https://www.larazon.es/deportes/formula-1/jarro-agua-fria-fernando-alonso-que-saldra-segundo-canada-aun-estamos-ese-nivel_20230618648ea45144049c0001ca02f5.html',\n",
       "       'https://www.larazon.es/espana/feijoo-tapona-bildu-erc-recupera-pactos-estado_20230618648e4554e9f5530001c04da1.html',\n",
       "       'https://www.larazon.es/gente/famosos/natalia-almarcha-risto-mejide-responde-comunicado-publicista-merezco_20230616648c4a3ee9f5530001bacf83.html'],\n",
       "      dtype=object)"
      ]
     },
     "execution_count": 88,
     "metadata": {},
     "output_type": "execute_result"
    }
   ],
   "source": [
    "urls[urls.str.split(\"/\").str.len() > 4].iloc[:5].values"
   ]
  },
  {
   "cell_type": "code",
   "execution_count": 90,
   "id": "b97963ec",
   "metadata": {},
   "outputs": [
    {
     "data": {
      "text/plain": [
       "array(['https://www.larazon.es/gente/famosos/gerard-pique-clara-chia-casan-asi-sera-anuncio-matrimonial_20230617648dbaaa44049c0001c830c2.html',\n",
       "       'https://www.larazon.es/deportes/formula-1/jarro-agua-fria-fernando-alonso-que-saldra-segundo-canada-aun-estamos-ese-nivel_20230618648ea45144049c0001ca02f5.html',\n",
       "       'https://www.larazon.es/gente/famosos/natalia-almarcha-risto-mejide-responde-comunicado-publicista-merezco_20230616648c4a3ee9f5530001bacf83.html',\n",
       "       'https://www.larazon.es/deportes/futbol/hay-fecha-juicio-dani-alves-que-pena-enfrenta_20230618648eb3b2e9f5530001c0f69d.html',\n",
       "       'https://www.larazon.es/gente/famosos/donaciones-deudas-ficticias-sociedades-cruzadas-tretas-barbara-rey-burlar-hacienda_20230617648cf2e6e9f5530001bcd912.html'],\n",
       "      dtype=object)"
      ]
     },
     "execution_count": 90,
     "metadata": {},
     "output_type": "execute_result"
    }
   ],
   "source": [
    "urls[urls.str.split(\"/\").str.len() > 5].iloc[:5].values"
   ]
  },
  {
   "cell_type": "markdown",
   "id": "8c421de3",
   "metadata": {},
   "source": [
    "Analyze one element"
   ]
  },
  {
   "cell_type": "code",
   "execution_count": 91,
   "id": "b6ae20d6",
   "metadata": {},
   "outputs": [
    {
     "name": "stdout",
     "output_type": "stream",
     "text": [
      "{'class': ['article-main', 'margin-none']}\n",
      "{'class': ['article-main__footer']}\n",
      "{'class': ['article-main']}\n"
     ]
    }
   ],
   "source": [
    "for i, news_url in enumerate(valid_news_urls[1:]):\n",
    "    resp_url_news = requests.get(news_url, \n",
    "                                 headers=headers)\n",
    "    parsed_hmtl = BeautifulSoup(resp_url_news.content, \"html.parser\")\n",
    "    etree.xmlfile\n",
    "    # header, footer and content\n",
    "    element_article_mains = parsed_hmtl.find_all(\"div\", \n",
    "                                                 class_=re.compile(r'article-main')\n",
    "                                                )[:-1]\n",
    "    texts = {}\n",
    "    \n",
    "    for main in element_article_mains:\n",
    "        article_key = \" \".join(main.attrs[\"class\"])\n",
    "        print(main.attrs)\n",
    "        texts[article_key] = main.get_text(separator=\"\\n\", strip=True)\n",
    "    # tags\n",
    "    element_tags = parsed_hmtl.find(\"ul\", {\"class\": \"article-tags-list\"}).get_text(separator=\"\\n\").split(\"\\n\")\n",
    "    break"
   ]
  },
  {
   "cell_type": "code",
   "execution_count": 92,
   "id": "2ffef7cf",
   "metadata": {},
   "outputs": [],
   "source": [
    "def find_attr_title(tag):\n",
    "    return tag.has_attr('class') and \"title\" in \" \".join(tag.attrs[\"class\"]) and \"main\" in \" \".join(tag.attrs[\"class\"])\n",
    "def find_attr_desc(tag):\n",
    "    return tag.has_attr('class') and \"description\" in \" \".join(tag.attrs[\"class\"]) and \"main\" in \" \".join(tag.attrs[\"class\"])\n",
    "def find_attr_maintag(tag):\n",
    "    return tag.has_attr('class') and \"tag\" in \" \".join(tag.attrs[\"class\"]) and \"main\" in \" \".join(tag.attrs[\"class\"])\n",
    "def find_attr_author(tag):\n",
    "    return tag.has_attr('class') and \"author\" in \" \".join(tag.attrs[\"class\"])\n",
    "def find_attr_date(tag):\n",
    "    return tag.has_attr('class') and \"date\" in \" \".join(tag.attrs[\"class\"])\n",
    "def find_attr_content(tag):\n",
    "    return tag.has_attr('class') and \"content\" in \" \".join(tag.attrs[\"class\"])"
   ]
  },
  {
   "cell_type": "code",
   "execution_count": 190,
   "id": "02f16aec",
   "metadata": {},
   "outputs": [
    {
     "name": "stdout",
     "output_type": "stream",
     "text": [
      "article-main\n",
      "******************************\n",
      "title: El PP impide que el independentismo consiga Barcelona: Collboni (PSC), nuevo alcalde\n",
      "desc: La alianza frena el gobierno independentista de Xavier Trias y Ernest Maragall\n",
      "maintag: Vuelco\n",
      "......\n",
      "article-main\n",
      "******************************\n",
      "date: Barcelona Creada: 17.06.2023 17:47 Última actualización: 17.06.2023 20:25\n",
      "......\n",
      "article-main\n",
      "******************************\n",
      "content: Final de infarto el que se vivió ayer en Barcelona con una insólita e histórica maniobra para evitar que el independentismo gobernara la ciudad y retomara el relato del «procés» en esta nueva etapa política. El PSC de Jaume Collboni recupera la alcaldía de la capital catalana 12 años después con los votos del partido de Ada Colau y del PP. Unos apoyos para la investidura necesarios e indispensables para evitar un frente de Junts y ERC en la capital catalana y que llevan a los socialistas a lograr su botín más preciado. Eso sí, Collboni gobernará en minoría y tendrá que llegar a acuerdos a lo largo de la legislatura.En concreto, la candidatura socialista ha obtenido este 17-J 23 apoyos –los 10 del PSC, los 9 de los Comunes y los 4 del PP– por los 16 de Trias con Junts y ERC.La capital catalana era la joya de la Corona para el PSC y también para el PSOE, la plaza a conquistar para afrontar con mejores perspectivas la campaña de las elecciones generales del 23 de julio. Y los socialistas han logrado «in extremis» la vara de mando con Jaume Collboni y gracias a los votos de los Comunes –facción integrada dentro de Sumar, de Yolanda Díaz– y del PP, una decisión que se materializó ayer en el último minuto. La formación de Colau anunció además que no entrará en el gobierno del PSC y que pasan a «hacer oposición», uno de los grandes objetivos de los populares comandados por Daniel Sirera en la capital catalana. «Barcelona en Comú solo formará parte de un gobierno en la ciudad de Barcelona si puede sumar con las otras dos fuerzas progresistas –PSC y ERC– y desde la oposición hará todo lo necesario para conseguirlo», señala el texto difundido por los Comunes sobre un pacto con socialistas y republicanos imposible.De hecho, el PP de Daniel Sirera dio los últimos votos necesarios a Jaume Collboni (PSC) al lograr sus dos máximos objetivos: evitar que Junts –el partido de Carles Puigdemont y Xavier Trias– gobernase la ciudad y levantase aquí el frente común independentista que reclama Pere Aragonès tras la fuerte caída de ERC en las municipales; y conseguir que ni Ada Colau ni los Comunes estén en el equipo de gobierno municipal. Es decir, ha dado carpetazo a la gestión de la ya exalcaldesa de Barcelona y posibilitó la investidura del candidato del PSC para evitar otro órdago independentista.Según fuentes del PP, el coordinador general del PP, Elías Bendodo, se puso en contacto el jueves con el secretario de Organización del PSOE, Santos Cerdán para ofrecer los votos populares bajo una condición: que Ada Colau no entrara en el equipo de gobierno, como así ha terminado ocurriendo en Barcelona.«No ha sido fácil dar apoyo a Collboni, principal adversario en el Gobierno de España. Pero siempre he dicho que priorizaríamos los intereses en Barcelona por encima de los de mi partido», admitió ayer Sirera sobre la posibilidad de que Puigdemont desde Waterloo y ERC desde la Generalitat usaran el Ayuntamiento de la capital catalana para sus intereses.La magnitud del vuelco se evidenció con solo ver las caras y los gestos del independentismo. Trias negaba con la cabeza, mientras Ernest Maragall miraba serio a Oriol Junqueras en el Consistorio minutos antes de la investidura de Collboni. Y en el momento de los discursos, el posconvergente Xavier Trias cambió de tono e incluso llegó a perder los papeles. En concreto, acusó al resto de partidos de «hacer tonterías», enmarcando lo sucedido en una maniobra para frenar al independentismo y se fue con las siguientes palabras: «A mis 76 años, yo ya lo decía: Si no salgo alcalde, que les den a todos».También está por ver qué ocurre con Ernest Maragall y ERC tras la debacle del partido en las municipales del 28-M y ante el 23-J.\n",
      "......\n"
     ]
    }
   ],
   "source": [
    "for element in element_article_mains:\n",
    "    \n",
    "    main_division = \" \".join(elem_it.attrs[\"class\"])\n",
    "    print(main_division)\n",
    "    print(30*\"*\")\n",
    "    element_title = element.find(find_attr_title)\n",
    "    if element_title and element_title.text and element_title.text.strip():\n",
    "        title = element_title.text\n",
    "        print(\"title:\", title)\n",
    "    \n",
    "    element_desc = element.find(find_attr_desc)\n",
    "    if element_desc and element_desc.text and element_desc.text.strip():\n",
    "        desc = element_desc.text\n",
    "        print(\"desc:\", desc)\n",
    "    \n",
    "    element_maintag = element.find(find_attr_maintag)\n",
    "    if element_maintag and element_maintag.text and element_maintag.text.strip():\n",
    "        maintag = element_maintag.text\n",
    "        print(\"maintag:\", maintag)\n",
    "    \n",
    "    #element_author_dates = element.find(find_attr_author)\n",
    "    #if element_author_dates and element_author_dates.text and element_author_dates.text.strip():\n",
    "    #    author_dates = element_author_dates.text\n",
    "    #    creation_date, creation_time, update_date, update_time = re.findall(r\"[0-9]+.{1}[0-9]+(?:.{1}[0-9]+)?\", author_dates)\n",
    "    #    print(\"author and dates:\", author_dates)\n",
    "            \n",
    "    element_dates = element.find(find_attr_date)\n",
    "    if element_dates and element_dates.text and element_dates.text.strip():\n",
    "        dates = element_dates.text\n",
    "        creation_date, creation_time, update_date, update_time = re.findall(r\"[0-9]+.{1}[0-9]+(?:.{1}[0-9]+)?\", author_dates)\n",
    "        print(\"date:\", dates)\n",
    "            \n",
    "    element_content = element.find(find_attr_content)\n",
    "    if element_content and element_content.text and elem.text.strip():\n",
    "        content = element_content.text\n",
    "        print(\"content:\", content)\n",
    "    print(\"......\")"
   ]
  },
  {
   "cell_type": "code",
   "execution_count": 191,
   "id": "9f28f127",
   "metadata": {},
   "outputs": [
    {
     "data": {
      "text/plain": [
       "'El PP impide que el independentismo consiga Barcelona: Collboni (PSC), nuevo alcalde'"
      ]
     },
     "execution_count": 191,
     "metadata": {},
     "output_type": "execute_result"
    }
   ],
   "source": [
    "title"
   ]
  },
  {
   "cell_type": "code",
   "execution_count": 192,
   "id": "76a52406",
   "metadata": {},
   "outputs": [
    {
     "data": {
      "text/plain": [
       "'La alianza frena el gobierno independentista de Xavier Trias y Ernest Maragall'"
      ]
     },
     "execution_count": 192,
     "metadata": {},
     "output_type": "execute_result"
    }
   ],
   "source": [
    "desc"
   ]
  },
  {
   "cell_type": "code",
   "execution_count": 193,
   "id": "76873f14",
   "metadata": {},
   "outputs": [
    {
     "data": {
      "text/plain": [
       "'Vuelco'"
      ]
     },
     "execution_count": 193,
     "metadata": {},
     "output_type": "execute_result"
    }
   ],
   "source": [
    "maintag"
   ]
  },
  {
   "cell_type": "code",
   "execution_count": 196,
   "id": "b01ef5db",
   "metadata": {},
   "outputs": [
    {
     "data": {
      "text/plain": [
       "'Cristina RubioBarcelona Creada: 17.06.2023 17:47 Última actualización: 17.06.2023 20:25'"
      ]
     },
     "execution_count": 196,
     "metadata": {},
     "output_type": "execute_result"
    }
   ],
   "source": [
    "author_dates"
   ]
  },
  {
   "cell_type": "code",
   "execution_count": 197,
   "id": "2da680ae",
   "metadata": {},
   "outputs": [
    {
     "data": {
      "text/plain": [
       "('17.06.2023', '17:47', '17.06.2023', '20:25')"
      ]
     },
     "execution_count": 197,
     "metadata": {},
     "output_type": "execute_result"
    }
   ],
   "source": [
    "#re.findall(r\"[0-9]+(?:.{1}[0-9]+){0,2}\", author_dates)\n",
    "creation_date, creation_time, update_date, update_time = re.findall(r\"[0-9]+.{1}[0-9]+(?:.{1}[0-9]+)?\", dates)\n",
    "creation_date, creation_time, update_date, update_time"
   ]
  },
  {
   "cell_type": "code",
   "execution_count": 198,
   "id": "fc85d2ed",
   "metadata": {},
   "outputs": [
    {
     "data": {
      "text/plain": [
       "'Final de infarto el que se vivió ayer en Barcelona con una insólita e histórica maniobra para evitar que el independentismo gobernara la ciudad y retomara el relato del «procés» en esta nueva etapa política. El PSC de Jaume Collboni recupera la alcaldía de la capital catalana 12 años después con los votos del partido de Ada Colau y del PP. Unos apoyos para la investidura necesarios e indispensables para evitar un frente de Junts y ERC en la capital catalana y que llevan a los socialistas a lograr su botín más preciado. Eso sí, Collboni gobernará en minoría y tendrá que llegar a acuerdos a lo largo de la legislatura.En concreto, la candidatura socialista ha obtenido este 17-J 23 apoyos –los 10 del PSC, los 9 de los Comunes y los 4 del PP– por los 16 de Trias con Junts y ERC.La capital catalana era la joya de la Corona para el PSC y también para el PSOE, la plaza a conquistar para afrontar con mejores perspectivas la campaña de las elecciones generales del 23 de julio. Y los socialistas han logrado «in extremis» la vara de mando con Jaume Collboni y gracias a los votos de los Comunes –facción integrada dentro de Sumar, de Yolanda Díaz– y del PP, una decisión que se materializó ayer en el último minuto. La formación de Colau anunció además que no entrará en el gobierno del PSC y que pasan a «hacer oposición», uno de los grandes objetivos de los populares comandados por Daniel Sirera en la capital catalana. «Barcelona en Comú solo formará parte de un gobierno en la ciudad de Barcelona si puede sumar con las otras dos fuerzas progresistas –PSC y ERC– y desde la oposición hará todo lo necesario para conseguirlo», señala el texto difundido por los Comunes sobre un pacto con socialistas y republicanos imposible.De hecho, el PP de Daniel Sirera dio los últimos votos necesarios a Jaume Collboni (PSC) al lograr sus dos máximos objetivos: evitar que Junts –el partido de Carles Puigdemont y Xavier Trias– gobernase la ciudad y levantase aquí el frente común independentista que reclama Pere Aragonès tras la fuerte caída de ERC en las municipales; y conseguir que ni Ada Colau ni los Comunes estén en el equipo de gobierno municipal. Es decir, ha dado carpetazo a la gestión de la ya exalcaldesa de Barcelona y posibilitó la investidura del candidato del PSC para evitar otro órdago independentista.Según fuentes del PP, el coordinador general del PP, Elías Bendodo, se puso en contacto el jueves con el secretario de Organización del PSOE, Santos Cerdán para ofrecer los votos populares bajo una condición: que Ada Colau no entrara en el equipo de gobierno, como así ha terminado ocurriendo en Barcelona.«No ha sido fácil dar apoyo a Collboni, principal adversario en el Gobierno de España. Pero siempre he dicho que priorizaríamos los intereses en Barcelona por encima de los de mi partido», admitió ayer Sirera sobre la posibilidad de que Puigdemont desde Waterloo y ERC desde la Generalitat usaran el Ayuntamiento de la capital catalana para sus intereses.La magnitud del vuelco se evidenció con solo ver las caras y los gestos del independentismo. Trias negaba con la cabeza, mientras Ernest Maragall miraba serio a Oriol Junqueras en el Consistorio minutos antes de la investidura de Collboni. Y en el momento de los discursos, el posconvergente Xavier Trias cambió de tono e incluso llegó a perder los papeles. En concreto, acusó al resto de partidos de «hacer tonterías», enmarcando lo sucedido en una maniobra para frenar al independentismo y se fue con las siguientes palabras: «A mis 76 años, yo ya lo decía: Si no salgo alcalde, que les den a todos».También está por ver qué ocurre con Ernest Maragall y ERC tras la debacle del partido en las municipales del 28-M y ante el 23-J.'"
      ]
     },
     "execution_count": 198,
     "metadata": {},
     "output_type": "execute_result"
    }
   ],
   "source": [
    "content"
   ]
  },
  {
   "cell_type": "markdown",
   "id": "8d58b508",
   "metadata": {},
   "source": [
    "Final script"
   ]
  },
  {
   "cell_type": "code",
   "execution_count": 242,
   "id": "42e64f0c",
   "metadata": {},
   "outputs": [],
   "source": [
    "# For title\n",
    "def find_attr_title(tag):\n",
    "    return tag.has_attr('class') and \"title\" in \" \".join(tag.attrs[\"class\"]) and \"main\" in \" \".join(tag.attrs[\"class\"])\n",
    "# For desc\n",
    "def find_attr_desc(tag):\n",
    "    return tag.has_attr('class') and \"description\" in \" \".join(tag.attrs[\"class\"]) and \"main\" in \" \".join(tag.attrs[\"class\"])\n",
    "# For maintag\n",
    "def find_attr_maintag(tag):\n",
    "    return tag.has_attr('class') and \"tag\" in \" \".join(tag.attrs[\"class\"]) and \"main\" in \" \".join(tag.attrs[\"class\"])\n",
    "# For author\n",
    "def find_attr_author(tag):\n",
    "    return tag.has_attr('class') and \"author\" in \" \".join(tag.attrs[\"class\"])\n",
    "# For dates\n",
    "def find_attr_date(tag):\n",
    "    return tag.has_attr('class') and \"date\" in \" \".join(tag.attrs[\"class\"])\n",
    "# For content\n",
    "def find_attr_content(tag):\n",
    "    return tag.has_attr('class') and \"content\" in \" \".join(tag.attrs[\"class\"])\n",
    "\n",
    "def one_news_data_extractor(elements):\n",
    "    for element in elements:\n",
    "        element_title = element.find(find_attr_title)\n",
    "        title = None\n",
    "        desc = None\n",
    "        maintag = None\n",
    "        creation_date, creation_time, update_date, update_time = [None] * 4\n",
    "        content = None\n",
    "        if element_title and element_title.text and element_title.text.strip():\n",
    "            title = element_title.text\n",
    "            if not title:\n",
    "                return None\n",
    "\n",
    "        element_desc = element.find(find_attr_desc)\n",
    "        if element_desc and element_desc.text and element_desc.text.strip():\n",
    "            desc = element_desc.text\n",
    "            if not desc:\n",
    "                return None\n",
    "\n",
    "        element_maintag = element.find(find_attr_maintag)\n",
    "        if element_maintag and element_maintag.text and element_maintag.text.strip():\n",
    "            maintag = element_maintag.text\n",
    "            if not maintag:\n",
    "                return None\n",
    "\n",
    "        element_dates = element.find(find_attr_date)\n",
    "        \n",
    "        if element_dates and element_dates.text and element_dates.text.strip():\n",
    "            dates = element_dates.text\n",
    "            creation_date, creation_time, update_date, update_time = re.findall(r\"[0-9]+.{1}[0-9]+(?:.{1}[0-9]+)?\", author_dates)\n",
    "            if not creation_date or not creation_time or not update_date or not update_time:\n",
    "                return None\n",
    "            \n",
    "        element_content = element.find(find_attr_content)\n",
    "        if element_content and element_content.text and elem.text.strip():\n",
    "            content = element_content.text\n",
    "            if not content:\n",
    "                None\n",
    "    return dict(zip((\"title\", \"desc\", \"maintag\", \"creation_date\", \"creation_time\", \"update_date\", \"update_time\", \"content\"), \n",
    "                    (title, desc, maintag, creation_date, creation_time, update_date, update_time, content)\n",
    "                   ))\n",
    "# For tags\n",
    "def find_attr_tags(tag):\n",
    "    return tag.has_attr('class') and \"tags\" in \" \".join(tag.attrs[\"class\"]) and \"article\" in \" \".join(tag.attrs[\"class\"])"
   ]
  },
  {
   "cell_type": "markdown",
   "id": "4eb94c30",
   "metadata": {},
   "source": [
    "//*[contains(@class, 'tags') and contains(@class, 'article')]"
   ]
  },
  {
   "cell_type": "code",
   "execution_count": 241,
   "id": "25255f5c",
   "metadata": {},
   "outputs": [
    {
     "data": {
      "text/plain": [
       "'https://www.larazon.es/podcast/imagenes-mundo-17-junio-2023_20230617648d30e644049c0001c69adb.html'"
      ]
     },
     "execution_count": 241,
     "metadata": {},
     "output_type": "execute_result"
    }
   ],
   "source": [
    "news_url"
   ]
  },
  {
   "cell_type": "code",
   "execution_count": 351,
   "id": "6e450889",
   "metadata": {},
   "outputs": [
    {
     "data": {
      "text/plain": [
       "551"
      ]
     },
     "execution_count": 351,
     "metadata": {},
     "output_type": "execute_result"
    }
   ],
   "source": [
    "len(valid_news_urls)"
   ]
  },
  {
   "cell_type": "code",
   "execution_count": 353,
   "id": "6ba4980a",
   "metadata": {},
   "outputs": [],
   "source": [
    "news_media_data = {}\n",
    "not_processed_urls = []\n",
    "valid_news_urls = list(set(valid_news_urls))\n",
    "for i, news_url in enumerate(valid_news_urls):\n",
    "    news_url_id = news_url.replace(\".html\", \"\").split(\"_\")[-1]\n",
    "    resp_url_news = requests.get(news_url, \n",
    "                                 headers=headers)\n",
    "    parsed_news_hmtl = BeautifulSoup(resp_url_news.content, \"html.parser\")\n",
    "    # header, footer and content\n",
    "    elements_article = parsed_news_hmtl.find_all(\"div\", \n",
    "                                                 class_=re.compile(r'article-main')\n",
    "                                                )[:-1]\n",
    "    if not elements_article:\n",
    "        not_processed_urls.append(news_url)\n",
    "        continue\n",
    "    one_news_data = one_news_data_extractor(elements_article)\n",
    "    one_news_data[\"tags\"] = parsed_news_hmtl.find(find_attr_tags).get_text(separator=\"\\n\").split(\"\\n\")\n",
    "    news_media_data[news_url_id] = one_news_data"
   ]
  },
  {
   "cell_type": "code",
   "execution_count": 354,
   "id": "30056703",
   "metadata": {},
   "outputs": [
    {
     "data": {
      "text/plain": [
       "(551, 170)"
      ]
     },
     "execution_count": 354,
     "metadata": {},
     "output_type": "execute_result"
    }
   ],
   "source": [
    "len(valid_news_urls), len(news_media_data)"
   ]
  },
  {
   "cell_type": "markdown",
   "id": "6254a251",
   "metadata": {},
   "source": [
    "La vanguardia"
   ]
  },
  {
   "cell_type": "code",
   "execution_count": null,
   "id": "148da6f0",
   "metadata": {},
   "outputs": [],
   "source": [
    "def find_attr_article(tag):\n",
    "    return tag.has_attr('class') and \"article\" in \" \".join(tag.attrs[\"class\"])"
   ]
  },
  {
   "cell_type": "code",
   "execution_count": 39,
   "id": "dfbbaa27",
   "metadata": {},
   "outputs": [
    {
     "data": {
      "text/plain": [
       "'https://www.emagister.com/topemagister/Marketing_Digital-opc42p101t2?lavanguardia=pf-16845-widget&utm_source=lavanguardia&utm_medium=cpl&utm_campaign=widget_3&utm_content=muex_cursos_marketing_digital'"
      ]
     },
     "execution_count": 39,
     "metadata": {},
     "output_type": "execute_result"
    }
   ],
   "source": [
    "raw_url"
   ]
  },
  {
   "cell_type": "code",
   "execution_count": 66,
   "id": "a622d7e9",
   "metadata": {},
   "outputs": [
    {
     "data": {
      "text/plain": [
       "<re.Match object; span=(37, 55), match='/20230620/9055689/'>"
      ]
     },
     "execution_count": 66,
     "metadata": {},
     "output_type": "execute_result"
    }
   ],
   "source": [
    "re.search(r\"/[0-9]{8}/[0-9]{1,}/\", \"https://www.lavanguardia.com/economia/20230620/9055689/protesta-h-m-paraliza-mayoria-tiendas-espana-amenaza-rebajas.htm\")"
   ]
  },
  {
   "cell_type": "code",
   "execution_count": 4,
   "id": "16b5607a",
   "metadata": {},
   "outputs": [
    {
     "ename": "ConnectionError",
     "evalue": "HTTPSConnectionPool(host='www.lavanguardia.com', port=443): Max retries exceeded with url: / (Caused by NewConnectionError('<urllib3.connection.HTTPSConnection object at 0x000001FB7A5D4C40>: Failed to establish a new connection: [Errno 11001] getaddrinfo failed'))",
     "output_type": "error",
     "traceback": [
      "\u001b[1;31m---------------------------------------------------------------------------\u001b[0m",
      "\u001b[1;31mgaierror\u001b[0m                                  Traceback (most recent call last)",
      "\u001b[1;32m~\\anaconda3\\lib\\site-packages\\urllib3\\connection.py\u001b[0m in \u001b[0;36m_new_conn\u001b[1;34m(self)\u001b[0m\n\u001b[0;32m    173\u001b[0m         \u001b[1;32mtry\u001b[0m\u001b[1;33m:\u001b[0m\u001b[1;33m\u001b[0m\u001b[1;33m\u001b[0m\u001b[0m\n\u001b[1;32m--> 174\u001b[1;33m             conn = connection.create_connection(\n\u001b[0m\u001b[0;32m    175\u001b[0m                 \u001b[1;33m(\u001b[0m\u001b[0mself\u001b[0m\u001b[1;33m.\u001b[0m\u001b[0m_dns_host\u001b[0m\u001b[1;33m,\u001b[0m \u001b[0mself\u001b[0m\u001b[1;33m.\u001b[0m\u001b[0mport\u001b[0m\u001b[1;33m)\u001b[0m\u001b[1;33m,\u001b[0m \u001b[0mself\u001b[0m\u001b[1;33m.\u001b[0m\u001b[0mtimeout\u001b[0m\u001b[1;33m,\u001b[0m \u001b[1;33m**\u001b[0m\u001b[0mextra_kw\u001b[0m\u001b[1;33m\u001b[0m\u001b[1;33m\u001b[0m\u001b[0m\n",
      "\u001b[1;32m~\\anaconda3\\lib\\site-packages\\urllib3\\util\\connection.py\u001b[0m in \u001b[0;36mcreate_connection\u001b[1;34m(address, timeout, source_address, socket_options)\u001b[0m\n\u001b[0;32m     71\u001b[0m \u001b[1;33m\u001b[0m\u001b[0m\n\u001b[1;32m---> 72\u001b[1;33m     \u001b[1;32mfor\u001b[0m \u001b[0mres\u001b[0m \u001b[1;32min\u001b[0m \u001b[0msocket\u001b[0m\u001b[1;33m.\u001b[0m\u001b[0mgetaddrinfo\u001b[0m\u001b[1;33m(\u001b[0m\u001b[0mhost\u001b[0m\u001b[1;33m,\u001b[0m \u001b[0mport\u001b[0m\u001b[1;33m,\u001b[0m \u001b[0mfamily\u001b[0m\u001b[1;33m,\u001b[0m \u001b[0msocket\u001b[0m\u001b[1;33m.\u001b[0m\u001b[0mSOCK_STREAM\u001b[0m\u001b[1;33m)\u001b[0m\u001b[1;33m:\u001b[0m\u001b[1;33m\u001b[0m\u001b[1;33m\u001b[0m\u001b[0m\n\u001b[0m\u001b[0;32m     73\u001b[0m         \u001b[0maf\u001b[0m\u001b[1;33m,\u001b[0m \u001b[0msocktype\u001b[0m\u001b[1;33m,\u001b[0m \u001b[0mproto\u001b[0m\u001b[1;33m,\u001b[0m \u001b[0mcanonname\u001b[0m\u001b[1;33m,\u001b[0m \u001b[0msa\u001b[0m \u001b[1;33m=\u001b[0m \u001b[0mres\u001b[0m\u001b[1;33m\u001b[0m\u001b[1;33m\u001b[0m\u001b[0m\n",
      "\u001b[1;32m~\\anaconda3\\lib\\socket.py\u001b[0m in \u001b[0;36mgetaddrinfo\u001b[1;34m(host, port, family, type, proto, flags)\u001b[0m\n\u001b[0;32m    953\u001b[0m     \u001b[0maddrlist\u001b[0m \u001b[1;33m=\u001b[0m \u001b[1;33m[\u001b[0m\u001b[1;33m]\u001b[0m\u001b[1;33m\u001b[0m\u001b[1;33m\u001b[0m\u001b[0m\n\u001b[1;32m--> 954\u001b[1;33m     \u001b[1;32mfor\u001b[0m \u001b[0mres\u001b[0m \u001b[1;32min\u001b[0m \u001b[0m_socket\u001b[0m\u001b[1;33m.\u001b[0m\u001b[0mgetaddrinfo\u001b[0m\u001b[1;33m(\u001b[0m\u001b[0mhost\u001b[0m\u001b[1;33m,\u001b[0m \u001b[0mport\u001b[0m\u001b[1;33m,\u001b[0m \u001b[0mfamily\u001b[0m\u001b[1;33m,\u001b[0m \u001b[0mtype\u001b[0m\u001b[1;33m,\u001b[0m \u001b[0mproto\u001b[0m\u001b[1;33m,\u001b[0m \u001b[0mflags\u001b[0m\u001b[1;33m)\u001b[0m\u001b[1;33m:\u001b[0m\u001b[1;33m\u001b[0m\u001b[1;33m\u001b[0m\u001b[0m\n\u001b[0m\u001b[0;32m    955\u001b[0m         \u001b[0maf\u001b[0m\u001b[1;33m,\u001b[0m \u001b[0msocktype\u001b[0m\u001b[1;33m,\u001b[0m \u001b[0mproto\u001b[0m\u001b[1;33m,\u001b[0m \u001b[0mcanonname\u001b[0m\u001b[1;33m,\u001b[0m \u001b[0msa\u001b[0m \u001b[1;33m=\u001b[0m \u001b[0mres\u001b[0m\u001b[1;33m\u001b[0m\u001b[1;33m\u001b[0m\u001b[0m\n",
      "\u001b[1;31mgaierror\u001b[0m: [Errno 11001] getaddrinfo failed",
      "\nDuring handling of the above exception, another exception occurred:\n",
      "\u001b[1;31mNewConnectionError\u001b[0m                        Traceback (most recent call last)",
      "\u001b[1;32m~\\anaconda3\\lib\\site-packages\\urllib3\\connectionpool.py\u001b[0m in \u001b[0;36murlopen\u001b[1;34m(self, method, url, body, headers, retries, redirect, assert_same_host, timeout, pool_timeout, release_conn, chunked, body_pos, **response_kw)\u001b[0m\n\u001b[0;32m    702\u001b[0m             \u001b[1;31m# Make the request on the httplib connection object.\u001b[0m\u001b[1;33m\u001b[0m\u001b[1;33m\u001b[0m\u001b[0m\n\u001b[1;32m--> 703\u001b[1;33m             httplib_response = self._make_request(\n\u001b[0m\u001b[0;32m    704\u001b[0m                 \u001b[0mconn\u001b[0m\u001b[1;33m,\u001b[0m\u001b[1;33m\u001b[0m\u001b[1;33m\u001b[0m\u001b[0m\n",
      "\u001b[1;32m~\\anaconda3\\lib\\site-packages\\urllib3\\connectionpool.py\u001b[0m in \u001b[0;36m_make_request\u001b[1;34m(self, conn, method, url, timeout, chunked, **httplib_request_kw)\u001b[0m\n\u001b[0;32m    385\u001b[0m         \u001b[1;32mtry\u001b[0m\u001b[1;33m:\u001b[0m\u001b[1;33m\u001b[0m\u001b[1;33m\u001b[0m\u001b[0m\n\u001b[1;32m--> 386\u001b[1;33m             \u001b[0mself\u001b[0m\u001b[1;33m.\u001b[0m\u001b[0m_validate_conn\u001b[0m\u001b[1;33m(\u001b[0m\u001b[0mconn\u001b[0m\u001b[1;33m)\u001b[0m\u001b[1;33m\u001b[0m\u001b[1;33m\u001b[0m\u001b[0m\n\u001b[0m\u001b[0;32m    387\u001b[0m         \u001b[1;32mexcept\u001b[0m \u001b[1;33m(\u001b[0m\u001b[0mSocketTimeout\u001b[0m\u001b[1;33m,\u001b[0m \u001b[0mBaseSSLError\u001b[0m\u001b[1;33m)\u001b[0m \u001b[1;32mas\u001b[0m \u001b[0me\u001b[0m\u001b[1;33m:\u001b[0m\u001b[1;33m\u001b[0m\u001b[1;33m\u001b[0m\u001b[0m\n",
      "\u001b[1;32m~\\anaconda3\\lib\\site-packages\\urllib3\\connectionpool.py\u001b[0m in \u001b[0;36m_validate_conn\u001b[1;34m(self, conn)\u001b[0m\n\u001b[0;32m   1041\u001b[0m         \u001b[1;32mif\u001b[0m \u001b[1;32mnot\u001b[0m \u001b[0mgetattr\u001b[0m\u001b[1;33m(\u001b[0m\u001b[0mconn\u001b[0m\u001b[1;33m,\u001b[0m \u001b[1;34m\"sock\"\u001b[0m\u001b[1;33m,\u001b[0m \u001b[1;32mNone\u001b[0m\u001b[1;33m)\u001b[0m\u001b[1;33m:\u001b[0m  \u001b[1;31m# AppEngine might not have  `.sock`\u001b[0m\u001b[1;33m\u001b[0m\u001b[1;33m\u001b[0m\u001b[0m\n\u001b[1;32m-> 1042\u001b[1;33m             \u001b[0mconn\u001b[0m\u001b[1;33m.\u001b[0m\u001b[0mconnect\u001b[0m\u001b[1;33m(\u001b[0m\u001b[1;33m)\u001b[0m\u001b[1;33m\u001b[0m\u001b[1;33m\u001b[0m\u001b[0m\n\u001b[0m\u001b[0;32m   1043\u001b[0m \u001b[1;33m\u001b[0m\u001b[0m\n",
      "\u001b[1;32m~\\anaconda3\\lib\\site-packages\\urllib3\\connection.py\u001b[0m in \u001b[0;36mconnect\u001b[1;34m(self)\u001b[0m\n\u001b[0;32m    357\u001b[0m         \u001b[1;31m# Add certificate verification\u001b[0m\u001b[1;33m\u001b[0m\u001b[1;33m\u001b[0m\u001b[0m\n\u001b[1;32m--> 358\u001b[1;33m         \u001b[0mself\u001b[0m\u001b[1;33m.\u001b[0m\u001b[0msock\u001b[0m \u001b[1;33m=\u001b[0m \u001b[0mconn\u001b[0m \u001b[1;33m=\u001b[0m \u001b[0mself\u001b[0m\u001b[1;33m.\u001b[0m\u001b[0m_new_conn\u001b[0m\u001b[1;33m(\u001b[0m\u001b[1;33m)\u001b[0m\u001b[1;33m\u001b[0m\u001b[1;33m\u001b[0m\u001b[0m\n\u001b[0m\u001b[0;32m    359\u001b[0m         \u001b[0mhostname\u001b[0m \u001b[1;33m=\u001b[0m \u001b[0mself\u001b[0m\u001b[1;33m.\u001b[0m\u001b[0mhost\u001b[0m\u001b[1;33m\u001b[0m\u001b[1;33m\u001b[0m\u001b[0m\n",
      "\u001b[1;32m~\\anaconda3\\lib\\site-packages\\urllib3\\connection.py\u001b[0m in \u001b[0;36m_new_conn\u001b[1;34m(self)\u001b[0m\n\u001b[0;32m    185\u001b[0m         \u001b[1;32mexcept\u001b[0m \u001b[0mSocketError\u001b[0m \u001b[1;32mas\u001b[0m \u001b[0me\u001b[0m\u001b[1;33m:\u001b[0m\u001b[1;33m\u001b[0m\u001b[1;33m\u001b[0m\u001b[0m\n\u001b[1;32m--> 186\u001b[1;33m             raise NewConnectionError(\n\u001b[0m\u001b[0;32m    187\u001b[0m                 \u001b[0mself\u001b[0m\u001b[1;33m,\u001b[0m \u001b[1;34m\"Failed to establish a new connection: %s\"\u001b[0m \u001b[1;33m%\u001b[0m \u001b[0me\u001b[0m\u001b[1;33m\u001b[0m\u001b[1;33m\u001b[0m\u001b[0m\n",
      "\u001b[1;31mNewConnectionError\u001b[0m: <urllib3.connection.HTTPSConnection object at 0x000001FB7A5D4C40>: Failed to establish a new connection: [Errno 11001] getaddrinfo failed",
      "\nDuring handling of the above exception, another exception occurred:\n",
      "\u001b[1;31mMaxRetryError\u001b[0m                             Traceback (most recent call last)",
      "\u001b[1;32m~\\anaconda3\\lib\\site-packages\\requests\\adapters.py\u001b[0m in \u001b[0;36msend\u001b[1;34m(self, request, stream, timeout, verify, cert, proxies)\u001b[0m\n\u001b[0;32m    488\u001b[0m             \u001b[1;32mif\u001b[0m \u001b[1;32mnot\u001b[0m \u001b[0mchunked\u001b[0m\u001b[1;33m:\u001b[0m\u001b[1;33m\u001b[0m\u001b[1;33m\u001b[0m\u001b[0m\n\u001b[1;32m--> 489\u001b[1;33m                 resp = conn.urlopen(\n\u001b[0m\u001b[0;32m    490\u001b[0m                     \u001b[0mmethod\u001b[0m\u001b[1;33m=\u001b[0m\u001b[0mrequest\u001b[0m\u001b[1;33m.\u001b[0m\u001b[0mmethod\u001b[0m\u001b[1;33m,\u001b[0m\u001b[1;33m\u001b[0m\u001b[1;33m\u001b[0m\u001b[0m\n",
      "\u001b[1;32m~\\anaconda3\\lib\\site-packages\\urllib3\\connectionpool.py\u001b[0m in \u001b[0;36murlopen\u001b[1;34m(self, method, url, body, headers, retries, redirect, assert_same_host, timeout, pool_timeout, release_conn, chunked, body_pos, **response_kw)\u001b[0m\n\u001b[0;32m    786\u001b[0m \u001b[1;33m\u001b[0m\u001b[0m\n\u001b[1;32m--> 787\u001b[1;33m             retries = retries.increment(\n\u001b[0m\u001b[0;32m    788\u001b[0m                 \u001b[0mmethod\u001b[0m\u001b[1;33m,\u001b[0m \u001b[0murl\u001b[0m\u001b[1;33m,\u001b[0m \u001b[0merror\u001b[0m\u001b[1;33m=\u001b[0m\u001b[0me\u001b[0m\u001b[1;33m,\u001b[0m \u001b[0m_pool\u001b[0m\u001b[1;33m=\u001b[0m\u001b[0mself\u001b[0m\u001b[1;33m,\u001b[0m \u001b[0m_stacktrace\u001b[0m\u001b[1;33m=\u001b[0m\u001b[0msys\u001b[0m\u001b[1;33m.\u001b[0m\u001b[0mexc_info\u001b[0m\u001b[1;33m(\u001b[0m\u001b[1;33m)\u001b[0m\u001b[1;33m[\u001b[0m\u001b[1;36m2\u001b[0m\u001b[1;33m]\u001b[0m\u001b[1;33m\u001b[0m\u001b[1;33m\u001b[0m\u001b[0m\n",
      "\u001b[1;32m~\\anaconda3\\lib\\site-packages\\urllib3\\util\\retry.py\u001b[0m in \u001b[0;36mincrement\u001b[1;34m(self, method, url, response, error, _pool, _stacktrace)\u001b[0m\n\u001b[0;32m    591\u001b[0m         \u001b[1;32mif\u001b[0m \u001b[0mnew_retry\u001b[0m\u001b[1;33m.\u001b[0m\u001b[0mis_exhausted\u001b[0m\u001b[1;33m(\u001b[0m\u001b[1;33m)\u001b[0m\u001b[1;33m:\u001b[0m\u001b[1;33m\u001b[0m\u001b[1;33m\u001b[0m\u001b[0m\n\u001b[1;32m--> 592\u001b[1;33m             \u001b[1;32mraise\u001b[0m \u001b[0mMaxRetryError\u001b[0m\u001b[1;33m(\u001b[0m\u001b[0m_pool\u001b[0m\u001b[1;33m,\u001b[0m \u001b[0murl\u001b[0m\u001b[1;33m,\u001b[0m \u001b[0merror\u001b[0m \u001b[1;32mor\u001b[0m \u001b[0mResponseError\u001b[0m\u001b[1;33m(\u001b[0m\u001b[0mcause\u001b[0m\u001b[1;33m)\u001b[0m\u001b[1;33m)\u001b[0m\u001b[1;33m\u001b[0m\u001b[1;33m\u001b[0m\u001b[0m\n\u001b[0m\u001b[0;32m    593\u001b[0m \u001b[1;33m\u001b[0m\u001b[0m\n",
      "\u001b[1;31mMaxRetryError\u001b[0m: HTTPSConnectionPool(host='www.lavanguardia.com', port=443): Max retries exceeded with url: / (Caused by NewConnectionError('<urllib3.connection.HTTPSConnection object at 0x000001FB7A5D4C40>: Failed to establish a new connection: [Errno 11001] getaddrinfo failed'))",
      "\nDuring handling of the above exception, another exception occurred:\n",
      "\u001b[1;31mConnectionError\u001b[0m                           Traceback (most recent call last)",
      "\u001b[1;32m~\\AppData\\Local\\Temp\\ipykernel_8012\\1319569464.py\u001b[0m in \u001b[0;36m<module>\u001b[1;34m\u001b[0m\n\u001b[0;32m      6\u001b[0m \u001b[0mdate\u001b[0m \u001b[1;33m=\u001b[0m \u001b[0mcurrent_date\u001b[0m\u001b[1;33m.\u001b[0m\u001b[0mreplace\u001b[0m\u001b[1;33m(\u001b[0m\u001b[1;34m\"-\"\u001b[0m\u001b[1;33m,\u001b[0m \u001b[1;34m\"\"\u001b[0m\u001b[1;33m)\u001b[0m\u001b[1;33m\u001b[0m\u001b[1;33m\u001b[0m\u001b[0m\n\u001b[0;32m      7\u001b[0m \u001b[1;31m# With headers\u001b[0m\u001b[1;33m\u001b[0m\u001b[1;33m\u001b[0m\u001b[0m\n\u001b[1;32m----> 8\u001b[1;33m \u001b[0mresponse\u001b[0m \u001b[1;33m=\u001b[0m \u001b[0mrequests\u001b[0m\u001b[1;33m.\u001b[0m\u001b[0mget\u001b[0m\u001b[1;33m(\u001b[0m\u001b[0murl\u001b[0m\u001b[1;33m,\u001b[0m \u001b[0mheaders\u001b[0m\u001b[1;33m=\u001b[0m\u001b[0mheaders\u001b[0m\u001b[1;33m)\u001b[0m\u001b[1;33m\u001b[0m\u001b[1;33m\u001b[0m\u001b[0m\n\u001b[0m\u001b[0;32m      9\u001b[0m \u001b[0mprint\u001b[0m\u001b[1;33m(\u001b[0m\u001b[1;34m\"Response code:\"\u001b[0m\u001b[1;33m,\u001b[0m \u001b[0mresponse\u001b[0m\u001b[1;33m.\u001b[0m\u001b[0mstatus_code\u001b[0m\u001b[1;33m)\u001b[0m  \u001b[1;31m# HTTP status code\u001b[0m\u001b[1;33m\u001b[0m\u001b[1;33m\u001b[0m\u001b[0m\n\u001b[0;32m     10\u001b[0m \u001b[1;33m\u001b[0m\u001b[0m\n",
      "\u001b[1;32m~\\anaconda3\\lib\\site-packages\\requests\\api.py\u001b[0m in \u001b[0;36mget\u001b[1;34m(url, params, **kwargs)\u001b[0m\n\u001b[0;32m     71\u001b[0m     \"\"\"\n\u001b[0;32m     72\u001b[0m \u001b[1;33m\u001b[0m\u001b[0m\n\u001b[1;32m---> 73\u001b[1;33m     \u001b[1;32mreturn\u001b[0m \u001b[0mrequest\u001b[0m\u001b[1;33m(\u001b[0m\u001b[1;34m\"get\"\u001b[0m\u001b[1;33m,\u001b[0m \u001b[0murl\u001b[0m\u001b[1;33m,\u001b[0m \u001b[0mparams\u001b[0m\u001b[1;33m=\u001b[0m\u001b[0mparams\u001b[0m\u001b[1;33m,\u001b[0m \u001b[1;33m**\u001b[0m\u001b[0mkwargs\u001b[0m\u001b[1;33m)\u001b[0m\u001b[1;33m\u001b[0m\u001b[1;33m\u001b[0m\u001b[0m\n\u001b[0m\u001b[0;32m     74\u001b[0m \u001b[1;33m\u001b[0m\u001b[0m\n\u001b[0;32m     75\u001b[0m \u001b[1;33m\u001b[0m\u001b[0m\n",
      "\u001b[1;32m~\\anaconda3\\lib\\site-packages\\requests\\api.py\u001b[0m in \u001b[0;36mrequest\u001b[1;34m(method, url, **kwargs)\u001b[0m\n\u001b[0;32m     57\u001b[0m     \u001b[1;31m# cases, and look like a memory leak in others.\u001b[0m\u001b[1;33m\u001b[0m\u001b[1;33m\u001b[0m\u001b[0m\n\u001b[0;32m     58\u001b[0m     \u001b[1;32mwith\u001b[0m \u001b[0msessions\u001b[0m\u001b[1;33m.\u001b[0m\u001b[0mSession\u001b[0m\u001b[1;33m(\u001b[0m\u001b[1;33m)\u001b[0m \u001b[1;32mas\u001b[0m \u001b[0msession\u001b[0m\u001b[1;33m:\u001b[0m\u001b[1;33m\u001b[0m\u001b[1;33m\u001b[0m\u001b[0m\n\u001b[1;32m---> 59\u001b[1;33m         \u001b[1;32mreturn\u001b[0m \u001b[0msession\u001b[0m\u001b[1;33m.\u001b[0m\u001b[0mrequest\u001b[0m\u001b[1;33m(\u001b[0m\u001b[0mmethod\u001b[0m\u001b[1;33m=\u001b[0m\u001b[0mmethod\u001b[0m\u001b[1;33m,\u001b[0m \u001b[0murl\u001b[0m\u001b[1;33m=\u001b[0m\u001b[0murl\u001b[0m\u001b[1;33m,\u001b[0m \u001b[1;33m**\u001b[0m\u001b[0mkwargs\u001b[0m\u001b[1;33m)\u001b[0m\u001b[1;33m\u001b[0m\u001b[1;33m\u001b[0m\u001b[0m\n\u001b[0m\u001b[0;32m     60\u001b[0m \u001b[1;33m\u001b[0m\u001b[0m\n\u001b[0;32m     61\u001b[0m \u001b[1;33m\u001b[0m\u001b[0m\n",
      "\u001b[1;32m~\\anaconda3\\lib\\site-packages\\requests\\sessions.py\u001b[0m in \u001b[0;36mrequest\u001b[1;34m(self, method, url, params, data, headers, cookies, files, auth, timeout, allow_redirects, proxies, hooks, stream, verify, cert, json)\u001b[0m\n\u001b[0;32m    585\u001b[0m         }\n\u001b[0;32m    586\u001b[0m         \u001b[0msend_kwargs\u001b[0m\u001b[1;33m.\u001b[0m\u001b[0mupdate\u001b[0m\u001b[1;33m(\u001b[0m\u001b[0msettings\u001b[0m\u001b[1;33m)\u001b[0m\u001b[1;33m\u001b[0m\u001b[1;33m\u001b[0m\u001b[0m\n\u001b[1;32m--> 587\u001b[1;33m         \u001b[0mresp\u001b[0m \u001b[1;33m=\u001b[0m \u001b[0mself\u001b[0m\u001b[1;33m.\u001b[0m\u001b[0msend\u001b[0m\u001b[1;33m(\u001b[0m\u001b[0mprep\u001b[0m\u001b[1;33m,\u001b[0m \u001b[1;33m**\u001b[0m\u001b[0msend_kwargs\u001b[0m\u001b[1;33m)\u001b[0m\u001b[1;33m\u001b[0m\u001b[1;33m\u001b[0m\u001b[0m\n\u001b[0m\u001b[0;32m    588\u001b[0m \u001b[1;33m\u001b[0m\u001b[0m\n\u001b[0;32m    589\u001b[0m         \u001b[1;32mreturn\u001b[0m \u001b[0mresp\u001b[0m\u001b[1;33m\u001b[0m\u001b[1;33m\u001b[0m\u001b[0m\n",
      "\u001b[1;32m~\\anaconda3\\lib\\site-packages\\requests\\sessions.py\u001b[0m in \u001b[0;36msend\u001b[1;34m(self, request, **kwargs)\u001b[0m\n\u001b[0;32m    699\u001b[0m \u001b[1;33m\u001b[0m\u001b[0m\n\u001b[0;32m    700\u001b[0m         \u001b[1;31m# Send the request\u001b[0m\u001b[1;33m\u001b[0m\u001b[1;33m\u001b[0m\u001b[0m\n\u001b[1;32m--> 701\u001b[1;33m         \u001b[0mr\u001b[0m \u001b[1;33m=\u001b[0m \u001b[0madapter\u001b[0m\u001b[1;33m.\u001b[0m\u001b[0msend\u001b[0m\u001b[1;33m(\u001b[0m\u001b[0mrequest\u001b[0m\u001b[1;33m,\u001b[0m \u001b[1;33m**\u001b[0m\u001b[0mkwargs\u001b[0m\u001b[1;33m)\u001b[0m\u001b[1;33m\u001b[0m\u001b[1;33m\u001b[0m\u001b[0m\n\u001b[0m\u001b[0;32m    702\u001b[0m \u001b[1;33m\u001b[0m\u001b[0m\n\u001b[0;32m    703\u001b[0m         \u001b[1;31m# Total elapsed time of the request (approximately)\u001b[0m\u001b[1;33m\u001b[0m\u001b[1;33m\u001b[0m\u001b[0m\n",
      "\u001b[1;32m~\\anaconda3\\lib\\site-packages\\requests\\adapters.py\u001b[0m in \u001b[0;36msend\u001b[1;34m(self, request, stream, timeout, verify, cert, proxies)\u001b[0m\n\u001b[0;32m    563\u001b[0m                 \u001b[1;32mraise\u001b[0m \u001b[0mSSLError\u001b[0m\u001b[1;33m(\u001b[0m\u001b[0me\u001b[0m\u001b[1;33m,\u001b[0m \u001b[0mrequest\u001b[0m\u001b[1;33m=\u001b[0m\u001b[0mrequest\u001b[0m\u001b[1;33m)\u001b[0m\u001b[1;33m\u001b[0m\u001b[1;33m\u001b[0m\u001b[0m\n\u001b[0;32m    564\u001b[0m \u001b[1;33m\u001b[0m\u001b[0m\n\u001b[1;32m--> 565\u001b[1;33m             \u001b[1;32mraise\u001b[0m \u001b[0mConnectionError\u001b[0m\u001b[1;33m(\u001b[0m\u001b[0me\u001b[0m\u001b[1;33m,\u001b[0m \u001b[0mrequest\u001b[0m\u001b[1;33m=\u001b[0m\u001b[0mrequest\u001b[0m\u001b[1;33m)\u001b[0m\u001b[1;33m\u001b[0m\u001b[1;33m\u001b[0m\u001b[0m\n\u001b[0m\u001b[0;32m    566\u001b[0m \u001b[1;33m\u001b[0m\u001b[0m\n\u001b[0;32m    567\u001b[0m         \u001b[1;32mexcept\u001b[0m \u001b[0mClosedPoolError\u001b[0m \u001b[1;32mas\u001b[0m \u001b[0me\u001b[0m\u001b[1;33m:\u001b[0m\u001b[1;33m\u001b[0m\u001b[1;33m\u001b[0m\u001b[0m\n",
      "\u001b[1;31mConnectionError\u001b[0m: HTTPSConnectionPool(host='www.lavanguardia.com', port=443): Max retries exceeded with url: / (Caused by NewConnectionError('<urllib3.connection.HTTPSConnection object at 0x000001FB7A5D4C40>: Failed to establish a new connection: [Errno 11001] getaddrinfo failed'))"
     ]
    }
   ],
   "source": [
    "headers = {\n",
    "    \"User-Agent\": \"Mozilla/5.0 (Windows NT 10.0; Win64; x64) AppleWebKit/537.36 (KHTML, like Gecko) Chrome/113.0.0.0 Safari/537.36\"\n",
    "}\n",
    "url = \"https://www.lavanguardia.com\"\n",
    "main_root = \"https://www.lavanguardia.com\"\n",
    "date = current_date.replace(\"-\", \"\")\n",
    "# With headers\n",
    "response = requests.get(url, headers=headers)\n",
    "print(\"Response code:\", response.status_code)  # HTTP status code\n",
    "\n",
    "parsed_hmtl = BeautifulSoup(response.content, \"html.parser\")\n",
    "articles = parsed_hmtl.find_all(find_attr_article)\n",
    "\n",
    "raw_urls = [article.find(\"a\").attrs[\"href\"] for article in articles]\n",
    "complete_urls = []\n",
    "rejected_urls = []\n",
    "for raw_url in raw_urls:\n",
    "    if not re.search(r\"/[0-9]{8}/[0-9]{1,}/\", raw_url):\n",
    "        rejected_urls.append(raw_url)\n",
    "        continue\n",
    "    if raw_url.startswith(\"/\"):\n",
    "        raw_url = main_root + raw_url\n",
    "    elif main_root not in raw_url:\n",
    "        rejected_urls.append(raw_url)\n",
    "        continue\n",
    "    complete_urls.append(raw_url)\n",
    "complete_urls = list(set(complete_urls))"
   ]
  },
  {
   "cell_type": "code",
   "execution_count": 71,
   "id": "4e00bc77",
   "metadata": {},
   "outputs": [
    {
     "data": {
      "text/plain": [
       "(97, 32)"
      ]
     },
     "execution_count": 71,
     "metadata": {},
     "output_type": "execute_result"
    }
   ],
   "source": [
    "len(complete_urls), len(rejected_urls)"
   ]
  },
  {
   "cell_type": "code",
   "execution_count": 72,
   "id": "f7257798",
   "metadata": {},
   "outputs": [
    {
     "data": {
      "text/plain": [
       "['https://www.lavanguardia.com/politica/20230620/9054163/pp-contempla-cara-cara-sanchez-feijoo-debate-economico-nadie-calvino.html',\n",
       " 'https://www.lavanguardia.com/economia/20230620/9053107/principado-reivindica-motor-economico-pirineo-brl.html',\n",
       " 'https://www.lavanguardia.com/economia/20230620/9056150/hacienda-autoriza-contrato-1-700-millones-airbus-comprar-16-nuevos-aviones.html',\n",
       " 'https://www.lavanguardia.com/deportes/tenis/20230620/9055874/resumen-alcaraz-rinderknech-queen-s.html',\n",
       " 'https://www.lavanguardia.com/local/barcelona/20230620/9055265/incendio-montjuic-levanta-columna-humo-visible-puntos-barcelona.html',\n",
       " 'https://www.lavanguardia.com/cultura/20230620/9056237/orquestra-liceu-lleva-ravel-dvorak-playa-bogatell-barcelona.html',\n",
       " 'https://www.lavanguardia.com/deportes/fc-barcelona/20230620/9055674/asi-avanzan-obras-camp-nou-cesped-asientos-grada.html',\n",
       " 'https://www.lavanguardia.com/natural/20230620/9051995/capturan-aguas-taiwan-mayor-tiburon-duende-conocido-fecha.html',\n",
       " 'https://www.lavanguardia.com/economia/20230620/9054968/cambra-cifra-50-900-millones-inversion-corregir-deficit-infraestructuras-catalunya.html',\n",
       " 'https://www.lavanguardia.com/cultura/20230620/8906729/alberto-mayol-50-leyes-el-padrino-aprender-tan-poderoso-vito-corleone.html',\n",
       " 'https://www.lavanguardia.com/cultura/20230620/9054928/poema-virgilio-grabado-anfora-romana-aceite-hallada-cordoba-arqueologia.html',\n",
       " 'https://www.lavanguardia.com/economia/20230620/9055287/call-center-100-000-trabajadores-estres-temporalidad-baja.html',\n",
       " 'https://www.lavanguardia.com/politica/20230620/9054725/interior-grave-delito-odio-lona-vox-madrid-basura-lgtbi-trans-independentismo.html',\n",
       " 'https://www.lavanguardia.com/local/barcelona/20230620/9056110/barcelona-global-pide-collboni-ambicion-posicionar-ciudad-mundo.html',\n",
       " 'https://www.lavanguardia.com/internacional/20230620/9054041/rusia-lanza-ataque-nocturno-masivo-sobre-toda-ucrania.html',\n",
       " 'https://www.lavanguardia.com/cultura/20230620/9053139/rito-revive-ultimo-puente-sogas-inca-mundo-q-eswachaka-peru.html',\n",
       " 'https://www.lavanguardia.com/economia/20230620/9054526/goirigolzarri-defiende-remuneracion-depositos-sera-clientes-demanden.html',\n",
       " 'https://www.lavanguardia.com/natural/20230620/9050819/l-eixample-puertos-barcelona-tarragona-treinta-zonas-contaminadas.html',\n",
       " 'https://www.lavanguardia.com/ciencia/20230620/9055581/economista-jaume-ventura-virologa-julia-vergara-reciben-premi-nacional-recerca.html',\n",
       " 'https://www.lavanguardia.com/magazine/moda/20230620/9055470/flores-3d-sombreros-mas-espectaculares-ascot.html',\n",
       " 'https://www.lavanguardia.com/opinion/20230620/9053065/chuppitos-privilegios-nuevas-generaciones.html',\n",
       " 'https://www.lavanguardia.com/historiayvida/mas-historias/20230620/9055351/historia-titanic-contaron.html',\n",
       " 'https://www.lavanguardia.com/opinion/20230620/9052788/medicina-curar.html',\n",
       " 'https://www.lavanguardia.com/comprar/deporte-salud/20230620/9054606/que-esperas-contratar-seguro-medico-ia-mkt-mst.html',\n",
       " 'https://www.lavanguardia.com/economia/20230620/9054930/bce-banca-sombra-tipos-interes-riesgo-andrea-enria.html',\n",
       " 'https://www.lavanguardia.com/deportes/baloncesto/20230620/9056330/juan-carlos-navarro-mirotic-barca.html',\n",
       " 'https://www.lavanguardia.com/tecnologia/innovacion/20230620/9051430/peluchegpt-conversar-ancianos-residencias-japon-pmv.html',\n",
       " 'https://www.lavanguardia.com/internacional/20230621/9056252/macron-meloni-aparcan-acritud-actuar-socios-aliados.html',\n",
       " 'https://www.lavanguardia.com/vida/20230620/9054143/dia-mueren-cinco-migrantes-camino-europa.html',\n",
       " 'https://www.lavanguardia.com/magazine/belleza/20230620/9047508/ule-futuro-cosmetica-eco-sostnible-vegana.html',\n",
       " 'https://www.lavanguardia.com/gente/20230620/9056219/cristina-pedroche-felicita-marido-dabiz-munoz-convertir-diverxo-mejor-restaurante-mundo.html',\n",
       " 'https://www.lavanguardia.com/sucesos/20230614/9033766/podcast-podcast-lv-monstruo-laredero-violador-suelto-almeida.html',\n",
       " 'https://www.lavanguardia.com/internacional/20230620/9055927/alemania-china-equilibrio-scholz-li-rival-sistemico-pekin-berlin.html',\n",
       " 'https://www.lavanguardia.com/vida/20230620/9054299/fiscal-juicio-alvia-retira-acusacion-cortabitarte-exjefe-adif.html',\n",
       " 'https://www.lavanguardia.com/gente/20230620/9053891/paula-echevarria-sale-matar-criticas-fisico-habia-ganado-30-kilos-pmv.html',\n",
       " 'https://www.lavanguardia.com/opinion/20230619/9051037/zurzan-electores.html',\n",
       " 'https://www.lavanguardia.com/opinion/20230620/9052745/que.html',\n",
       " 'https://www.lavanguardia.com/cultura/20230620/9047780/desmontando-elefante-como-vive-familia-miembros-adicto.html',\n",
       " 'https://www.lavanguardia.com/tecnologia/redes-sociales/20230620/9052019/elon-musk-le-acumulan-problemas-judiciales-impago-alquiler-oficinas-pmv.html',\n",
       " 'https://www.lavanguardia.com/economia/20230620/9054068/gonzalo-gortazar-deficit-cuentas-publicas-espana-caixabank-foment-pwc.html',\n",
       " 'https://www.lavanguardia.com/comprar/hogar-cocina/20230620/9054628/ikea-adelanta-rebajas-baja-precio-muebles-superventas.html',\n",
       " 'https://www.lavanguardia.com/internacional/20230620/9055491/hunter-biden-condena-eeuu.html',\n",
       " 'https://www.lavanguardia.com/natural/20230620/9053940/aemet-pone-fecha-llegada-primera-ola-calor-verano-maximas-40-grados-pmv.html',\n",
       " 'https://www.lavanguardia.com/cultura/20230620/9055266/asi-wish-pelicula-inspiracion-espanola-rinde-homenaje-100-anos-disney.html',\n",
       " 'https://www.lavanguardia.com/politica/20230620/9051972/soledad-alemania.html',\n",
       " 'https://www.lavanguardia.com/comprar/deporte-salud/20230620/9054069/explora-nuevos-destinos-bicicleta-portabicicletas-mas-practicos-seguros-tus-vacaciones-verano.html',\n",
       " 'https://www.lavanguardia.com/internacional/20230620/9056167/honduras-carcel-motin-mujeres.html',\n",
       " 'https://www.lavanguardia.com/internacional/20230620/9055435/hay-posibilidades-supervivencia-sumergible-oceangate-afirman-expertos.html',\n",
       " 'https://www.lavanguardia.com/opinion/20230619/9053602/dialogar-acordar-mas-necesario-nunca.html',\n",
       " 'https://www.lavanguardia.com/natural/20230620/9056081/cientificos-ensalzan-etica-premios-fronteras-conocimiento.html',\n",
       " 'https://www.lavanguardia.com/opinion/20230620/9053069/anatomia-desahogo.html',\n",
       " 'https://www.lavanguardia.com/vida/20230620/9054806/constitucional-suspende-demolicion-complejo-valdecanas-caceres.html',\n",
       " 'https://www.lavanguardia.com/magazine/viajes/20230620/9046336/neuschwanstein-castillo-cuento-hadas-munich-cts.html',\n",
       " 'https://www.lavanguardia.com/magazine/experiencias/20230620/9022981/boom-vermut-elaboradores-catalunya.html',\n",
       " 'https://www.lavanguardia.com/gente/20230620/9055244/shakira-gastos-casa-barcelona.html',\n",
       " 'https://www.lavanguardia.com/lacontra/20230621/9056139/mi-padre-tuvo-40-hijos-vivio-verdad-sigue-inspirandome.html',\n",
       " 'https://www.lavanguardia.com/comer/20230620/9055918/hay-fecha-reapertura-frankfurt-pedralbes.html',\n",
       " 'https://www.lavanguardia.com/gente/20230620/9056007/bonito-regalo-enviado-rosalia-alejandro-sanz-duro-momento-atraviesa-cantante-mi-rosi-mmn.html',\n",
       " 'https://www.lavanguardia.com/cultura/20230620/9056069/taylor-swift-actuara-mayo-2024-madrid-unica-parada-espana-gira-europea.html',\n",
       " 'https://www.lavanguardia.com/economia/20230620/9055689/protesta-h-m-paraliza-mayoria-tiendas-espana-amenaza-rebajas.html',\n",
       " 'https://www.lavanguardia.com/deportes/baloncesto/20230620/9056302/barca-real-madrid-liga-endesa-campeon.html',\n",
       " 'https://www.lavanguardia.com/opinion/20230620/9052907/evento-canonico.html',\n",
       " 'https://www.lavanguardia.com/politica/20230620/9056042/detenido-presunto-terrorista-expandia-ideario-yihadista-mezquitas-huelva.html',\n",
       " 'https://www.lavanguardia.com/economia/bolsillo/20230620/9052182/donde-sale-mas-rentable-comprar-piso-costa.html',\n",
       " 'https://www.lavanguardia.com/politica/20230620/9055673/feijoo-rodea-feminismo-clasico-contrarrestar-polemica-pactos-vox.html',\n",
       " 'https://www.lavanguardia.com/podcast/dos-pajaros-de-un-tiro/20230619/9046506/miquel-roca-junyent-abogado-politico-podcast-dos-pajaros-de-un-tiro.html',\n",
       " 'https://www.lavanguardia.com/internacional/20230620/9054256/quien-bordo-submarino-oceangate-desaparecido-rumbo-titanic.html',\n",
       " 'https://www.lavanguardia.com/cultura/cine/20230619/9052942/historia-directora-cine-gano-goya-primera-pelicula-brl.html',\n",
       " 'https://www.lavanguardia.com/podcast/libros-secretos/20230617/9046548/albert-espinosa-sufro-quimionebulosa-recuerdo-superior-cinco-anos-podcast.html',\n",
       " 'https://www.lavanguardia.com/gente/20230620/9053878/albert-rivera-malu-verdad-sobre-rumores-ruptura-mmn.html',\n",
       " 'https://www.lavanguardia.com/comer/al-dia/20230620/9056021/mejor-restaurante-mundo-50-best-central.html',\n",
       " 'https://www.lavanguardia.com/deportes/futbol/20230620/9053866/seleccion-celebracion-nations-league-gavi-barcelona.html',\n",
       " 'https://www.lavanguardia.com/ciencia/20230620/9052719/como-volvio-transparente-nuestro-universo.html',\n",
       " 'https://www.lavanguardia.com/politica/20230620/9055419/presidente-parlament-balear-mujeres-son-mas-beligerantes-pene.html',\n",
       " 'https://www.lavanguardia.com/magazine/viajes/20230620/9040532/te-apasiona-sisi-historia-sigue-rastro-habsburgo-austria-brl.html',\n",
       " 'https://www.lavanguardia.com/opinion/20230620/9051974/elegir-como-ganar-perder.html',\n",
       " 'https://www.lavanguardia.com/deportes/olimpiadas/20230620/9054195/policia-registra-sede-organizadores-paris-2024.html',\n",
       " 'https://www.lavanguardia.com/politica/20230620/9054869/maria-guardiola-dejar-entrar-gobierno-niegan-violencia-machista.html',\n",
       " 'https://www.lavanguardia.com/podcast/bolsillo/20230620/9046457/ley-segunda-oportunidad-deudas-bolsillo-podcast.html',\n",
       " 'https://www.lavanguardia.com/internacional/20230620/9056205/industria-aviso-sumergible-experimental-podia-catastrofico.html',\n",
       " 'https://www.lavanguardia.com/historiayvida/mas-historias/20230620/9046154/origen-tapas-picoteo-empezo-siendo-cosa-senoritos-pmt.html',\n",
       " 'https://www.lavanguardia.com/tecnologia/20230620/9053371/realme-10-pro-personalidad-raudales-disputada-gama-media.html',\n",
       " 'https://www.lavanguardia.com/economia/20230614/9034435/nueva-ley-vivienda-conseguira-objetivos-apce-foment-brl.html',\n",
       " 'https://www.lavanguardia.com/economia/20230606/9015107/segunda-economia-mas-crece-europa-brl.html',\n",
       " 'https://www.lavanguardia.com/vida/20230620/9055307/esade-alumni-reune-lideres-empresariales-jornada-anual-brl.html',\n",
       " 'https://www.lavanguardia.com/politica/20230620/9053962/diaz-desautoriza-feijoo-esta-preparado-presidente-miente-que-habla.html',\n",
       " 'https://www.lavanguardia.com/local/barcelones-nord/20230620/9056152/alcalde-badalona-insta-reunion-govern-crisis-agresiones-sexuales.html',\n",
       " 'https://www.lavanguardia.com/deportes/baloncesto/20230620/9056294/barca-madrid-liga-endesa-mirotic.html',\n",
       " 'https://www.lavanguardia.com/economia/20230620/9053127/talento-valentia-liderar-brl.html',\n",
       " 'https://www.lavanguardia.com/opinion/20230620/9053068/regale-ramos-aconito.html',\n",
       " 'https://www.lavanguardia.com/comer/tendencias/20230620/9052179/tikka-masala-origen-india-reino-unido.html',\n",
       " 'https://www.lavanguardia.com/opinion/20230619/9053604/inteligencia-politica.html',\n",
       " 'https://www.lavanguardia.com/television/20230620/9056272/patrick-criado-desvela-hormiguero-policia-pensaba-ladron-coches-me-pararon-200-veces.html',\n",
       " 'https://www.lavanguardia.com/magazine/moda/20230620/9051746/manuel-fernandez-20-anos-moda-arte-museo-mataro-exposicion.html',\n",
       " 'https://www.lavanguardia.com/politica/20230620/9056094/sumar-fuerza-expulsion-candidato-senado-alava-juicio-violencia-genero.html',\n",
       " 'https://www.lavanguardia.com/opinion/20230620/9052744/mejor-alcalde-posible.html',\n",
       " 'https://www.lavanguardia.com/cultura/20230620/9054888/juana-dolores-mi-subvencion-han-comprado-tres-pantallas-gigantes.html']"
      ]
     },
     "execution_count": 72,
     "metadata": {},
     "output_type": "execute_result"
    }
   ],
   "source": [
    "complete_urls"
   ]
  },
  {
   "cell_type": "code",
   "execution_count": 73,
   "id": "77dd7880",
   "metadata": {},
   "outputs": [
    {
     "data": {
      "text/plain": [
       "['https://www.lavanguardia.com/juegos/es/lexireto',\n",
       " 'https://www.lavanguardia.com/juegos/es/lexireto',\n",
       " 'https://www.lavanguardia.com/juegos/es/lexireto',\n",
       " 'https://www.lavanguardia.com/juegos/es/lexireto',\n",
       " 'https://www.lavanguardia.com/juegos/es/quiz/historia-y-geografia',\n",
       " 'https://www.lavanguardia.com/juegos/es/quiz/historia-y-geografia',\n",
       " 'https://www.lavanguardia.com/juegos/es/quiz/historia-y-geografia',\n",
       " 'https://www.lavanguardia.com/juegos/es/quiz/historia-y-geografia',\n",
       " 'https://www.lavanguardia.com/juegos/es/quiz/historia-y-geografia',\n",
       " 'https://www.lavanguardia.com/juegos/es/diferencias',\n",
       " 'https://www.lavanguardia.com/juegos/es/diferencias',\n",
       " 'https://www.lavanguardia.com/juegos/es/diferencias',\n",
       " 'https://www.lavanguardia.com/juegos/es/diferencias',\n",
       " 'https://www.lavanguardia.com/juegos/es/crucigrama',\n",
       " 'https://www.lavanguardia.com/juegos/es/crucigrama',\n",
       " 'https://www.lavanguardia.com/juegos/es/crucigrama',\n",
       " 'https://www.lavanguardia.com/juegos/es/crucigrama',\n",
       " 'https://www.lavanguardia.com/juegos/es/crucigrama',\n",
       " 'https://www.lavanguardia.com/juegos',\n",
       " 'https://www.lavanguardia.com/juegos',\n",
       " 'https://www.lavanguardia.com/juegos',\n",
       " 'https://www.lavanguardia.com/juegos',\n",
       " 'https://www.mundodeportivo.com/baloncesto/acb/20230620/1002026836/82-93-barca-campeon-nueva-leccion.html?utm_medium=referral&amp;utm_source=mundodeportivo.com',\n",
       " 'https://www.emagister.com/topemagister?lavanguardia=pf-16845-widget&utm_source=lavanguardia&utm_medium=cpl&utm_campaign=widget_1&utm_content=muex_generico',\n",
       " 'https://www.emagister.com/topemagister?lavanguardia=pf-16845-widget&utm_source=lavanguardia&utm_medium=cpl&utm_campaign=widget_1&utm_content=muex_generico',\n",
       " 'https://www.emagister.com/topemagister?lavanguardia=pf-16845-widget&utm_source=lavanguardia&utm_medium=cpl&utm_campaign=widget_1&utm_content=muex_generico',\n",
       " 'https://www.emagister.com/topemagister/Recursos_Humanos-opc58p101t1?lavanguardia=pf-16845-widget&utm_source=lavanguardia&utm_medium=cpl&utm_campaign=widget_2&utm_content=muex_masters_online_rrhh',\n",
       " 'https://www.emagister.com/topemagister/Recursos_Humanos-opc58p101t1?lavanguardia=pf-16845-widget&utm_source=lavanguardia&utm_medium=cpl&utm_campaign=widget_2&utm_content=muex_masters_online_rrhh',\n",
       " 'https://www.emagister.com/topemagister/Recursos_Humanos-opc58p101t1?lavanguardia=pf-16845-widget&utm_source=lavanguardia&utm_medium=cpl&utm_campaign=widget_2&utm_content=muex_masters_online_rrhh',\n",
       " 'https://www.emagister.com/topemagister/Marketing_Digital-opc42p101t2?lavanguardia=pf-16845-widget&utm_source=lavanguardia&utm_medium=cpl&utm_campaign=widget_3&utm_content=muex_cursos_marketing_digital',\n",
       " 'https://www.emagister.com/topemagister/Marketing_Digital-opc42p101t2?lavanguardia=pf-16845-widget&utm_source=lavanguardia&utm_medium=cpl&utm_campaign=widget_3&utm_content=muex_cursos_marketing_digital',\n",
       " 'https://www.emagister.com/topemagister/Marketing_Digital-opc42p101t2?lavanguardia=pf-16845-widget&utm_source=lavanguardia&utm_medium=cpl&utm_campaign=widget_3&utm_content=muex_cursos_marketing_digital']"
      ]
     },
     "execution_count": 73,
     "metadata": {},
     "output_type": "execute_result"
    }
   ],
   "source": [
    "rejected_urls"
   ]
  },
  {
   "cell_type": "code",
   "execution_count": 75,
   "id": "763fb8ce",
   "metadata": {},
   "outputs": [],
   "source": [
    "# For title\n",
    "def find_attr_title(tag):\n",
    "    return tag.has_attr('class') and \"title\" in \" \".join(tag.attrs[\"class\"]) and \"main\" in \" \".join(tag.attrs[\"class\"])\n",
    "# For desc\n",
    "def find_attr_desc(tag):\n",
    "    return tag.has_attr('class') and \"description\" in \" \".join(tag.attrs[\"class\"]) and \"main\" in \" \".join(tag.attrs[\"class\"])\n",
    "# For maintag\n",
    "def find_attr_maintag(tag):\n",
    "    return tag.has_attr('class') and \"tag\" in \" \".join(tag.attrs[\"class\"]) and \"main\" in \" \".join(tag.attrs[\"class\"])\n",
    "# For author\n",
    "def find_attr_author(tag):\n",
    "    return tag.has_attr('class') and \"author\" in \" \".join(tag.attrs[\"class\"])\n",
    "# For dates\n",
    "def find_attr_date(tag):\n",
    "    return tag.has_attr('class') and \"date\" in \" \".join(tag.attrs[\"class\"])\n",
    "# For content\n",
    "def find_attr_content(tag):\n",
    "    return tag.has_attr('class') and \"content\" in \" \".join(tag.attrs[\"class\"])\n",
    "\n",
    "def one_news_data_extractor(elements):\n",
    "    for element in elements:\n",
    "        element_title = element.find(find_attr_title)\n",
    "        title = None\n",
    "        desc = None\n",
    "        maintag = None\n",
    "        creation_date, creation_time, update_date, update_time = [None] * 4\n",
    "        content = None\n",
    "        if element_title and element_title.text and element_title.text.strip():\n",
    "            title = element_title.text\n",
    "            if not title:\n",
    "                return None\n",
    "\n",
    "        element_desc = element.find(find_attr_desc)\n",
    "        if element_desc and element_desc.text and element_desc.text.strip():\n",
    "            desc = element_desc.text\n",
    "            if not desc:\n",
    "                return None\n",
    "\n",
    "        element_maintag = element.find(find_attr_maintag)\n",
    "        if element_maintag and element_maintag.text and element_maintag.text.strip():\n",
    "            maintag = element_maintag.text\n",
    "            if not maintag:\n",
    "                return None\n",
    "\n",
    "        element_dates = element.find(find_attr_date)\n",
    "        \n",
    "        if element_dates and element_dates.text and element_dates.text.strip():\n",
    "            dates = element_dates.text\n",
    "            creation_date, creation_time, update_date, update_time = re.findall(r\"[0-9]+.{1}[0-9]+(?:.{1}[0-9]+)?\", author_dates)\n",
    "            if not creation_date or not creation_time or not update_date or not update_time:\n",
    "                return None\n",
    "            \n",
    "        element_content = element.find(find_attr_content)\n",
    "        if element_content and element_content.text and elem.text.strip():\n",
    "            content = element_content.text\n",
    "            if not content:\n",
    "                None\n",
    "    return dict(zip((\"title\", \"desc\", \"maintag\", \"creation_date\", \"creation_time\", \"update_date\", \"update_time\", \"content\"), \n",
    "                    (title, desc, maintag, creation_date, creation_time, update_date, update_time, content)\n",
    "                   ))\n",
    "# For tags\n",
    "def find_attr_tags(tag):\n",
    "    return tag.has_attr('class') and \"tags\" in \" \".join(tag.attrs[\"class\"]) and \"article\" in \" \".join(tag.attrs[\"class\"])"
   ]
  },
  {
   "cell_type": "code",
   "execution_count": 74,
   "id": "0b9ee8ae",
   "metadata": {},
   "outputs": [
    {
     "data": {
      "text/plain": [
       "'https://www.lavanguardia.com/politica/20230620/9054163/pp-contempla-cara-cara-sanchez-feijoo-debate-economico-nadie-calvino.html'"
      ]
     },
     "execution_count": 74,
     "metadata": {},
     "output_type": "execute_result"
    }
   ],
   "source": [
    "complete_urls[0]"
   ]
  },
  {
   "cell_type": "code",
   "execution_count": null,
   "id": "d24d555c",
   "metadata": {},
   "outputs": [],
   "source": [
    "news_media_data = {}\n",
    "not_processed_urls = []\n",
    "\n",
    "for i, news_url in enumerate(complete_urls):\n",
    "    #news_url_id = news_url.replace(\".html\", \"\").split(\"_\")[-1]\n",
    "    resp_url_news = requests.get(news_url, \n",
    "                                 headers=headers)\n",
    "    parsed_news_hmtl = BeautifulSoup(resp_url_news.content, \n",
    "                                     \"html.parser\")\n",
    "    # header, footer and content\n",
    "    elements_article = parsed_news_hmtl.find_all(\"div\", \n",
    "                                                 class_=re.compile(r'article-main')\n",
    "                                                )[:-1]\n",
    "    if not elements_article:\n",
    "        not_processed_urls.append(news_url)\n",
    "        continue\n",
    "    one_news_data = one_news_data_extractor(elements_article)\n",
    "    one_news_data[\"tags\"] = parsed_news_hmtl.find(find_attr_tags).get_text(separator=\"\\n\").split(\"\\n\")\n",
    "    news_media_data[news_url_id] = one_news_data"
   ]
  },
  {
   "cell_type": "code",
   "execution_count": 76,
   "id": "130a2c9c",
   "metadata": {},
   "outputs": [],
   "source": [
    "resp_url_news = requests.get(complete_urls[0], \n",
    "                             headers=headers)\n",
    "parsed_news_hmtl = BeautifulSoup(resp_url_news.content, \n",
    "                                 \"html.parser\")"
   ]
  },
  {
   "cell_type": "code",
   "execution_count": 144,
   "id": "7e82a4e8",
   "metadata": {},
   "outputs": [],
   "source": [
    "def find_attr_content(tag):\n",
    "    return tag.name == \"div\" and tag.has_attr('class') and \"article-modules\" in \" \".join(tag.attrs[\"class\"]) and \"modules\" in \" \".join(tag.attrs[\"class\"])\n",
    "def find_attr_meta(tag):\n",
    "    return tag.name == \"div\" and tag.has_attr('class') and \"article-info\" in \" \".join(tag.attrs[\"class\"])"
   ]
  },
  {
   "cell_type": "code",
   "execution_count": 182,
   "id": "aa54ae79",
   "metadata": {},
   "outputs": [
    {
     "data": {
      "text/plain": [
       "(23, 5)"
      ]
     },
     "execution_count": 182,
     "metadata": {},
     "output_type": "execute_result"
    }
   ],
   "source": [
    "content = parsed_news_hmtl.find(find_attr_content)\n",
    "meta = parsed_news_hmtl.find(find_attr_meta)\n",
    "len(content), len(meta)"
   ]
  },
  {
   "cell_type": "code",
   "execution_count": 169,
   "id": "3ab62341",
   "metadata": {},
   "outputs": [
    {
     "name": "stdout",
     "output_type": "stream",
     "text": [
      "El PP ya ha dado su respuesta al PSOE sobre los debates electorales y lo ha hecho una vez cerrado el plazo para registrar las listas para las elecciones generales del 23 de julio mediante  una carta enviada por del vicesecretario de acción institucional del PP, Esteban González Pons, al secretario de Organización del PSOE, Santos Cerdán, para transmitirle que aceptan un solo cara a cara entre Alberto Núñez Feijóo y el integrante de la coalición del Gobierno que determinen el PSOE y Sumar, entendiendo que estos serían Pedro Sánchez o Yolanda Díaz. Aunque el PP también abre la puerta a que sean ambos los que debatan con su líder. En la misiva, los populares señalan que acceden a celebrar el cara a cara propuesto por los socialistas \"tras la agobiada petición repetida por su presidente\" y precisa González Pons  que dado que el Gobierno es el primero de coalición en la historia y que su vicepresidenta segunda ha manifestado públicamente su interés por participar en ese cara a cara, quedan a la espera de que las fuerzas que componen el Ejecutivo comuniquen qué persona designan para el debate. Entienden que la propuesta sería Pedro Sánchez o Yolanda Díaz, pero añaden que \"para facilitar vuestra situación interna en el seno del Gobierno\" aceptarían la posibilidad de que el debate fuera \"a tres\" con Sánchez y con Díaz. La idea con la que el PP se aproxima a las negociaciones de los debates electorales no contempla, en ninguno de los casos, los seis cara a cara que el presidente del Gobierno ha ofrecido al PP, uno por semana desde hace ya dos semanas. Los populares plantean también un debate con los cuatro principales partidos de ámbito español (PSOE, PP, Vox y Sumar) y con aquellos que, de la mano Pedro Sánchez, se incorporaron a la “gobernabilidad del Estado” (ERC, PNV y Bildu). Fuentes del PSOE ya han señalado que la carta recibida \"destila la misma falta de respeto y el mismo tono faltón que impregna todas las declaraciones del PP\" y que no es el PP quien determina los debates sino los grupos de comunicación convocantes (RTVE, A3MEDIA, MEDIASET y PRISA) que han solicitado debates cara a cara de Sánchez con Feijóo y debates a cuatro, con las 4 formaciones de ámbito nacional. El PSOE ha aceptado todos estos debates, recuerdan. Por ello, las fuentes socialistas que ven \"afán por buscar pretextos y evitar debates a toda costa\" emplazan al  PP a decidir qué debates acepta y cuáles rechaza para inmediatamente negociar con ellos las cuestiones técnicas. Por su parte, fuentes de Sumar señalan que la democracia \"necesita campañas electorales con debates, ideas y propuestas\" y apuntan que  un debate a tres \"se parece más a la España de hoy\" que un debate a dos. \"Vamos a hacer los debates que hagan falta\", explican las fuentes que apuestan por hacer \"una campaña en positivo\".\n"
     ]
    }
   ],
   "source": [
    "content = \" \".join([content.text for content in content.select(\"p\")])\n",
    "print(content)"
   ]
  },
  {
   "cell_type": "code",
   "execution_count": 200,
   "id": "e13419c8",
   "metadata": {},
   "outputs": [
    {
     "data": {
      "text/plain": [
       "'Carmen del Riego Madrid'"
      ]
     },
     "execution_count": 200,
     "metadata": {},
     "output_type": "execute_result"
    }
   ],
   "source": [
    "\" \".join([x.get_text().strip() for x in meta.select(\".author-name\")])\n"
   ]
  },
  {
   "cell_type": "code",
   "execution_count": 208,
   "id": "cc68e69a",
   "metadata": {},
   "outputs": [
    {
     "name": "stdout",
     "output_type": "stream",
     "text": [
      "20/06/2023 11:10\n",
      "Actualizado a  20/06/2023 15:16\n"
     ]
    }
   ],
   "source": [
    "print(\" \".join([x.get_text().strip() for x in meta.select(\".date-time\")]))"
   ]
  },
  {
   "cell_type": "code",
   "execution_count": 201,
   "id": "943e52cb",
   "metadata": {},
   "outputs": [
    {
     "name": "stdout",
     "output_type": "stream",
     "text": [
      "<div class=\"article-info\">\n",
      "<div class=\"author-date-content\">\n",
      "<figure class=\"author-image\" style=\"display: block;\">\n",
      "<img alt=\"Feijóo ofrece un cara a cara con Sánchez o Yolanda Díaz o con ambos\" class=\"lazy\" data-src=\"/files/image_40_40/uploads/1970/01/01/5f9ad9d675386.jpeg\" height=\"40\" src=\"data:image/png;base64,iVBORw0KGgoAAAANSUhEUgAAAAEAAAABCAQAAAC1HAwCAAAAC0lEQVR42mNkYAAAAAYAAjCB0C8AAAAASUVORK5CYII=\" title=\"\" width=\"40\"/>\n",
      "</figure>\n",
      "<div class=\"author-date-time\">\n",
      "<div class=\"author-name\" data-gtm-element-container=\"author\">\n",
      "<p><a href=\"/autores/maricarmen-delriego.html\">Carmen del Riego</a></p>\n",
      "</div>\n",
      "<div class=\"author-name\">\n",
      "<p>Madrid</p>\n",
      "</div>\n",
      "<div class=\"date-time\">\n",
      "<time class=\"created\" datetime=\"2023-06-20T11:10:15+02:00\">20/06/2023 11:10</time>\n",
      "<time class=\"modified\" datetime=\"2023-06-20T15:16:07+02:00\">Actualizado a  20/06/2023 15:16</time>\n",
      "</div>\n",
      "</div>\n",
      "</div>\n",
      "<div class=\"social-buttons social-share\" data-gtm-element=\"leaf-social-share-top\">\n",
      "<div class=\"social-left\">\n",
      "<a class=\"share-icon fab fa-facebook-f\" data-gtm-social-provider=\"facebook\" href=\"https://www.facebook.com/sharer/sharer.php?u=https://www.lavanguardia.com/politica/20230620/9054163/pp-contempla-cara-cara-sanchez-feijoo-debate-economico-nadie-calvino.html\" rel=\"nofollow\" target=\"_blank\"></a>\n",
      "<a class=\"share-icon fab fa-twitter\" data-gtm-social-provider=\"twitter\" href=\"https://twitter.com/intent/tweet?text=Feij%C3%B3o%20ofrece%20un%20cara%20a%20cara%20con%20S%C3%A1nchez%20o%20Yolanda%20D%C3%ADaz%20o%20con%20ambos&amp;url=https://www.lavanguardia.com/politica/20230620/9054163/pp-contempla-cara-cara-sanchez-feijoo-debate-economico-nadie-calvino.html\" rel=\"nofollow\" target=\"_blank\"></a>\n",
      "<a class=\"share-icon share-icon-whatsapp fab fa-whatsapp\" data-gtm-social-provider=\"whatsapp\" data-imported=\"\" href=\"whatsapp://send?text=Feij%C3%B3o%20ofrece%20un%20cara%20a%20cara%20con%20S%C3%A1nchez%20o%20Yolanda%20D%C3%ADaz%20o%20con%20ambos%20https://www.lavanguardia.com/politica/20230620/9054163/pp-contempla-cara-cara-sanchez-feijoo-debate-economico-nadie-calvino.html?utm_term=botones_sociales&amp;utm_source=whatsapp&amp;utm_medium=social\" rel=\"nofollow\" target=\"_blank\"></a>\n",
      "</div>\n",
      "<div class=\"social-right\">\n",
      "<a class=\"share-icon fa fa-comment\" rel=\"nofollow\"><span></span></a>\n",
      "</div>\n",
      "</div>\n",
      "</div>\n"
     ]
    }
   ],
   "source": [
    "author = \" \".join([x.get_text().strip() for x in meta.select(\".author-name\")])\n",
    "date_time = \" \".join([x.get_text().strip() for x in meta.select(\".date-time\")])\n",
    "print(meta)"
   ]
  },
  {
   "cell_type": "markdown",
   "id": "f516f191",
   "metadata": {},
   "source": [
    "Okdiario"
   ]
  },
  {
   "cell_type": "code",
   "execution_count": 211,
   "id": "97903df7",
   "metadata": {},
   "outputs": [],
   "source": [
    "def find_attr_article(tag):\n",
    "    return tag.name == \"article\"\n",
    "def find_attr_meta(tag):\n",
    "    return tag.name == \"div\" and tag.has_attr('class') and \"article-info\" in \" \".join(tag.attrs[\"class\"])"
   ]
  },
  {
   "cell_type": "code",
   "execution_count": 215,
   "id": "a509ef33",
   "metadata": {},
   "outputs": [
    {
     "name": "stdout",
     "output_type": "stream",
     "text": [
      "Response code: 200\n"
     ]
    }
   ],
   "source": [
    "url = \"https://okdiario.com/\"\n",
    "main_root = \"https://okdiario.com/\"\n",
    "date = current_date.replace(\"-\", \"\")\n",
    "# With headers\n",
    "response = requests.get(url, headers=headers)\n",
    "print(\"Response code:\", response.status_code)  # HTTP status code\n",
    "\n",
    "parsed_hmtl = BeautifulSoup(response.content, \"html.parser\")\n",
    "articles = parsed_hmtl.find_all(find_attr_article)\n",
    "\n",
    "raw_urls = [article.find(\"a\").attrs[\"href\"] for article in articles]\n",
    "complete_urls = []\n",
    "rejected_urls = []\n",
    "for raw_url in raw_urls:\n",
    "    if not re.search(r\"-[0-9]+$\", raw_url):\n",
    "        rejected_urls.append(raw_url)\n",
    "        continue\n",
    "    if raw_url.startswith(\"/\"):\n",
    "        raw_url = main_root + raw_url\n",
    "    elif main_root not in raw_url:\n",
    "        rejected_urls.append(raw_url)\n",
    "        continue\n",
    "    complete_urls.append(raw_url)\n",
    "complete_urls = list(set(complete_urls))"
   ]
  },
  {
   "cell_type": "code",
   "execution_count": 218,
   "id": "a2a673d8",
   "metadata": {},
   "outputs": [
    {
     "data": {
      "text/plain": [
       "(208, 0)"
      ]
     },
     "execution_count": 218,
     "metadata": {},
     "output_type": "execute_result"
    }
   ],
   "source": [
    "len(complete_urls), len(rejected_urls)"
   ]
  },
  {
   "cell_type": "code",
   "execution_count": 217,
   "id": "a85c718f",
   "metadata": {},
   "outputs": [
    {
     "data": {
      "text/plain": [
       "['https://okdiario.com/diariomadridista/real-madrid/excusa-del-abogado-que-insultaron-vinicius-mestalla-estaban-rascando-axilas-340724',\n",
       " 'https://okdiario.com/economia/estas-son-tiendas-hm-huelga-este-martes-toda-espana-11126199',\n",
       " 'https://okdiario.com/economia/mahou-san-miguel-compra-51-empresa-que-organiza-festival-mad-cool-11126214',\n",
       " 'https://okdiario.com/sociedad/tiempo-limite-que-tienen-rescatar-vida-turistas-que-iban-visitar-titanic-11124022',\n",
       " 'https://okdiario.com/andalucia/moreno-aterriza-paris-apoyar-candidatura-malaga-expo-2027-vamos-todas-11127633',\n",
       " 'https://okdiario.com/ciencia/secretos-detras-algunos-experimentos-importantes-11107461',\n",
       " 'https://okdiario.com/happyfm/hermanos-avance-del-capitulo-hoy-ayla-nebahat-logran-vender-propiedades-akif-11119831',\n",
       " 'https://okdiario.com/okclub/garicano-ex-ciudadanos-que-ya-manda-impone-sala-maquinas-del-pp-11066402',\n",
       " 'https://okdiario.com/diariomadridista/real-madrid/bombazo-taylor-swift-anuncia-concierto-nuevo-bernabeu-mayo-2024-340794',\n",
       " 'https://okdiario.com/deportes/mercado-fichajes-2023-directo-ultima-hora-fichajes-del-real-madrid-hoy-vivo-5-11124028',\n",
       " 'https://okdiario.com/baleares/presidente-vox-del-parlament-balear-finaliza-asi-discurso-vivan-islas-baleares-visca-espanya-11125561',\n",
       " 'https://okdiario.com/economia/ibex-35-bolsa-espana-20-junio-2023-11123711',\n",
       " 'https://okdiario.com/ciencia/energia-eolica-alternativa-renovable-rentable-11107354',\n",
       " 'https://okdiario.com/happyfm/supervivientes-tierra-nadie-cinco-ultimos-concursantes-llegan-espana-esta-noche-11121018',\n",
       " 'https://okdiario.com/opinion/quien-parte-reparte-lleva-mejor-parte-ministra-ribera-vuelve-tocar-gordo-11120632',\n",
       " 'https://okdiario.com/happyfm/pasapalabra-invitados-hoy-famosos-del-20-22-23-junio-2023-11127443',\n",
       " 'https://okdiario.com/educacion/como-escribe-cayendo-o-callendo-4479983',\n",
       " 'https://okdiario.com/historia/evelyn-mchale-suicidio-11120197',\n",
       " 'https://okdiario.com/espana/nuevo-alcalde-arganda-del-pp-encuentra-despacho-vacio-sin-ordenadores-ni-papeles-11120881',\n",
       " 'https://okdiario.com/sociedad/aprovechar-talento-senior-impulsar-crecimiento-economia-sostenibilidad-pensiones-11124519',\n",
       " 'https://okdiario.com/economia/inditex-suma-resto-del-sector-textil-aplicara-descuentos-poco-agresivos-rebajas-verano-11120052',\n",
       " 'https://okdiario.com/espana/pp-vox-no-llegan-acuerdo-extremadura-regalan-psoe-presidencia-asamblea-11121631',\n",
       " 'https://okdiario.com/okclub/esta-quiniela-que-maneja-feijoo-futurible-ministro-economia-11104952',\n",
       " 'https://okdiario.com/espana/felipe-gonzalez-yo-no-pactaria-vox-ni-bildu-pero-bildu-no-lo-mismo-que-vox-11128302',\n",
       " 'https://okdiario.com/espana/vox-ficha-zoe-valdes-lista-del-senado-encabezada-ministro-suarez-87-anos-11127528',\n",
       " 'https://okdiario.com/bebes/depilacion-durante-embarazo-pros-contras-que-hacer-verano-11076457',\n",
       " 'https://okdiario.com/deportes/lo-mas-viral-fernando-alonso-cosas-raras-que-hace-llevan-millones-reproducciones-11124831',\n",
       " 'https://okdiario.com/tecnologia/5-trucos-google-maps-que-te-van-cambiar-vida-encontrar-tu-coche-horarios-autobuses-11112191',\n",
       " 'https://okdiario.com/bebes/como-lidiar-insomnio-ninos-cuando-hace-calor-verano-11045759',\n",
       " 'https://okdiario.com/economia/constitucional-desestima-demolicion-del-complejo-isla-valdecanas-aprobada-supremo-11126023',\n",
       " 'https://okdiario.com/salud/nuevo-sistema-portatil-permitira-realizar-cirugias-sin-quirofano-11119947',\n",
       " 'https://okdiario.com/tecnologia/manana-acaba-oferta-airpods-corte-ingles-precio-derribo-11112166',\n",
       " 'https://okdiario.com/diariomadridista/real-madrid/florentino-joselu-estoy-convencido-ayudar-340523',\n",
       " 'https://okdiario.com/bebes/como-organizar-cumpleanos-montessori-11037486',\n",
       " 'https://okdiario.com/espana/guardiola-desafia-vox-no-voy-mercadear-consejerias-quienes-niegan-violencia-machista-11125339',\n",
       " 'https://okdiario.com/look/actualidad/isabel-gemio-vuelve-television-sonsoles-onega-1754062',\n",
       " 'https://okdiario.com/elecciones/cuantos-escanos-necesitan-lograr-mayoria-absoluta-elecciones-generales-11094593',\n",
       " 'https://okdiario.com/mascotas/curiosidades-sobre-peces-verano-5829375',\n",
       " 'https://okdiario.com/curiosidades/3-tradiciones-que-debes-seguir-hogueras-noche-san-juan-4270413',\n",
       " 'https://okdiario.com/baleares/preacuerdo-pp-vox-elimina-ley-armengol-que-echado-cientos-medicos-no-saber-catalan-11124209',\n",
       " 'https://okdiario.com/deportes/mbappe-balon-oro-creo-que-cumplo-criterios-ganarlo-11123954',\n",
       " 'https://okdiario.com/tecnologia/llega-mayor-cambio-historia-whatsapp-podras-tener-dos-cuentas-mismo-movil-11126343',\n",
       " 'https://okdiario.com/historia/como-era-vida-cotidiana-antiguo-egipto-11114503',\n",
       " 'https://okdiario.com/sociedad/ana-maria-hernandez-madre-georgina-rodriguez-10634191',\n",
       " 'https://okdiario.com/baleares/david-bisbal-viaje-70-summer-of-love-inauguran-primer-fin-semana-jardi-11126949',\n",
       " 'https://okdiario.com/coolthelifestyle/cultura/louis-stettner-fotografo-exposicion-518310',\n",
       " 'https://okdiario.com/economia/tienda-mas-querida-este-centro-comercial-cierra-siempre-tristeza-absoluta-clientes-11117178',\n",
       " 'https://okdiario.com/okshopping/tu-factura-luz-mas-barata-endesa-ahora-20-descuento-durante-1-ano-11085631',\n",
       " 'https://okdiario.com/economia/neinor-vende-mas-200-viviendas-valencia-savills-im-66-millones-11128064',\n",
       " 'https://okdiario.com/mascotas/gran-solucion-acabar-pelo-tu-perro-trucazo-no-tener-que-limpiarlo-constantemente-11124194',\n",
       " 'https://okdiario.com/educacion/como-escribe-raya-o-ralla-4262422',\n",
       " 'https://okdiario.com/tecnologia/secreto-que-todo-mundo-quiere-saber-mejora-duracion-bateria-tu-movil-android-este-truco-11117161',\n",
       " 'https://okdiario.com/coolthelifestyle/lifestyle/mandarin-oriental-desembarca-barrio-salamanca-madrid-sus-nuevas-viviendas-520226',\n",
       " 'https://okdiario.com/recetas/trucos-preparar-mejor-barbacoa-noche-san-juan-2464140',\n",
       " 'https://okdiario.com/lista/10-peliculas-terror-netflix-que-no-te-puedes-perder-4741644',\n",
       " 'https://okdiario.com/sociedad/oportunidades-empleo-que-llegan-bus-hasta-puerta-casa-11007886',\n",
       " 'https://okdiario.com/economia/startups-unidas-crecer-mas-recursos-economicos-sinergias-escalabilidad-11057182',\n",
       " 'https://okdiario.com/sociedad/revela-tecnica-ahorrar-dinero-supermercado-vuelve-locos-establecimientos-11124793',\n",
       " 'https://okdiario.com/happyfm/duki-comparte-nuevos-detalles-disco-antes-ameri-antes-lanzamiento-11120062',\n",
       " 'https://okdiario.com/happyfm/submarino-que-visitaba-titanic-titan-oto-que-anuncio-peor-presagio-uno-turistas-bord-11126777',\n",
       " 'https://okdiario.com/trailer/vanessa-kirby-responde-rumores-que-situan-como-esta-heroina-marvel-11123637',\n",
       " 'https://okdiario.com/historia/cultura-arabe-espana-edad-media-11113116',\n",
       " 'https://okdiario.com/espana/feijoo-propone-debate-tres-sanchez-diaz-otro-todos-partidos-11125647',\n",
       " 'https://okdiario.com/howto/como-cambiar-foto-grupo-whatsapp-3780927',\n",
       " 'https://okdiario.com/salud/adn-tres-padres-permite-nacimiento-bebe-libre-enfermedades-incurables-11124482',\n",
       " 'https://okdiario.com/educacion/como-escribe-favor-o-porfavor-4282217',\n",
       " 'https://okdiario.com/deportes/alineacion-espana-contra-rumania-duda-esta-sancet-veiga-11126714',\n",
       " 'https://okdiario.com/sociedad/si-eres-peaton-haces-esto-dgt-puede-multarte-1-000-euros-11122413',\n",
       " 'https://okdiario.com/look/casa-real/fecha-jura-bandera-princesa-leonor-1754206',\n",
       " 'https://okdiario.com/trailer/record-no-deseado-pixar-elemental-estrella-taquilla-estadounidense-11121244',\n",
       " 'https://okdiario.com/coolthelifestyle/motor/superdeportivo-mas-rapido-mundo-517193',\n",
       " 'https://okdiario.com/okshopping/olvidate-contracturas-esta-oferta-pistola-masaje-muscular-menos-35e-11119191',\n",
       " 'https://okdiario.com/curiosidades/te-sorprenderan-historias-6-bosques-encantados-espana-que-mas-mitos-ocultan-11122956',\n",
       " 'https://okdiario.com/lista/10-libros-mas-vendidos-historia-4490634',\n",
       " 'https://okdiario.com/look/actualidad/mayka-habla-infidelidad-risto-mejide-1753874',\n",
       " 'https://okdiario.com/opinion/prevenir-violaciones-hacen-falta-mas-policias-menos-talleres-reinsercion-11121253',\n",
       " 'https://okdiario.com/coolthelifestyle/relojes-joyas/relojes-nauticos-que-todo-amante-navegacion-querria-tener-512439',\n",
       " 'https://okdiario.com/curiosidades/verdad-oculta-sobre-limpieza-hoteles-lo-que-no-quieren-que-sepas-11122958',\n",
       " 'https://okdiario.com/educacion/como-escribe-yendo-o-llendo-4240639',\n",
       " 'https://okdiario.com/deportes/luis-enrique-pide-psg-queden-mbappe-neymar-11122272',\n",
       " 'https://okdiario.com/loteria/once-comprobar-resultado-hoy-19-junio-2023-11121232',\n",
       " 'https://okdiario.com/curiosidades/agricultor-acaba-mito-mas-extendido-melones-no-eligen-asi-supermercado-11124066',\n",
       " 'https://okdiario.com/curiosidades/happy-yellow-day-que-20-junio-dia-mas-feliz-del-ano-11123718',\n",
       " 'https://okdiario.com/happyfm/first-dates-carolina-protagonista-sacar-quicio-cita-11124237',\n",
       " 'https://okdiario.com/ciencia/como-energia-hidroelectrica-esta-impulsando-desarrollo-sostenible-todo-mundo-11103122',\n",
       " 'https://okdiario.com/actualidad/fotoprotectores-faciales-que-deberias-incluir-tu-rutina-facial-11084211',\n",
       " 'https://okdiario.com/lista/10-mejores-libros-poemas-4614973',\n",
       " 'https://okdiario.com/diariomadridista/real-madrid/joselu-llevara-dorsal-14-9-sigue-libre-340625',\n",
       " 'https://okdiario.com/actualidad/salud-mental-jimenez-diaz-quiron-prevencion-11075521',\n",
       " 'https://okdiario.com/trailer/orquesta-nueva-serie-del-creador-borgen-llega-filmin-20-junio-11128251',\n",
       " 'https://okdiario.com/actualidad/retotech-proyecto-fundacion-endesa-que-despierta-vocaciones-stem-ninos-11099931',\n",
       " 'https://okdiario.com/bebes/planes-celebrar-noche-san-juan-ninos-9273001',\n",
       " 'https://okdiario.com/economia/ia-modelos-neuronales-artificiales-generara-hasta-4-billones-euros-ano-economia-mundial-11127944',\n",
       " 'https://okdiario.com/curiosidades/todos-tenemos-casa-te-esta-estropeando-wifi-aleja-esto-tu-router-inmediatamente-10934504',\n",
       " 'https://okdiario.com/opinion/sumar-solo-sumando-11125083',\n",
       " 'https://okdiario.com/tecnologia/ecoflow-wave-2-solucion-portatil-climatizacion-que-convence-todo-esto-11033797',\n",
       " 'https://okdiario.com/espana/sanchez-rechaza-debate-tres-yolanda-diaz-que-propone-feijoo-provocacion-11125952',\n",
       " 'https://okdiario.com/investigacion/vida-comunista-del-numero-2-yolanda-diaz-dos-pisos-frente-palacio-real-chale-lujo-menorca-11119761',\n",
       " 'https://okdiario.com/bebes/como-dejar-dar-pecho-consejos-estrategias-10984154',\n",
       " 'https://okdiario.com/trailer/huelga-guionistas-cobra-primera-victima-definitiva-no-tendremos-serie-sobre-metropolis-11126599',\n",
       " 'https://okdiario.com/howto/como-colgar-poster-sin-arruinar-pared-4464089',\n",
       " 'https://okdiario.com/espana/feminista-historica-del-psoe-amelia-valcarcel-pide-voto-feijoo-te-otorgo-confianza-11127584',\n",
       " 'https://okdiario.com/hablemos-de-futuro/formacion-financiera-mayores-65-anos-herramienta-proteccion-contra-ciberfraude-11079879',\n",
       " 'https://okdiario.com/deportes/santi-denia-motivacion-sueno-poder-lograr-triplete-generacion-del-2-000-11126736',\n",
       " 'https://okdiario.com/deportes/alcaraz-escapa-trampa-rinderknech-debuta-victoria-queens-11126793',\n",
       " 'https://okdiario.com/opinion/bildu-no-he-pactado-si-quiere-lo-digo-20-veces-11126274',\n",
       " 'https://okdiario.com/espana/pedro-banos-no-podemos-poner-nuestras-vidas-manos-politicos-completamente-incapaces-11053961',\n",
       " 'https://okdiario.com/deportes/gavi-oficialmente-inscrito-liga-llevara-dorsal-6-11126841',\n",
       " 'https://okdiario.com/mascotas/estas-son-mascotas-que-partir-ahora-pueden-viajar-contigo-ave-11114444',\n",
       " 'https://okdiario.com/andalucia/policias-municipales-esperan-condena-ejemplar-maria-leon-agresion-agente-11125004',\n",
       " 'https://okdiario.com/lista/10-personajes-animacion-mas-famosos-historia-4502960',\n",
       " 'https://okdiario.com/tecnologia/ten-cuidado-estos-virus-whatsapp-pueden-estropear-tu-telefono-movil-11123786',\n",
       " 'https://okdiario.com/ciencia/que-algunos-alimentos-nos-producen-gases-11120329',\n",
       " 'https://okdiario.com/look/casa-real/emotivo-reencuentro-familiar-marca-especial-reaparicion-reina-sofia-1754142',\n",
       " 'https://okdiario.com/andalucia/gobierno-descarta-trafico-especial-pateras-hacia-almeria-llegar-318-inmigrantes-este-mes-11125374',\n",
       " 'https://okdiario.com/ciencia/como-era-alimentacion-bruce-lee-11116669',\n",
       " 'https://okdiario.com/trailer/the-bear-temporada-2-estrenara-disney-16-agosto-11128129',\n",
       " 'https://okdiario.com/bebes/como-aliviar-resfriado-ninos-verano-11047077',\n",
       " 'https://okdiario.com/deportes/fernando-alonso-rie-toto-wolff-rabiosa-imitacion-canada-11124134',\n",
       " 'https://okdiario.com/salud/espana-incumple-recomendaciones-cientificas-tratamiento-compresion-medular-metastasis-11119109',\n",
       " 'https://okdiario.com/economia/sabadell-caixabank-replican-calvino-defienden-rentabilidad-depositos-11125467',\n",
       " 'https://okdiario.com/deportes/deco-abandona-raphinha-11124651',\n",
       " 'https://okdiario.com/elecciones/todos-partidos-que-presentan-elecciones-generales-espana-2023-11122796',\n",
       " 'https://okdiario.com/historia/secretos-misterios-ciudades-antiguas-11103151',\n",
       " 'https://okdiario.com/salud/hospital-juaneda-ciutadella-mejor-equipo-profesional-ultima-tecnologia-menorca-10862466',\n",
       " 'https://okdiario.com/internacional/hijo-biden-declara-culpable-varios-delitos-fiscales-evitar-carcel-11127344',\n",
       " 'https://okdiario.com/coolthelifestyle/cool-people/joyas-pelo-accesorio-esta-temporada-523584',\n",
       " 'https://okdiario.com/comunidad-valenciana/ribo-confunde-tradicion-imposicion-franquista-catala-responde-tiene-notas-mal-11125859',\n",
       " 'https://okdiario.com/economia/te-van-vaciar-cuenta-bancaria-si-no-desactivas-esto-tu-movil-inmediatamente-11085448',\n",
       " 'https://okdiario.com/educacion/mapfre-policia-nacional-organizan-jornada-abandono-escolar-ambito-digital-11105359',\n",
       " 'https://okdiario.com/deportes/graves-acusaciones-sobre-antony-disloco-protesis-del-pecho-no-podia-respirar-11125008',\n",
       " 'https://okdiario.com/deportes/premier-sigue-abriendo-brecha-liga-sus-jugadores-valen-5-830-millones-mas-11126176',\n",
       " 'https://okdiario.com/economia/heineken-espana-comprometida-bienestar-sus-personas-impulsa-formaciones-antiestres-11080627',\n",
       " 'https://okdiario.com/loteria/once-comprobar-resultado-hoy-20-junio-2023-11127038',\n",
       " 'https://okdiario.com/sociedad/ten-cuidado-si-haces-esto-luces-tu-coche-multa-80-euros-que-te-podrian-poner-11117751',\n",
       " 'https://okdiario.com/diariomadridista/real-madrid/desata-joselumania-340736',\n",
       " 'https://okdiario.com/howto/como-cambiar-fondo-pantalla-del-ordenador-3595608',\n",
       " 'https://okdiario.com/lista/10-mejores-deportistas-espanolas-historia-4594744',\n",
       " 'https://okdiario.com/loteria/bonoloto-comprobar-resultado-hoy-19-junio-2023-11121229',\n",
       " 'https://okdiario.com/mascotas/jamas-des-comer-estos-alimentos-tus-mascotas-peligroso-11120202',\n",
       " 'https://okdiario.com/sociedad/empresario-explorador-familia-millonarios-bordo-del-sumergible-del-titanic-11125318',\n",
       " 'https://okdiario.com/sociedad/lo-peor-que-visto-vida-reportero-callejeros-ya-lo-he-visto-espana-11124683',\n",
       " 'https://okdiario.com/salud/alertan-que-incremento-sifilis-podria-desabastecer-tratamiento-penicilina-11119284',\n",
       " 'https://okdiario.com/espana/pedro-sanchez-lanza-plan-antivioladores-medidas-alternativas-prision-11120677',\n",
       " 'https://okdiario.com/okgreen/verdaderos-datos-sobre-emisiones-co2-11060418',\n",
       " 'https://okdiario.com/mascotas/cual-significado-sonar-ratas-11113583',\n",
       " 'https://okdiario.com/okshopping/llevate-ventilador-pie-que-triunfa-amazon-menos-26-esta-oferta-11119374',\n",
       " 'https://okdiario.com/diariomadridista/real-madrid/emotivo-cierre-chus-mateo-no-puedo-sentirme-mas-orgulloso-341066',\n",
       " 'https://okdiario.com/coolthelifestyle/arquitectura/jaime-beriastain-interiorista-hoteles-523143',\n",
       " 'https://okdiario.com/historia/como-eran-reglas-originales-del-tenis-11116691',\n",
       " 'https://okdiario.com/andalucia/malaga-juega-este-miercoles-ser-sede-expo-2027-estas-son-10-claves-candidatura-11126897',\n",
       " 'https://okdiario.com/recetas/burritos-seitan-frijoles-negros-arroz-leche-11116701',\n",
       " 'https://okdiario.com/economia/acciona-estudio-traslado-sede-pero-momento-no-contempla-esa-opcion-11125923',\n",
       " 'https://okdiario.com/diariomadridista/real-madrid/9-del-real-madrid-sigue-buscando-dueno-340739',\n",
       " 'https://okdiario.com/mascotas/5-senales-vejez-perros-6903994',\n",
       " 'https://okdiario.com/howto/como-calcular-aceleracion-paso-paso-2152676',\n",
       " 'https://okdiario.com/baleares/justicia-anula-parte-pruebas-contra-juez-fiscal-que-acusaron-cursach-11125253',\n",
       " 'https://okdiario.com/look/estilo/blusa-volantes-zara-esta-triunfando-web-locura-cuesta-muy-poco-1752749',\n",
       " 'https://okdiario.com/lista/10-mujeres-mas-importantes-historia-4351293',\n",
       " 'https://okdiario.com/sociedad/estan-juntos-shakira-alejandro-sanz-detalles-que-revelan-todo-11121961',\n",
       " 'https://okdiario.com/sociedad/roberto-brasero-trae-peor-noticias-este-dia-va-cambiar-todo-11125079',\n",
       " 'https://okdiario.com/cultura/estos-son-secretos-increibles-que-hay-detras-malinche-espectaculo-musical-nacho-cano-11079358',\n",
       " 'https://okdiario.com/howto/como-cambiar-hora-reloj-casio-4663398',\n",
       " 'https://okdiario.com/historia/historia-gastronomia-espana-11103134',\n",
       " 'https://okdiario.com/sociedad/maldicion-del-titanic-inquietantes-teorias-donde-esta-submarino-desaparecido-11126928',\n",
       " 'https://okdiario.com/diariomadridista/real-madrid/madrid-no-impedira-salida-modric-340509',\n",
       " 'https://okdiario.com/baleares/detenido-colombiano-tener-plantacion-marihuana-dentro-del-cementerio-ibiza-11127482',\n",
       " 'https://okdiario.com/elecciones/como-pedir-voto-correo-si-no-vas-estar-tu-domicilio-11094606',\n",
       " 'https://okdiario.com/economia/correos-vale-700-millones-menos-que-hace-cinco-anos-cuando-sanchez-coloco-amigo-presidente-11119657',\n",
       " 'https://okdiario.com/baleares/nuevo-parlament-balear-inicia-este-martes-andadura-gabriel-senne-vox-como-presidente-11121369',\n",
       " 'https://okdiario.com/sociedad/dc-comics-presenta-nueva-pareja-superheroes-gays-celebrar-orgullo-11125704',\n",
       " 'https://okdiario.com/look/casa-real/inesperada-imagen-reina-letizia-amaia-operacion-triunfo-1754191',\n",
       " 'https://okdiario.com/howto/como-hacer-hoguera-noche-san-juan-2463514',\n",
       " 'https://okdiario.com/espana/vox-acusa-feijoo-usar-extremadura-seducir-psoe-oferta-lista-mas-votada-11125626',\n",
       " 'https://okdiario.com/espana/casa-playa-teresa-ribera-beneficia-propio-plan-proteccion-costa-11120893',\n",
       " 'https://okdiario.com/look/actualidad/reves-telecinco-carlota-corredera-salvame-1754017',\n",
       " 'https://okdiario.com/loteria/bonoloto-comprobar-resultado-hoy-20-junio-2023-11127028',\n",
       " 'https://okdiario.com/loteria/gordo-primitiva-comprobar-resultado-hoy-18-junio-2023-11096093',\n",
       " 'https://okdiario.com/recetas/pudin-casero-cerveza-11114458',\n",
       " 'https://okdiario.com/diariomadridista/baloncesto/barca-proclama-campeon-via-rapida-340848',\n",
       " 'https://okdiario.com/ciencia/carrera-espacial-empresas-privadas-11088327',\n",
       " 'https://okdiario.com/ok-vs-ko/ok-ko-del-miercoles-21-junio-2023-11128026',\n",
       " 'https://okdiario.com/educacion/como-dice-merienda-ingles-8540489',\n",
       " 'https://okdiario.com/loteria/euromillones-comprobar-resultado-hoy-20-junio-2023-11127033',\n",
       " 'https://okdiario.com/coolthelifestyle/cultura/loewe-recuerda-fotografias-malick-sidibe-photoespana-518933',\n",
       " 'https://okdiario.com/baleares/yolanda-diaz-entrega-sumar-independentistas-baleares-lista-que-cierra-juez-castro-11125828',\n",
       " 'https://okdiario.com/recetas/mejor-menu-cena-especial-noche-san-juan-9276630',\n",
       " 'https://okdiario.com/economia/trabajadores-hm-12-horas-negociacion-no-perderemos-derecho-huelga-futuribles-11121118',\n",
       " 'https://okdiario.com/coolthelifestyle/wellness/alimentos-evitar-hinchazon-gases-518708',\n",
       " 'https://okdiario.com/internacional/biden-sufre-otro-lapsus-durante-discurso-anuncia-planes-presidenciales-2020-11127813',\n",
       " 'https://okdiario.com/okclub/confidencial-estrategas-mas-madrid-deciden-esconder-monica-garcia-debates-10794628',\n",
       " 'https://okdiario.com/salud/que-sintoma-conversivo-11118941',\n",
       " 'https://okdiario.com/deportes/sevilla-hace-oficial-fichaje-victor-orta-como-sustituto-monchi-11126854',\n",
       " 'https://okdiario.com/diariomadridista/real-madrid/bernabeu-sufre-cambio-radical-339363',\n",
       " 'https://okdiario.com/espana/yolanda-diaz-vuelve-pisotear-idioma-alvarez-sufragara-debates-economicos-11123926',\n",
       " 'https://okdiario.com/economia/27-fracasan-intento-llegar-acuerdo-reformar-mercado-electrico-11121676',\n",
       " 'https://okdiario.com/diariomadridista/real-madrid/ceballos-renovado-real-madrid-cuatro-millones-340515',\n",
       " 'https://okdiario.com/opinion/si-feminismo-verdad-apoya-feijoo-que-sanchez-lo-haga-ver-11128086',\n",
       " 'https://okdiario.com/sociedad/jorge-rey-mas-contundente-que-nunca-va-todo-contra-expertos-anuncia-esto-11123363',\n",
       " 'https://okdiario.com/andalucia/actor-politico-antonio-torre-cierra-lista-sumar-malaga-11125823',\n",
       " 'https://okdiario.com/internacional/macron-bebe-cerveza-20-segundos-oposicion-critica-populismo-masculinista-11126943',\n",
       " 'https://okdiario.com/recetas/pato-salsa-ciruela-11120477',\n",
       " 'https://okdiario.com/recetas/flipante-asi-nueva-receta-gazpacho-karlos-arguinano-ingrediente-impensable-11118398',\n",
       " 'https://okdiario.com/comunidad-valenciana/puig-reune-vez-primera-mazon-elecciones-inminente-traspaso-poderes-11125387',\n",
       " 'https://okdiario.com/trailer/toy-story-5-volvera-reunir-woody-buzz-lightyear-11127263',\n",
       " 'https://okdiario.com/diariomadridista/real-madrid/joselu-llevar-escudo-del-real-madrid-pecho-honor-mas-grande-que-puede-tener-340520',\n",
       " 'https://okdiario.com/baleares/mallorca-convierte-epicentro-musica-clasica-festival-cap-rocat-11127266',\n",
       " 'https://okdiario.com/internacional/mas-10-mil-personas-abarrotan-plaza-bolivar-protesta-contra-gobierno-comunista-petro-11128098']"
      ]
     },
     "execution_count": 217,
     "metadata": {},
     "output_type": "execute_result"
    }
   ],
   "source": [
    "complete_urls"
   ]
  },
  {
   "cell_type": "code",
   "execution_count": 216,
   "id": "7287214c",
   "metadata": {},
   "outputs": [
    {
     "data": {
      "text/plain": [
       "[]"
      ]
     },
     "execution_count": 216,
     "metadata": {},
     "output_type": "execute_result"
    }
   ],
   "source": [
    "rejected_urls"
   ]
  },
  {
   "cell_type": "code",
   "execution_count": 152,
   "id": "00e5a46d",
   "metadata": {},
   "outputs": [
    {
     "name": "stdout",
     "output_type": "stream",
     "text": [
      "Response code: 200\n",
      "\n",
      "Number of p tags: 1\n",
      "[<p class=\"okd-cabecera-superior-centro-description\">\n",
      "El sitio de los inconformistas </p>]\n",
      "\n",
      "Number of p tags: 13\n",
      "[<p>El pasado fin de semana el <strong>Mundial de Fórmula 1 2023</strong> veía cómo se cancelaba, y con motivo de peso, el<strong><a href=\"https://okdiario.com/deportes/que-no-hay-carrera-f1-gp-imola-este-fin-semana-10952099\"> GP de Emilia-Romagna</a>.</strong> El ciclón Minerva dejó víctimas mortales en la región y muchos daños para familias que tuvieron que ser evacuadas, por lo que obviamente estuvo totalmente justificado ese aplazamiento del<strong> Gran Premio de Imola.</strong></p>, <p>Ahora la parrilla se ha trasladado a un enclave que siempre es muy esperado en cada <strong>Mundial de Fórmula 1</strong>. El<strong> GP de Mónaco</strong> recibe a los mejores pilotos del planeta que volverán a pelear en una carrera apasionante pese a que el dominio de<strong> Red Bull</strong> con <strong>Max Verstappen</strong> y <strong>Checo Pérez</strong> es total. Aún así, <a href=\"https://okdiario.com/deportes/bonitas-palabras-del-piloto-pruebas-aston-martin-sobre-fernando-alonso-10949736\"><strong>Fernando Alonso</strong> continúa soñando con la 33.</a></p>, <p>Y es que el piloto asturiano tenía mucha esperanza en que<a href=\"https://okdiario.com/deportes/aston-martin-desvela-secreto-mejor-guardado-sera-algo-enorme-10949768\"> su <strong>Aston Martin</strong> daría un salto de calidad</a> en el<strong> GP de Emilia-Romagna</strong>, pero ahora espera trasladar esos sentimientos al <strong>Circuito de Mónaco.</strong> Además, en este <strong>Gran Premio</strong> también aparece un <strong>Carlos Sainz</strong> que quiere conseguir el primer podio de la temporada y por ello tratará de ponerle las cosas difíciles a <strong>Fernando Alonso.</strong></p>, <p>Estos son los horarios de la <strong>Fórmula 1</strong> en el <strong>GP de Mónaco</strong> que se celebra en el <strong>Circuito de Mónaco.</strong></p>, <p><span class=\"title3\">Viernes 26 de mayo</span></p>, <p>Entrenamientos libres 1: 13:30 – 14:30 horas.</p>, <p>Entrenamientos libres 2: 17:00 – 18:00 horas.</p>, <p><span class=\"title3\">Sábado 27 de mayo</span></p>, <p>Entrenamientos libres 3: 12:30 – 13:30 horas.</p>, <p>Clasificación: 16:00 – 17:00 horas.</p>, <p><span class=\"title3\">Domingo 28 de mayo</span></p>, <p>La carrera de <strong>Fórmula 1 2023</strong> en el <strong>GP de Mónaco</strong> empezará a las 15:00 horas en <strong>España</strong> (las 14:00 horas en las <strong>Islas Canarias</strong>) y tendrá un total de 78 vueltas.</p>, <p>El <strong>GP de Mónaco</strong> del <strong>Mundial de Fórmula 1 2023</strong> se puede ver por televisión a través de <em>DAZN</em> y en el canal <em>DAZN F1</em> que tiene habilitado la plataforma en <em>Movistar+</em> para los clientes que están abonados al paquete de <em>Deportes</em>. También puede ver en vivo online y en streaming mediante la aplicación de <em>DAZN</em>. Además, se podrá seguir el<strong> Gran Premio de Mónaco</strong> en el <strong>Circuito de Mónaco</strong> con comentarios en directo y en vivo online con el minuto a minuto y vuelta a vuelta a través de la página web de <strong>OKDIARIO.</strong></p>]\n"
     ]
    }
   ],
   "source": [
    "url_news = \"https://okdiario.com/deportes/gp-monaco-f1-2023-que-hora-donde-ver-carrera-formula-1-directo-online-television-10957401\"\n",
    "\n",
    "response = requests.get(url_news, headers=headers)\n",
    "print(\"Response code:\", response.status_code)  # HTTP status code\n",
    "\n",
    "parsed_hmtl = BeautifulSoup(response.content, \"html.parser\")\n",
    "\n",
    "p_tags = parsed_hmtl.find_all(\"p\")\n",
    "common_parent_p_tags = None\n",
    "for p_tag in p_tags:\n",
    "    parent_p_tags = p_tag.parent.find_all(\"p\", recursive=False)\n",
    "    if common_parent_p_tags is None or len(parent_p_tags) > len(common_parent_p_tags):\n",
    "        common_parent_p_tags = parent_p_tags\n",
    "        print(\"\\nNumber of p tags:\", len(common_parent_p_tags))\n",
    "        print(common_parent_p_tags)\n",
    "\n",
    "news_splits = [x.get_text(\" \") for x in common_parent_p_tags]\n",
    "news_complete = \"\\n\".join(news_splits)\n",
    "print(\"\\n\".join(news_splits))\n"
   ]
  },
  {
   "cell_type": "markdown",
   "id": "3858e13c",
   "metadata": {},
   "source": [
    "ABC"
   ]
  },
  {
   "cell_type": "code",
   "execution_count": 178,
   "id": "bc00dba1",
   "metadata": {},
   "outputs": [
    {
     "name": "stdout",
     "output_type": "stream",
     "text": [
      "200\n",
      "https://www.abc.es/internacional/rusia-revivir-revolucion-1917-hijos-elites-escaquean-20230524143040-nt.html\n",
      "https://www.abc.es/espana/dinero-deberias-cobrar-mesa-electoral-elecciones-nuevo-20230524120833-nt.html\n",
      "https://www.abc.es/gente/central-park-altar-romantica-historia-amor-garbine-20230524172817-nt.html\n",
      "https://www.abc.es/play/television/noticias/mediaset-anuncia-baja-jorge-javier-vazquez-motivo-ausencia-presentador-20230523214959-nt.html\n",
      "https://www.abc.es/antropia/barcos-marroquies-pescan-forma-ilegal-aguas-espanolas-20230524002521-nt.html\n",
      "https://www.abc.es/tecnologia/informatica/soluciones/bill-gates-vaticina-inteligencia-artificial-arrasara-dos-20230523010902-nt.html\n",
      "https://www.abc.es/espana/elecciones-municipales-autonomicas-directo-entrevista-ayuso-encuestas-ultimas-noticias-20230522083951-di.html\n",
      "https://www.abc.es/economia/muface-protesta-ante-page-exclusion-mutualistas-rebaja-20230524134530-nt.html\n",
      "https://www.abc.es/play/television/noticias/ana-rosa-quintana-regresa-anuncio-sobre-cancer-20230524092128-nt.html\n",
      "https://www.abc.es/internacional/guerra-rusia-ucrania-directo-ultimas-noticias-sobre-conflicto-ataques-putin-20230524180714-di.html\n",
      "https://www.abc.es/recreo/mario-picazo-alerta-peligrosas-consecuencias-dana-espana-20230524212650-nt.html\n",
      "https://www.abc.es/economia/page-exige-miles-funcionarios-pasarse-sanidad-publica-20230524182510-nt.html\n",
      "https://www.abc.es/economia/banca-deniega-tres-hipotecas-rechazaron-profesion-pese-20230522171110-nt.html\n",
      "https://www.abc.es/espana/calendario-campana-elecciones-2023-empieza-dura-ilegal-mitin-20230524215631-nt.html\n",
      "https://www.abc.es/espana/castilla-leon/detenido-hombre-casado-hizo-pareja-conveniencia-anos-20230522125404-nt.html\n",
      "https://www.abc.es/espana/comunidad-valenciana/conductor-enfrenta-multa-millones-euros-transportar-cerdo-20230524095542-nt.html\n",
      "https://www.abc.es/gente/michu-habla-nunca-papel-jose-fernando-padre-20230524133515-nt.html\n",
      "https://www.abc.es/gente/exclusiva-imagenes-demuestra-alfred-maria-hervas-mantienen-20230524140355-nt.html\n",
      "https://www.abc.es/historia/era-gigantesca-red-prostibulos-publicos-levantaron-reyes-20230523130005-nt.html\n",
      "https://www.abc.es/espana/castilla-la-mancha/toledo/talavera/lucha-profesor-hacienda-devuelva-5706-euros-embargados-20230523220303-nt.html\n",
      "https://www.abc.es/internacional/alquiler-centimos-ano-ganar-loteria-20230521204913-nt.html\n",
      "https://www.abc.es/sociedad/santo-hoy-miercoles-24-05-2023-santoral-nsv-20230524070102-nt.html\n",
      "https://www.abc.es/recreo/horoscopo-miercoles-24-mayo-2023-nsv-20230524230031-nt.html\n",
      "https://www.abc./cultura/musica/muere-tina-turner-reina-rock-roll-anos-20230524204644-nt.html\n",
      "https://www.abc./espana/mano-derecha-sanchez-avalo-persona-psoe-mojacar-20230524172728-nt.html\n",
      "https://www.abc./espana/cesan-consejero-coalicion-melilla-imputado-compra-votos-20230524151555-nt.html\n",
      "https://www.abc./espana/respaldo-bolanos-psoe-mojacar-haciendo-olfato-vas-20230524185854-nt.html\n",
      "https://www.abc./espana/psoe-borra-rastro-bolanos-candidato-imputado-compra-20230524164823-nt.html\n",
      "https://www.abc./cultura/musica/muere-tina-turner-reina-rock-roll-anos-20230524204644-nt.html\n",
      "https://www.abc./cultura/musica/muere-tina-turner-reina-rock-roll-anos-20230524204644-nt.html\n",
      "https://www.abc./deportes/real-madrid/vinicius-palco-junto-florentino-camisetas-apoyo-foto-20230524194205-nt.html\n",
      "https://www.abc./deportes/real-madrid/vinicius-palco-junto-florentino-camisetas-apoyo-foto-20230524194205-nt.html\n",
      "https://www.abc./deportes/real-madrid/real-madrid-rayo-directo-hoy-partido-liga-20230525202226-di.html\n",
      "https://www.abc./deportes/real-madrid/bernabeu-muestra-apoyo-incondicional-vinicius-20230524200757-ga.html\n",
      "https://www.abc./economia/hacienda-impide-diaz-reforzar-inspeccion-trabajo-evitar-20230524195448-nt.html\n",
      "https://www.abc./sociedad/ley-paridad-absurda-casos-20230524195543-nt.html\n",
      "https://www.abc./espana/cataluna/humoristas-tv3-burlaron-virgen-rocio-citados-investigados-20230524175845-nt.html\n",
      "https://www.abc./espana/cataluna/humoristas-tv3-burlaron-virgen-rocio-citados-investigados-20230524175845-nt.html\n",
      "https://www.abc./economia/presidenta-mayor-asociacion-asesores-fiscales-carga-impuestos-20230524185215-nt.html\n",
      "https://www.abc./internacional/guerra-rusia-ucrania-directo-ultimas-noticias-sobre-conflicto-ataques-putin-20230524180714-di.html\n",
      "https://www.abc./internacional/guerra-rusia-ucrania-directo-ultimas-noticias-sobre-conflicto-ataques-putin-20230524180714-di.html\n",
      "https://www.abc./espana/diaspora-vasca-eta-nacionalismo-expulsaron-180000-ciudadanos-20230524130548-nt.html\n",
      "https://www.abc./espana/diaspora-vasca-eta-nacionalismo-expulsaron-180000-ciudadanos-20230524130548-nt.html\n",
      "https://www.abc./opinion/podcast-diego-garrocho-marta-san-miguel-charlan-20230524173723-nt.html\n",
      "https://www.abc./opinion/podcast-diego-garrocho-marta-san-miguel-charlan-20230524173723-nt.html\n",
      "https://www.abc.es/salud/enfermedades/implante-permite-caminar-paraplejico-reparar-conexiones-nerviosas-20230524181348-nt.html\n",
      "https://www.abc.es/salud/enfermedades/implante-permite-caminar-paraplejico-reparar-conexiones-nerviosas-20230524181348-nt.html\n",
      "https://www.abc.es/espana/campana-elecciones-28m-directo-ultima-hora-candidatos-20230511193519-di.html\n",
      "https://www.abc.es/espana/elecciones-correo-newsletter-ponerte-dia-campana-electoral-20230509022101-nt.html\n",
      "https://www.abc./espana/rosa-belmonte-hermano-ayuso-hermano-ayuso-20230524170108-nt.html\n",
      "https://www.abc./espana/rosa-belmonte-hermano-ayuso-hermano-ayuso-20230524170108-nt.html\n",
      "https://www.abc./espana/madrid/the-times-apunta-ayuso-lista-contienda-sanchez-20230524135925-nt.html\n",
      "https://www.abc./espana/madrid/the-times-apunta-ayuso-lista-contienda-sanchez-20230524135925-nt.html\n",
      "https://www.abc./espana/madrid/canada-real-barrio-vota-politicos-importamos-20230524185852-nt.html\n",
      "https://www.abc./espana/madrid/canada-real-barrio-vota-politicos-importamos-20230524185852-nt.html\n",
      "https://www.abc./espana/podcast-cantabria-rioja-pp-iniciar-remontada-moncloa-20230524171351-nt.html\n",
      "https://www.abc./espana/podcast-cantabria-rioja-pp-iniciar-remontada-moncloa-20230524171351-nt.html\n",
      "https://www.abc./antropia/barcos-marroquies-pescan-forma-ilegal-aguas-espanolas-20230524002521-nt.html\n",
      "https://www.abc./antropia/barcos-marroquies-pescan-forma-ilegal-aguas-espanolas-20230524002521-nt.html\n",
      "https://www.abc./espana/madrid/actuacion-cadena-salvo-vida-anciano-atraganto-hamburguesa-20230524131129-nt.html\n",
      "https://www.abc./sociedad/biodegradable-popular-bioplastico-desintegra-oceano-20230524134846-nt.html\n",
      "https://www.abc./sociedad/expulsion-ceniza-segundo-volcan-grande-mexico-imagenes-20230524112556-ga.html\n",
      "https://www.abc./sociedad/expulsion-ceniza-volcan-peligroso-mundo-mantiene-mexico-20230524093710-nt.html\n",
      "https://www.abc./sociedad/tres-semanas-lluvias-tiempo-inestable-instala-peninsula-20230524180329-nt.html\n",
      "https://www.abc./opinion/jose-maria-carrascal-futbol-paradigma-20230524201101-nt.html\n",
      "https://www.abc./play/television/noticias/jesus-lillo-charles-lamour-cronista-san-isidro-20230524154225-nt.html\n",
      "https://www.abc./opinion/rosa-belmonte-tiempoz-zopencos-20230524162620-nt.html\n",
      "https://www.abc./opinion/ignacio-camacho-ley-vinicius-20230524190625-nt.html\n",
      "https://www.abc./opinion/teodoro-leon-gross-marca-espana-manchada-20230524194831-nt.html\n",
      "https://www.abc./opinion/alberto-garcia-reyes-lona-racismo-20230524204522-nt.html\n",
      "https://www.abc./familia/educacion/atreves-hablar-ante-demas-verguenza-vas-sentirte-20230524003417-nt.html\n",
      "https://www.abc./familia/educacion/atreves-hablar-ante-demas-verguenza-vas-sentirte-20230524003417-nt.html\n",
      "https://www.abc./familia/educacion/mes-desenchufado-movil-gran-ventaja-mandar-hijo-20230524134652-nt.html\n",
      "https://www.abc./familia/educacion/mes-desenchufado-movil-gran-ventaja-mandar-hijo-20230524134652-nt.html\n",
      "https://www.abc./familia/padres-hijos/deberiamos-dar-paga-nino-20230522131806-nt.html\n",
      "https://www.abc./familia/padres-hijos/deberiamos-dar-paga-nino-20230522131806-nt.html\n",
      "https://www.abc./familia/padres-hijos/unica-formula-funciona-alcanzar-metas-primer-ano-20230524140551-nt.html\n",
      "https://www.abc./familia/padres-hijos/unica-formula-funciona-alcanzar-metas-primer-ano-20230524140551-nt.html\n",
      "https://www.abc./cultura/andres-ibanez-princesa-asturias-letras-murakami-20230524164903-nt.html\n",
      "https://www.abc./cultura/andres-ibanez-princesa-asturias-letras-murakami-20230524164903-nt.html\n",
      "https://www.abc./cultura/francia-aprobara-ley-devolver-legitimos-propietarios-miles-20230524152604-nt.html\n",
      "https://www.abc./sociedad/benedicto-xvi-religion-20230523180604-nt.html\n",
      "https://www.abc./recreo/rosalia-estalla-manipulacion-fotos-parece-estar-desnuda-20230524091109-nt.html\n",
      "https://www.abc./recreo/rosalia-estalla-manipulacion-fotos-parece-estar-desnuda-20230524091109-nt.html\n",
      "https://www.abc./cultura/musica/handel-jimi-hendrix-vecinos-residentes-londres-20230524171139-nt.html\n",
      "https://www.abc./internacional/escaramuza-israel-siria-disparos-dron-vigilancia-20230524162336-nt.html\n",
      "https://www.abc./sociedad/medicos-temen-nueva-ley-aborto-discrimine-objetores-20230524195556-nt.html\n",
      "https://www.abc./internacional/matan-tiros-periodista-politico-mexicano-marco-aurelio-20230524154246-nt.html\n",
      "https://www.abc./espana/constitucional-ampara-decision-ejecutivo-prohibir-manifestacion-primer-20230524190044-nt.html\n",
      "https://www.abc./espana/castilla-leon/muere-menor-precipito-decimo-piso-burgos-20230524093539-nt.html\n",
      "https://www.abc./economia/brufau-reelegido-presidente-repsol-tras-superar-sobresaliente-20230524135359-nt.html\n",
      "https://www.abc./internacional/nueva-york-saturada-llegada-70000-inmigrantes-20230523014744-nt.html\n",
      "https://www.abc./internacional/nueva-york-saturada-llegada-70000-inmigrantes-20230523014744-nt.html\n",
      "https://www.abc./economia/inmobiliario/espana-pais-multipropietarios-vivienda-20230519123418-nt.html\n",
      "https://www.abc./economia/inmobiliario/espana-pais-multipropietarios-vivienda-20230519123418-nt.html\n",
      "https://www.abc./sociedad/cnmv-alerta-nueva-ley-paridad-provocara-fuga-20230522115608-nt.html\n",
      "https://www.abc./sociedad/cnmv-alerta-nueva-ley-paridad-provocara-fuga-20230522115608-nt.html\n",
      "https://www.abc./espana/desinformacion-rusa-sobre-cataluna-empezo-anexion-crimea-20230521194720-nt.html\n",
      "https://www.abc./espana/desinformacion-rusa-sobre-cataluna-empezo-anexion-crimea-20230521194720-nt.html\n",
      "https://www.abc./deportes/futbol/jordi-alba-deja-barca-20230524120806-nt.html\n",
      "https://www.abc./deportes/futbol/jordi-alba-deja-barca-20230524120806-nt.html\n",
      "https://www.abc./deportes/futbol/dificultades-barca-psg-aumenta-oferta-renovacion-messi-20230524114733-nt.html\n",
      "https://www.abc./deportes/futbol/afecta-valencia-cierre-parte-mestalla-20230524134505-nt.html\n",
      "https://www.abc./deportes/futbol/afecta-valencia-cierre-parte-mestalla-20230524134505-nt.html\n",
      "https://www.abc./deportes/futbol/decision-competicion-pasado-soslayo-alineacion-indebida-madrid-20230524183134-nt.html\n",
      "https://www.abc./deportes/futbol/decision-competicion-pasado-soslayo-alineacion-indebida-madrid-20230524183134-nt.html\n",
      "https://www.abc./deportes/futbol/valladolid-arrasa-barcelona-20230523000407-nt.html\n",
      "https://www.abc./deportes/futbol/valladolid-arrasa-barcelona-20230523000407-nt.html\n",
      "https://www.abc./deportes/futbol/mbappe-ejercera-clausula-renovacion-psg-20230524095216-nt.html\n",
      "https://www.abc./deportes/futbol/mbappe-ejercera-clausula-renovacion-psg-20230524095216-nt.html\n",
      "https://www.abc./deportes/formula-1/oficial-honda-regresara-mano-aston-martin-20230524102821-nt.html\n",
      "https://www.abc./deportes/formula-1/oficial-honda-regresara-mano-aston-martin-20230524102821-nt.html\n",
      "https://www.abc./deportes/futbol/normand-espanol-puede-convocado-fuente-20230524121331-nt.html\n",
      "https://www.abc./deportes/futbol/normand-espanol-puede-convocado-fuente-20230524121331-nt.html\n",
      "https://www.abc./deportes/ciclismo/dainese-triunfa-final-foto-finish-20230524180852-nt.html\n",
      "https://www.abc./deportes/ciclismo/dainese-triunfa-final-foto-finish-20230524180852-nt.html\n",
      "https://www.abc./deportes/muere-rick-hoyt-corredor-paralisis-cerebral-padre-20230524171939-nt.html\n",
      "https://www.abc./deportes/muere-rick-hoyt-corredor-paralisis-cerebral-padre-20230524171939-nt.html\n",
      "https://www.abc./deportes/real-madrid/vinicius-piensa-parar-carcel-estadios-cerrados-perdida-20230523005238-nt.html\n",
      "https://www.abc./deportes/real-madrid/vinicius-piensa-parar-carcel-estadios-cerrados-perdida-20230523005238-nt.html\n",
      "https://www.abc./deportes/futbol/denuncias-solo-imputado-fracaso-futbol-espanol-racismo-20230523193901-nt.html\n",
      "https://www.abc./deportes/futbol/denuncias-solo-imputado-fracaso-futbol-espanol-racismo-20230523193901-nt.html\n",
      "https://www.abc./cultura/censura-politicamente-correcto-crucifica-vida-brian-medio-20230523201251-nt.html\n",
      "https://www.abc./cultura/censura-politicamente-correcto-crucifica-vida-brian-medio-20230523201251-nt.html\n",
      "https://www.abc./historia/mentiras-secretos-sexo-edad-media-espana-axilas-20230524005819-nt.html\n",
      "https://www.abc./historia/mentiras-secretos-sexo-edad-media-espana-axilas-20230524005819-nt.html\n",
      "https://www.abc./historia/era-gigantesca-red-prostibulos-publicos-levantaron-reyes-20230523130005-nt.html\n",
      "https://www.abc./cultura/lucha-grecia-repatriacion-bienes-continua-logra-devolucion-20230524102909-nt.html\n",
      "https://www.abc./espana/dinero-deberias-cobrar-mesa-electoral-elecciones-nuevo-20230524120833-nt.html\n",
      "https://www.abc./cultura/musica/nacho-cano-regala-papa-cancion-malinche-encuentro-20230524194638-nt.html\n",
      "https://www.abc./cultura/musica/nacho-cano-regala-papa-cancion-malinche-encuentro-20230524194638-nt.html\n",
      "https://www.abc./cultura/musica/concierto-sabina-imagenes-20230524025832-ga.html\n",
      "https://www.abc./cultura/ultimo-brindis-luna-joaquin-sabina-20230524005025-nt.html\n",
      "https://www.abc./recreo/nacho-vidal-sobre-vida-tras-muerte-termine-20230524172559-nt.html\n",
      "https://www.abc./recreo/nacho-vidal-sobre-vida-tras-muerte-termine-20230524172559-nt.html\n",
      "https://www.abc./play/television/noticias/mediaset-anuncia-baja-jorge-javier-vazquez-motivo-ausencia-presentador-20230523214959-nt.html\n",
      "https://www.abc./play/television/noticias/mediaset-anuncia-baja-jorge-javier-vazquez-motivo-ausencia-presentador-20230523214959-nt.html\n",
      "https://www.abc.es/sociedad/calendario-laboral-2023-donde-festivo-2-enero-espana-nsv-20221213162752-nt.html\n",
      "138\n"
     ]
    }
   ],
   "source": [
    "url = \"https://abc.es/\"\n",
    "headers = {\n",
    "    \"User-Agent\": \"Mozilla/5.0 (Windows NT 10.0; Win64; x64) AppleWebKit/537.36 (KHTML, like Gecko) Chrome/113.0.0.0 Safari/537.36\"\n",
    "}\n",
    "main_root = \"https://www.abc.\"\n",
    "# With headers\n",
    "response = requests.get(url, headers=headers)\n",
    "print(response.status_code)  # HTTP status code\n",
    "\n",
    "parsed_hmtl = BeautifulSoup(response.content, \"html.parser\")\n",
    "\n",
    "a_tags = parsed_hmtl.find_all(\"a\", href=re.compile(\"-[a-z]{1,2}.html$\"))\n",
    "valid_urls = []\n",
    "not_valid_urls = []\n",
    "for a in a_tags:\n",
    "    try:\n",
    "        href = a[\"href\"]\n",
    "        if main_root not in href:\n",
    "            href = main_root + href\n",
    "        valid_urls.append(href)\n",
    "        print(href)\n",
    "    except:\n",
    "        continue\n",
    "print(len(valid_urls))"
   ]
  },
  {
   "cell_type": "markdown",
   "id": "6cf3ca79",
   "metadata": {},
   "source": [
    "Tag container of the bulk of the news can have several *p* tag children"
   ]
  },
  {
   "cell_type": "markdown",
   "id": "430dcafe",
   "metadata": {},
   "source": [
    "Extract *p* tags, get parent from each one and calculate the number of *p* tags in each parent"
   ]
  },
  {
   "cell_type": "code",
   "execution_count": null,
   "id": "c337653f",
   "metadata": {},
   "outputs": [],
   "source": []
  },
  {
   "cell_type": "code",
   "execution_count": null,
   "id": "8338c2cd",
   "metadata": {},
   "outputs": [],
   "source": []
  }
 ],
 "metadata": {
  "kernelspec": {
   "display_name": "Python 3 (ipykernel)",
   "language": "python",
   "name": "python3"
  },
  "language_info": {
   "codemirror_mode": {
    "name": "ipython",
    "version": 3
   },
   "file_extension": ".py",
   "mimetype": "text/x-python",
   "name": "python",
   "nbconvert_exporter": "python",
   "pygments_lexer": "ipython3",
   "version": "3.9.13"
  }
 },
 "nbformat": 4,
 "nbformat_minor": 5
}
