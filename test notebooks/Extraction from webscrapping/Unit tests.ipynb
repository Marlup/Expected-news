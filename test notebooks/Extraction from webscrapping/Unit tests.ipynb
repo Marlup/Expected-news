{
 "cells": [
  {
   "cell_type": "code",
   "execution_count": 1,
   "id": "c8818793",
   "metadata": {},
   "outputs": [],
   "source": [
    "import numpy as np\n",
    "from scipy.spatial.distance import jaccard, cosine\n",
    "from bs4 import BeautifulSoup\n",
    "import re\n",
    "import requests\n",
    "import openai\n",
    "import os"
   ]
  },
  {
   "cell_type": "code",
   "execution_count": 2,
   "id": "544ceb0b",
   "metadata": {},
   "outputs": [
    {
     "data": {
      "text/plain": [
       "(102, 102)"
      ]
     },
     "execution_count": 2,
     "metadata": {},
     "output_type": "execute_result"
    }
   ],
   "source": [
    "url1 = \"https://www.elmundo.es/opinion/columnistas/2023/07/04/64a45a85e9cf4a65458b457f.html#ancladecomentarios\"\n",
    "url2 = \"https://www.elmundo.es/opinion/columnistas/2023/07/04/64a45a85e9cf4a65458b457f.html\"\n",
    "\n",
    "# pad strings if needed\n",
    "n1 = len(url1)\n",
    "n2 = len(url2)\n",
    "if n1 > n2:\n",
    "    url2 = url2 + \" \" * abs(n1 - n2)\n",
    "elif n1 < n2:\n",
    "    url1 = url1 + \" \" * abs(n1 - n2)\n",
    "\n",
    "len(url1), \\\n",
    "len(url2)"
   ]
  },
  {
   "cell_type": "markdown",
   "id": "12fb267b",
   "metadata": {},
   "source": [
    "Parse string to array"
   ]
  },
  {
   "cell_type": "code",
   "execution_count": 18,
   "id": "cca4506c",
   "metadata": {},
   "outputs": [
    {
     "data": {
      "text/plain": [
       "array([1, 1, 1, 1, 1, 1, 1, 1, 1, 1, 1, 1, 1, 1, 1, 1, 1, 1, 1, 1, 1, 1,\n",
       "       1, 1, 1, 1, 1, 1, 1, 1, 1, 1, 1, 1, 1, 1, 1, 1, 1, 1, 1, 1, 1, 1,\n",
       "       1, 1, 1, 1, 1, 1, 1, 1, 1, 1, 1, 1, 1, 1, 1, 1, 1, 1, 1, 1, 1, 1,\n",
       "       1, 1, 1, 1, 1, 1, 1, 1, 1, 1, 1, 1, 1, 1, 1, 1, 1, 0, 0, 0, 0, 0,\n",
       "       0, 0, 0, 0, 0, 0, 0, 0, 0, 0, 0, 0, 0, 0])"
      ]
     },
     "execution_count": 18,
     "metadata": {},
     "output_type": "execute_result"
    }
   ],
   "source": [
    "url1_arr = np.array(list(url1))\n",
    "url2_arr = np.array(list(url2))\n",
    "pairwise_equal = (url1_arr == url2_arr).astype(int)\n",
    "pairwise_equal"
   ]
  },
  {
   "cell_type": "markdown",
   "id": "c78389e6",
   "metadata": {},
   "source": [
    "Try to shuffle second array to see how dissimilarity value rises to almost one"
   ]
  },
  {
   "cell_type": "code",
   "execution_count": 21,
   "id": "2e82498b",
   "metadata": {},
   "outputs": [
    {
     "name": "stdout",
     "output_type": "stream",
     "text": [
      "[0 0 0 0 0 0 0 0 0 0 0 0 0 0 0 0 0 0 0 0 0 0 0 0 0 0 0 0 0 0 0 0 0 0 0 0 0\n",
      " 0 1 0 0 0 1 0 0 0 0 0 0 0 0 0 0 0 0 0 0 0 0 1 0 0 0 0 0 0 1 0 0 0 0 0 0 0\n",
      " 0 0 0 0 0 0 0 0 0 0 0 0 0 0 0 0 0 0 0 0 0 0 0 0 0 0 0 1]\n"
     ]
    },
    {
     "data": {
      "text/plain": [
       "0.9509803921568627"
      ]
     },
     "execution_count": 21,
     "metadata": {},
     "output_type": "execute_result"
    }
   ],
   "source": [
    "url1_arr = np.array(list(url1))\n",
    "url2_arr = np.array(list(url2))\n",
    "np.random.shuffle(url2_arr)\n",
    "pairwise_equal = (url1_arr == url2_arr).astype(int)\n",
    "print(pairwise_equal)\n",
    "\n",
    "dissimilarity = jaccard(np.ones_like(pairwise_equal), pairwise_equal)\n",
    "# The greater, the more dissimilar\n",
    "dissimilarity"
   ]
  },
  {
   "cell_type": "markdown",
   "id": "0815e0fd",
   "metadata": {},
   "source": [
    "## HTML Character entities"
   ]
  },
  {
   "cell_type": "code",
   "execution_count": 23,
   "id": "4dac7685",
   "metadata": {},
   "outputs": [
    {
     "name": "stdout",
     "output_type": "stream",
     "text": [
      "'\n"
     ]
    }
   ],
   "source": [
    "import html\n",
    "\n",
    "entity = \"&apos;\"\n",
    "decoded = html.unescape(entity)\n",
    "print(decoded)"
   ]
  },
  {
   "cell_type": "code",
   "execution_count": 25,
   "id": "9e968d8f",
   "metadata": {},
   "outputs": [
    {
     "name": "stdout",
     "output_type": "stream",
     "text": [
      "El turista Ivan Dimitrov , de 27 años, que vive en Bristol (Reino Unido) con su novia, Hayley Bracey, y que escribió el nombre de ambos en una de las paredes del Coliseo de Roma trató de disculparse en una carta enviada a la Fiscalía de Roma, al alcalde, Roberto Gualtieri, y al ayuntamiento de la capital italiana en la que asegura que desconocía la antigüedad del monumento. &quot;Reconozco con total vergüenza que sólo después de lo sucedido me enteré de la antigüedad del monumento&quot;, escribió el joven de origen búlgaro en la carta que hoy publica el diario romano &quot;Il Messaggero&quot;. Los dos estaban visitando la capital italiana durante un viaje de tres semanas por Europa y durante una visita al Coliseo, el hombre escribió la frase &quot;Ivan+Hayley 23&quot; en una pared, como se puede ver en un vídeo colgado por otro turista en una plataforma y que se hizo viral. El ministro de Cultura italiano, Gennaro Sangiuliano, prometió entonces que se perseguiría este acto de vandalismo y después de que los Carabineros rastrearan las imágenes de las cámaras de seguridad y los registros de los hoteles y se consiguió identificar al turista mientras estaban en Bulgaria. Sangiuliano aseguró que en caso de denuncia, el ministerio de Cultura se presentará como parte civil. Se desconoce si se ha abierto algún procedimiento judicial al joven. Según el diario, el joven inmediatamente se disculpó por su gesto y dijo a los Carabineros que estaba muy arrepentido y también preocupado por las consecuencias de su acto, pues se le explicó que se arriesga a una pena de prisión de dos a cinco años y una multa de entre 2.500 y 15.000 euros. &quot;Consciente de la gravedad del acto cometido, con estas líneas quisiera dirigir mis más sinceras y sinceras disculpas a los italianos y al mundo entero por los daños causados a un bien que, de hecho, es patrimonio de toda la humanidad&quot;, escribió en la carta. Sobre todo se disculpa con el ayuntamiento de Roma que &quot;con dedicación, cuidado y sacrificio custodian el inestimable valor histórico y artístico del Coliseo&quot; y luego intenta justificarse añadiendo que &quot;sólo más tarde se enteró de la antigüedad del monumento&quot;. Esta no es la primera vez que los visitantes del enorme anfiteatro deciden vandalizar sus muros. El pasado verano una turista canadiense fue sorprendida por los agentes de seguridad del Coliseo mientras escribía su nombre con una piedra en los mismos muros. En esa ocasión, los vigilantes pudieron alertar rápidamente a la policía, que acudió al lugar y denunció a la visitante. \n",
      "\n",
      "El turista Ivan Dimitrov , de 27 años, que vive en Bristol (Reino Unido) con su novia, Hayley Bracey, y que escribió el nombre de ambos en una de las paredes del Coliseo de Roma trató de disculparse en una carta enviada a la Fiscalía de Roma, al alcalde, Roberto Gualtieri, y al ayuntamiento de la capital italiana en la que asegura que desconocía la antigüedad del monumento. \"Reconozco con total vergüenza que sólo después de lo sucedido me enteré de la antigüedad del monumento\", escribió el joven de origen búlgaro en la carta que hoy publica el diario romano \"Il Messaggero\". Los dos estaban visitando la capital italiana durante un viaje de tres semanas por Europa y durante una visita al Coliseo, el hombre escribió la frase \"Ivan+Hayley 23\" en una pared, como se puede ver en un vídeo colgado por otro turista en una plataforma y que se hizo viral. El ministro de Cultura italiano, Gennaro Sangiuliano, prometió entonces que se perseguiría este acto de vandalismo y después de que los Carabineros rastrearan las imágenes de las cámaras de seguridad y los registros de los hoteles y se consiguió identificar al turista mientras estaban en Bulgaria. Sangiuliano aseguró que en caso de denuncia, el ministerio de Cultura se presentará como parte civil. Se desconoce si se ha abierto algún procedimiento judicial al joven. Según el diario, el joven inmediatamente se disculpó por su gesto y dijo a los Carabineros que estaba muy arrepentido y también preocupado por las consecuencias de su acto, pues se le explicó que se arriesga a una pena de prisión de dos a cinco años y una multa de entre 2.500 y 15.000 euros. \"Consciente de la gravedad del acto cometido, con estas líneas quisiera dirigir mis más sinceras y sinceras disculpas a los italianos y al mundo entero por los daños causados a un bien que, de hecho, es patrimonio de toda la humanidad\", escribió en la carta. Sobre todo se disculpa con el ayuntamiento de Roma que \"con dedicación, cuidado y sacrificio custodian el inestimable valor histórico y artístico del Coliseo\" y luego intenta justificarse añadiendo que \"sólo más tarde se enteró de la antigüedad del monumento\". Esta no es la primera vez que los visitantes del enorme anfiteatro deciden vandalizar sus muros. El pasado verano una turista canadiense fue sorprendida por los agentes de seguridad del Coliseo mientras escribía su nombre con una piedra en los mismos muros. En esa ocasión, los vigilantes pudieron alertar rápidamente a la policía, que acudió al lugar y denunció a la visitante.\n"
     ]
    }
   ],
   "source": [
    "text = \"El turista Ivan Dimitrov , de 27 años, que vive en Bristol (Reino Unido) con su novia, Hayley Bracey, y que escribió el nombre de ambos en una de las paredes del Coliseo de Roma trató de disculparse en una carta enviada a la Fiscalía de Roma, al alcalde, Roberto Gualtieri, y al ayuntamiento de la capital italiana en la que asegura que desconocía la antigüedad del monumento. &quot;Reconozco con total vergüenza que sólo después de lo sucedido me enteré de la antigüedad del monumento&quot;, escribió el joven de origen búlgaro en la carta que hoy publica el diario romano &quot;Il Messaggero&quot;. Los dos estaban visitando la capital italiana durante un viaje de tres semanas por Europa y durante una visita al Coliseo, el hombre escribió la frase &quot;Ivan+Hayley 23&quot; en una pared, como se puede ver en un vídeo colgado por otro turista en una plataforma y que se hizo viral. El ministro de Cultura italiano, Gennaro Sangiuliano, prometió entonces que se perseguiría este acto de vandalismo y después de que los Carabineros rastrearan las imágenes de las cámaras de seguridad y los registros de los hoteles y se consiguió identificar al turista mientras estaban en Bulgaria. Sangiuliano aseguró que en caso de denuncia, el ministerio de Cultura se presentará como parte civil. Se desconoce si se ha abierto algún procedimiento judicial al joven. Según el diario, el joven inmediatamente se disculpó por su gesto y dijo a los Carabineros que estaba muy arrepentido y también preocupado por las consecuencias de su acto, pues se le explicó que se arriesga a una pena de prisión de dos a cinco años y una multa de entre 2.500 y 15.000 euros. &quot;Consciente de la gravedad del acto cometido, con estas líneas quisiera dirigir mis más sinceras y sinceras disculpas a los italianos y al mundo entero por los daños causados a un bien que, de hecho, es patrimonio de toda la humanidad&quot;, escribió en la carta. Sobre todo se disculpa con el ayuntamiento de Roma que &quot;con dedicación, cuidado y sacrificio custodian el inestimable valor histórico y artístico del Coliseo&quot; y luego intenta justificarse añadiendo que &quot;sólo más tarde se enteró de la antigüedad del monumento&quot;. Esta no es la primera vez que los visitantes del enorme anfiteatro deciden vandalizar sus muros. El pasado verano una turista canadiense fue sorprendida por los agentes de seguridad del Coliseo mientras escribía su nombre con una piedra en los mismos muros. En esa ocasión, los vigilantes pudieron alertar rápidamente a la policía, que acudió al lugar y denunció a la visitante.\"\n",
    "print(text, \"\\n\")\n",
    "decoded = html.unescape(text)\n",
    "print(decoded)"
   ]
  },
  {
   "cell_type": "code",
   "execution_count": null,
   "id": "81d44a2b",
   "metadata": {},
   "outputs": [],
   "source": []
  },
  {
   "cell_type": "code",
   "execution_count": 8,
   "id": "7b94a704",
   "metadata": {},
   "outputs": [
    {
     "data": {
      "text/plain": [
       "'https://elpais.com/sociedad/2023-07-03/el-gobierno-aprobara-manana-el-fin-de-las-mascarillas-obligatorias-en-centros-sanitarios-farmacias-y-residencias.html'"
      ]
     },
     "execution_count": 8,
     "metadata": {},
     "output_type": "execute_result"
    }
   ],
   "source": [
    "\n",
    "hiperlink = \"https://elpais.com/sociedad/2023-07-03/el-gobierno-aprobara-manana-el-fin-de-las-mascarillas-obligatorias-en-centros-sanitarios-farmacias-y-residencias.html#?rel=lom\"\n",
    "search_spec_char = re.search(\"[?=&+%@#]{1}\", hiperlink)\n",
    "s, e = search_spec_char.span()\n",
    "hiperlink[:s]"
   ]
  },
  {
   "cell_type": "code",
   "execution_count": 25,
   "id": "80cbf32e",
   "metadata": {},
   "outputs": [],
   "source": [
    "def has_http_attribute_value(tag):\n",
    "    for attr in tag.attrs:\n",
    "        attr_value = tag.attrs[attr]\n",
    "        if isinstance(attr_value, str) and ('http://' in attr_value or 'https://' in attr_value or re.search(r\"(?:\\/).+(?:\\/).+(?:\\/?)\", attr_value)) :\n",
    "            return True\n",
    "    return False"
   ]
  },
  {
   "cell_type": "code",
   "execution_count": 38,
   "id": "4e5288cf",
   "metadata": {},
   "outputs": [
    {
     "ename": "SyntaxError",
     "evalue": "EOL while scanning string literal (2103130488.py, line 1)",
     "output_type": "error",
     "traceback": [
      "\u001b[1;36m  File \u001b[1;32m\"C:\\Users\\marsu\\AppData\\Local\\Temp\\ipykernel_5864\\2103130488.py\"\u001b[1;36m, line \u001b[1;32m1\u001b[0m\n\u001b[1;33m    url = \"https://www.elconfidencial.com/tecnologia/2023-07-04/cifrado-reglamento-europeo-abuso-menores-whatsapp-mensajeria_3684963/\\\"\u001b[0m\n\u001b[1;37m                                                                                                                                       ^\u001b[0m\n\u001b[1;31mSyntaxError\u001b[0m\u001b[1;31m:\u001b[0m EOL while scanning string literal\n"
     ]
    }
   ],
   "source": [
    "url = \"https://www.elconfidencial.com/tecnologia/2023-07-04/cifrado-reglamento-europeo-abuso-menores-whatsapp-mensajeria_3684963/\"\n",
    "HEADERS = {\n",
    "    \"User-Agent\": \"Mozilla/5.0 (Windows NT 10.0; Win64; x64) AppleWebKit/537.36 (KHTML, like Gecko) Chrome/113.0.0.0 Safari/537.36\"\n",
    "}\n",
    "response = requests.get(url, headers=HEADERS)\n",
    "response"
   ]
  },
  {
   "cell_type": "code",
   "execution_count": 34,
   "id": "a4e1714d",
   "metadata": {},
   "outputs": [],
   "source": [
    "parsed_hmtl = BeautifulSoup(response.content, \"html.parser\")\n",
    "tags_with_urls = parsed_hmtl.find_all(lambda tag: has_http_attribute_value)\n",
    "hiperlinks = []\n",
    "for tags_with_url in tags_with_urls:\n",
    "    for attr in tags_with_url.attrs:\n",
    "        attr_value = tags_with_url.attrs[attr]\n",
    "        if isinstance(attr_value, str) and ('http://' in attr_value or 'https://' in attr_value):\n",
    "            hiperlink = tags_with_url[attr]\n",
    "            if hiperlink.startswith(\"https://www.abc.es/\"):\n",
    "                hiperlinks.append(hiperlink)"
   ]
  },
  {
   "cell_type": "code",
   "execution_count": 35,
   "id": "f3a50a1c",
   "metadata": {},
   "outputs": [
    {
     "data": {
      "text/plain": [
       "['https://www.abc.es/',\n",
       " 'https://www.abc.es/rss/feeds/abc_portada.xml',\n",
       " 'https://www.abc.es/rss/feeds/abc_ultima.xml',\n",
       " 'https://www.abc.es/',\n",
       " 'https://www.abc.es/',\n",
       " 'https://www.abc.es/espana/elecciones-directo-pedro-sanchez-feijoo-yolanda-diaz-abascal-ultimas-noticias-generales-hoy-20230704084244-di.html',\n",
       " 'https://www.abc.es/internacional/guerra-ucrania-rusia-directo-putin-zelenski-contraofensiva-ucraniana-20230705155105-di.html',\n",
       " 'https://www.abc.es/espana/inmunidad-puigdemont-directo-ultima-hora-decision-justicia-ponsati-comin-hoy-20230705113122-di.html',\n",
       " 'https://www.abc.es/gente/gonzalo-vargas-llosa-ultima-hora-sobre-estado-20230705121808-vi.html',\n",
       " 'https://www.abc.es/play/television/noticias/audiencias-programa-ana-rosa-ganador-feijoo-sanchez-20230705120006-nt.html',\n",
       " 'https://www.abc.es/recreo/entradas-taylor-swift-madrid-llegan-correos-codigo-20230705150833-nt.html',\n",
       " 'https://www.abc.es/motor/dgt-confirma-situaciones-radares-pueden-multar-pese-20230705123454-nt.html',\n",
       " 'https://www.abc.es/sociedad/aemet-pronostica-record-temperaturas-historico-espana-zonas-afectadas-20230704095744-nt.html',\n",
       " 'https://www.abc.es/espana/navarra/consejos-imprescindibles-disfrutar-san-fermin-debes-chupinazo-20230705040834-nt.html',\n",
       " 'https://www.abc.es/recreo/pierde-cartera-patio-interior-redes-alucinan-estrategia-20230705130907-nt.html',\n",
       " 'https://www.abc.es/play/television/noticias/partido-politico-belen-esteban-amenaza-dejar-votar-20230705140802-nt.html',\n",
       " 'https://www.abc.es/economia/renfe-pondra-venta-hoy-domingo-billetes-cinco-20230704113305-nt.html',\n",
       " 'https://www.abc.es/espana/madrid/mad-cool-2023-horarios-confirmados-escenarios-cartel-20230705090404-nt.html',\n",
       " 'https://www.abc.es/recreo/extrana-peligrosa-mezcla-productos-piscina-convirtio-agua-20230704081927-nt.html',\n",
       " 'https://www.abc.es/sociedad/timo-wash-wash-hombre-intento-estafar-80000-20230705144245-nt.html',\n",
       " 'https://www.abc.es/play/television/noticias/bronca-tertulianos-salpica-susanna-griso-lleva-toque-20230705103705-nt.html',\n",
       " 'https://www.abc.es/play/television/vuelve-grand-prix-20230705111042-nt.html',\n",
       " 'https://www.abc.es/espana/asturias/juicio-mujer-acusada-maltratar-perro-pareja-murio-20230705112252-nt.html',\n",
       " 'https://www.abc.es/play/television/noticias/octogenaria-rechaza-cita-mayor-responde-leccion-vida-20230705105222-nt.html',\n",
       " 'https://www.abc.es/deportes/futbol/mercado-fichajes-directo-ultimas-noticias-sobre-carvhalo-20230705161427-di.html',\n",
       " 'https://www.abc.es/gastronomia/truco-viral-acertar-cantidad-agua-perfecta-cocer-20230705111641-nt.html',\n",
       " 'https://www.abc.es/elecciones-generales-23j/',\n",
       " 'https://www.abc.es/ultimas-noticias/',\n",
       " 'https://www.abc.es/sociedad/santo-hoy-viernes-30-06-2023-santoral-nsv-20230630070101-nt.html',\n",
       " 'https://www.abc.es/recreo/horoscopo-miercoles-5-julio-2023-nsv-20230705230030-nt.html',\n",
       " 'https://www.abc.es/',\n",
       " 'https://www.abc.es/espana/madrid/',\n",
       " 'https://www.abc.es/opinion/matteo-re-nanterre-nanterre-20230705132927-nt.html#vca=noticia-cabecera&vso=abc&vli=portada',\n",
       " 'https://www.abc.es/opinion/',\n",
       " 'https://www.abc.es/espana/',\n",
       " 'https://www.abc.es/internacional/',\n",
       " 'https://www.abc.es/economia/',\n",
       " 'https://www.abc.es/sociedad/',\n",
       " 'https://www.abc.es/cultura/',\n",
       " 'https://www.abc.es/deportes/',\n",
       " 'https://www.abc.es/gente/',\n",
       " 'https://www.abc.es/estilo/',\n",
       " 'https://www.abc.es/play/',\n",
       " 'https://www.abc.es/',\n",
       " 'https://www.abc.es/opinion/',\n",
       " 'https://www.abc.es/espana/madrid/',\n",
       " 'https://www.abc.es/elecciones-generales-23j/',\n",
       " 'https://www.abc.es/espana/',\n",
       " 'https://www.abc.es/espana/asturias/',\n",
       " 'https://www.abc.es/espana/aragon/',\n",
       " 'https://www.abc.es/espana/canarias/',\n",
       " 'https://www.abc.es/espana/castilla-leon/',\n",
       " 'https://www.abc.es/espana/catalunya/',\n",
       " 'https://www.abc.es/espana/castilla-la-mancha/',\n",
       " 'https://www.abc.es/espana/comunidad-valenciana/',\n",
       " 'https://www.abc.es/espana/galicia/',\n",
       " 'https://www.abc.es/espana/navarra/',\n",
       " 'https://www.abc.es/espana/pais-vasco/',\n",
       " 'https://www.abc.es/espana/casa-real/',\n",
       " 'https://www.abc.es/internacional/',\n",
       " 'https://www.abc.es/economia/',\n",
       " 'https://www.abc.es/economia/inmobiliario/',\n",
       " 'https://www.abc.es/motor/',\n",
       " 'https://www.abc.es/sociedad/',\n",
       " 'https://www.abc.es/salud/',\n",
       " 'https://www.abc.es/natural/',\n",
       " 'https://www.abc.es/ciencia/',\n",
       " 'https://www.abc.es/tecnologia/',\n",
       " 'https://www.abc.es/cultura/',\n",
       " 'https://www.abc.es/cultura/libros/',\n",
       " 'https://www.abc.es/cultura/musica/',\n",
       " 'https://www.abc.es/cultura/teatros/',\n",
       " 'https://www.abc.es/cultura/arte/',\n",
       " 'https://www.abc.es/cultura/toros/',\n",
       " 'https://www.abc.es/play/',\n",
       " 'https://www.abc.es/play/television/',\n",
       " 'https://www.abc.es/play/television/eurovision/',\n",
       " 'https://www.abc.es/play/series/',\n",
       " 'https://www.abc.es/play/cine/',\n",
       " 'https://www.abc.es/historia/',\n",
       " 'https://www.abc.es/archivo/',\n",
       " 'https://www.abc.es/deportes/',\n",
       " 'https://www.abc.es/deportes/real-madrid/',\n",
       " 'https://www.abc.es/deportes/atletico-madrid/',\n",
       " 'https://www.abc.es/deportes/futbol/',\n",
       " 'https://www.abc.es/deportes/baloncesto/',\n",
       " 'https://www.abc.es/deportes/tenis/',\n",
       " 'https://www.abc.es/deportes/formula-1/',\n",
       " 'https://www.abc.es/deportes/ciclismo/',\n",
       " 'https://www.abc.es/deportes/vela/',\n",
       " 'https://www.abc.es/deportes/juegos-olimpicos/',\n",
       " 'https://www.abc.es/deportes/caza/',\n",
       " 'https://www.abc.es/estilo/',\n",
       " 'https://www.abc.es/viajar/',\n",
       " 'https://www.abc.es/gastronomia/',\n",
       " 'https://www.abc.es/familia/',\n",
       " 'https://www.abc.es/estilo/moda/',\n",
       " 'https://www.abc.es/estilo/belleza/',\n",
       " 'https://www.abc.es/estilo/decoracion/',\n",
       " 'https://www.abc.es/bienestar/',\n",
       " 'https://www.abc.es/summum/',\n",
       " 'https://www.abc.es/gente/',\n",
       " 'https://www.abc.es/cultura/cultural/',\n",
       " 'https://www.abc.es/xlsemanal/',\n",
       " 'https://www.abc.es/antropia/',\n",
       " 'https://www.abc.es/multimedia/videos/',\n",
       " 'https://www.abc.es/voz/',\n",
       " 'https://www.abc.es/ultimas-noticias/',\n",
       " 'https://www.abc.es/pasatiempos/',\n",
       " 'https://www.abc.es/servicios/',\n",
       " 'https://www.abc.es/play/television/programacion-tv/',\n",
       " 'https://www.abc.es/traductor/',\n",
       " 'https://www.abc.es/loterias/',\n",
       " 'https://www.abc.es/eltiempo/',\n",
       " 'https://www.abc.es/esquelas/',\n",
       " 'https://www.abc.es/servicios/premiosabc/',\n",
       " 'https://www.abc.es/servicios/master/',\n",
       " 'https://www.abc.es/favorito/',\n",
       " 'https://www.abc.es/micuenta/newsletters/',\n",
       " 'https://www.abc.es/concurso/',\n",
       " 'https://www.abc.es/opinion/',\n",
       " 'https://www.abc.es/autor/defensora-del-lector-charo-sadaba-5858/',\n",
       " 'https://www.abc.es/opinion/despues-de-la-tercera/',\n",
       " 'https://www.abc.es/autor/rosa-belmonte-1086/',\n",
       " 'https://www.abc.es/autor/ignacio-camacho-1085/',\n",
       " 'https://www.abc.es/autor/teodoro-leon-gross-5741/',\n",
       " 'https://www.abc.es/autor/alberto-garcia-reyes-2014/',\n",
       " 'https://www.abc.es/autor/jose-maria-carrascal-1089/',\n",
       " 'https://www.abc.es/autor/manuel-marin-1056/',\n",
       " 'https://www.abc.es/favorito/rebajas-amazon-encontrar-mejores-chollos-20230704125122-nt.html',\n",
       " 'https://www.abc.es/favorito/rebajas-amazon-encontrar-mejores-chollos-20230704125122-nt.html',\n",
       " 'https://www.abc.es/familia/',\n",
       " 'https://www.abc.es/familia/padres-hijos/',\n",
       " 'https://www.abc.es/familia/parejas/',\n",
       " 'https://www.abc.es/familia/educacion/',\n",
       " 'https://www.abc.es/familia/mayores/',\n",
       " 'https://www.abc.es/familia/actividades-ninos/',\n",
       " 'https://www.abc.es/familia/mujeres/',\n",
       " 'https://www.abc.es/sociedad/120-aniversario-de-abc/',\n",
       " 'https://www.abc.es/sociedad/120-aniversario-de-abc/pensamiento/',\n",
       " 'https://www.abc.es/sociedad/120-aniversario-de-abc/pensamiento/',\n",
       " 'https://www.abc.es/ultimas-noticias/',\n",
       " 'https://www.abc.es/deportes/',\n",
       " 'https://www.abc.es/deportes/futbol/',\n",
       " 'https://www.abc.es/deportes/baloncesto/',\n",
       " 'https://www.abc.es/deportes/tenis/',\n",
       " 'https://www.abc.es/deportes/formula-1/',\n",
       " 'https://www.abc.es/deportes/motos/',\n",
       " 'https://www.abc.es/deportes/ciclismo/directos/tour-francia/pau-laruns-162-km.5.html',\n",
       " 'https://www.abc.es/deportes/ciclismo/directos/tour-francia/pau-laruns-162-km.5.html',\n",
       " 'https://www.abc.es/content-local/academica-graduacion-2023',\n",
       " 'https://www.abc.es/content-local/academica-graduacion-2023',\n",
       " 'https://www.abc.es/',\n",
       " 'https://www.abc.es/loteria-del-nino/',\n",
       " 'https://www.abc.es/loteria-del-nino/comprobar-loteria-nino/',\n",
       " 'https://www.abc.es/sociedad/calendario-laboral-2023-donde-festivo-2-enero-espana-nsv-20221213162752-nt.html',\n",
       " 'https://www.abc.es/play/television/programacion-tv/',\n",
       " 'https://www.abc.es/loteria-de-navidad/comprobar-loteria-navidad/',\n",
       " 'https://www.abc.es/loteria-de-navidad/',\n",
       " 'https://www.abc.es/ultimas-noticias/',\n",
       " 'https://www.abc.es/loterias/',\n",
       " 'https://www.abc.es/voz/noticias-del-dia/',\n",
       " 'https://www.abc.es/loteria-del-nino/localizador/',\n",
       " 'https://www.abc.es/directos-abc/',\n",
       " 'https://www.abc.es/antropia/',\n",
       " 'https://www.abc.es/traductor/',\n",
       " 'https://www.abc.es/voz/']"
      ]
     },
     "execution_count": 35,
     "metadata": {},
     "output_type": "execute_result"
    }
   ],
   "source": [
    "hiperlinks"
   ]
  },
  {
   "cell_type": "code",
   "execution_count": 64,
   "id": "29c2006c",
   "metadata": {},
   "outputs": [
    {
     "data": {
      "text/plain": [
       "[' El líder del PP, Alberto Núñez Feijóo, ha asegurado que las tres primeras cosas que haría de llegar al Palacio de la Moncloa sería suprimir entre seis y ocho ministerios, encargar una auditoría en las cuentas públicas y tomar en los primeros cien días \"tres o cuatro decisiones estructurales\". ',\n",
       " ' El líder de la oposición ha asumido estos compromisos en un desayuno informativo de El Mundo, en el que ha recalcado que el PP no renuncia a su objetivo de gobernar en solitario, algo que a su juicio lograría hacer con \"pactos puntuales\" si se hubiesen celebrado elecciones \"anteayer\". ',\n",
       " ' \"Si no lo creyera no estaría tan animado como estoy. Mi partido en seis meses ha subido 10 puntos\", ha señalado Feijóo al ser preguntado si prefería pactar con Vox o con el PNV. ',\n",
       " ' Por otra parte, Feijóo ha acusado al presidente del Gobierno, Pedro Sánchez, y al PSOE de \"blindar al independentismo en Cataluña\" y ha calificado de \"sonrojante\" y \"humillante\" que el president Pere Aragonès dijese \"gracias pero no\" a la oferta del PSC para un acuerdo presupuestario. ',\n",
       " ' \"Al final queda claro que el voto del PSC sirve para blindar al independentismo en Cataluña. Y eso no es una crítica, es una crónica de lo que está ocurriendo\", ha agregado. ',\n",
       " ' El líder de la oposición ha argumentado que el Pacto del Tinell por el que en 2003 se excluyó al PP de los acuerdos en Cataluña \"sigue vigente\" en España porque solo se llama a su partido en los temas en los que son \"necesarios por imperativo legal\", un \"disparate democrático\" que a su juicio \"pone en cuestión la transición\". ',\n",
       " ' Cree Feijóo que \"en lugar de dar cordura y sosiego a la política catalana, Sánchez traslada los males de la política catalana a la política española\". ',\n",
       " ' El PP está dispuesto a \"retomar conversaciones con el PSOE de después de Sánchez\" porque \"el PSOE de Sánchez es otro PSOE\" y entre tanto, pondrá en marcha la máxima de \"propuesta, propuesta propuesta\", con la que Feijóo ha parafreseado al líder de Izquierda Unida Julio Anguita, de quien ha dicho que era un \"respetable dirigente\". ',\n",
       " ' Según Feijóo, el PP no está dispuesto a \"radicalizarse por nada ni por nadie\". \"No tenemos aliados que simpatizan con Putin ni tampoco aliados que protestan contra la OTAN. No nos vemos obligados a callar la voz de líderes autonómicos, sino que estamos encantados de que posean criterios propios\", ha agregado. ',\n",
       " ' Además, el líder del PP ha expresado sus dudas respecto a la propuesta de una lista conjunta del constitucionalismo en Barcelona planteada por su diputada Cayetana Álvarez de Toledo y aunque no ha cerrado la puerta a esta suma con Ciudadanos y Vox, ha puesto en duda que un acuerdo constitucionalista sin el PSOE permita ganar elecciones. ',\n",
       " ' Feijóo ha apuntado asimismo que deben ser los compañeros del PP de Cataluña quienes deben concluir si es una buena alianza, porque las cosas que se imponen \"a 600 km tienen bastantes dudas de que funcionan\" por lo que la dirección nacional no puede impedir un acuerdo \"en términos todavía desconocidos\". ',\n",
       " ' El líder del PP, Alberto Núñez Feijóo, ha asegurado que las tres primeras cosas que haría de llegar al Palacio de la Moncloa sería suprimir entre seis y ocho ministerios, encargar una auditoría en las cuentas públicas y tomar en los primeros cien días \"tres o cuatro decisiones estructurales\". ']"
      ]
     },
     "execution_count": 64,
     "metadata": {},
     "output_type": "execute_result"
    }
   ],
   "source": [
    "url = \"https://www.elconfidencial.com/espana/2022-10-12/feijoo-eliminara-ministerios-auditoria-moncloa_3505199/\"\n",
    "response = requests.get(url, headers=HEADERS)\n",
    "parsed_hmtl = BeautifulSoup(response.content, \"html.parser\")\n",
    "#links = [t.attrs[\"href\"] for t in parsed_hmtl.find_all(\"a\", href=re.compile(\"https?:.*\"))]\n",
    "p_tags = parsed_hmtl.find_all(\"p\")\n",
    "[p.text for p in p_tags]"
   ]
  },
  {
   "cell_type": "code",
   "execution_count": 61,
   "id": "a1d35a13",
   "metadata": {},
   "outputs": [],
   "source": [
    "search_spec_char = re.search(\"[=&+%@#?]{1}\", \"https://elpais.com/espana/2023-07-05/la-justicia-europea-retira-la-inmunidad-parlamentaria-de-carles-puigdemont.html?autoplay=1\")\n",
    "query_start = search_spec_char.span()[0]\n",
    "hiperlink = \"https://elpais.com/espana/2023-07-05/la-justicia-europea-retira-la-inmunidad-parlamentaria-de-carles-puigdemont.html?autoplay=1\"[:query_start]"
   ]
  },
  {
   "cell_type": "code",
   "execution_count": 88,
   "id": "5c737e5a",
   "metadata": {},
   "outputs": [
    {
     "data": {
      "text/plain": [
       "'https://elpais.com/espana/2023-07-05/la-justicia-europea-retira-la-inmunidad-parlamentaria-de-carles-puigdemont.html'"
      ]
     },
     "execution_count": 88,
     "metadata": {},
     "output_type": "execute_result"
    }
   ],
   "source": [
    "hiperlink"
   ]
  },
  {
   "cell_type": "code",
   "execution_count": 89,
   "id": "99a26c8c",
   "metadata": {},
   "outputs": [],
   "source": [
    "def search_articles(tag):\n",
    "    return tag.name == \"p\" and not tag.attrs"
   ]
  },
  {
   "cell_type": "code",
   "execution_count": 92,
   "id": "d1c419ee",
   "metadata": {},
   "outputs": [
    {
     "name": "stdout",
     "output_type": "stream",
     "text": [
      "['\\n\\nSuscribir\\n', 'En 2016, me tocó escribir un artículo triste. Por primera vez en la historia de la humanidad, el dióxido de carbono en el aire superó las 400 partes por millón. Esa era una de las líneas rojas que tomábamos con referencia en la lucha contra el cambio climático. No era la primera que cruzábamos, pero como dice el profesor Matt England tenía un peso simbólico importante.', 'Hoy hemos cruzado otra: la temperatura media del mundo, por primera vez, ha superado los 17 grados. Eso fue el lunes 3 de julio. El 4 la temperatura subió 0,17 grados más.', \"¿Líneas rojas? Sí, los esfuerzos globales por contener al cambio climático usan ciertos límites como referencia e inspiración: es una forma de medir la progresión de ese fenómeno global, sí; pero también es una forma de ponernos objetivos 'concretos'. Aunque luego no seamos capaces de conseguirlos.\", 'Por eso mismo, estas líneas rojas tienen una parte importante de convención; es decir, no dejan de ser cifras elegidas con una completa combinación de criterios científicos y políticos. Nadie sabe a ciencia cierta la diferencia real entre que la temperatura suba 2 grados o 2 grados y \\xa0medio. No ocurrió ninguna catástrofe justo después de que el mundo superara las 400 ppm.', 'El mundo sigue calentándose. Y lo está haciendo muy rápido. O, dicho de forma más precisa, el calentamiento se está acelerando. Leon Simons, una de las figuras más conocidas en el mundillo de la visualización de datos en torno al cambio climático, explicaba hace unos meses que entre 1961 y el año 2000 la atmósfera absorbió una media de 0.53 ZJ (5.3*10^20 julios) por década. Entre 2006 y 2020 la media se disparó a 2.29 ZJ. Es decir, está calentándose cuatro veces más rápido que antes.', 'Analizar lo que está ocurriendo en los últimos años es complicado, pero hay un motivo por el que la serie de Simons se acaba en 2020. Lo de después es una auténtica locura.', '¿Qué ha pasado? ¿Qué ha cambiado? Contraintuitivamente, según Simons, el motivo podría ser que contaminamos menos. Simons está convencido de que el Atlántico norte y el Pacífico norte estaban \"artificialmente\" fríos por la contaminación (en especial, relacionada con el azufre) de la marina mercante que unía Europa, América y Asia. No lo sabíamos (o, al menos, no éramos plenamente conscientes), pero era así.', 'Y, entonces, llegó 2020. La pandemia hizo que durante meses se interrumpiera el flujo constante de cargueros entre los principales puertos del mundo y, justo después, una importante serie de normativas empezaron a limitar las emisiones de este tipo de componentes. La suma de todo esto pudo tener como consecuencia imprevista el calentamiento \"imprevisto\" de la superficie del mar.', 'Los océanos tienen una inercia térmica enorme y, una vez que han empezado a calentarse, es difícil frenarlos. El empujón de 2020 ha podido ser justo lo que necesitaba el océano para cambiar dinámicas muy bien asentadas: la desaparición del anticiclón de las Azores es un buen ejemplo.', 'Y esto último es la clave. Decía antes que no pasó nada extremadamente reseñable en 2016, pero lo cierto es que sí que están pasando cosas ahora mismo. Lo comentaba el propio Simons: estas cosas (el calor) están empezando a llegar a \"aquellos que no cuentan los julios y los flujos radiativos\"; a la gente normal.', \"Y lo cierto es que, como explican en Carbon Brief, los números cuadran: vamos de cabeza a constatar que el problema climático es mucho más complejo de lo que parece. Que no solo estábamos haciendo 'geoingeniería' con las emisiones de CO2 o metano, que había otras muchas cosas que interferían con el mundo y no pensar estratégicamente puede meternos en problemas descomunales.\", 'En Xataka | La industria ganadera se ha propuesto conseguir uno de sus grandes retos: pedos de vacas bajos en metano', 'Imagen | Climate Reanalyzer\\xa0', '\\n    Compartir\\n    \\n           Ayer fue el día más caluroso a nivel mundial desde que hay registros. El anterior récord fue anteayer \\n         \\n', 'Compartir', 'Los mejores comentarios:', 'Ver 42 comentarios', '\\nSuscribir']\n"
     ]
    }
   ],
   "source": [
    "url = \"https://www.xataka.com/ecologia-y-naturaleza/ayer-fue-dia-caluroso-a-nivel-mundial-que-hay-registros-anterior-record-fue-anteayer\"\n",
    "\n",
    "response = requests.get(url)\n",
    "parsed_hmtl = BeautifulSoup(response.content, \"html.parser\")\n",
    "\n",
    "p_tags = parsed_hmtl.find_all(search_articles)\n",
    "print([p.get_text() for p in p_tags])"
   ]
  },
  {
   "cell_type": "code",
   "execution_count": null,
   "id": "96e14a80",
   "metadata": {},
   "outputs": [],
   "source": []
  },
  {
   "cell_type": "code",
   "execution_count": null,
   "id": "4cc42b00",
   "metadata": {},
   "outputs": [],
   "source": []
  },
  {
   "cell_type": "code",
   "execution_count": 94,
   "id": "8351bbe2",
   "metadata": {},
   "outputs": [],
   "source": [
    "url = \"https://www.xataka.com/ecologia-y-naturaleza/ayer-fue-dia-caluroso-a-nivel-mundial-que-hay-registros-anterior-record-fue-anteayer\"\n",
    "\n",
    "response = requests.get(url)"
   ]
  },
  {
   "cell_type": "code",
   "execution_count": 95,
   "id": "bf0280f9",
   "metadata": {},
   "outputs": [
    {
     "data": {
      "text/plain": [
       "<Response [200]>"
      ]
     },
     "execution_count": 95,
     "metadata": {},
     "output_type": "execute_result"
    }
   ],
   "source": [
    "response.ti"
   ]
  },
  {
   "cell_type": "code",
   "execution_count": 96,
   "id": "221eb934",
   "metadata": {},
   "outputs": [],
   "source": [
    "import json"
   ]
  },
  {
   "cell_type": "code",
   "execution_count": 102,
   "id": "17c8c665",
   "metadata": {},
   "outputs": [],
   "source": [
    "with open(\"./data/extraction checkpoint.json\", \"r\") as file:\n",
    "    data = json.load(file)"
   ]
  },
  {
   "cell_type": "code",
   "execution_count": 103,
   "id": "591a36aa",
   "metadata": {},
   "outputs": [
    {
     "data": {
      "text/plain": [
       "{'last_media_url': 'https://www.actualarganda.com'}"
      ]
     },
     "execution_count": 103,
     "metadata": {},
     "output_type": "execute_result"
    }
   ],
   "source": [
    "data"
   ]
  },
  {
   "cell_type": "code",
   "execution_count": 101,
   "id": "4fbcfa73",
   "metadata": {},
   "outputs": [
    {
     "data": {
      "text/plain": [
       "'https://www.dream-alcala.com'"
      ]
     },
     "execution_count": 101,
     "metadata": {},
     "output_type": "execute_result"
    }
   ],
   "source": [
    "data[\"last_media_url\"]"
   ]
  },
  {
   "cell_type": "markdown",
   "id": "04dcc304",
   "metadata": {},
   "source": [
    "## Noticias a través de p tags"
   ]
  },
  {
   "cell_type": "code",
   "execution_count": 95,
   "id": "3edc3ea6",
   "metadata": {},
   "outputs": [],
   "source": [
    "def search_p_tags_noattrs(tag):\n",
    "    return (tag.name == \"p\" and not tag.attrs) or (\"h\" in tag.name and not tag.attrs)\n",
    "\n",
    "url1 = \"https://www.xataka.com/ecologia-y-naturaleza/ayer-fue-dia-caluroso-a-nivel-mundial-que-hay-registros-anterior-record-fue-anteayer\"\n",
    "url2 = \"https://okdiario.com/espana/feijoo-no-si-sera-hombre-o-mujer-pero-ya-digo-que-fiscal-general-del-estado-no-sera-del-pp-11211283\"\n",
    "\n",
    "headers = {\n",
    "    \"User-Agent\": \"Mozilla/5.0 (Windows NT 10.0; Win64; x64) AppleWebKit/537.36 (KHTML, like Gecko) Chrome/113.0.0.0 Safari/537.36\"\n",
    "}\n",
    "response = requests.get(url2, headers=headers)"
   ]
  },
  {
   "cell_type": "markdown",
   "id": "6a1497f5",
   "metadata": {},
   "source": [
    "### Find p or h tags, no attributes, extract text and clean new lines"
   ]
  },
  {
   "cell_type": "code",
   "execution_count": 52,
   "id": "558ed2f9",
   "metadata": {},
   "outputs": [
    {
     "data": {
      "text/plain": [
       "['\\nAyer fue el día más caluroso a nivel mundial desde que hay registros. El anterior récord fue anteayer\\n \\n',\n",
       " '\\n         Ayer fue el día más caluroso a nivel mundial desde que hay registros. El anterior récord fue anteayer    \\n']"
      ]
     },
     "execution_count": 52,
     "metadata": {},
     "output_type": "execute_result"
    }
   ],
   "source": [
    "parsed_hmtl = BeautifulSoup(response.content, \"html.parser\")\n",
    "\n",
    "p_tags = parsed_hmtl.find_all(search_p_tags_noattrs)\n",
    "text_clean_from_p_tags = [re.sub(\"\\n+\", \"\\n\", p.get_text()) for p in p_tags]\n",
    "text_clean_from_p_tags[:2]"
   ]
  },
  {
   "cell_type": "code",
   "execution_count": 53,
   "id": "8cef4c3e",
   "metadata": {},
   "outputs": [
    {
     "name": "stdout",
     "output_type": "stream",
     "text": [
      "\n",
      "Ayer fue el día más caluroso a nivel mundial desde que hay registros. El anterior récord fue anteayer\n",
      " \n",
      "\n",
      "\n",
      "         Ayer fue el día más caluroso a nivel mundial desde que hay registros. El anterior récord fue anteayer    \n",
      "\n",
      "\n",
      "         Ayer fue el día más caluroso a nivel mundial desde que hay registros. El anterior récord fue anteayer    \n",
      "\n",
      "\n",
      "65 comentarios\n",
      "\n",
      "\n",
      "Suscribir\n",
      "\n",
      "En 2016, me tocó escribir un artículo triste. Por primera vez en la historia de la humanidad, el dióxido de carbono en el aire superó las 400 partes por millón. Esa era una de las líneas rojas que tomábamos con referencia en la lucha contra el cambio climático. No era la primera que cruzábamos, pero como dice el profesor Matt England tenía un peso simbólico importante.\n",
      "Hoy hemos cruzado otra: la temperatura media del mundo, por primera vez, ha superado los 17 grados. Eso fue el lunes 3 de julio. El 4 la temperatura subió 0,17 grados más.\n",
      "¿Líneas rojas? Sí, los esfuerzos globales por contener al cambio climático usan ciertos límites como referencia e inspiración: es una forma de medir la progresión de ese fenómeno global, sí; pero también es una forma de ponernos objetivos 'concretos'. Aunque luego no seamos capaces de conseguirlos.\n",
      "Por eso mismo, estas líneas rojas tienen una parte importante de convención; es decir, no dejan de ser cifras elegidas con una completa combinación de criterios científicos y políticos. Nadie sabe a ciencia cierta la diferencia real entre que la temperatura suba 2 grados o 2 grados y  medio. No ocurrió ninguna catástrofe justo después de que el mundo superara las 400 ppm.\n",
      "El mundo sigue calentándose. Y lo está haciendo muy rápido. O, dicho de forma más precisa, el calentamiento se está acelerando. Leon Simons, una de las figuras más conocidas en el mundillo de la visualización de datos en torno al cambio climático, explicaba hace unos meses que entre 1961 y el año 2000 la atmósfera absorbió una media de 0.53 ZJ (5.3*10^20 julios) por década. Entre 2006 y 2020 la media se disparó a 2.29 ZJ. Es decir, está calentándose cuatro veces más rápido que antes.\n",
      "Analizar lo que está ocurriendo en los últimos años es complicado, pero hay un motivo por el que la serie de Simons se acaba en 2020. Lo de después es una auténtica locura.\n",
      "¿Qué ha pasado? ¿Qué ha cambiado? Contraintuitivamente, según Simons, el motivo podría ser que contaminamos menos. Simons está convencido de que el Atlántico norte y el Pacífico norte estaban \"artificialmente\" fríos por la contaminación (en especial, relacionada con el azufre) de la marina mercante que unía Europa, América y Asia. No lo sabíamos (o, al menos, no éramos plenamente conscientes), pero era así.\n",
      "Y, entonces, llegó 2020. La pandemia hizo que durante meses se interrumpiera el flujo constante de cargueros entre los principales puertos del mundo y, justo después, una importante serie de normativas empezaron a limitar las emisiones de este tipo de componentes. La suma de todo esto pudo tener como consecuencia imprevista el calentamiento \"imprevisto\" de la superficie del mar.\n",
      "Los océanos tienen una inercia térmica enorme y, una vez que han empezado a calentarse, es difícil frenarlos. El empujón de 2020 ha podido ser justo lo que necesitaba el océano para cambiar dinámicas muy bien asentadas: la desaparición del anticiclón de las Azores es un buen ejemplo.\n",
      "Y esto último es la clave. Decía antes que no pasó nada extremadamente reseñable en 2016, pero lo cierto es que sí que están pasando cosas ahora mismo. Lo comentaba el propio Simons: estas cosas (el calor) están empezando a llegar a \"aquellos que no cuentan los julios y los flujos radiativos\"; a la gente normal.\n",
      "Y lo cierto es que, como explican en Carbon Brief, los números cuadran: vamos de cabeza a constatar que el problema climático es mucho más complejo de lo que parece. Que no solo estábamos haciendo 'geoingeniería' con las emisiones de CO2 o metano, que había otras muchas cosas que interferían con el mundo y no pensar estratégicamente puede meternos en problemas descomunales.\n",
      "En Xataka | La industria ganadera se ha propuesto conseguir uno de sus grandes retos: pedos de vacas bajos en metano\n",
      "Imagen | Climate Reanalyzer \n",
      "\n",
      "    Compartir\n",
      "    \n",
      "           Ayer fue el día más caluroso a nivel mundial desde que hay registros. El anterior récord fue anteayer \n",
      "         \n",
      "\n",
      "Compartir\n",
      "Los mejores comentarios:\n",
      "Ver 65 comentarios\n",
      "Tecnología\n",
      "Videojuegos\n",
      "Entretenimiento\n",
      "Gastronomía\n",
      "Estilo de vida\n",
      "\n",
      "Suscribir\n",
      "Explora en nuestros medios\n"
     ]
    }
   ],
   "source": [
    "n_ls = 1\n",
    "for x in text_clean_from_p_tags:\n",
    "    print(x, end=\"\\n\"*n_ls)"
   ]
  },
  {
   "cell_type": "markdown",
   "id": "04683323",
   "metadata": {},
   "source": [
    "### Extract all the text and clean new lines"
   ]
  },
  {
   "cell_type": "code",
   "execution_count": 9,
   "id": "d462baa7",
   "metadata": {},
   "outputs": [
    {
     "data": {
      "text/plain": [
       "'\\nAyer fue el día más caluroso a nivel mundial desd'"
      ]
     },
     "execution_count": 9,
     "metadata": {},
     "output_type": "execute_result"
    }
   ],
   "source": [
    "text_clean_from_full_html = re.sub(\"\\n+\", \"\\n\", parsed_hmtl.get_text())\n",
    "text_clean_from_full_html[:50]"
   ]
  },
  {
   "cell_type": "code",
   "execution_count": 54,
   "id": "3abbbb2d",
   "metadata": {},
   "outputs": [
    {
     "name": "stdout",
     "output_type": "stream",
     "text": [
      "\n",
      "Ayer fue el día más caluroso a nivel mundial desde que hay registros. El anterior récord fue anteayer\n",
      " \n",
      "Webedia\n",
      "Xataka\n",
      "Menú\n",
      "Nuevo\n",
      "ANÁLISIS\n",
      "XATAKA SELECCIÓN\n",
      "MÓVILES\n",
      "CIENCIA\n",
      "GUÍAS DE COMPRA\n",
      "MOVILIDAD\n",
      "MAGNET\n",
      "Twitch\n",
      "Tiktok\n",
      "Telegram\n",
      "Instagram\n",
      "Youtube\n",
      "Twitter\n",
      "PARTNERS\n",
      "      Innovación LG\n",
      "     \n",
      "      Tecnologia Midea\n",
      "     \n",
      "      Hyundai Full Electric\n",
      "     \n",
      "      Innovación Volvo\n",
      "     \n",
      "      Planeta Fantasy\n",
      "     \n",
      "      Inspirando TCL\n",
      "     \n",
      "      Espacio Finetwork\n",
      "     \n",
      "      muévete con Renault\n",
      "     \n",
      "         Ayer fue el día más caluroso a nivel mundial desde que hay registros. El anterior récord fue anteayer    \n",
      "65 comentarios\n",
      "HOY SE HABLA DE\n",
      "DGT\n",
      "IA\n",
      "OpenAI\n",
      "SkyShowtime\n",
      "PlayStation VR2\n",
      "Whatsapp\n",
      "Inteligencia Artificial\n",
      "ChatGPT\n",
      "Chromecast\n",
      "Ibai\n",
      "Ofrecido por LG\n",
      "¿Cuál es el mejor altavoz para tu próxima fiesta? Este lo tiene todo (potencia, batería, efectos…)\n",
      "      Ofrecido por TCL\n",
      "     \n",
      "¿Qué tiene que ver la tecnología con el deporte? Para TCL mucho y estas son las razones\n",
      "      Ofrecido por Minotauro\n",
      "     \n",
      "¿Qué hace una montaña en medio del océano? 'Ascensión' aúna Lovecraf y la mejor ficción especulativa\n",
      "      Ofrecido por MIDEA\n",
      "     \n",
      "Tres usuarios 'hardcore' de robot aspirador nos aconsejan qué tener en cuenta al comprar uno\n",
      "      Ofrecido por Robot Cache\n",
      "     \n",
      "Así es la plataforma que te deja comprar juegos digitales para PC y después venderlos por dinero\n",
      "      Ofrecido por Mi Electro\n",
      "     \n",
      "Teles, aires acondicionados y más en las rebajas de siempre, pero con los precios de Mi Electro\n",
      "Suscríbete a Xatakaletter\n",
      "Recibe nuestra newsletter semanal exclusiva\n",
      "   \n",
      "Suscribir\n",
      "Suscribiéndote aceptas nuestra política de privacidad\n",
      "Error: el correo electrónico no tiene el formato correcto\n",
      "Síguenos\n",
      "Twitter\n",
      "Facebook\n",
      "Youtube\n",
      "Instagram\n",
      "Telegram\n",
      "RSS\n",
      "Flipboard\n",
      "LinkedIn\n",
      "Tiktok\n",
      "   2023-07-05T10:01:34Z  \n",
      "Javier Jiménez\n",
      "@dronte\n",
      "En 2016, me tocó escribir un artículo triste. Por primera vez en la historia de la humanidad, el dióxido de carbono en el aire superó las 400 partes por millón. Esa era una de las líneas rojas que tomábamos con referencia en la lucha contra el cambio climático. No era la primera que cruzábamos, pero como dice el profesor Matt England tenía un peso simbólico importante.\n",
      "Hoy hemos cruzado otra: la temperatura media del mundo, por primera vez, ha superado los 17 grados. Eso fue el lunes 3 de julio. El 4 la temperatura subió 0,17 grados más.\n",
      "¿Líneas rojas? Sí, los esfuerzos globales por contener al cambio climático usan ciertos límites como referencia e inspiración: es una forma de medir la progresión de ese fenómeno global, sí; pero también es una forma de ponernos objetivos 'concretos'. Aunque luego no seamos capaces de conseguirlos.\n",
      "Por eso mismo, estas líneas rojas tienen una parte importante de convención; es decir, no dejan de ser cifras elegidas con una completa combinación de criterios científicos y políticos. Nadie sabe a ciencia cierta la diferencia real entre que la temperatura suba 2 grados o 2 grados y  medio. No ocurrió ninguna catástrofe justo después de que el mundo superara las 400 ppm.\n",
      " \n",
      "Leon Simons\n",
      "El mundo sigue calentándose. Y lo está haciendo muy rápido. O, dicho de forma más precisa, el calentamiento se está acelerando. Leon Simons, una de las figuras más conocidas en el mundillo de la visualización de datos en torno al cambio climático, explicaba hace unos meses que entre 1961 y el año 2000 la atmósfera absorbió una media de 0.53 ZJ (5.3*10^20 julios) por década. Entre 2006 y 2020 la media se disparó a 2.29 ZJ. Es decir, está calentándose cuatro veces más rápido que antes.\n",
      "Analizar lo que está ocurriendo en los últimos años es complicado, pero hay un motivo por el que la serie de Simons se acaba en 2020. Lo de después es una auténtica locura.\n",
      "En Xataka\n",
      "El agujero de la capa de ozono sigue cerrándose. Es un triunfo... que no sirve de nada frente al cambio climático\n",
      "¿Qué ha pasado? ¿Qué ha cambiado? Contraintuitivamente, según Simons, el motivo podría ser que contaminamos menos. Simons está convencido de que el Atlántico norte y el Pacífico norte estaban \"artificialmente\" fríos por la contaminación (en especial, relacionada con el azufre) de la marina mercante que unía Europa, América y Asia. No lo sabíamos (o, al menos, no éramos plenamente conscientes), pero era así.\n",
      "Y, entonces, llegó 2020. La pandemia hizo que durante meses se interrumpiera el flujo constante de cargueros entre los principales puertos del mundo y, justo después, una importante serie de normativas empezaron a limitar las emisiones de este tipo de componentes. La suma de todo esto pudo tener como consecuencia imprevista el calentamiento \"imprevisto\" de la superficie del mar.\n",
      "Los océanos tienen una inercia térmica enorme y, una vez que han empezado a calentarse, es difícil frenarlos. El empujón de 2020 ha podido ser justo lo que necesitaba el océano para cambiar dinámicas muy bien asentadas: la desaparición del anticiclón de las Azores es un buen ejemplo.\n",
      "Y esto último es la clave. Decía antes que no pasó nada extremadamente reseñable en 2016, pero lo cierto es que sí que están pasando cosas ahora mismo. Lo comentaba el propio Simons: estas cosas (el calor) están empezando a llegar a \"aquellos que no cuentan los julios y los flujos radiativos\"; a la gente normal.\n",
      "Y lo cierto es que, como explican en Carbon Brief, los números cuadran: vamos de cabeza a constatar que el problema climático es mucho más complejo de lo que parece. Que no solo estábamos haciendo 'geoingeniería' con las emisiones de CO2 o metano, que había otras muchas cosas que interferían con el mundo y no pensar estratégicamente puede meternos en problemas descomunales.\n",
      "En Xataka | La industria ganadera se ha propuesto conseguir uno de sus grandes retos: pedos de vacas bajos en metano\n",
      "Imagen | Climate Reanalyzer \n",
      "    Compartir\n",
      "    \n",
      "           Ayer fue el día más caluroso a nivel mundial desde que hay registros. El anterior récord fue anteayer \n",
      "         \n",
      "Facebook\n",
      "Twitter\n",
      "Flipboard\n",
      "E-mail\n",
      "Temas\n",
      "Ecología y naturaleza\n",
      "calor\n",
      "meteorología\n",
      "El Niño\n",
      "ola de calor\n",
      "Compartir\n",
      "Facebook\n",
      "Twitter\n",
      "Flipboard\n",
      "E-mail\n",
      "Los mejores comentarios:\n",
      "Ver 65 comentarios\n",
      "1\n",
      "         Recibe Xatakaletter en tu correo\n",
      "       \n",
      "Te enviamos nuestra newsletter semanal preparada con pasión por nuestros editores\n",
      "Suscríbete\n",
      "Suscribiéndote aceptas nuestra política de privacidad\n",
      "Error: el correo electrónico no tiene el formato correcto\n",
      "Temas de interés\n",
      "       Mejores móviles 2023\n",
      "      \n",
      "       Mejores móviles calidad precio 2023\n",
      "      \n",
      "       ChatGPT\n",
      "      \n",
      "       Xiaomi 13 Ultra\n",
      "      \n",
      "       Nothing Phone 2\n",
      "      \n",
      "       iPhone 14\n",
      "      \n",
      "       Windows 11\n",
      "      \n",
      "       Samsung Galaxy S23 Ultra\n",
      "      \n",
      "       Pulsera de actividad\n",
      "      \n",
      "       Metaverso\n",
      "      \n",
      "       Blockchain\n",
      "      \n",
      "       Xiaomi Redmi note 12\n",
      "      \n",
      "       Memoria ram\n",
      "      \n",
      "       192.168.1.1\n",
      "      \n",
      "       Auriculares inalámbricos\n",
      "      \n",
      "Síguenos\n",
      "Twitter\n",
      "Facebook\n",
      "Youtube\n",
      "Instagram\n",
      "Telegram\n",
      "RSS\n",
      "Flipboard\n",
      "LinkedIn\n",
      "Tiktok\n",
      "En Xataka hablamos de...\n",
      "Streaming Análisis Energía Espacio Móviles Xataka Movilidad Apple Samsung Inteligencia artificial China Empleo Windows 11  Ver más temas\n",
      " \n",
      "Subir\n",
      "Webedia\n",
      " Tecnología XatakaXataka MóvilXataka AndroidXataka Smart HomeApplesferaGenbetaMundo Xiaomi\n",
      " Videojuegos 3DJuegosVida ExtraMillenium3DJuegos PC3DJuegos Guías\n",
      " Entretenimiento SensacineEspinof\n",
      " Gastronomía Directo al Paladar\n",
      " Estilo de vida VitónicaTrendenciasTrendencias HombreDecoesferaCompradiccionPoprosa\n",
      "Latinoamérica\n",
      "Xataka México\n",
      "3DJuegos LATAM\n",
      "Sensacine México\n",
      "Directo al Paladar México\n",
      "Webedia\n",
      "Xataka\n",
      "Vida Extra\n",
      "Espinof\n",
      "Genbeta\n",
      "Directo al Paladar\n",
      "Trendencias\n",
      "Applesfera\n",
      "Xataka Móvil\n",
      "Decoesfera\n",
      "Vitónica\n",
      "Trendencias Hombre\n",
      "Xataka Android\n",
      "Xataka Smart Home\n",
      "Compradiccion\n",
      "3DJuegos\n",
      "Sensacine\n",
      "Millenium\n",
      "Poprosa\n",
      "Mundo Xiaomi\n",
      "3DJuegos PC\n",
      "3DJuegos Guías\n",
      "TecnologíaXataka\n",
      "     Xataka Móvil\n",
      "     Xataka Android\n",
      "     Xataka Smart Home\n",
      "     Applesfera\n",
      "     Genbeta\n",
      "     Mundo Xiaomi\n",
      "     \n",
      "Videojuegos3DJuegos\n",
      "     Vida Extra\n",
      "     Millenium3DJuegos PC\n",
      "     3DJuegos Guías\n",
      "     \n",
      "EntretenimientoSensacine\n",
      "     Espinof\n",
      "     \n",
      "GastronomíaDirecto al Paladar\n",
      "     \n",
      "Estilo de vidaVitónica\n",
      "     Trendencias\n",
      "     Trendencias Hombre\n",
      "     Decoesfera\n",
      "     Compradiccion\n",
      "     Poprosa\n",
      "     \n",
      "Inicio\n",
      "Partners\n",
      "          Innovación LG\n",
      "          \n",
      "          Tecnologia Midea\n",
      "          \n",
      "          Hyundai Full Electric\n",
      "          \n",
      "          Innovación Volvo\n",
      "          \n",
      "          Planeta Fantasy\n",
      "          \n",
      "          Inspirando TCL\n",
      "          \n",
      "          Espacio Finetwork\n",
      "          \n",
      "          muévete con Renault\n",
      "          \n",
      "Destacamos\n",
      "      Premios Xataka\n",
      "      \n",
      "      Black Friday\n",
      "      \n",
      "Streaming Análisis Energía Espacio Móviles Xataka Movilidad Apple Samsung Inteligencia artificial China Empleo Windows 11 \n",
      "Ver más temas\n",
      "Síguenos\n",
      "Twitter\n",
      "Facebook\n",
      "Youtube\n",
      "Instagram\n",
      "Telegram\n",
      "RSS\n",
      "Flipboard\n",
      "LinkedIn\n",
      "Tiktok\n",
      "E-mail\n",
      "Recibe Xatakaletter, nuestra newsletter semanal \n",
      "Suscribir\n",
      "Suscribiéndote aceptas nuestra política de privacidad\n",
      "Error: el correo electrónico no tiene el formato correcto\n",
      "Xataka\n",
      "      TV\n",
      "Lo mejor\n",
      "Equipo editorial\n",
      "Contacta con nosotros\n",
      "Más sitios que te gustarán\n",
      "Vidaextra Xataka Android Xataka Móvil Applesfera Genbeta \n",
      "Explora en nuestros medios\n",
      "        Tecnología\n",
      "        Móviles, tablets, aplicaciones, videojuegos, fotografía, domótica...XatakaXataka MóvilXataka AndroidXataka Smart HomeApplesferaGenbetaMundo Xiaomi \n",
      "        Videojuegos\n",
      "        Consolas, juegos, PC, PS4, Switch, Nintendo 3DS y Xbox...3DJuegosVida ExtraMillenium3DJuegos PC3DJuegos Guías \n",
      "        Entretenimiento\n",
      "        Series, cine, estrenos en cartelera, premios, rodajes, nuevas películas, televisión...SensacineEspinof \n",
      "        Gastronomía\n",
      "        Recetas, recetas de cocina fácil, pinchos, tapas, postres...Directo al Paladar \n",
      "        Estilo de vida\n",
      "        Moda, belleza, estilo, salud, fitness, familia, gastronomía, decoración, famosos...VitónicaTrendenciasTrendencias HombreDecoesferaCompradiccionPoprosa \n",
      "        Latinoamérica\n",
      "        Publicaciones de México...Xataka MéxicoDirecto al Paladar MéxicoSensacine México3DJuegos LATAM \n",
      "Aviso legal\n",
      "Condiciones de uso\n",
      "Condiciones de uso de cookies\n",
      "Publicidad\n",
      "Inicio\n",
      "Reciente\n",
      "  El motivo científico por el que no es buena idea tirarnos al agua para huir de las abejas (y otros consejos para evitarnos picaduras)\n",
      "   \n",
      "  \"Doy por hecho que la gente es estúpida\". Montó un PC Gaming con tornillos para madera y el técnico se sorprendió de su hazaña  \n",
      "  \n",
      "   en 3DJuegos  \n",
      "  Honor 90, análisis: la clave de su éxito no sólo está en sus curvas, también en su cámara\n",
      "   \n",
      "  Hacer demasiado deporte puede traernos problemas: los consejos científicos para mejorar la salud de nuestro corazón \n",
      "   \n",
      "  El 5G está acabando con la batería de tu móvil. Y no hay procesador que se libre\n",
      "   \n",
      "  Teles, aires acondicionados, smartwatches y mucho más en “las rebajas de siempre, pero con los precios como nunca” de Mi Electro \n",
      "   \n",
      "  “Son demasiado grandes, caras y pesadas”. Toyota cree tener un avance decisivo para las baterías de sus coches eléctricos \n",
      "   \"Págame más\": cada vez más candidatos españoles están rechazando ofertas de trabajo por los malos sueldos\n",
      "             Por si te lo perdiste\n",
      "            \n",
      "  Tener una piscina en España es tener un activo rentable: hay gente ganando 12.000 euros al año alquilándolas en Swimmy \n",
      "   \n",
      "  El 'horno ibérico' pone el turbo: así es cómo la península va a transformar una masa de aire subpolar en una ola de calor con tintes históricos \n",
      "   \n",
      "  El interés por ChatGPT está desacelerando. Sustituir a Google va a ser (mucho) más difícil de lo que parecía \n",
      "   \n",
      "  Threads logra 10 millones de usuarios en apenas 7 horas. Y la culpa no solo la tiene el caos en Twitter\n",
      "   \n",
      "  DjMaRiiO es el último youtuber en ver su canal hackeado. Han puesto un directo de Elon Musk y criptomonedas, claro \n",
      "   \n",
      "  Aspiradores Xiaomi, Apple AirTag, teléfonos Samsung: las mejores ofertas en tecnología de la semana previa al Amazon Prime Day\n",
      "   \n",
      "  Cómo Instalar Threads de Instagram en España y Europa: paso a paso en Android e iPhone\n",
      "   \n",
      "  Mark Zuckerberg vuelve a tuitear tras 11 años inactivo y lo hace por una sola razón: trolear a Elon Musk con Threads\n",
      "   \n",
      "  OpenAI ya ha anunciado su estrategia para prevenir riesgos con la superinteligencia: la superalineación \n",
      "   \n",
      "  El gran rival de Twitter ya está aquí: así puedes probar Threads (también desde Europa)\n",
      "   \n",
      "  El gran evento de Samsung ya tiene fecha: el Galaxy Unpacked es inminente\n",
      "   \n",
      "Ver más artículos\n",
      " Xataka\n",
      "     TV\n",
      "\"EL NIÑO\" ya ESTÁ AQUÍ ☀️: Y esto es lo que puede pasar... SUBMARINO DESAPARECIDO: Todo lo que ha pasado con el Titan de OceanGate REALME 11 PRO PLUS: Análisis | MUY AMBICIOSO para su GAMA DE PRECIO \n",
      "Ver más vídeos\n",
      "\n"
     ]
    }
   ],
   "source": [
    "print(text_clean_from_full_html)"
   ]
  },
  {
   "cell_type": "code",
   "execution_count": 55,
   "id": "e55ab39d",
   "metadata": {},
   "outputs": [
    {
     "name": "stdout",
     "output_type": "stream",
     "text": [
      "Number of characters from p tags: 4439\n",
      "Number of characters from full text: 12608\n"
     ]
    }
   ],
   "source": [
    "print(f\"Number of characters from p tags: {len(''.join(text_clean_from_p_tags))}\")\n",
    "print(f\"Number of characters from full text: {len(text_clean_from_full_html)}\")"
   ]
  },
  {
   "cell_type": "code",
   "execution_count": 56,
   "id": "1b40df71",
   "metadata": {},
   "outputs": [],
   "source": [
    "text_chatgpt = \"\"\"\n",
    "Title: Feijóo: \"El Fiscal General del Estado no será del PP\"\n",
    "\n",
    "Body:\n",
    "En una entrevista con OKDIARIO, Alberto Núñez Feijóo, líder del Partido Popular y candidato a la presidencia, afirmó que el Fiscal General del Estado no será miembro del PP. Feijóo señaló que no nombrará a alguien que sea parte del Comité Ejecutivo de su partido o a alguien recién designado en otro órgano. Hizo referencia a experiencias previas en las que se criticó el nombramiento de un miembro del partido como Fiscal General o como magistrado del Tribunal Constitucional.\n",
    "\n",
    "Feijóo también abordó otros temas en la entrevista, como la situación en el Ministerio de Justicia y la necesidad de contar con profesionales competentes en el sistema judicial. Además, mencionó su intención de recuperar los delitos de sedición y malversación en su versión anterior en los primeros 100 días de su mandato, si los españoles le otorgan el mandato.\n",
    "\n",
    "Tags: Alberto Núñez Feijóo, Fiscal General del Estado, Partido Popular, Ministerio de Justicia, nombramientos, delito de sedición, delito de malversación.\n",
    "\"\"\""
   ]
  },
  {
   "cell_type": "code",
   "execution_count": 57,
   "id": "1e182efe",
   "metadata": {},
   "outputs": [
    {
     "name": "stdout",
     "output_type": "stream",
     "text": [
      "Number of characters from chatgpt: 1067\n"
     ]
    }
   ],
   "source": [
    "print(f\"Number of characters from chatgpt: {len(text_chatgpt)}\")"
   ]
  },
  {
   "cell_type": "code",
   "execution_count": 58,
   "id": "ee4699a8",
   "metadata": {},
   "outputs": [
    {
     "name": "stdout",
     "output_type": "stream",
     "text": [
      "Case token is 2 characters\n",
      "\tNumber of tokens from p tags: 2219\n",
      "\tNumber of tokens from full text: 6304\n",
      "\tNumber of tokens from chatgpt: 533\n",
      "\n",
      "Case token is 3 characters\n",
      "\tNumber of tokens from p tags: 1479\n",
      "\tNumber of tokens from full text: 4202\n",
      "\tNumber of tokens from chatgpt: 355\n",
      "\n",
      "Case token is 4 characters\n",
      "\tNumber of tokens from p tags: 1109\n",
      "\tNumber of tokens from full text: 3152\n",
      "\tNumber of tokens from chatgpt: 266\n",
      "\n"
     ]
    }
   ],
   "source": [
    "chars_in_token = [2, 3, 4]\n",
    "for chars in chars_in_token:\n",
    "    print(f\"Case token is {chars} characters\")\n",
    "    print(f\"\\tNumber of tokens from p tags: {len(''.join(text_clean_from_p_tags)) // chars}\")\n",
    "    print(f\"\\tNumber of tokens from full text: {len(text_clean_from_full_html) // chars}\")\n",
    "    print(f\"\\tNumber of tokens from chatgpt: {len(text_chatgpt) // chars}\", end=\"\\n\"*2)"
   ]
  },
  {
   "cell_type": "markdown",
   "id": "0aa5d843",
   "metadata": {},
   "source": [
    "### Using openai to extract keys"
   ]
  },
  {
   "cell_type": "code",
   "execution_count": 15,
   "id": "0b61a89f",
   "metadata": {},
   "outputs": [],
   "source": [
    "openai.api_key = os.getenv(\"OPENAI_API_KEY\")"
   ]
  },
  {
   "cell_type": "code",
   "execution_count": 74,
   "id": "0c20d028",
   "metadata": {},
   "outputs": [
    {
     "data": {
      "text/plain": [
       "'\\nAyer fue el día más caluroso a nivel mundial desde que hay registros. El anterior récord fue anteayer\\n \\nWebedia\\nXataka\\nMenú\\nNuevo\\nANÁLISIS\\nXATAKA SELECCIÓN\\nMÓVILES\\nCIENCIA\\nGUÍAS DE COMPRA\\nMOVILIDAD\\nMAGNET\\nTwitch\\nTiktok\\nTelegram\\nInstagram\\nYoutube\\nTwitter\\nPARTNERS\\n      Innovación LG\\n     \\n      Tecnologia Midea\\n     \\n      Hyundai Full Electric\\n     \\n      Innovación Volvo\\n     \\n      Planeta Fantasy\\n     \\n      Inspirando TCL\\n     \\n      Espacio Finetwork\\n     \\n      muévete con Renault\\n     \\n         Ayer fue el día más caluroso a nivel mundial desde que hay registros. El anterior récord fue anteayer    \\n65 comentarios\\nHOY SE HABLA DE\\nDGT\\nIA\\nOpenAI\\nSkyShowtime\\nPlayStation VR2\\nWhatsapp\\nInteligencia Artificial\\nChatGPT\\nChromecast\\nIbai\\nOfrecido por LG\\n¿Cuál es el mejor altavoz para tu próxima fiesta? Este lo tiene todo (potencia, batería, efectos…)\\n      Ofrecido por TCL\\n     \\n¿Qué tiene que ver la tecnología con el deporte? Para TCL mucho y estas son las razones\\n      Ofrecido por Minotauro\\n     \\n¿Qué hace una montaña en medio del océano? \\'Ascensión\\' aúna Lovecraf y la mejor ficción especulativa\\n      Ofrecido por MIDEA\\n     \\nTres usuarios \\'hardcore\\' de robot aspirador nos aconsejan qué tener en cuenta al comprar uno\\n      Ofrecido por Robot Cache\\n     \\nAsí es la plataforma que te deja comprar juegos digitales para PC y después venderlos por dinero\\n      Ofrecido por Mi Electro\\n     \\nTeles, aires acondicionados y más en las rebajas de siempre, pero con los precios de Mi Electro\\nSuscríbete a Xatakaletter\\nRecibe nuestra newsletter semanal exclusiva\\n   \\nSuscribir\\nSuscribiéndote aceptas nuestra política de privacidad\\nError: el correo electrónico no tiene el formato correcto\\nSíguenos\\nTwitter\\nFacebook\\nYoutube\\nInstagram\\nTelegram\\nRSS\\nFlipboard\\nLinkedIn\\nTiktok\\n   2023-07-05T10:01:34Z  \\nJavier Jiménez\\n@dronte\\nEn 2016, me tocó escribir un artículo triste. Por primera vez en la historia de la humanidad, el dióxido de carbono en el aire superó las 400 partes por millón. Esa era una de las líneas rojas que tomábamos con referencia en la lucha contra el cambio climático. No era la primera que cruzábamos, pero como dice el profesor Matt England tenía un peso simbólico importante.\\nHoy hemos cruzado otra: la temperatura media del mundo, por primera vez, ha superado los 17 grados. Eso fue el lunes 3 de julio. El 4 la temperatura subió 0,17 grados más.\\n¿Líneas rojas? Sí, los esfuerzos globales por contener al cambio climático usan ciertos límites como referencia e inspiración: es una forma de medir la progresión de ese fenómeno global, sí; pero también es una forma de ponernos objetivos \\'concretos\\'. Aunque luego no seamos capaces de conseguirlos.\\nPor eso mismo, estas líneas rojas tienen una parte importante de convención; es decir, no dejan de ser cifras elegidas con una completa combinación de criterios científicos y políticos. Nadie sabe a ciencia cierta la diferencia real entre que la temperatura suba 2 grados o 2 grados y \\xa0medio. No ocurrió ninguna catástrofe justo después de que el mundo superara las 400 ppm.\\n \\nLeon Simons\\nEl mundo sigue calentándose. Y lo está haciendo muy rápido. O, dicho de forma más precisa, el calentamiento se está acelerando. Leon Simons, una de las figuras más conocidas en el mundillo de la visualización de datos en torno al cambio climático, explicaba hace unos meses que entre 1961 y el año 2000 la atmósfera absorbió una media de 0.53 ZJ (5.3*10^20 julios) por década. Entre 2006 y 2020 la media se disparó a 2.29 ZJ. Es decir, está calentándose cuatro veces más rápido que antes.\\nAnalizar lo que está ocurriendo en los últimos años es complicado, pero hay un motivo por el que la serie de Simons se acaba en 2020. Lo de después es una auténtica locura.\\nEn Xataka\\nEl agujero de la capa de ozono sigue cerrándose. Es un triunfo... que no sirve de nada frente al cambio climático\\n¿Qué ha pasado? ¿Qué ha cambiado? Contraintuitivamente, según Simons, el motivo podría ser que contaminamos menos. Simons está convencido de que el Atlántico norte y el Pacífico norte estaban \"artificialmente\" fríos por la contaminación (en especial, relacionada con el azufre) de la marina mercante que unía Europa, América y Asia. No lo sabíamos (o, al menos, no éramos plenamente conscientes), pero era así.\\nY, entonces, llegó 2020. La pandemia hizo que durante meses se interrumpiera el flujo constante de cargueros entre los principales puertos del mundo y, justo después, una importante serie de normativas empezaron a limitar las emisiones de este tipo de componentes. La suma de todo esto pudo tener como consecuencia imprevista el calentamiento \"imprevisto\" de la superficie del mar.\\nLos océanos tienen una inercia térmica enorme y, una vez que han empezado a calentarse, es difícil frenarlos. El empujón de 2020 ha podido ser justo lo que necesitaba el océano para cambiar dinámicas muy bien asentadas: la desaparición del anticiclón de las Azores es un buen ejemplo.\\nY esto último es la clave. Decía antes que no pasó nada extremadamente reseñable en 2016, pero lo cierto es que sí que están pasando cosas ahora mismo. Lo comentaba el propio Simons: estas cosas (el calor) están empezando a llegar a \"aquellos que no cuentan los julios y los flujos radiativos\"; a la gente normal.\\nY lo cierto es que, como explican en Carbon Brief, los números cuadran: vamos de cabeza a constatar que el problema climático es mucho más complejo de lo que parece. Que no solo estábamos haciendo \\'geoingeniería\\' con las emisiones de CO2 o metano, que había otras muchas cosas que interferían con el mundo y no pensar estratégicamente puede meternos en problemas descomunales.\\nEn Xataka | La industria ganadera se ha propuesto conseguir uno de sus grandes retos: pedos de vacas bajos en metano\\nImagen | Climate Reanalyzer\\xa0\\n    Compartir\\n    \\n           Ayer fue el día más caluroso a nivel mundial desde que hay registros. El anterior récord fue anteayer \\n         \\nFacebook\\nTwitter\\nFlipboard\\nE-mail\\nTemas\\nEcología y naturaleza\\ncalor\\nmeteorología\\nEl Niño\\nola de calor\\nCompartir\\nFacebook\\nTwitter\\nFlipboard\\nE-mail\\nLos mejores comentarios:\\nVer 65 comentarios\\n1\\n         Recibe Xatakaletter en tu correo\\n       \\nTe enviamos nuestra newsletter semanal preparada con pasión por nuestros editores\\nSuscríbete\\nSuscribiéndote aceptas nuestra política de privacidad\\nError: el correo electrónico no tiene el formato correcto\\nTemas de interés\\n       Mejores móviles 2023\\n      \\n       Mejores móviles calidad precio 2023\\n      \\n       ChatGPT\\n      \\n       Xiaomi 13 Ultra\\n      \\n       Nothing Phone 2\\n      \\n       iPhone 14\\n      \\n       Windows 11\\n      \\n       Samsung Galaxy S23 Ultra\\n      \\n       Pulsera de actividad\\n      \\n       Metaverso\\n      \\n       Blockchain\\n      \\n       Xiaomi Redmi note 12\\n      \\n       Memoria ram\\n      \\n       192.168.1.1\\n      \\n       Auriculares inalámbricos\\n      \\nSíguenos\\nTwitter\\nFacebook\\nYoutube\\nInstagram\\nTelegram\\nRSS\\nFlipboard\\nLinkedIn\\nTiktok\\nEn Xataka hablamos de...\\nStreaming Análisis Energía Espacio Móviles Xataka Movilidad Apple Samsung Inteligencia artificial China Empleo Windows 11  Ver más temas\\n \\nSubir\\nWebedia\\n Tecnología XatakaXataka MóvilXataka AndroidXataka Smart HomeApplesferaGenbetaMundo Xiaomi\\n Videojuegos 3DJuegosVida ExtraMillenium3DJuegos PC3DJuegos Guías\\n Entretenimiento SensacineEspinof\\n Gastronomía Directo al Paladar\\n Estilo de vida VitónicaTrendenciasTrendencias HombreDecoesferaCompradiccionPoprosa\\nLatinoamérica\\nXataka México\\n3DJuegos LATAM\\nSensacine México\\nDirecto al Paladar México\\nWebedia\\nXataka\\nVida Extra\\nEspinof\\nGenbeta\\nDirecto al Paladar\\nTrendencias\\nApplesfera\\nXataka Móvil\\nDecoesfera\\nVitónica\\nTrendencias Hombre\\nXataka Android\\nXataka Smart Home\\nCompradiccion\\n3DJuegos\\nSensacine\\nMillenium\\nPoprosa\\nMundo Xiaomi\\n3DJuegos PC\\n3DJuegos Guías\\nTecnologíaXataka\\n     Xataka Móvil\\n     Xataka Android\\n     Xataka Smart Home\\n     Applesfera\\n     Genbeta\\n     Mundo Xiaomi\\n     \\nVideojuegos3DJuegos\\n     Vida Extra\\n     Millenium3DJuegos PC\\n     3DJuegos Guías\\n     \\nEntretenimientoSensacine\\n     Espinof\\n     \\nGastronomíaDirecto al Paladar\\n     \\nEstilo de vidaVitónica\\n     Trendencias\\n     Trendencias Hombre\\n     Decoesfera\\n     Compradiccion\\n     Poprosa\\n     \\nInicio\\nPartners\\n          Innovación LG\\n          \\n          Tecnologia Midea\\n          \\n          Hyundai Full Electric\\n          \\n          Innovación Volvo\\n          \\n          Planeta Fantasy\\n          \\n          Inspirando TCL\\n          \\n          Espacio Finetwork\\n          \\n          muévete con Renault\\n          \\nDestacamos\\n      Premios Xataka\\n      \\n      Black Friday\\n      \\nStreaming Análisis Energía Espacio Móviles Xataka Movilidad Apple Samsung Inteligencia artificial China Empleo Windows 11 \\nVer más temas\\nSíguenos\\nTwitter\\nFacebook\\nYoutube\\nInstagram\\nTelegram\\nRSS\\nFlipboard\\nLinkedIn\\nTiktok\\nE-mail\\nRecibe Xatakaletter, nuestra newsletter semanal \\nSuscribir\\nSuscribiéndote aceptas nuestra política de privacidad\\nError: el correo electrónico no tiene el formato correcto\\nXataka\\n      TV\\nLo mejor\\nEquipo editorial\\nContacta con nosotros\\nMás sitios que te gustarán\\nVidaextra Xataka Android Xataka Móvil Applesfera Genbeta \\nExplora en nuestros medios\\n        Tecnología\\n        Móviles, tablets, aplicaciones, videojuegos, fotografía, domótica...XatakaXataka MóvilXataka AndroidXataka Smart HomeApplesferaGenbetaMundo Xiaomi \\n        Videojuegos\\n        Consolas, juegos, PC, PS4, Switch, Nintendo 3DS y Xbox...3DJuegosVida ExtraMillenium3DJuegos PC3DJuegos Guías \\n        Entretenimiento\\n        Series, cine, estrenos en cartelera, premios, rodajes, nuevas películas, televisión...SensacineEspinof \\n        Gastronomía\\n        Recetas, recetas de cocina fácil, pinchos, tapas, postres...Directo al Paladar \\n        Estilo de vida\\n        Moda, belleza, estilo, salud, fitness, familia, gastronomía, decoración, famosos...VitónicaTrendenciasTrendencias HombreDecoesferaCompradiccionPoprosa \\n        Latinoamérica\\n        Publicaciones de México...Xataka MéxicoDirecto al Paladar MéxicoSensacine México3DJuegos LATAM \\nAviso legal\\nCondiciones de uso\\nCondiciones de uso de cookies\\nPublicidad\\nInicio\\nReciente\\n  El motivo científico por el que no es buena idea tirarnos al agua para huir de las abejas (y otros consejos para evitarnos picaduras)\\n   \\n  \"Doy por hecho que la gente es estúpida\". Montó un PC Gaming con tornillos para madera y el técnico se sorprendió de su hazaña  \\n  \\n   en 3DJuegos  \\n  Honor 90, análisis: la clave de su éxito no sólo está en sus curvas, también en su cámara\\n   \\n  Hacer demasiado deporte puede traernos problemas: los consejos científicos para mejorar la salud de nuestro corazón \\n   \\n  El 5G está acabando con la batería de tu móvil. Y no hay procesador que se libre\\n   \\n  Teles, aires acondicionados, smartwatches y mucho más en “las rebajas de siempre, pero con los precios como nunca” de Mi Electro \\n   \\n  “Son demasiado grandes, caras y pesadas”. Toyota cree tener un avance decisivo para las baterías de sus coches eléctricos \\n   \"Págame más\": cada vez más candidatos españoles están rechazando ofertas de trabajo por los malos sueldos\\n             Por si te lo perdiste\\n            \\n  Tener una piscina en España es tener un activo rentable: hay gente ganando 12.000 euros al año alquilándolas en Swimmy \\n   \\n  El \\'horno ibérico\\' pone el turbo: así es cómo la península va a transformar una masa de aire subpolar en una ola de calor con tintes históricos \\n   \\n  El interés por ChatGPT está desacelerando. Sustituir a Google va a ser (mucho) más difícil de lo que parecía \\n   \\n  Threads logra 10 millones de usuarios en apenas 7 horas. Y la culpa no solo la tiene el caos en Twitter\\n   \\n  DjMaRiiO es el último youtuber en ver su canal hackeado. Han puesto un directo de Elon Musk y criptomonedas, claro \\n   \\n  Aspiradores Xiaomi, Apple AirTag, teléfonos Samsung: las mejores ofertas en tecnología de la semana previa al Amazon Prime Day\\n   \\n  Cómo Instalar Threads de Instagram en España y Europa: paso a paso en Android e iPhone\\n   \\n  Mark Zuckerberg vuelve a tuitear tras 11 años inactivo y lo hace por una sola razón: trolear a Elon Musk con Threads\\n   \\n  OpenAI ya ha anunciado su estrategia para prevenir riesgos con la superinteligencia: la superalineación \\n   \\n  El gran rival de Twitter ya está aquí: así puedes probar Threads (también desde Europa)\\n   \\n  El gran evento de Samsung ya tiene fecha: el Galaxy Unpacked es inminente\\n   \\nVer más artículos\\n Xataka\\n     TV\\n\"EL NIÑO\" ya ESTÁ AQUÍ ☀️: Y esto es lo que puede pasar... SUBMARINO DESAPARECIDO: Todo lo que ha pasado con el Titan de OceanGate REALME 11 PRO PLUS: Análisis | MUY AMBICIOSO para su GAMA DE PRECIO \\nVer más vídeos\\n'"
      ]
     },
     "execution_count": 74,
     "metadata": {},
     "output_type": "execute_result"
    }
   ],
   "source": [
    "#prompt_role_complex = \"\"\"Your commitment is to review text from news, which contain the headline and body content. However, there might be other pieces of text irrelevant which are irrelevant, like footer references to images related to the news, social media platforms footers, subscription texts, users' comments or texts related to comments, among others. Therefore, you have to be able to extract the content / body, the headline / title of the news and, the tags related to the news, if possible , while avoiding irrelevant text. The headline / title and content / body of the news should keep the core and details of the information contained, but you must keep a tone of independence of opinion like a journalist. Do not notify at the output about any other matters, like what you recommend or what you removed from the original text. This is the text: \\n\"\"\"\n",
    "#prompt_role_simple = \"You receive news. Extract its title, the main content, tags (if possible), creation date (if possible) and update date (if possible). This is the news: \"\n",
    "with open(\"./data/role prompt_keys extraction.txt\", \"r\") as file:\n",
    "    prompt_role_complex = file.read()\n",
    "prompt_order_full = text_clean_from_full_html\n",
    "#prompt_order_p_tags = '\\n'.join(text_clean_from_p_tags)\n",
    "#total_prompt = prompt_role + prompt_order\n",
    "#total_prompt\n",
    "prompt_order_full"
   ]
  },
  {
   "cell_type": "code",
   "execution_count": 75,
   "id": "4e9ec5b0",
   "metadata": {},
   "outputs": [
    {
     "data": {
      "text/plain": [
       "'You are a journalist. Extract information from news articles that I will send:\\nHeadline: [headline]\\nTopics: [topics]\\nCreation DateTime: [creation_datetime]\\nUpdate DateTime: [update_datetime]\\nBody Summary: [body summary]\\n\\nReplace [headline], [body summary], [topics], [creation_datetime], and [update_datetime] with \\nthe extracted information from the provided text. The body summary instructions are: make a summary \\nin the third person. Keep the original language. Do not mention the article itself. \\nAdd most relevant details. Expect incoming text news.'"
      ]
     },
     "execution_count": 75,
     "metadata": {},
     "output_type": "execute_result"
    }
   ],
   "source": [
    "prompt_role_complex"
   ]
  },
  {
   "cell_type": "code",
   "execution_count": 64,
   "id": "f91f59ad",
   "metadata": {},
   "outputs": [
    {
     "name": "stdout",
     "output_type": "stream",
     "text": [
      "\n",
      "Ayer fue el día más caluroso a nivel mundial desde que hay registros. El anterior récord fue anteayer\n",
      " \n",
      "Webedia\n",
      "Xataka\n",
      "Menú\n",
      "Nuevo\n",
      "ANÁLISIS\n",
      "XATAKA SELECCIÓN\n",
      "MÓVILES\n",
      "CIENCIA\n",
      "GUÍAS DE COMPRA\n",
      "MOVILIDAD\n",
      "MAGNET\n",
      "Twitch\n",
      "Tiktok\n",
      "Telegram\n",
      "Instagram\n",
      "Youtube\n",
      "Twitter\n",
      "PARTNERS\n",
      "      Innovación LG\n",
      "     \n",
      "      Tecnologia Midea\n",
      "     \n",
      "      Hyundai Full Electric\n",
      "     \n",
      "      Innovación Volvo\n",
      "     \n",
      "      Planeta Fantasy\n",
      "     \n",
      "      Inspirando TCL\n",
      "     \n",
      "      Espacio Finetwork\n",
      "     \n",
      "      muévete con Renault\n",
      "     \n",
      "         Ayer fue el día más caluroso a nivel mundial desde que hay registros. El anterior récord fue anteayer    \n",
      "65 comentarios\n",
      "HOY SE HABLA DE\n",
      "DGT\n",
      "IA\n",
      "OpenAI\n",
      "SkyShowtime\n",
      "PlayStation VR2\n",
      "Whatsapp\n",
      "Inteligencia Artificial\n",
      "ChatGPT\n",
      "Chromecast\n",
      "Ibai\n",
      "Ofrecido por LG\n",
      "¿Cuál es el mejor altavoz para tu próxima fiesta? Este lo tiene todo (potencia, batería, efectos…)\n",
      "      Ofrecido por TCL\n",
      "     \n",
      "¿Qué tiene que ver la tecnología con el deporte? Para TCL mucho y estas son las razones\n",
      "      Ofrecido por Minotauro\n",
      "     \n",
      "¿Qué hace una montaña en medio del océano? 'Ascensión' aúna Lovecraf y la mejor ficción especulativa\n",
      "      Ofrecido por MIDEA\n",
      "     \n",
      "Tres usuarios 'hardcore' de robot aspirador nos aconsejan qué tener en cuenta al comprar uno\n",
      "      Ofrecido por Robot Cache\n",
      "     \n",
      "Así es la plataforma que te deja comprar juegos digitales para PC y después venderlos por dinero\n",
      "      Ofrecido por Mi Electro\n",
      "     \n",
      "Teles, aires acondicionados y más en las rebajas de siempre, pero con los precios de Mi Electro\n",
      "Suscríbete a Xatakaletter\n",
      "Recibe nuestra newsletter semanal exclusiva\n",
      "   \n",
      "Suscribir\n",
      "Suscribiéndote aceptas nuestra política de privacidad\n",
      "Error: el correo electrónico no tiene el formato correcto\n",
      "Síguenos\n",
      "Twitter\n",
      "Facebook\n",
      "Youtube\n",
      "Instagram\n",
      "Telegram\n",
      "RSS\n",
      "Flipboard\n",
      "LinkedIn\n",
      "Tiktok\n",
      "   2023-07-05T10:01:34Z  \n",
      "Javier Jiménez\n",
      "@dronte\n",
      "En 2016, me tocó escribir un artículo triste. Por primera vez en la historia de la humanidad, el dióxido de carbono en el aire superó las 400 partes por millón. Esa era una de las líneas rojas que tomábamos con referencia en la lucha contra el cambio climático. No era la primera que cruzábamos, pero como dice el profesor Matt England tenía un peso simbólico importante.\n",
      "Hoy hemos cruzado otra: la temperatura media del mundo, por primera vez, ha superado los 17 grados. Eso fue el lunes 3 de julio. El 4 la temperatura subió 0,17 grados más.\n",
      "¿Líneas rojas? Sí, los esfuerzos globales por contener al cambio climático usan ciertos límites como referencia e inspiración: es una forma de medir la progresión de ese fenómeno global, sí; pero también es una forma de ponernos objetivos 'concretos'. Aunque luego no seamos capaces de conseguirlos.\n",
      "Por eso mismo, estas líneas rojas tienen una parte importante de convención; es decir, no dejan de ser cifras elegidas con una completa combinación de criterios científicos y políticos. Nadie sabe a ciencia cierta la diferencia real entre que la temperatura suba 2 grados o 2 grados y  medio. No ocurrió ninguna catástrofe justo después de que el mundo superara las 400 ppm.\n",
      " \n",
      "Leon Simons\n",
      "El mundo sigue calentándose. Y lo está haciendo muy rápido. O, dicho de forma más precisa, el calentamiento se está acelerando. Leon Simons, una de las figuras más conocidas en el mundillo de la visualización de datos en torno al cambio climático, explicaba hace unos meses que entre 1961 y el año 2000 la atmósfera absorbió una media de 0.53 ZJ (5.3*10^20 julios) por década. Entre 2006 y 2020 la media se disparó a 2.29 ZJ. Es decir, está calentándose cuatro veces más rápido que antes.\n",
      "Analizar lo que está ocurriendo en los últimos años es complicado, pero hay un motivo por el que la serie de Simons se acaba en 2020. Lo de después es una auténtica locura.\n",
      "En Xataka\n",
      "El agujero de la capa de ozono sigue cerrándose. Es un triunfo... que no sirve de nada frente al cambio climático\n",
      "¿Qué ha pasado? ¿Qué ha cambiado? Contraintuitivamente, según Simons, el motivo podría ser que contaminamos menos. Simons está convencido de que el Atlántico norte y el Pacífico norte estaban \"artificialmente\" fríos por la contaminación (en especial, relacionada con el azufre) de la marina mercante que unía Europa, América y Asia. No lo sabíamos (o, al menos, no éramos plenamente conscientes), pero era así.\n",
      "Y, entonces, llegó 2020. La pandemia hizo que durante meses se interrumpiera el flujo constante de cargueros entre los principales puertos del mundo y, justo después, una importante serie de normativas empezaron a limitar las emisiones de este tipo de componentes. La suma de todo esto pudo tener como consecuencia imprevista el calentamiento \"imprevisto\" de la superficie del mar.\n",
      "Los océanos tienen una inercia térmica enorme y, una vez que han empezado a calentarse, es difícil frenarlos. El empujón de 2020 ha podido ser justo lo que necesitaba el océano para cambiar dinámicas muy bien asentadas: la desaparición del anticiclón de las Azores es un buen ejemplo.\n",
      "Y esto último es la clave. Decía antes que no pasó nada extremadamente reseñable en 2016, pero lo cierto es que sí que están pasando cosas ahora mismo. Lo comentaba el propio Simons: estas cosas (el calor) están empezando a llegar a \"aquellos que no cuentan los julios y los flujos radiativos\"; a la gente normal.\n",
      "Y lo cierto es que, como explican en Carbon Brief, los números cuadran: vamos de cabeza a constatar que el problema climático es mucho más complejo de lo que parece. Que no solo estábamos haciendo 'geoingeniería' con las emisiones de CO2 o metano, que había otras muchas cosas que interferían con el mundo y no pensar estratégicamente puede meternos en problemas descomunales.\n",
      "En Xataka | La industria ganadera se ha propuesto conseguir uno de sus grandes retos: pedos de vacas bajos en metano\n",
      "Imagen | Climate Reanalyzer \n",
      "    Compartir\n",
      "    \n",
      "           Ayer fue el día más caluroso a nivel mundial desde que hay registros. El anterior récord fue anteayer \n",
      "         \n",
      "Facebook\n",
      "Twitter\n",
      "Flipboard\n",
      "E-mail\n",
      "Temas\n",
      "Ecología y naturaleza\n",
      "calor\n",
      "meteorología\n",
      "El Niño\n",
      "ola de calor\n",
      "Compartir\n",
      "Facebook\n",
      "Twitter\n",
      "Flipboard\n",
      "E-mail\n",
      "Los mejores comentarios:\n",
      "Ver 65 comentarios\n",
      "1\n",
      "         Recibe Xatakaletter en tu correo\n",
      "       \n",
      "Te enviamos nuestra newsletter semanal preparada con pasión por nuestros editores\n",
      "Suscríbete\n",
      "Suscribiéndote aceptas nuestra política de privacidad\n",
      "Error: el correo electrónico no tiene el formato correcto\n",
      "Temas de interés\n",
      "       Mejores móviles 2023\n",
      "      \n",
      "       Mejores móviles calidad precio 2023\n",
      "      \n",
      "       ChatGPT\n",
      "      \n",
      "       Xiaomi 13 Ultra\n",
      "      \n",
      "       Nothing Phone 2\n",
      "      \n",
      "       iPhone 14\n",
      "      \n",
      "       Windows 11\n",
      "      \n",
      "       Samsung Galaxy S23 Ultra\n",
      "      \n",
      "       Pulsera de actividad\n",
      "      \n",
      "       Metaverso\n",
      "      \n",
      "       Blockchain\n",
      "      \n",
      "       Xiaomi Redmi note 12\n",
      "      \n",
      "       Memoria ram\n",
      "      \n",
      "       192.168.1.1\n",
      "      \n",
      "       Auriculares inalámbricos\n",
      "      \n",
      "Síguenos\n",
      "Twitter\n",
      "Facebook\n",
      "Youtube\n",
      "Instagram\n",
      "Telegram\n",
      "RSS\n",
      "Flipboard\n",
      "LinkedIn\n",
      "Tiktok\n",
      "En Xataka hablamos de...\n",
      "Streaming Análisis Energía Espacio Móviles Xataka Movilidad Apple Samsung Inteligencia artificial China Empleo Windows 11  Ver más temas\n",
      " \n",
      "Subir\n",
      "Webedia\n",
      " Tecnología XatakaXataka MóvilXataka AndroidXataka Smart HomeApplesferaGenbetaMundo Xiaomi\n",
      " Videojuegos 3DJuegosVida ExtraMillenium3DJuegos PC3DJuegos Guías\n",
      " Entretenimiento SensacineEspinof\n",
      " Gastronomía Directo al Paladar\n",
      " Estilo de vida VitónicaTrendenciasTrendencias HombreDecoesferaCompradiccionPoprosa\n",
      "Latinoamérica\n",
      "Xataka México\n",
      "3DJuegos LATAM\n",
      "Sensacine México\n",
      "Directo al Paladar México\n",
      "Webedia\n",
      "Xataka\n",
      "Vida Extra\n",
      "Espinof\n",
      "Genbeta\n",
      "Directo al Paladar\n",
      "Trendencias\n",
      "Applesfera\n",
      "Xataka Móvil\n",
      "Decoesfera\n",
      "Vitónica\n",
      "Trendencias Hombre\n",
      "Xataka Android\n",
      "Xataka Smart Home\n",
      "Compradiccion\n",
      "3DJuegos\n",
      "Sensacine\n",
      "Millenium\n",
      "Poprosa\n",
      "Mundo Xiaomi\n",
      "3DJuegos PC\n",
      "3DJuegos Guías\n",
      "TecnologíaXataka\n",
      "     Xataka Móvil\n",
      "     Xataka Android\n",
      "     Xataka Smart Home\n",
      "     Applesfera\n",
      "     Genbeta\n",
      "     Mundo Xiaomi\n",
      "     \n",
      "Videojuegos3DJuegos\n",
      "     Vida Extra\n",
      "     Millenium3DJuegos PC\n",
      "     3DJuegos Guías\n",
      "     \n",
      "EntretenimientoSensacine\n",
      "     Espinof\n",
      "     \n",
      "GastronomíaDirecto al Paladar\n",
      "     \n",
      "Estilo de vidaVitónica\n",
      "     Trendencias\n",
      "     Trendencias Hombre\n",
      "     Decoesfera\n",
      "     Compradiccion\n",
      "     Poprosa\n",
      "     \n",
      "Inicio\n",
      "Partners\n",
      "          Innovación LG\n",
      "          \n",
      "          Tecnologia Midea\n",
      "          \n",
      "          Hyundai Full Electric\n",
      "          \n",
      "          Innovación Volvo\n",
      "          \n",
      "          Planeta Fantasy\n",
      "          \n",
      "          Inspirando TCL\n",
      "          \n",
      "          Espacio Finetwork\n",
      "          \n",
      "          muévete con Renault\n",
      "          \n",
      "Destacamos\n",
      "      Premios Xataka\n",
      "      \n",
      "      Black Friday\n",
      "      \n",
      "Streaming Análisis Energía Espacio Móviles Xataka Movilidad Apple Samsung Inteligencia artificial China Empleo Windows 11 \n",
      "Ver más temas\n",
      "Síguenos\n",
      "Twitter\n",
      "Facebook\n",
      "Youtube\n",
      "Instagram\n",
      "Telegram\n",
      "RSS\n",
      "Flipboard\n",
      "LinkedIn\n",
      "Tiktok\n",
      "E-mail\n",
      "Recibe Xatakaletter, nuestra newsletter semanal \n",
      "Suscribir\n",
      "Suscribiéndote aceptas nuestra política de privacidad\n",
      "Error: el correo electrónico no tiene el formato correcto\n",
      "Xataka\n",
      "      TV\n",
      "Lo mejor\n",
      "Equipo editorial\n",
      "Contacta con nosotros\n",
      "Más sitios que te gustarán\n",
      "Vidaextra Xataka Android Xataka Móvil Applesfera Genbeta \n",
      "Explora en nuestros medios\n",
      "        Tecnología\n",
      "        Móviles, tablets, aplicaciones, videojuegos, fotografía, domótica...XatakaXataka MóvilXataka AndroidXataka Smart HomeApplesferaGenbetaMundo Xiaomi \n",
      "        Videojuegos\n",
      "        Consolas, juegos, PC, PS4, Switch, Nintendo 3DS y Xbox...3DJuegosVida ExtraMillenium3DJuegos PC3DJuegos Guías \n",
      "        Entretenimiento\n",
      "        Series, cine, estrenos en cartelera, premios, rodajes, nuevas películas, televisión...SensacineEspinof \n",
      "        Gastronomía\n",
      "        Recetas, recetas de cocina fácil, pinchos, tapas, postres...Directo al Paladar \n",
      "        Estilo de vida\n",
      "        Moda, belleza, estilo, salud, fitness, familia, gastronomía, decoración, famosos...VitónicaTrendenciasTrendencias HombreDecoesferaCompradiccionPoprosa \n",
      "        Latinoamérica\n",
      "        Publicaciones de México...Xataka MéxicoDirecto al Paladar MéxicoSensacine México3DJuegos LATAM \n",
      "Aviso legal\n",
      "Condiciones de uso\n",
      "Condiciones de uso de cookies\n",
      "Publicidad\n",
      "Inicio\n",
      "Reciente\n",
      "  El motivo científico por el que no es buena idea tirarnos al agua para huir de las abejas (y otros consejos para evitarnos picaduras)\n",
      "   \n",
      "  \"Doy por hecho que la gente es estúpida\". Montó un PC Gaming con tornillos para madera y el técnico se sorprendió de su hazaña  \n",
      "  \n",
      "   en 3DJuegos  \n",
      "  Honor 90, análisis: la clave de su éxito no sólo está en sus curvas, también en su cámara\n",
      "   \n",
      "  Hacer demasiado deporte puede traernos problemas: los consejos científicos para mejorar la salud de nuestro corazón \n",
      "   \n",
      "  El 5G está acabando con la batería de tu móvil. Y no hay procesador que se libre\n",
      "   \n",
      "  Teles, aires acondicionados, smartwatches y mucho más en “las rebajas de siempre, pero con los precios como nunca” de Mi Electro \n",
      "   \n",
      "  “Son demasiado grandes, caras y pesadas”. Toyota cree tener un avance decisivo para las baterías de sus coches eléctricos \n",
      "   \"Págame más\": cada vez más candidatos españoles están rechazando ofertas de trabajo por los malos sueldos\n",
      "             Por si te lo perdiste\n",
      "            \n",
      "  Tener una piscina en España es tener un activo rentable: hay gente ganando 12.000 euros al año alquilándolas en Swimmy \n",
      "   \n",
      "  El 'horno ibérico' pone el turbo: así es cómo la península va a transformar una masa de aire subpolar en una ola de calor con tintes históricos \n",
      "   \n",
      "  El interés por ChatGPT está desacelerando. Sustituir a Google va a ser (mucho) más difícil de lo que parecía \n",
      "   \n",
      "  Threads logra 10 millones de usuarios en apenas 7 horas. Y la culpa no solo la tiene el caos en Twitter\n",
      "   \n",
      "  DjMaRiiO es el último youtuber en ver su canal hackeado. Han puesto un directo de Elon Musk y criptomonedas, claro \n",
      "   \n",
      "  Aspiradores Xiaomi, Apple AirTag, teléfonos Samsung: las mejores ofertas en tecnología de la semana previa al Amazon Prime Day\n",
      "   \n",
      "  Cómo Instalar Threads de Instagram en España y Europa: paso a paso en Android e iPhone\n",
      "   \n",
      "  Mark Zuckerberg vuelve a tuitear tras 11 años inactivo y lo hace por una sola razón: trolear a Elon Musk con Threads\n",
      "   \n",
      "  OpenAI ya ha anunciado su estrategia para prevenir riesgos con la superinteligencia: la superalineación \n",
      "   \n",
      "  El gran rival de Twitter ya está aquí: así puedes probar Threads (también desde Europa)\n",
      "   \n",
      "  El gran evento de Samsung ya tiene fecha: el Galaxy Unpacked es inminente\n",
      "   \n",
      "Ver más artículos\n",
      " Xataka\n",
      "     TV\n",
      "\"EL NIÑO\" ya ESTÁ AQUÍ ☀️: Y esto es lo que puede pasar... SUBMARINO DESAPARECIDO: Todo lo que ha pasado con el Titan de OceanGate REALME 11 PRO PLUS: Análisis | MUY AMBICIOSO para su GAMA DE PRECIO \n",
      "Ver más vídeos\n",
      "\n"
     ]
    }
   ],
   "source": [
    "print(prompt_order_full)"
   ]
  },
  {
   "cell_type": "code",
   "execution_count": 102,
   "id": "45a00d23",
   "metadata": {},
   "outputs": [
    {
     "name": "stdout",
     "output_type": "stream",
     "text": [
      "Headline: Ayer fue el día más caluroso a nivel mundial desde que hay registros. El anterior récord fue anteayer\n",
      "Topics: Cambio climático, récord de temperatura, calentamiento global\n",
      "Creation DateTime: 2023-07-05T10:01:34Z \n",
      "Update DateTime: - \n",
      "Body Summary: Ayer se registró el día más caluroso a nivel mundial desde que se tienen registros. La temperatura media del mundo superó los 17 grados, marcando un nuevo récord. Este incremento en la temperatura muestra que el calentamiento global se está acelerando, ya que el calentamiento entre 2006 y 2020 se ha incrementado cuatro veces más rápido que en el período entre 1961 y el año 2000. Además, se señala que las emisiones de contaminantes podrían haber enfriado artificialmente ciertas áreas del océano, pero la interrupción del flujo de cargueros debido a la pandemia y las regulaciones sobre emisiones podrían haber llevado al calentamiento inesperado del océano. Estos eventos resaltan la complejidad del problema climático y la importancia de tomar medidas estratégicas para evitar problemas futuros.\n"
     ]
    }
   ],
   "source": [
    "openai_response = openai.ChatCompletion.create(\n",
    "    model=\"gpt-3.5-turbo\",\n",
    "    messages=[\n",
    "        {\"role\": \"system\", \"content\": prompt_role_complex},\n",
    "        {\"role\": \"user\", \"content\": prompt_order_full},\n",
    "    ]\n",
    ")\n",
    "message_content = openai_response[\"choices\"][0].message[\"content\"]\n",
    "print(message_content)"
   ]
  },
  {
   "cell_type": "code",
   "execution_count": 103,
   "id": "a72b45d3",
   "metadata": {},
   "outputs": [
    {
     "data": {
      "text/plain": [
       "5"
      ]
     },
     "execution_count": 103,
     "metadata": {},
     "output_type": "execute_result"
    }
   ],
   "source": [
    "len(message_content.split(\"\\n\"))"
   ]
  },
  {
   "cell_type": "code",
   "execution_count": 90,
   "id": "4d5ec7fe",
   "metadata": {},
   "outputs": [
    {
     "data": {
      "text/plain": [
       "{'title': 'Ayer fue el día más caluroso a nivel mundial desde que hay registros. El anterior récord fue anteayer',\n",
       " 'body': 'Ayer se registró el día más caluroso a nivel mundial desde que se tienen registros. La temperatura media del mundo superó los 17 grados, marcando un nuevo récord. Este incremento en la temperatura muestra que el calentamiento global se está acelerando, ya que el calentamiento entre 2006 y 2020 se ha incrementado cuatro veces más rápido que en el período entre 1961 y el año 2000. Además, se señala que las emisiones de contaminantes podrían haber enfriado artificialmente ciertas áreas del océano, pero la interrupción del flujo de cargueros debido a la pandemia y las regulaciones sobre emisiones podrían haber llevado al calentamiento inesperado del océano. Estos eventos resaltan la complejidad del problema climático y la importancia de tomar medidas estratégicas para evitar problemas futuros.',\n",
       " 'creation_date': '2023-07-05T10:01:34Z',\n",
       " 'update_date': '-',\n",
       " 'tags': 'Cambio climático, récord de temperatura, calentamiento global'}"
      ]
     },
     "execution_count": 90,
     "metadata": {},
     "output_type": "execute_result"
    }
   ],
   "source": [
    "data = [x.split(\": \")[1].strip() for x in message_content.split(\"\\n\")]\n",
    "keys = ((\"title\", 0), (\"body\", 4), (\"creation_date\", 2), (\"update_date\", 3), (\"tags\", 1))\n",
    "data = {key: data[idx] for (key, idx)  in keys}\n",
    "data"
   ]
  },
  {
   "cell_type": "markdown",
   "id": "43314257",
   "metadata": {},
   "source": [
    "### Only body summary"
   ]
  },
  {
   "cell_type": "code",
   "execution_count": 122,
   "id": "3d62d74c",
   "metadata": {},
   "outputs": [],
   "source": [
    "prompt_role_summary_only = \"\"\"\n",
    "You are a journalist. Output the next format:\n",
    "\n",
    "Body Summary: [body summary]\n",
    "\n",
    "Replace [body summary] with the summary from the incoming text body. \n",
    "The summarization instructions are: make a summary in third-person \n",
    "point of view. Translate the summary into the incoming text language. \n",
    "Do not mention the article itself. Add only important details. \n",
    "This is the text to summarize:\n",
    "\"\"\""
   ]
  },
  {
   "cell_type": "code",
   "execution_count": 123,
   "id": "a687f1af",
   "metadata": {},
   "outputs": [],
   "source": [
    "body = \"\"\"\n",
    "España mira al cielo con cara de no entender. Junio, tradicionalmente el primero de los meses secos, ha sido el más lluvioso del año en ciudades como Málaga o Huesca. En Madrid, incluso, deja una tormenta de granizo. Pero no es suficiente. Las precipitaciones anuales continúan por debajo de los valores normales. Han sido demasiado cortas e irregulares, y los embalses siguen sin recuperarse. Estas infraestructuras han visto menguar su volumen de agua almacenada y se encuentran al 47,4% de su capacidad, una décima menos que la semana anterior. Son datos inferiores a los de las mismas fechas de 2022 y se sitúan 19 puntos por debajo del valor medio de la última década (66,7%). La situación preocupa. Por su parte, la cantidad de agua embalsada en las presas destinadas a la producción de energía eléctrica también ha menguado. Su reserva de agua se encuentra 7 décimas por debajo con respecto a la última semana, de forma que estos embalses se encuentran al 64,3% de su capacidad, igualmente por debajo de los valores medios de la última década (77%). Una cosa es clara: será preciso continuar con la pertinaz lucha que nuestro país mantiene desde toda la vida contra la sequía. En este panorama, surgen algunas preguntas: ¿nuestras reservas de agua están garantizadas? ¿Está asegurada el agua de uso humano, los caudales ecológicos o la producción de energía? ¿Qué hacen las centrales hidroeléctricas en épocas de sequía? Santiago Domínguez, responsable de generación hidroeléctrica de Endesa en España, tiene claro que este año está siendo malo. “El año pasado fue seco, por debajo de la media, y este año está siendo peor”. Arrastramos, dice, una situación de estrés hídrico que se ha ido encadenando. Para el trabajador de Endesa, que tiene centrales distribuidas por casi todo el mapa, desde Galicia a Cataluña, Extremadura o Andalucía, la situación de escasez no es nueva en el sur. Pero este año es “enorme” y ahora mismo hay una “situación de estrés hídrico” en las 3 zonas en las que operan. “Nuestras reservas se encuentran por debajo de la media nacional y están próximas al 30% con respecto a la capacidad total”, apunta, sin paliativos. “Una de las mayores, la de Mequinenza, en el Ebro, nunca ha estado en niveles tan bajos”. De hecho, tres de ellas (una en la cuenca del Ebro y dos en la cuenca del Guadiana) ya se encuentran paradas por falta de agua disponible para poder turbinar y generar electricidad. “El año pasado teníamos la previsión de que tendríamos que parar hacia septiembre-octubre, pero llegaron lluvias y no hubo que pararlas. Este año la previsión es que paren en agosto-septiembre, y en agosto es improbable que llueva…”, explica. Pero ¿por qué para una central hidroeléctrica? A grandes rasgos, por el bajo nivel de los embalses. “Cuando la entrada de agua no permite mantener la salida, la central se detiene para asegurar los caudales ecológicos, el abastecimiento humano y el riego”. En España, la ley establece una utilidad estricta para el uso del agua de los embalses: agua para consumo humano, agua para el campo y usos industriales, agua para generar energía y agua de uso recreativo. “El primero es el uso prioritario del agua, es decir, si peligra el consumo humano, todo lo que viene detrás se ajusta”, explica Domínguez. “Por eso el agua consuntiva, para el consumo humano, jamás se ha restringido (salvo excepciones muy particulares en las que la reserva es muy pequeña, no así en grandes embalses), pero sí se restringe el agua en otros sectores”, detalla. “En segunda posición se encuentra el agua para riego, cuyo consumo es muy relevante, muchísimo mayor que el humano y el hidroeléctrico, y este año ha sufrido ciertas restricciones importantes por falta de agua”, continúa. En tercer lugar se encuentra el uso hidroeléctrico, que no consume el agua. “La toma de un tramo del río, la turbina y la devuelve un poco más abajo, aunque es cierto que en ese tramo que une ambas partes el agua no está en el cauce, pero es un agua que como tal no se consume”, constata Domínguez. Para remediarlo, las Confederaciones Hidrográficas establecen una serie de medidas, como los caudales ecológicos, ya que la preservación de la biodiversidad de estas instalaciones es una obligación legal, incluso en situaciones de sequía. “Siempre se deben respetar los caudales ecológicos, por preservar el valor ecológico de la biodiversidad en nuestros ríos. Por lo que un río nunca se puede secar. El caudal mínimo debe respetarse antes del riego y después del consumo humano. El incumplimiento puede tener consecuencias penales. Si cualquier agente no lo respetase se expondría a una condena legal”, afirma. “La hidroeléctrica está en tercera posición, así que gestionamos nuestras instalaciones enfocados a asegurar los otros usos -continúa-. En los embalses donde hay reserva de agua suficiente, se desembalsa al ritmo que fijan las Confederaciones Hidrográficas para que en el río haya caudal suficiente como para atender todos los fines”. ¿Quién gestiona los embalses?Aunque pueda pensarse lo contrario, las eléctricas no deciden libremente cuándo utilizar el agua de un embalse para generar electricidad. Es la Administración del Estado quien gestiona las reservas de agua, a través de variedad de organismos regionales (Organismos de Cuenca) y, dentro de ellos, las Comisiones de Desembalse. El objetivo de estas comisiones es coordinar la variedad de necesidades de todos los beneficiarios del agua para garantizar el cumplimiento de sus usos prioritarios. “Por ejemplo, en el caso del río Ebro, hay embalses que deben garantizar el abastecimiento de Zaragoza, el riego de los campos, el agua para las industrias que la necesitan y las hidroeléctricas para generar electricidad”, ejemplifica Domínguez. En estos casos, se organizan periódicamente Comisiones de Desembalse integradas por agentes de todos los sectores. “En ellas se deben poner de acuerdo y a veces es complicado porque no hay agua para atender todos los usos. En estos casos, cada agente recibe unas instrucciones: a los regantes les dicen, por ejemplo, que pueden usar sólo una parte del volumen autorizado en condiciones normales. Y lo mismo con el resto de usos. Todos están sometidos al mejor reparto posible del volumen de agua disponible”, comenta el responsable. En la actualidad, aunque una mayor producción hidroeléctrica contribuiría a mitigar el impacto del precio del gas y la crisis climática, al reducir la necesidad de generar energía mediante centrales térmicas, nos encontramos en un año en el que la aportación hidroeléctrica está muy limitada debido a la escasez de agua. Para ello, “contamos con otro tipo de centrales, como las fotovoltaicas, que este año producirán algo más que en años anteriores por tamaño y número de instalaciones”. Asimismo, las compañías tratan de reducir la necesidad del uso del gas cubriendo la demanda con energía hidroeléctrica fuera de las horas en las que las tecnologías renovables como la solar no están disponibles. Por ejemplo, potenciando la generación hidroeléctrica por la noche. ¿Y si nos enfrentáramos a una sequía que pusiera en riesgo los usos consuntivos del agua, qué pasaría con la producción hidroeléctrica? “La primera vía sería limitar su uso al máximo, empezando por la generación hidroeléctrica. Nos ajustarían el caudal que podemos tomar para evitar situaciones de estrés en estos tramos del río entre el punto de toma y el de restitución del agua al cauce o lo restringirían del todo”, argumenta. Después se limitaría el regadío, llegando “al extremo de cancelarse del todo”. Y, ya por último, se podrían modificar los caudales ecológicos establecidos por ley. Llegados a ese punto hipotético de catástrofe futurista, explica, habría que cerrar el río para que todos los embalses pudieran sostener el agua que abastece a las ciudades. Por fortuna, “estamos muy lejos de comprometer el abastecimiento y los caudales ecológicos mínimos que aseguran la biodiversidad y el suministro. Por mucha sequía que atravesemos, estaremos siempre lejos de comprometerlo”, aclara. “Las normas y mecanismos que regulan el agua de los embalses en España son claras y, en nuestro país, somos expertos en gestión del agua y en sus problemas adicionales, tanto en sequía como en inundaciones; estamos muy preparados”.\n",
    "\"\"\""
   ]
  },
  {
   "cell_type": "code",
   "execution_count": 130,
   "id": "1e67801a",
   "metadata": {},
   "outputs": [
    {
     "data": {
      "text/plain": [
       "['\\n',\n",
       " 'al cielo con cara de no entender. Junio, tradicionalmente el primero de los meses secos, ha sido el más lluvioso del año en ciudades como Málaga o Huesca. En Madrid, incluso, deja una tormenta de granizo. Pero no es suficiente. Las precipitaciones anuales continúan por debajo de los valores normales. Han sido demasiado cortas e irregulares, y los embalses siguen sin recuperarse. Estas infraestructuras han visto menguar su volumen de agua almacenada y se encuentran al 47,4% de su capacidad, una décima menos que la semana anterior. Son datos inferiores a los de las mismas fechas de 2022 y se sitúan 19 puntos por debajo del valor medio de la última década (66,7%). La situación preocupa. Por su parte, la cantidad de agua embalsada en las presas destinadas a la producción de energía eléctrica también ha menguado. Su reserva de agua se encuentra 7 décimas por debajo con respecto a la última semana, de forma que estos embalses se encuentran al 64,3% de su capacidad, igualmente por debajo de los valores medios de la última década (77%). Una cosa es clara: será preciso continuar con la pertinaz lucha que nuestro país mantiene desde toda la vida contra la sequía. En este panorama, surgen algunas preguntas: ¿nuestras reservas de agua están garantizadas? ¿Está asegurada el agua de uso humano, los caudales ecológicos o la producción de energía? ¿Qué hacen las centrales hidroeléctricas en épocas de sequía? Santiago Domínguez, responsable de generación hidroeléctrica de Endesa en España, tiene claro que este año está siendo malo. “El año pasado fue seco, por debajo de la media, y este año está siendo peor”. Arrastramos, dice, una situación de estrés hídrico que se ha ido encadenando. Para el trabajador de Endesa, que tiene centrales distribuidas por casi todo el mapa, desde Galicia a Cataluña, Extremadura o Andalucía, la situación de escasez no es nueva en el sur. Pero este año es “enorme” y ahora mismo hay una “situación de estrés hídrico” en las 3 zonas en las que operan. “Nuestras reservas se encuentran por debajo de la media nacional y están próximas al 30% con respecto a la capacidad total”, apunta, sin paliativos. “Una de las mayores, la de Mequinenza, en el Ebro, nunca ha estado en niveles tan bajos”. De hecho, tres de ellas (una en la cuenca del Ebro y dos en la cuenca del Guadiana) ya se encuentran paradas por falta de agua disponible para poder turbinar y generar electricidad. “El año pasado teníamos la previsión de que tendríamos que parar hacia septiembre-octubre, pero llegaron lluvias y no hubo que pararlas. Este año la previsión es que paren en agosto-septiembre, y en agosto es improbable que llueva…”, explica. Pero ¿por qué para una central hidroeléctrica? A grandes rasgos, por el bajo nivel de los embalses. “Cuando la entrada de agua no permite mantener la salida, la central se detiene para asegurar los caudales ecológicos, el abastecimiento humano y el riego”. En España, la ley establece una utilidad estricta para el uso del agua de los embalses: agua para consumo humano, agua para el campo y usos industriales, agua para generar energía y agua de uso recreativo. “El primero es el uso prioritario del agua, es decir, si peligra el consumo humano, todo lo que viene detrás se ajusta”, explica Domínguez. “Por eso el agua consuntiva, para el consumo humano, jamás se ha restringido (salvo excepciones muy particulares en las que la reserva es muy pequeña, no así en grandes embalses), pero sí se restringe el agua en otros sectores”, detalla. “En segunda posición se encuentra el agua para riego, cuyo consumo es muy relevante, muchísimo mayor que el humano y el hidroeléctrico, y este año ha sufrido ciertas restricciones importantes por falta de agua”, continúa. En tercer lugar se encuentra el uso hidroeléctrico, que no consume el agua. “La toma de un tramo del río, la turbina y la devuelve un poco más abajo, aunque es cierto que en ese tramo que une ambas partes el agua no está en el cauce, pero es un agua que como tal no se consume”, constata Domínguez. Para remediarlo, las Confederaciones Hidrográficas establecen una serie de medidas, como los caudales ecológicos, ya que la preservación de la biodiversidad de estas instalaciones es una obligación legal, incluso en situaciones de sequía. “Siempre se deben respetar los caudales ecológicos, por preservar el valor ecológico de la biodiversidad en nuestros ríos. Por lo que un río nunca se puede secar. El caudal mínimo debe respetarse antes del riego y después del consumo humano. El incumplimiento puede tener consecuencias penales. Si cualquier agente no lo respetase se expondría a una condena legal”, afirma. “La hidroeléctrica está en tercera posición, así que gestionamos nuestras instalaciones enfocados a asegurar los otros usos -continúa-. En los embalses donde hay reserva de agua suficiente, se desembalsa al ritmo que fijan las Confederaciones Hidrográficas para que en el río haya caudal suficiente como para atender todos los fines”. ¿Quién gestiona los embalses?Aunque pueda pensarse lo contrario, las eléctricas no deciden libremente cuándo utilizar el agua de un embalse para generar electricidad. Es la Administración del Estado quien gestiona las reservas de agua, a través de variedad de organismos regionales (Organismos de Cuenca) y, dentro de ellos, las Comisiones de Desembalse. El objetivo de estas comisiones es coordinar la variedad de necesidades de todos los beneficiarios del agua para garantizar el cumplimiento de sus usos prioritarios. “Por ejemplo, en el caso del río Ebro, hay embalses que deben garantizar el abastecimiento de Zaragoza, el riego de los campos, el agua para las industrias que la necesitan y las hidroeléctricas para generar electricidad”, ejemplifica Domínguez. En estos casos, se organizan periódicamente Comisiones de Desembalse integradas por agentes de todos los sectores. “En ellas se deben poner de acuerdo y a veces es complicado porque no hay agua para atender todos los usos. En estos casos, cada agente recibe unas instrucciones: a los regantes les dicen, por ejemplo, que pueden usar sólo una parte del volumen autorizado en condiciones normales. Y lo mismo con el resto de usos. Todos están sometidos al mejor reparto posible del volumen de agua disponible”, comenta el responsable. En la actualidad, aunque una mayor producción hidroeléctrica contribuiría a mitigar el impacto del precio del gas y la crisis climática, al reducir la necesidad de generar energía mediante centrales térmicas, nos encontramos en un año en el que la aportación hidroeléctrica está muy limitada debido a la escasez de agua. Para ello, “contamos con otro tipo de centrales, como las fotovoltaicas, que este año producirán algo más que en años anteriores por tamaño y número de instalaciones”. Asimismo, las compañías tratan de reducir la necesidad del uso del gas cubriendo la demanda con energía hidroeléctrica fuera de las horas en las que las tecnologías renovables como la solar no están disponibles. Por ejemplo, potenciando la generación hidroeléctrica por la noche. ¿Y si nos enfrentáramos a una sequía que pusiera en riesgo los usos consuntivos del agua, qué pasaría con la producción hidroeléctrica? “La primera vía sería limitar su uso al máximo, empezando por la generación hidroeléctrica. Nos ajustarían el caudal que podemos tomar para evitar situaciones de estrés en estos tramos del río entre el punto de toma y el de restitución del agua al cauce o lo restringirían del todo”, argumenta. Después se limitaría el regadío, llegando “al extremo de cancelarse del todo”. Y, ya por último, se podrían modificar los caudales ecológicos establecidos por ley. Llegados a ese punto hipotético de catástrofe futurista, explica, habría que cerrar el río para que todos los embalses pudieran sostener el agua que abastece a las ciudades. Por fortuna, “estamos muy lejos de comprometer el abastecimiento y los caudales ecológicos mínimos que aseguran la biodiversidad y el suministro. Por mucha sequía que atravesemos, estaremos siempre lejos de comprometerlo”, aclara. “Las normas y mecanismos que regulan el agua de los embalses en España son claras y, en nuestro país, somos expertos en gestión del agua y en sus problemas adicionales, tanto en sequía como en inundaciones; estamos muy preparados”.\\n']"
      ]
     },
     "execution_count": 130,
     "metadata": {},
     "output_type": "execute_result"
    }
   ],
   "source": [
    "body.split(\"España mira \")"
   ]
  },
  {
   "cell_type": "code",
   "execution_count": 124,
   "id": "fc450296",
   "metadata": {},
   "outputs": [
    {
     "name": "stdout",
     "output_type": "stream",
     "text": [
      "España ha experimentado un mes de junio muy lluvioso, pero las precipitaciones anuales siguen por debajo de los valores normales. Los embalses se encuentran al 47,4% de su capacidad, por debajo de los valores medios de la última década. Esto ha llevado a preocupaciones sobre las reservas de agua y la garantía de agua para uso humano, caudales ecológicos y producción de energía. Endesa, una empresa de energía, ha señalado que este año está siendo peor que el anterior en cuanto a la escasez de agua. Algunas centrales hidroeléctricas ya se han visto obligadas a parar debido a la falta de agua disponible. La gestión del agua en España es llevada a cabo por la Administración del Estado a través de organismos regionales y comisiones de desembalse. En caso de sequía, se prioriza el consumo humano y se limita el uso del agua para riego y generación de energía. Aunque la producción hidroeléctrica está limitada este año debido a la escasez de agua, se espera que las centrales fotovoltaicas compensen en cierta medida. En caso de una sequía extrema, se tomarían medidas para garantizar el abastecimiento y los caudales ecológicos mínimos. Afortunadamente, se considera que España está preparada para gestionar los desafíos relacionados con el agua.\n"
     ]
    }
   ],
   "source": [
    "openai_response2 = openai.ChatCompletion.create(\n",
    "    model=\"gpt-3.5-turbo\",\n",
    "    messages=[\n",
    "        {\"role\": \"system\", \"content\": prompt_role_summary_only},\n",
    "        {\"role\": \"user\", \"content\": body},\n",
    "    ]\n",
    ")\n",
    "message_content2 = openai_response2[\"choices\"][0].message[\"content\"]\n",
    "print(message_content2)"
   ]
  },
  {
   "cell_type": "code",
   "execution_count": 125,
   "id": "60643476",
   "metadata": {},
   "outputs": [
    {
     "data": {
      "text/plain": [
       "'España ha experimentado un mes de junio muy lluvioso, pero las precipitaciones anuales siguen por debajo de los valores normales. Los embalses se encuentran al 47,4% de su capacidad, por debajo de los valores medios de la última década. Esto ha llevado a preocupaciones sobre las reservas de agua y la garantía de agua para uso humano, caudales ecológicos y producción de energía. Endesa, una empresa de energía, ha señalado que este año está siendo peor que el anterior en cuanto a la escasez de agua. Algunas centrales hidroeléctricas ya se han visto obligadas a parar debido a la falta de agua disponible. La gestión del agua en España es llevada a cabo por la Administración del Estado a través de organismos regionales y comisiones de desembalse. En caso de sequía, se prioriza el consumo humano y se limita el uso del agua para riego y generación de energía. Aunque la producción hidroeléctrica está limitada este año debido a la escasez de agua, se espera que las centrales fotovoltaicas compensen en cierta medida. En caso de una sequía extrema, se tomarían medidas para garantizar el abastecimiento y los caudales ecológicos mínimos. Afortunadamente, se considera que España está preparada para gestionar los desafíos relacionados con el agua.'"
      ]
     },
     "execution_count": 125,
     "metadata": {},
     "output_type": "execute_result"
    }
   ],
   "source": [
    "message_content2"
   ]
  },
  {
   "cell_type": "code",
   "execution_count": null,
   "id": "8265e1d0",
   "metadata": {},
   "outputs": [],
   "source": []
  }
 ],
 "metadata": {
  "kernelspec": {
   "display_name": "Python 3 (ipykernel)",
   "language": "python",
   "name": "python3"
  },
  "language_info": {
   "codemirror_mode": {
    "name": "ipython",
    "version": 3
   },
   "file_extension": ".py",
   "mimetype": "text/x-python",
   "name": "python",
   "nbconvert_exporter": "python",
   "pygments_lexer": "ipython3",
   "version": "3.9.13"
  }
 },
 "nbformat": 4,
 "nbformat_minor": 5
}
