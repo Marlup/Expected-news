{
 "cells": [
  {
   "cell_type": "code",
   "execution_count": 72,
   "id": "09a97c12",
   "metadata": {},
   "outputs": [],
   "source": [
    "import sqlite3"
   ]
  },
  {
   "cell_type": "code",
   "execution_count": 73,
   "id": "fd7d597a",
   "metadata": {},
   "outputs": [],
   "source": [
    "con = sqlite3.connect(\"News.sqlite3\")\n",
    "cur = con.cursor()"
   ]
  },
  {
   "cell_type": "code",
   "execution_count": 134,
   "id": "c353262e",
   "metadata": {},
   "outputs": [],
   "source": [
    "def insert_news_one(data):\n",
    "    \n",
    "    insert_one_str = f\"\"\"INSERT INTO News VALUES(?, ?, ?, ?, ?, ?, ?, ?, ?, ?, ?, ?);\"\"\"\n",
    "    query_output = False\n",
    "    try:\n",
    "        cur.execute(insert_one_str, data)\n",
    "        con.commit()\n",
    "        query_output = True\n",
    "    except:\n",
    "        print(\"Error. insert_news_one() method failed\")\n",
    "    query_output\n",
    "\n",
    "def insert_news_many(data):\n",
    "    insert_many_str = \"\"\"INSERT INTO News VALUES(?, ?, ?, ?, ?, ?, ?, ?, ?, ?, ?, ?);\"\"\"\n",
    "    query_output = False\n",
    "    try:\n",
    "        cur.executemany(insert_one_str, data)\n",
    "        con.commit()\n",
    "        query_output = True\n",
    "    except:\n",
    "        print(\"Error. insert_news_many() method failed\")\n",
    "    return query_output\n",
    "\n",
    "def select_all(data):\n",
    "    select_query_str = \"\"\"\n",
    "        SELECT *\n",
    "            FROM News;\n",
    "        \"\"\"\n",
    "    query_output = None\n",
    "    try:\n",
    "        query_output = cur.execute(select_query_str, data)\n",
    "        con.commit()\n",
    "    except:\n",
    "        print(\"Error. insert_news_many() method failed\")\n",
    "    return query_output\n",
    "\n",
    "def select_filter_between_date(dates, order_field=None):\n",
    "    if order_field is None:\n",
    "        order_field = \"creationDate\"\n",
    "    select_query_str = \"\"\"\n",
    "        SELECT *\n",
    "            FROM News\n",
    "            WHERE \n",
    "                creationDate BETWEEN ? AND ?\n",
    "        ORDER BY\n",
    "            ? DESC;\n",
    "        \"\"\"\n",
    "    query_output = None\n",
    "    try:\n",
    "        query_output = cur.execute(select_query_str, dates + [order_field])\n",
    "        con.commit()\n",
    "    except:\n",
    "        print(\"Error. select_filter_between_date() method failed\")\n",
    "    return query_output"
   ]
  },
  {
   "cell_type": "code",
   "execution_count": null,
   "id": "0bfd1531",
   "metadata": {},
   "outputs": [],
   "source": []
  }
 ],
 "metadata": {
  "kernelspec": {
   "display_name": "Python 3 (ipykernel)",
   "language": "python",
   "name": "python3"
  },
  "language_info": {
   "codemirror_mode": {
    "name": "ipython",
    "version": 3
   },
   "file_extension": ".py",
   "mimetype": "text/x-python",
   "name": "python",
   "nbconvert_exporter": "python",
   "pygments_lexer": "ipython3",
   "version": "3.9.13"
  }
 },
 "nbformat": 4,
 "nbformat_minor": 5
}
