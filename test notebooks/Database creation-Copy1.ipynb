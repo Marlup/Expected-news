{
 "cells": [
  {
   "cell_type": "code",
   "execution_count": 3,
   "id": "7b1a2a24",
   "metadata": {},
   "outputs": [],
   "source": [
    "import sqlite3"
   ]
  },
  {
   "cell_type": "code",
   "execution_count": 4,
   "id": "c6a426ed",
   "metadata": {},
   "outputs": [],
   "source": [
    "conn = sqlite3.connect(\"News.sqlite3\")\n",
    "cur = conn.cursor()"
   ]
  },
  {
   "cell_type": "code",
   "execution_count": 5,
   "id": "7d8d190f",
   "metadata": {},
   "outputs": [],
   "source": [
    "create_db_str = \"\"\"\n",
    "CREATE TABLE Artists(\n",
    "    artistId INTEGER PRIMARY KEY,\n",
    "    name TEXT\n",
    "    )\n",
    "\"\"\""
   ]
  },
  {
   "cell_type": "code",
   "execution_count": 13,
   "id": "0d5fba96",
   "metadata": {},
   "outputs": [],
   "source": [
    "conn.close()"
   ]
  },
  {
   "cell_type": "code",
   "execution_count": 79,
   "id": "7e96afa3",
   "metadata": {},
   "outputs": [
    {
     "data": {
      "text/plain": [
       "<sqlite3.Cursor at 0x1ec6b454c70>"
      ]
     },
     "execution_count": 79,
     "metadata": {},
     "output_type": "execute_result"
    }
   ],
   "source": [
    "cur.execute(\"DROP TABLE Article\")"
   ]
  },
  {
   "cell_type": "code",
   "execution_count": 6,
   "id": "f6888979",
   "metadata": {},
   "outputs": [],
   "source": [
    "cur.execute(create_db_str)\n",
    "conn.commit()"
   ]
  },
  {
   "cell_type": "code",
   "execution_count": 8,
   "id": "ff1f47ad",
   "metadata": {},
   "outputs": [
    {
     "data": {
      "text/plain": [
       "<sqlite3.Cursor at 0x1a26685df80>"
      ]
     },
     "execution_count": 8,
     "metadata": {},
     "output_type": "execute_result"
    }
   ],
   "source": [
    "cur.execute(\"INSERT INTO Artists (name) VALUES('Bud Powell');\")"
   ]
  },
  {
   "cell_type": "code",
   "execution_count": 12,
   "id": "c4a31f79",
   "metadata": {},
   "outputs": [
    {
     "data": {
      "text/plain": [
       "[(1, 'Bud Powell')]"
      ]
     },
     "execution_count": 12,
     "metadata": {},
     "output_type": "execute_result"
    }
   ],
   "source": [
    "cur.execute(\"SELECT * FROM Artists\").fetchall()"
   ]
  },
  {
   "cell_type": "code",
   "execution_count": 64,
   "id": "b3772590",
   "metadata": {},
   "outputs": [],
   "source": [
    "create_index_str = \"\"\"\n",
    "CREATE UNIQUE INDEX index_news_id \n",
    "    ON Article(news_id);\n",
    "\"\"\""
   ]
  },
  {
   "cell_type": "code",
   "execution_count": 65,
   "id": "37ad1289",
   "metadata": {},
   "outputs": [
    {
     "data": {
      "text/plain": [
       "<sqlite3.Cursor at 0x1ec6b454c70>"
      ]
     },
     "execution_count": 65,
     "metadata": {},
     "output_type": "execute_result"
    }
   ],
   "source": [
    "cur.execute(create_index_str)"
   ]
  },
  {
   "cell_type": "code",
   "execution_count": 35,
   "id": "b5acaebd",
   "metadata": {},
   "outputs": [],
   "source": [
    "def insert_news_one(title: str,\n",
    "                    subtitle: str,\n",
    "                    article: str,\n",
    "                    source: str,\n",
    "                    api_source: str,\n",
    "                    country: int,\n",
    "                    creation_date: str,\n",
    "                    update_date: str,\n",
    "                    author: str\n",
    "                   ):\n",
    "    \n",
    "    insert_one_str = f\"\"\"\n",
    "        INSERT INTO Article \n",
    "            VALUES(\n",
    "                {title}, \n",
    "                {subtitle}, \n",
    "                {article}, \n",
    "                {source}, \n",
    "                {api_source}, \n",
    "                {country}, \n",
    "                {creation_date}, \n",
    "                {update_date}, \n",
    "                {author}\n",
    "                )\n",
    "    \"\"\"\n",
    "    query_output = False\n",
    "    try:\n",
    "        cur.execute(insert_one_str)\n",
    "        con.commit()\n",
    "        query_output = True\n",
    "    except:\n",
    "        print(\"Error. insert_news_one() method failed\")\n",
    "    query_output\n",
    "\n",
    "def insert_news_many(data):\n",
    "    insert_many_str = \"\"\"\n",
    "        INSERT INTO Article  VALUES(?, ?, ?, ?, ?, ?, ?, ?, ?)\n",
    "    \"\"\"\n",
    "    query_output = False\n",
    "    try:\n",
    "        cur.executemany(insert_one_str, data)\n",
    "        con.commit()\n",
    "        query_output = True\n",
    "    except:\n",
    "        print(\"Error. insert_news_many() method failed\")\n",
    "    return query_output"
   ]
  },
  {
   "cell_type": "code",
   "execution_count": 33,
   "id": "2489c920",
   "metadata": {},
   "outputs": [],
   "source": [
    "def select_one(data):\n",
    "    select_query_str = \"\"\"\n",
    "        SELECT title, country\n",
    "            FROM Article\n",
    "        \"\"\"\n",
    "    query_output = None\n",
    "    try:\n",
    "        query_output = cur.execute(select_query_str, data)\n",
    "        con.commit()\n",
    "    except:\n",
    "        print(\"Error. insert_news_many() method failed\")\n",
    "    return query_output"
   ]
  },
  {
   "cell_type": "code",
   "execution_count": 85,
   "id": "48cd427c",
   "metadata": {},
   "outputs": [
    {
     "ename": "InterfaceError",
     "evalue": "Error binding parameter 1 - probably unsupported type.",
     "output_type": "error",
     "traceback": [
      "\u001b[1;31m---------------------------------------------------------------------------\u001b[0m",
      "\u001b[1;31mInterfaceError\u001b[0m                            Traceback (most recent call last)",
      "\u001b[1;32m~\\AppData\\Local\\Temp\\ipykernel_20520\\4175756405.py\u001b[0m in \u001b[0;36m<module>\u001b[1;34m\u001b[0m\n\u001b[0;32m     15\u001b[0m \"\"\"\n\u001b[0;32m     16\u001b[0m \u001b[0mquery_output\u001b[0m \u001b[1;33m=\u001b[0m \u001b[1;32mFalse\u001b[0m\u001b[1;33m\u001b[0m\u001b[1;33m\u001b[0m\u001b[0m\n\u001b[1;32m---> 17\u001b[1;33m \u001b[0mcur\u001b[0m\u001b[1;33m.\u001b[0m\u001b[0mexecute\u001b[0m\u001b[1;33m(\u001b[0m\u001b[0minsert_one_str\u001b[0m\u001b[1;33m,\u001b[0m \u001b[0mdata\u001b[0m\u001b[1;33m)\u001b[0m\u001b[1;33m\u001b[0m\u001b[1;33m\u001b[0m\u001b[0m\n\u001b[0m\u001b[0;32m     18\u001b[0m \u001b[0mcon\u001b[0m\u001b[1;33m.\u001b[0m\u001b[0mcommit\u001b[0m\u001b[1;33m(\u001b[0m\u001b[1;33m)\u001b[0m\u001b[1;33m\u001b[0m\u001b[1;33m\u001b[0m\u001b[0m\n\u001b[0;32m     19\u001b[0m \u001b[0mquery_output\u001b[0m \u001b[1;33m=\u001b[0m \u001b[1;32mTrue\u001b[0m\u001b[1;33m\u001b[0m\u001b[1;33m\u001b[0m\u001b[0m\n",
      "\u001b[1;31mInterfaceError\u001b[0m: Error binding parameter 1 - probably unsupported type."
     ]
    }
   ],
   "source": [
    "title = \"Gran noticia 1\", \n",
    "subtitle = \"Subtitulo de gran noticia 1\"\n",
    "article = \"Una gran noticia 1 ha acontencido\"\n",
    "source = \"False BBC\"\n",
    "api_source = \"best-news api\"\n",
    "country = \"Ireland\"\n",
    "creation_date = \"19-05-2023 10:39:01\"\n",
    "update_date = \"19-05-2023 11:07:23\"\n",
    "author = \"Hillary Smith\"\n",
    "data = [1, title, subtitle, article, source, api_source, country, creation_date, update_date, author]\n",
    "\n",
    "insert_one_str = \"\"\"\n",
    "    INSERT INTO Article \n",
    "        VALUES(?, ?, ?, ?, ?, ?, ?, ?, ?, ?);\n",
    "\"\"\"\n",
    "query_output = False\n",
    "cur.execute(insert_one_str, data)\n",
    "con.commit()\n",
    "query_output = True"
   ]
  },
  {
   "cell_type": "code",
   "execution_count": 86,
   "id": "9d707b3d",
   "metadata": {},
   "outputs": [
    {
     "name": "stdout",
     "output_type": "stream",
     "text": [
      "Error. insert_news_one() method failed\n"
     ]
    }
   ],
   "source": [
    "insert_news_one(\"Gran noticia 1\", \n",
    "                \"Subtitulo de gran noticia 1\",\n",
    "                \"Una gran noticia 1 ha acontencido\",\n",
    "                \"False BBC\",\n",
    "                \"best-news api\",\n",
    "                1,\n",
    "                \"19/05/2023 10:39:01\",\n",
    "                \"19/05/2023 11:07:23\",\n",
    "                \"Hillary Smith\"\n",
    "               )"
   ]
  },
  {
   "cell_type": "code",
   "execution_count": 34,
   "id": "a7c5bce5",
   "metadata": {},
   "outputs": [
    {
     "data": {
      "text/plain": [
       "[]"
      ]
     },
     "execution_count": 34,
     "metadata": {},
     "output_type": "execute_result"
    }
   ],
   "source": [
    "select_query_str = \"\"\"\n",
    "SELECT title, country\n",
    "FROM Article\n",
    "\"\"\"\n",
    "\n",
    "query_output = cur.execute(select_query_str)\n",
    "query_output.fetchall()"
   ]
  },
  {
   "cell_type": "code",
   "execution_count": null,
   "id": "5e9fee64",
   "metadata": {},
   "outputs": [],
   "source": []
  }
 ],
 "metadata": {
  "kernelspec": {
   "display_name": "Python 3 (ipykernel)",
   "language": "python",
   "name": "python3"
  },
  "language_info": {
   "codemirror_mode": {
    "name": "ipython",
    "version": 3
   },
   "file_extension": ".py",
   "mimetype": "text/x-python",
   "name": "python",
   "nbconvert_exporter": "python",
   "pygments_lexer": "ipython3",
   "version": "3.9.13"
  }
 },
 "nbformat": 4,
 "nbformat_minor": 5
}
