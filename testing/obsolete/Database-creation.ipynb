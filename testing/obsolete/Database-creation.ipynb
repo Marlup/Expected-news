{
 "cells": [
  {
   "cell_type": "code",
   "execution_count": 72,
   "id": "09a97c12",
   "metadata": {},
   "outputs": [],
   "source": [
    "import sqlite3"
   ]
  },
  {
   "cell_type": "code",
   "execution_count": 73,
   "id": "fd7d597a",
   "metadata": {},
   "outputs": [],
   "source": [
    "con = sqlite3.connect(\"News.sqlite3\")\n",
    "cur = con.cursor()"
   ]
  },
  {
   "cell_type": "code",
   "execution_count": 160,
   "id": "ff5ae9f1",
   "metadata": {},
   "outputs": [],
   "source": [
    "create_db_str = \"\"\"\n",
    "CREATE TABLE News(\n",
    "    newsId INTEGER PRIMARY KEY NOT NULL,\n",
    "    title TEXT, \n",
    "    subtitle TEXT, \n",
    "    article TEXT, \n",
    "    source TEXT,\n",
    "    apiSource TEXT,\n",
    "    country TEXT,\n",
    "    creationDate TEXT, \n",
    "    creationTime TEXT, \n",
    "    updateDate TEXT, \n",
    "    updateTime TEXT, \n",
    "    author TEXT)\n",
    "\"\"\""
   ]
  },
  {
   "cell_type": "code",
   "execution_count": 159,
   "id": "cc142bf8",
   "metadata": {},
   "outputs": [
    {
     "data": {
      "text/plain": [
       "<sqlite3.Cursor at 0x27299252a40>"
      ]
     },
     "execution_count": 159,
     "metadata": {},
     "output_type": "execute_result"
    }
   ],
   "source": [
    "cur.execute(\"DROP TABLE News\")"
   ]
  },
  {
   "cell_type": "code",
   "execution_count": 161,
   "id": "0b40740f",
   "metadata": {},
   "outputs": [],
   "source": [
    "cur.execute(create_db_str)\n",
    "con.commit()"
   ]
  },
  {
   "cell_type": "code",
   "execution_count": 162,
   "id": "f49abc46",
   "metadata": {},
   "outputs": [],
   "source": [
    "create_index_str = \"\"\"\n",
    "CREATE UNIQUE INDEX index_news_id \n",
    "    ON News(newsId);\n",
    "\"\"\""
   ]
  },
  {
   "cell_type": "code",
   "execution_count": 163,
   "id": "5dba2a1d",
   "metadata": {},
   "outputs": [
    {
     "data": {
      "text/plain": [
       "<sqlite3.Cursor at 0x27299252a40>"
      ]
     },
     "execution_count": 163,
     "metadata": {},
     "output_type": "execute_result"
    }
   ],
   "source": [
    "cur.execute(create_index_str)"
   ]
  },
  {
   "cell_type": "code",
   "execution_count": 134,
   "id": "c353262e",
   "metadata": {},
   "outputs": [],
   "source": [
    "def insert_news_one(data):\n",
    "    \n",
    "    insert_one_str = f\"\"\"INSERT INTO News VALUES(?, ?, ?, ?, ?, ?, ?, ?, ?, ?, ?, ?);\"\"\"\n",
    "    query_output = False\n",
    "    try:\n",
    "        cur.execute(insert_one_str, data)\n",
    "        con.commit()\n",
    "        query_output = True\n",
    "    except:\n",
    "        print(\"Error. insert_news_one() method failed\")\n",
    "    query_output\n",
    "\n",
    "def insert_news_many(data):\n",
    "    insert_many_str = \"\"\"INSERT INTO News VALUES(?, ?, ?, ?, ?, ?, ?, ?, ?, ?, ?, ?);\"\"\"\n",
    "    query_output = False\n",
    "    try:\n",
    "        cur.executemany(insert_one_str, data)\n",
    "        con.commit()\n",
    "        query_output = True\n",
    "    except:\n",
    "        print(\"Error. insert_news_many() method failed\")\n",
    "    return query_output\n",
    "\n",
    "def select_all(data):\n",
    "    select_query_str = \"\"\"\n",
    "        SELECT *\n",
    "            FROM News;\n",
    "        \"\"\"\n",
    "    query_output = None\n",
    "    try:\n",
    "        query_output = cur.execute(select_query_str, data)\n",
    "        con.commit()\n",
    "    except:\n",
    "        print(\"Error. insert_news_many() method failed\")\n",
    "    return query_output\n",
    "\n",
    "def select_filter_between_date(dates, order_field=None):\n",
    "    if order_field is None:\n",
    "        order_field = \"creationDate\"\n",
    "    select_query_str = \"\"\"\n",
    "        SELECT *\n",
    "            FROM News\n",
    "            WHERE \n",
    "                creationDate BETWEEN ? AND ?\n",
    "        ORDER BY\n",
    "            ? DESC;\n",
    "        \"\"\"\n",
    "    query_output = None\n",
    "    try:\n",
    "        query_output = cur.execute(select_query_str, dates + [order_field])\n",
    "        con.commit()\n",
    "    except:\n",
    "        print(\"Error. select_filter_between_date() method failed\")\n",
    "    return query_output"
   ]
  },
  {
   "cell_type": "code",
   "execution_count": 179,
   "id": "9fb17e41",
   "metadata": {},
   "outputs": [],
   "source": [
    "title = \"Gran noticia 8\"\n",
    "subtitle = \"Subtitulo de gran 8\"\n",
    "article = \"Una gran noticia 1 ha acontencido\"\n",
    "source = \"False BBC\"\n",
    "api_source = \"best-news api\"\n",
    "country = \"Ireland\"\n",
    "creation_date = \"2023-05-26\"\n",
    "update_date = creation_date\n",
    "author = \"Hillary Smith\"\n",
    "data = [None, title, subtitle, article, source, api_source, country, creation_date, \"\", update_date, \"\", author]"
   ]
  },
  {
   "cell_type": "code",
   "execution_count": 180,
   "id": "26a7f9d3",
   "metadata": {},
   "outputs": [],
   "source": [
    "insert_news_one(data)"
   ]
  },
  {
   "cell_type": "code",
   "execution_count": 181,
   "id": "2b2b734f",
   "metadata": {},
   "outputs": [
    {
     "data": {
      "text/plain": [
       "[(1,\n",
       "  'Gran noticia 1',\n",
       "  'Subtitulo de gran 1',\n",
       "  'Una gran noticia 1 ha acontencido',\n",
       "  'False BBC',\n",
       "  'best-news api',\n",
       "  'Ireland',\n",
       "  '2023-05-20',\n",
       "  '',\n",
       "  '2023-05-20',\n",
       "  '',\n",
       "  'Hillary Smith'),\n",
       " (2,\n",
       "  'Gran noticia 2',\n",
       "  'Subtitulo de gran 2',\n",
       "  'Una gran noticia 1 ha acontencido',\n",
       "  'False BBC',\n",
       "  'best-news api',\n",
       "  'Ireland',\n",
       "  '2023-05-20',\n",
       "  '',\n",
       "  '2023-05-20',\n",
       "  '',\n",
       "  'Hillary Smith'),\n",
       " (3,\n",
       "  'Gran noticia 3',\n",
       "  'Subtitulo de gran 3',\n",
       "  'Una gran noticia 1 ha acontencido',\n",
       "  'False BBC',\n",
       "  'best-news api',\n",
       "  'Ireland',\n",
       "  '2023-05-20',\n",
       "  '',\n",
       "  '2023-05-20',\n",
       "  '',\n",
       "  'Hillary Smith'),\n",
       " (4,\n",
       "  'Gran noticia 4',\n",
       "  'Subtitulo de gran 4',\n",
       "  'Una gran noticia 1 ha acontencido',\n",
       "  'False BBC',\n",
       "  'best-news api',\n",
       "  'Ireland',\n",
       "  '2023-05-21',\n",
       "  '',\n",
       "  '2023-05-21',\n",
       "  '',\n",
       "  'Hillary Smith'),\n",
       " (5,\n",
       "  'Gran noticia 5',\n",
       "  'Subtitulo de gran 5',\n",
       "  'Una gran noticia 1 ha acontencido',\n",
       "  'False BBC',\n",
       "  'best-news api',\n",
       "  'Ireland',\n",
       "  '2023-05-21',\n",
       "  '',\n",
       "  '2023-05-21',\n",
       "  '',\n",
       "  'Hillary Smith'),\n",
       " (6,\n",
       "  'Gran noticia 6',\n",
       "  'Subtitulo de gran 6',\n",
       "  'Una gran noticia 1 ha acontencido',\n",
       "  'False BBC',\n",
       "  'best-news api',\n",
       "  'Ireland',\n",
       "  '2023-05-21',\n",
       "  '',\n",
       "  '2023-05-21',\n",
       "  '',\n",
       "  'Hillary Smith'),\n",
       " (7,\n",
       "  'Gran noticia 7',\n",
       "  'Subtitulo de gran 7',\n",
       "  'Una gran noticia 1 ha acontencido',\n",
       "  'False BBC',\n",
       "  'best-news api',\n",
       "  'Ireland',\n",
       "  '2023-05-25',\n",
       "  '',\n",
       "  '2023-05-25',\n",
       "  '',\n",
       "  'Hillary Smith'),\n",
       " (8,\n",
       "  'Gran noticia 8',\n",
       "  'Subtitulo de gran 8',\n",
       "  'Una gran noticia 1 ha acontencido',\n",
       "  'False BBC',\n",
       "  'best-news api',\n",
       "  'Ireland',\n",
       "  '2023-05-26',\n",
       "  '',\n",
       "  '2023-05-26',\n",
       "  '',\n",
       "  'Hillary Smith')]"
      ]
     },
     "execution_count": 181,
     "metadata": {},
     "output_type": "execute_result"
    }
   ],
   "source": [
    "select_query_str = \"\"\"\n",
    "SELECT *\n",
    "    FROM News\n",
    "\"\"\"\n",
    "query_output = cur.execute(select_query_str)\n",
    "query_output.fetchall()"
   ]
  },
  {
   "cell_type": "code",
   "execution_count": 188,
   "id": "49c60f4a",
   "metadata": {},
   "outputs": [
    {
     "data": {
      "text/plain": [
       "[(4,\n",
       "  'Gran noticia 4',\n",
       "  'Subtitulo de gran 4',\n",
       "  'Una gran noticia 1 ha acontencido',\n",
       "  'False BBC',\n",
       "  'best-news api',\n",
       "  'Ireland',\n",
       "  '2023-05-21',\n",
       "  '',\n",
       "  '2023-05-21',\n",
       "  '',\n",
       "  'Hillary Smith'),\n",
       " (5,\n",
       "  'Gran noticia 5',\n",
       "  'Subtitulo de gran 5',\n",
       "  'Una gran noticia 1 ha acontencido',\n",
       "  'False BBC',\n",
       "  'best-news api',\n",
       "  'Ireland',\n",
       "  '2023-05-21',\n",
       "  '',\n",
       "  '2023-05-21',\n",
       "  '',\n",
       "  'Hillary Smith'),\n",
       " (6,\n",
       "  'Gran noticia 6',\n",
       "  'Subtitulo de gran 6',\n",
       "  'Una gran noticia 1 ha acontencido',\n",
       "  'False BBC',\n",
       "  'best-news api',\n",
       "  'Ireland',\n",
       "  '2023-05-21',\n",
       "  '',\n",
       "  '2023-05-21',\n",
       "  '',\n",
       "  'Hillary Smith')]"
      ]
     },
     "execution_count": 188,
     "metadata": {},
     "output_type": "execute_result"
    }
   ],
   "source": [
    "select_filter_between_date([\"2023-05-21\", \"2023-05-24\"]).fetchall()"
   ]
  },
  {
   "cell_type": "code",
   "execution_count": null,
   "id": "0bfd1531",
   "metadata": {},
   "outputs": [],
   "source": []
  }
 ],
 "metadata": {
  "kernelspec": {
   "display_name": "Python 3 (ipykernel)",
   "language": "python",
   "name": "python3"
  },
  "language_info": {
   "codemirror_mode": {
    "name": "ipython",
    "version": 3
   },
   "file_extension": ".py",
   "mimetype": "text/x-python",
   "name": "python",
   "nbconvert_exporter": "python",
   "pygments_lexer": "ipython3",
   "version": "3.9.13"
  }
 },
 "nbformat": 4,
 "nbformat_minor": 5
}
