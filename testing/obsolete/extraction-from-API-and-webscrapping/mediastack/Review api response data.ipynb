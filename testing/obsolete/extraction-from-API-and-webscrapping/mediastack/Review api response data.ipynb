{
 "cells": [
  {
   "cell_type": "code",
   "execution_count": 64,
   "id": "ccbe86f8",
   "metadata": {},
   "outputs": [],
   "source": [
    "import json\n",
    "from pprint import pprint\n",
    "import os\n",
    "from datetime import datetime"
   ]
  },
  {
   "cell_type": "code",
   "execution_count": null,
   "id": "c8f85c90",
   "metadata": {},
   "outputs": [],
   "source": [
    "# Constants\n",
    "API_SOURCE = \"mediastack\""
   ]
  },
  {
   "cell_type": "code",
   "execution_count": 140,
   "id": "7a9a6807",
   "metadata": {},
   "outputs": [
    {
     "data": {
      "text/plain": [
       "'2023-05-22'"
      ]
     },
     "execution_count": 140,
     "metadata": {},
     "output_type": "execute_result"
    }
   ],
   "source": [
    "current_date, time = str(datetime.today()).split(\" \")\n",
    "current_date"
   ]
  },
  {
   "cell_type": "code",
   "execution_count": 5,
   "id": "f975d98c",
   "metadata": {},
   "outputs": [
    {
     "name": "stdout",
     "output_type": "stream",
     "text": [
      "{'pagination': {'limit': 10, 'offset': 0, 'count': 10, 'total': 10000}, 'data': [{'author': 'zee business', 'title': 'air india air india express flights special flights haj flights operate jaipur chennai kozhikode kannar pilgrims', 'description': 'Air India and Air India Express will operate special Haj flights from Jaipur, Chennai, Kozhikode and Kannur, carrying around 19,000 pilgrims.', 'url': 'https://www.zeebiz.com/india/news-air-india-air-india-express-flights-special-flights-haj-flights-operate-jaipur-chennai-kozhikode-kannar-pilgrims-236397', 'source': 'Zee Business', 'image': None, 'category': 'business', 'language': 'en', 'country': 'us', 'published_at': '2023-05-22T10:43:38+00:00'}, {'author': 'Sanjeev Sinha', 'title': 'The future of real estate is bright in Tier 1 & Tier 2 cities: Saransh Trehan, Trehan Group', 'description': 'In a exclusive interview, Saransh Trehan of the Trehan Group talks about the latest trends in real estate and the future of the sector in Tier 1 and 2 cities.', 'url': 'https://www.financialexpress.com/money/the-future-of-real-estate-is-bright-in-tier-1-amp-tier-2-cities-saransh-trehan-trehan-group/3097500/', 'source': 'The Financial Express', 'image': 'https://www.financialexpress.com/wp-content/uploads/2023/05/Saransh-Trehan-MD-Trehan-Group.jpg', 'category': 'business', 'language': 'en', 'country': 'us', 'published_at': '2023-05-22T10:42:04+00:00'}, {'author': None, 'title': 'Etsy is tipped by BofA to be beneficiary of AI integration', 'description': 'Etsy is tipped by BofA to be beneficiary of AI integration', 'url': 'https://seekingalpha.com/news/3973704-etsy-is-tipped-by-bofa-to-be-beneficiary-of-ai-integration?utm_source=feed_news_all&utm_medium=referral', 'source': 'Seeking Alpha', 'image': None, 'category': 'business', 'language': 'en', 'country': 'us', 'published_at': '2023-05-22T10:42:01+00:00'}, {'author': 'Jeff Newmond', 'title': 'Understanding Ground-Mounted Solar Panels', 'description': 'Homeowners and businesses looking to install solar panels are increasingly turning to ground-mounted solar panels. This option provides not only more power, but also a number of additional benefits. Ground-mounted solar panels are typically installed on a frame or racking system and are easily adjustable. This allows them to be angled for maximum efficiency. Additionally, [&#8230;]The post Understanding Ground-Mounted Solar Panels first appeared on BusinessMole.', 'url': 'https://www.businessmole.com/understanding-ground-mounted-solar-panels/', 'source': 'Businessmole', 'image': None, 'category': 'business', 'language': 'en', 'country': 'us', 'published_at': '2023-05-22T10:41:14+00:00'}, {'author': 'Jeff Newmond', 'title': 'Avoiding the Top 10 Errors when Hiring Solar Installers', 'description': 'New research indicates that the solar market in the United States is predicted to increase by 40% over the next eight years. Homeowners considering installing solar panels should be aware of the potential pitfalls in the hiring process for solar installers. An insecurely installed system can lead to frequent repairs or replacements, resulting in higher [&#8230;]The post Avoiding the Top 10 Errors when Hiring Solar Installers first appeared on BusinessMole.', 'url': 'https://www.businessmole.com/avoiding-the-top-10-errors-when-hiring-solar-installers/', 'source': 'Businessmole', 'image': None, 'category': 'business', 'language': 'en', 'country': 'us', 'published_at': '2023-05-22T10:41:08+00:00'}, {'author': 'Jeff Newmond', 'title': 'Learn About Solar Towers and Their Functionality', 'description': 'As renewable energy sources become more popular, solar tower technology has emerged as a viable option for those looking to generate power. Solar tower technology, also known as a central tower power plant, has the potential to provide enough energy to drive clean energy projects. It works by capturing the sun&#8217;s energy with multiple large [&#8230;]The post Learn About Solar Towers and Their Functionality first appeared on BusinessMole.', 'url': 'https://www.businessmole.com/learn-about-solar-towers-and-their-functionality/', 'source': 'Businessmole', 'image': None, 'category': 'business', 'language': 'en', 'country': 'us', 'published_at': '2023-05-22T10:41:08+00:00'}, {'author': None, 'title': 'Missfresh receives Nasdaq non-compliance notice', 'description': 'Missfresh receives Nasdaq non-compliance notice', 'url': 'https://seekingalpha.com/news/3973703-missfresh-receives-nasdaq-non-compliance-notice?utm_source=feed_news_all&utm_medium=referral', 'source': 'Seeking Alpha', 'image': None, 'category': 'business', 'language': 'en', 'country': 'us', 'published_at': '2023-05-22T10:40:40+00:00'}, {'author': 'Lisa Mascaro, Mary Clare Jalonick, The Associated Press', 'title': 'Why fixing the debt ceiling is a struggle in Washington', 'description': 'Presiden Biden and House Speaker Kevin McCarthy will meet Monday after a weekend of\\xa0on again, off again negotiations\\xa0over raising the debt ceiling.', 'url': 'https://fortune.com/2023/05/22/fixing-debt-ceiling-struggle-washington-how-impasse-could-end-biden-mccarthy/', 'source': 'Fortune', 'image': 'https://content.fortune.com/wp-content/uploads/2023/05/AP23141453247998-e1684751371875.jpg?w=2048', 'category': 'business', 'language': 'en', 'country': 'us', 'published_at': '2023-05-22T10:38:49+00:00'}, {'author': 'D-e_v@IS', 'title': 'What Are Ground-Mounted Solar Panels?', 'description': 'When considering solar panels, what do you picture in your head? Perhaps you envision a panel or a few being mounted onto the rooftop of your home. Ground-mounted solar panels are quickly becoming a go-to choice for most homeowners and businesses looking to install solar panels. Ground-mounted panels provide not only more power but also [&#8230;]The post What Are Ground-Mounted Solar Panels? appeared first on Insights Success.', 'url': 'https://insightssuccess.com/what-are-ground-mounted-solar-panels/', 'source': 'Insights Success', 'image': None, 'category': 'business', 'language': 'en', 'country': 'us', 'published_at': '2023-05-22T10:37:43+00:00'}, {'author': 'Felipe Moreira', 'title': 'CCR (CCRO3) aprova R$ 2,65 bi em debêntures, Irlau Machado deixa conselho da Hapvida (HAPV3) e Oi (OIBR3) divulgará resultados', 'description': 'Confira os principais destaques do noticiário corporativo desta segunda-feira (22)The post CCR (CCRO3) aprova R$ 2,65 bi em debêntures, Irlau Machado deixa conselho da Hapvida (HAPV3) e Oi (OIBR3) divulgará resultados appeared first on InfoMoney.', 'url': 'https://www.infomoney.com.br/mercados/ccr-ccro3-aprova-r-265-bi-em-debentures-irlau-machado-deixa-conselho-da-hapvida-hapv3-e-oi-oibr3-divulgara-resultados/', 'source': 'InfoMoney', 'image': None, 'category': 'business', 'language': 'pt', 'country': 'br', 'published_at': '2023-05-22T10:35:50+00:00'}]}\n"
     ]
    }
   ],
   "source": [
    "path = os.path.join(\"News storage\", API_SOURCE, current_date)\n",
    "\n",
    "file_name = current_date + \"_\" + API_SOURCE + \"_\" + \"extracted_news.json\"\n",
    "file_path = os.path.join(path, file_name)\n",
    "\n",
    "with open(file_path, \"r\") as f:\n",
    "    data = json.load(f)\n",
    "    print(data)"
   ]
  },
  {
   "cell_type": "code",
   "execution_count": 90,
   "id": "635969f8",
   "metadata": {},
   "outputs": [
    {
     "data": {
      "text/plain": [
       "(dict, 2, ['pagination', 'data'])"
      ]
     },
     "execution_count": 90,
     "metadata": {},
     "output_type": "execute_result"
    }
   ],
   "source": [
    "type(data), len(data), list(data)"
   ]
  },
  {
   "cell_type": "code",
   "execution_count": 91,
   "id": "d84d6a67",
   "metadata": {},
   "outputs": [
    {
     "name": "stdout",
     "output_type": "stream",
     "text": [
      "Number of articles: 10\n"
     ]
    }
   ],
   "source": [
    "data[\"pagination\"], \n",
    "print(\"Number of articles:\", len(data[\"data\"]))"
   ]
  },
  {
   "cell_type": "code",
   "execution_count": 92,
   "id": "24af4f3c",
   "metadata": {},
   "outputs": [
    {
     "data": {
      "text/plain": [
       "{'author': 'zee business',\n",
       " 'title': 'air india air india express flights special flights haj flights operate jaipur chennai kozhikode kannar pilgrims',\n",
       " 'description': 'Air India and Air India Express will operate special Haj flights from Jaipur, Chennai, Kozhikode and Kannur, carrying around 19,000 pilgrims.',\n",
       " 'url': 'https://www.zeebiz.com/india/news-air-india-air-india-express-flights-special-flights-haj-flights-operate-jaipur-chennai-kozhikode-kannar-pilgrims-236397',\n",
       " 'source': 'Zee Business',\n",
       " 'image': None,\n",
       " 'category': 'business',\n",
       " 'language': 'en',\n",
       " 'country': 'us',\n",
       " 'published_at': '2023-05-22T10:43:38+00:00'}"
      ]
     },
     "execution_count": 92,
     "metadata": {},
     "output_type": "execute_result"
    }
   ],
   "source": [
    "data[\"data\"][0]"
   ]
  },
  {
   "cell_type": "code",
   "execution_count": 93,
   "id": "0e88f859",
   "metadata": {},
   "outputs": [
    {
     "name": "stdout",
     "output_type": "stream",
     "text": [
      "Number of keys in all extracted articles\n",
      "\n",
      "Number of keys: 10\n",
      "Number of keys: 10\n",
      "Number of keys: 10\n",
      "Number of keys: 10\n",
      "Number of keys: 10\n",
      "Number of keys: 10\n",
      "Number of keys: 10\n",
      "Number of keys: 10\n",
      "Number of keys: 10\n",
      "Number of keys: 10\n"
     ]
    }
   ],
   "source": [
    "print(\"Number of keys in all extracted articles\\n\")\n",
    "for d in data[\"data\"]:\n",
    "    print(\"Number of keys:\", len(d))"
   ]
  },
  {
   "attachments": {},
   "cell_type": "markdown",
   "id": "a3f773eb",
   "metadata": {},
   "source": [
    "## Extracion of full article from given url"
   ]
  },
  {
   "cell_type": "code",
   "execution_count": 134,
   "id": "5fc08284",
   "metadata": {},
   "outputs": [],
   "source": [
    "import os"
   ]
  },
  {
   "cell_type": "code",
   "execution_count": 16,
   "id": "225b9a6c",
   "metadata": {},
   "outputs": [],
   "source": [
    "import requests\n",
    "from bs4 import BeautifulSoup\n",
    "import json"
   ]
  },
  {
   "cell_type": "code",
   "execution_count": 125,
   "id": "ead9a3c0",
   "metadata": {},
   "outputs": [
    {
     "ename": "IndexError",
     "evalue": "list index out of range",
     "output_type": "error",
     "traceback": [
      "\u001b[1;31m---------------------------------------------------------------------------\u001b[0m",
      "\u001b[1;31mIndexError\u001b[0m                                Traceback (most recent call last)",
      "\u001b[1;32m<ipython-input-125-662dbb319c85>\u001b[0m in \u001b[0;36m<module>\u001b[1;34m\u001b[0m\n\u001b[0;32m      2\u001b[0m \u001b[1;32mwith\u001b[0m \u001b[0mopen\u001b[0m\u001b[1;33m(\u001b[0m\u001b[1;34m\"api_response_test_1.json\"\u001b[0m\u001b[1;33m,\u001b[0m \u001b[1;34m\"r\"\u001b[0m\u001b[1;33m)\u001b[0m \u001b[1;32mas\u001b[0m \u001b[0mf\u001b[0m\u001b[1;33m:\u001b[0m\u001b[1;33m\u001b[0m\u001b[1;33m\u001b[0m\u001b[0m\n\u001b[0;32m      3\u001b[0m     \u001b[0mdata\u001b[0m \u001b[1;33m=\u001b[0m \u001b[0mjson\u001b[0m\u001b[1;33m.\u001b[0m\u001b[0mload\u001b[0m\u001b[1;33m(\u001b[0m\u001b[0mf\u001b[0m\u001b[1;33m)\u001b[0m\u001b[1;33m\u001b[0m\u001b[1;33m\u001b[0m\u001b[0m\n\u001b[1;32m----> 4\u001b[1;33m     \u001b[0mprint\u001b[0m\u001b[1;33m(\u001b[0m\u001b[0mdata\u001b[0m\u001b[1;33m[\u001b[0m\u001b[1;34m\"data\"\u001b[0m\u001b[1;33m]\u001b[0m\u001b[1;33m[\u001b[0m\u001b[0mnews_index\u001b[0m\u001b[1;33m]\u001b[0m\u001b[1;33m)\u001b[0m\u001b[1;33m\u001b[0m\u001b[1;33m\u001b[0m\u001b[0m\n\u001b[0m\u001b[0;32m      5\u001b[0m     \u001b[0mexample\u001b[0m \u001b[1;33m=\u001b[0m \u001b[0mdata\u001b[0m\u001b[1;33m[\u001b[0m\u001b[1;34m\"data\"\u001b[0m\u001b[1;33m]\u001b[0m\u001b[1;33m[\u001b[0m\u001b[0mnews_index\u001b[0m\u001b[1;33m]\u001b[0m\u001b[1;33m\u001b[0m\u001b[1;33m\u001b[0m\u001b[0m\n\u001b[0;32m      6\u001b[0m     \u001b[0murl\u001b[0m \u001b[1;33m=\u001b[0m \u001b[0mexample\u001b[0m\u001b[1;33m[\u001b[0m\u001b[1;34m\"url\"\u001b[0m\u001b[1;33m]\u001b[0m\u001b[1;33m\u001b[0m\u001b[1;33m\u001b[0m\u001b[0m\n",
      "\u001b[1;31mIndexError\u001b[0m: list index out of range"
     ]
    }
   ],
   "source": [
    "news_index = 9\n",
    "with open(\"api_response_test_1.json\", \"r\") as f:\n",
    "    data = json.load(f)\n",
    "    print(data[\"data\"][news_index])\n",
    "    example = data[\"data\"][news_index]\n",
    "    url = example[\"url\"]\n",
    "    print(url)"
   ]
  },
  {
   "cell_type": "code",
   "execution_count": 122,
   "id": "1113f046",
   "metadata": {},
   "outputs": [
    {
     "name": "stdout",
     "output_type": "stream",
     "text": [
      "200\n"
     ]
    },
    {
     "data": {
      "text/plain": [
       "'\\n\\n\\n\\n\\n\\n\\nCCR (CCRO3) aprova R$ 2,65 bi em debêntures, Irlau Machado deixa conselho da Hapvida (HAPV3) e Oi (OIBR3) divulgará resultados - InfoMoney\\n\\n\\n\\n\\n\\n\\n\\n\\n\\n\\n\\n\\n\\n\\n\\n\\n\\n\\n\\n\\n\\n\\n\\n\\n\\n\\n\\n\\n\\n\\n\\n\\n\\n\\n\\n\\n\\n\\n\\n\\n\\n\\n\\n\\n\\n\\n\\n\\n\\n\\n\\n\\n\\n\\n\\n\\n\\n\\n\\n\\n\\n\\n\\n\\n\\n\\n\\n\\n\\n\\n\\n\\n\\n\\n\\n\\n\\n\\n\\n\\n\\n\\n\\n\\n\\n\\n\\n\\n\\n \\n\\n\\n\\n\\n\\n\\n\\n\\n\\n\\n\\n\\n\\n\\n\\n\\n\\n\\n\\n\\n\\n\\n\\n\\n\\nmenu\\n\\n\\nMenu\\n\\n\\n\\n\\n\\n\\n\\n\\n\\n\\n\\n\\n\\n\\nperm_identity\\n\\n\\n\\nMinha conta\\nMinhas carteiras\\nSair\\n\\n\\n\\nSua conta\\n\\n\\nperm_identity\\n\\n\\n\\n\\n\\nBusca\\n\\n\\nsearch\\n\\n\\n\\n\\n\\n\\n                    Por Dentro dos Resultados                \\n\\n                    PETR4                \\n\\n                    Seguros                \\n\\n                    Infotrade                \\n\\n                    Workshop Manual dos Dividendos                \\n\\n                    Incubadora de Traders                \\n\\n\\n\\n\\n\\n\\n\\n\\n \\n\\n\\nRADAR NO AR\\nOPA faz Alpargatas disparar mais de 14% na sessão; análises mais otimistas para Azul e Gol; e multa recorde para Meta OPA faz Alpargatas disparar mais de 14% na sessão; análises mais otimistas para Azul e Gol; e multa recorde para Meta\\n\\n\\n\\n\\n\\n\\n\\n\\n\\n\\n\\n\\n\\n\\n\\nclose\\n\\n\\n\\n\\n\\n\\n\\n\\nsearch\\n\\n\\n\\n\\n\\ntrending_up\\n\\n                                        Por Dentro dos Resultados                                    \\n\\n\\ntrending_up\\n\\n                                        PETR4                                    \\n\\n\\ntrending_up\\n\\n                                        Seguros                                    \\n\\n\\ntrending_up\\n\\n                                        Infotrade                                    \\n\\n\\ntrending_up\\n\\n                                        Workshop Manual dos Dividendos                                    \\n\\n\\ntrending_up\\n\\n                                        Incubadora de Traders                                    \\n\\n\\n\\n\\n\\n\\n\\n\\n\\n\\nclose\\n\\n\\n\\n\\naccount_circle\\n\\n\\n\\nMinha conta\\nMinhas carteiras\\nSair\\n\\n\\n\\naccount_circle\\nEntrar\\n\\n\\n\\n\\n\\ntrending_up\\nPor Dentro dos Resultados\\n\\n\\ntrending_up\\nPETR4\\n\\n\\ntrending_up\\nSeguros\\n\\n\\ntrending_up\\nInfotrade\\n\\n\\ntrending_up\\nWorkshop Manual dos Dividendos\\n\\n\\ntrending_up\\nIncubadora de Traders\\n\\n\\nNotícias\\n\\nÚltimas\\nMercados\\nOnde Investir\\nMinhas Finanças\\nPolítica\\nEconomia\\nNegócios\\nConsumo\\nCarreira\\n\\n\\nCotações\\n\\nIbovespa\\nAltas e Baixas\\nDólar e Moedas\\nCriptos\\nBDRs\\nETFs\\nFIIs\\nNasdaq\\nNyse\\n\\n\\nFerramentas\\n\\nSimulador de Investimentos\\nComparador de FIIs\\nComparador de Renda Fixa\\nComparador de Fundos\\nCarteira de Acompanhamento\\nJuros Futuros\\nMini Contratos\\nIndicadores de Inflação\\nOpções de Ações\\nEmpresas B3\\n\\n\\nAprenda\\n\\nGuias\\nCursos\\nPerfis\\nEbooks\\nPlanilhas\\n\\n\\nCanais e Redes\\n\\nTikTok\\nInstagram\\nTelegram\\nTwitter\\nLinkedin\\nYouTube\\nFacebook\\nNewsletter\\nPodcasts\\n\\n\\nColunistas\\n\\nWalter Maciel\\nLuiz Fernando Figueiredo\\nTiago Reis\\nCaio Megale\\nFernando Ferreira\\nA Vida dos Traders\\nGustavo Cunha\\nRaphael Galante\\nAod Cunha\\nEvandro Buccini\\n\\n\\nMoney Lab\\n\\nInovação\\nInvestindo no Exterior\\nGestão de Investimentos alternativos\\nE-Commerce B2B\\n\\n\\nQuem Somos\\n \\n\\n\\n\\n\\n\\n\\n\\n\\n                        Radar InfoMoney                    \\n\\n\\n\\nCCR (CCRO3) aprova R$ 2,65 bi em debêntures, Irlau Machado deixa conselho da Hapvida (HAPV3) e Oi (OIBR3) divulgará resultados\\n\\n\\nConfira os principais destaques do noticiário corporativo desta segunda-feira (22)\\n\\n\\n\\nPor\\xa0\\t\\t\\t\\t\\n\\t\\t\\t\\t\\tFelipe Moreira\\t\\t\\t\\t\\n\\n22 maio 2023 07h35\\n\\n\\n\\n\\nreply\\n\\n\\n\\n\\n\\n\\n\\n\\n\\n\\n\\n\\n\\n\\n\\n\\n \\n\\n\\n(Reprodução/CCR RioSP) \\n\\n\\n\\n\\n\\nO radar corporativo desta segunda-feira (22) traz AutoBAn, da CCR (CCRO3), aprovou a emissão de R$ 2,65 bilhões em debêntures simples com prazo de vencimento de cinco anos.Já Hapvida informou que Irlau Machado Filho, que comandava a NotreDame Intermédica, está de saída do Conselho de Administração da empresa.A Oi (OIBR3;OIBR4), em nova recuperação judicial, após adiamentos, divulgará seus resultados do quarto trimestre de 2022 (4T22) nesta segunda-feira (22), depois do fechamento do mercado.Ibovespa hoje: acompanhe o que movimenta Bolsa, Dólar e Juros Ao VivoA Vivara (VIVA3) anunciou a antecipação da distribuição de dividendos para a próxima sexta-feira (26).Confira mais destaques:CONTINUA DEPOIS DA PUBLICIDADECCR (CCRO3)A concessionária AutoBAn, da CCR (CCRO3), aprovou a emissão de R$ 2,65 bilhões em debêntures simples com prazo de vencimento de cinco anos.Os recursos obtidos com a emissão das debêntures serão utilizados para reforço de caixa da companhia, disse o comunicado, acrescentando que a liquidação financeira seguirá as condições habituais desse tipo de transação.Hapvida (HAPV3)A Hapvida informou que Irlau Machado Filho, que comandava a NotreDame Intermédica, está de saída do Conselho de Administração da empresa.A Hapvida concluiu a aquisição da rival Intermédica no início do ano passado, e, por alguns meses, a nova companhia foi comandada conjuntamente por Machado e o atual presidente-executivo Jorge Pinheiro, à frente da Hapvida desde 2001.No entanto, no final de novembro de 2022, a Hapvida anunciou a saída de Machado tanto da copresidência quanto do conselho. Dias depois, porém, a companhia afirmou que, na verdade, ele permaneceria no conselho.Vivara (VIVA3)A Vivara (VIVA3) vai pagar R$ 85,7 milhões em dividendos na próxima sexta-feira, 26 de maio. A companhia anunciou a antecipação da distribuição dos proventos na última sexta-feira (19).CONTINUA DEPOIS DA PUBLICIDADEO valor equivale a R$ 0,364192307 por ação.Tenda (TEND3)A Tenda (TEND3) comunicou que vai ceder carteiras de financiamento direto com a companhia, chamadas de “pró-soluto”.O objetivo é a emissão de até R$ 157,4 milhões em certificados de recebíveis imobiliários (CRIs), em duas séries, pela True Securitizadora.De acordo com a Tenda, os créditos imobiliários serão cedidos por meio da celebração, para cada uma das emissões, do respectivo Instrumento Particular de Contrato de Cessão de Créditos Imobiliários e Outras Avenças, a ser celebrado entre as cedentes e a securitizadora, por meio dos quais as cedentes, na qualidade de legítimas titulares dos créditos imobiliários, cederão à securitizadora, em definitivo, sem coobrigação, a totalidades dos créditos imobiliários de suas respectivas titularidades.PRIO (PRIO3)A gestora BlackRock informou que passou a deter 5,013% do capital da PRIO (PRIO3).3R (RRRP3)A 3R Petroleum recebeu licença operacional do Ibama referente a campos do Polo Potiguar, o que era a última condição precedente para a compra do ativo junto à Petrobras (PETR4).As licenças foram para os campos de Ubarana, Ubarana Oeste e Cioba, disse a 3R em fato relevante.A diretoria da Petrobras aprovou no início de 2022 a venda de 22 concessões de um grupo de ativos na Bacia Potiguar para a 3R Petroleum por US$ 1,38 bilhão.Petrobras (PETR4)A Petrobras (PETR3;PETR4) recorrerá contra decisão do Ibama que\\xa0negou pedido de licença para perfuração na Bacia da Foz do Rio Amazonas\\xa0até meados da próxima semana, antes do vencimento do prazo legal, disse a empresa em comunicado ao mercado nesta sexta-feira.“A Petrobras pretende apresentar o pedido de reconsideração antecipadamente ao vencimento do prazo legal, até o dia 24/05/2023”, disse a Petrobras.Conclusão do processo de desinterdição do Polo Bahia TerraA Agência Nacional do Petróleo, Gás Natural e Biocombustíveis (ANP) concluiu na última sexta-feira o processo de desinterdição das 38 instalações do Polo Bahia Terra, da Petrobras (PETR4).CONTINUA DEPOIS DA PUBLICIDADEAs atividades haviam sido paralisadas em dezembro de 2022, por questões de segurança.“Com isso, será retornada cerca de 32% da produção terrestre de petróleo e gás natural no Estado da Bahia, com 1.291,8 m³/dia de petróleo e 373,2 mil m³/dia de gás natural”, afirmou a ANP.As instalações foram desinterditadas gradualmente, conforme o cumprimento, pela Petrobras, de condições estabelecidas pela agência, destacou a autarquia.Oi (OIBR3)Após a Agência Nacional de Telecomunicações (Anatel) ter aberto um processo contra a Oi (OIBR3;OIBR4), a empresa de telefonia publicou comunicado afirmando que não há razão para um medida desse tipo e que o seu novo pedido de recuperação judicial não impactou as operações.O processo foi instaurado pela Anatel no dia 8, para avaliar se a Oi tem condições econômicas de manter a outorga. Ele pode, em um caso extremo, culminar na cassação da concessão de telefonia fixa da empresa.O sinal vermelho acendeu na agência reguladora diante da constatação do tamanho da dívida da Oi (R$ 43,7 bilhões), além de uma piora nos indicadores de serviços prestados pela operadora, com aumento das reclamações de clientes.A abertura do processo de caducidade da concessão de telefonia fixa da Oi era uma possibilidade que vinha ganhando força na Anatel desde março, coma piora da situação financeira da operadora. Mas a medida é complexa, porque exige fazer uma relicitação do serviço — ou que ele seja tocado pelo próprio governo, via Telebrás, se não houver interessados.\\n\\nRelacionados\\n \\n\\n\\nCompartilhe\\n\\nreply\\n\\n\\n\\n\\n\\n\\n\\n\\n\\nMais sobre\\nMercadosNegóciosCCRDividendosHapvidaOiPetrobrasRadar InfoMoneyVivara \\n\\n\\n\\n\\n\\n\\n\\n\\n\\n\\n\\n\\n\\n\\n\\n\\n\\n\\n\\n\\n\\nNotícias\\n\\nMercados\\nOnde investir\\nMinhas Finanças\\nNegócios\\nEconomia\\nPolítica\\nCarreira\\nConsumo\\nWebStories\\n\\n\\nAprenda\\n\\nGuias\\nCursos\\nPerfis\\nEbooks\\nPlanilhas\\n\\n\\nCotações\\n\\nIbovespa\\nAltas e Baixas\\nDólar e câmbio\\nBDRs\\nETFs\\nFIIs\\nCriptoativos\\nNasdaq\\nNyse\\n\\n\\nFerramentas\\n\\nSimulador de Investimentos\\nComparador de FIIs\\nComparador de Renda Fixa\\nComparador de Fundos\\nJuros Futuros\\nOpções de Ações\\nMinicontratos\\nÍndices de Inflação\\nCarteira de Acompanhamento\\nFatos Relevantes\\nEmpresas B3\\nAgendas\\n\\n\\nSiga\\n\\nNewsletter\\nPodcasts\\n\\n\\n \\n\\n\\n\\n\\nCadastre-se\\nQuem Somos\\nMedia Kit\\nTabela de preços MoneyLab\\nCases de sucesso\\nPolítica de Privacidade\\nPolítica de cookies\\nPreferências de cookies\\nFale conosco\\n \\n\\n\\n\\n\\n\\n\\n\\n\\n\\n\\n\\n\\n\\n\\n\\n\\n\\n\\n\\n\\n\\n© 2000-2023 InfoMoney. Todos os direitos reservados.\\nO InfoMoney preza a qualidade da informação e atesta a apuração de todo o conteúdo produzido por sua equipe, ressaltando, no entanto, que não faz qualquer tipo de recomendação de investimento, não se responsabilizando por perdas, danos (diretos, indiretos e incidentais), custos e lucros cessantes.\\nIMPORTANTE: O portal www.infomoney.com.br (o \"Portal\") é de propriedade da Infostocks Informações e Sistemas Ltda. (CNPJ/MF nº 03.082.929/0001-03) (\"Infostocks\"), sociedade controlada, indiretamente, pela XP Controle Participações S/A (CNPJ/MF nº 09.163.677/0001-15), sociedade holding que controla as empresas do XP Inc. O XP Inc tem em sua composição empresas que exercem atividades de: corretoras de valoresmobiliários, banco, seguradora, corretora de seguros, análise de investimentos de valores mobiliários, gestoras de recursos de terceiros. Apesar de as Sociedades XP estarem sob controle comum, os executivos responsáveis pela Infostocks são totalmente independentes e as notícias, matérias e opiniões veiculadas no Portal não são, sob qualquer aspecto, direcionadas e/ou influenciadas por relatórios de análise produzidos por áreas técnicas das empresas do XP Inc, nem por decisões comerciais e de negócio de tais sociedades, sendo produzidos de acordo com o juízo de valor e as convicções próprias da equipe interna da Infostocks.\\n                \\n                \\n\\n\\n\\n\\n\\n\\n\\n\\n\\n\\n\\n\\n\\n\\n\\n\\n\\n\\n\\n\\n\\n\\n\\n\\n\\n\\n\\n\\n\\n\\n\\n\\n\\n\\n\\n'"
      ]
     },
     "execution_count": 122,
     "metadata": {},
     "output_type": "execute_result"
    }
   ],
   "source": [
    "response = requests.get(url)\n",
    "print(response.status_code)  # HTTP status code\n",
    "\n",
    "parsed_hmtl = BeautifulSoup(response.text)\n",
    "parsed_hmtl.text"
   ]
  },
  {
   "attachments": {},
   "cell_type": "markdown",
   "id": "6cf3ca79",
   "metadata": {},
   "source": [
    "Tag container of the bulk of the news can have several *p* tag children"
   ]
  },
  {
   "attachments": {},
   "cell_type": "markdown",
   "id": "430dcafe",
   "metadata": {},
   "source": [
    "Extract *p* tags, get parent from each one and calculate the number of *p* tags in each parent"
   ]
  },
  {
   "cell_type": "code",
   "execution_count": 123,
   "id": "f465f7ae",
   "metadata": {},
   "outputs": [
    {
     "name": "stdout",
     "output_type": "stream",
     "text": [
      "\n",
      "Number of p tags: 1\n",
      "[<p class=\"aditional\">OPA faz Alpargatas disparar mais de 14% na sessão; análises mais otimistas para Azul e Gol; e multa recorde para Meta</p>]\n",
      "\n",
      "Number of p tags: 34\n",
      "[<p>O radar corporativo desta segunda-feira (22) traz AutoBAn, da CCR (CCRO3), aprovou a emissão de R$ 2,65 bilhões em debêntures simples com prazo de vencimento de cinco anos.</p>, <p>Já Hapvida informou que Irlau Machado Filho, que comandava a NotreDame Intermédica, está de saída do Conselho de Administração da empresa.</p>, <p>A Oi (OIBR3;OIBR4), em nova recuperação judicial, após adiamentos, divulgará seus resultados do quarto trimestre de 2022 (4T22) nesta segunda-feira (22), depois do fechamento do mercado.</p>, <p><strong><a href=\"https://www.infomoney.com.br/mercados/ibovespa-hoje-bolsa-de-valores-ao-vivo-22052023/\" title=\"Ibovespa hoje: acompanhe o que movimenta Bolsa, Dólar e Juros Ao Vivo\">Ibovespa hoje: acompanhe o que movimenta Bolsa, Dólar e Juros Ao Vivo</a></strong></p>, <p>A Vivara (VIVA3) anunciou a antecipação da distribuição de dividendos para a próxima sexta-feira (26).</p>, <p>Confira mais destaques:</p>, <p></p>, <p>A concessionária AutoBAn, da CCR (CCRO3), aprovou a emissão de R$ 2,65 bilhões em debêntures simples com prazo de vencimento de cinco anos.</p>, <p>Os recursos obtidos com a emissão das debêntures serão utilizados para reforço de caixa da companhia, disse o comunicado, acrescentando que a liquidação financeira seguirá as condições habituais desse tipo de transação.</p>, <p>A Hapvida informou que Irlau Machado Filho, que comandava a NotreDame Intermédica, está de saída do Conselho de Administração da empresa.</p>, <p>A Hapvida concluiu a aquisição da rival Intermédica no início do ano passado, e, por alguns meses, a nova companhia foi comandada conjuntamente por Machado e o atual presidente-executivo Jorge Pinheiro, à frente da Hapvida desde 2001.</p>, <p>No entanto, no final de novembro de 2022, a Hapvida anunciou a saída de Machado tanto da copresidência quanto do conselho. Dias depois, porém, a companhia afirmou que, na verdade, ele permaneceria no conselho.</p>, <p>A Vivara (VIVA3) vai pagar R$ 85,7 milhões em dividendos na próxima sexta-feira, 26 de maio. A companhia anunciou a antecipação da distribuição dos proventos na última sexta-feira (19).</p>, <p></p>, <p>O valor equivale a R$ 0,364192307 por ação.</p>, <p>A Tenda (TEND3) comunicou que vai ceder carteiras de financiamento direto com a companhia, chamadas de “pró-soluto”.</p>, <p>O objetivo é a emissão de até R$ 157,4 milhões em certificados de recebíveis imobiliários (CRIs), em duas séries, pela True Securitizadora.</p>, <p>De acordo com a Tenda, os créditos imobiliários serão cedidos por meio da celebração, para cada uma das emissões, do respectivo Instrumento Particular de Contrato de Cessão de Créditos Imobiliários e Outras Avenças, a ser celebrado entre as cedentes e a securitizadora, por meio dos quais as cedentes, na qualidade de legítimas titulares dos créditos imobiliários, cederão à securitizadora, em definitivo, sem coobrigação, a totalidades dos créditos imobiliários de suas respectivas titularidades.</p>, <p>A gestora BlackRock informou que passou a deter 5,013% do capital da PRIO (PRIO3).</p>, <p>A 3R Petroleum <a href=\"https://www.infomoney.com.br/mercados/3r-petroleum-rrrp3-acao-chega-a-saltar-114-apos-petroleira-conseguir-licenca-do-ibama-no-polo-potiguar-mas-ameniza/\">recebeu licença operacional do Ibama referente a campos do Polo Potiguar,</a> o que era a última condição precedente para a compra do ativo junto à Petrobras (PETR4).</p>, <p>As licenças foram para os campos de Ubarana, Ubarana Oeste e Cioba, disse a 3R em fato relevante.</p>, <p>A diretoria da Petrobras aprovou no início de 2022 a venda de 22 concessões de um grupo de ativos na Bacia Potiguar para a 3R Petroleum por US$ 1,38 bilhão.</p>, <p>A Petrobras (<a href=\"https://www.infomoney.com.br/cotacoes/b3/acao/petrobras-petr3/\">PETR3</a>;<a href=\"https://www.infomoney.com.br/cotacoes/b3/acao/petrobras-petr4/\">PETR4</a>) recorrerá contra decisão do Ibama que<a href=\"https://www.infomoney.com.br/mercados/petrobras-petr4-presidente-do-ibama-rejeita-pedido-da-estatal-para-perfurar-foz-do-amazonas/\"> negou pedido de licença para perfuração na Bacia da Foz do Rio Amazonas</a> até meados da próxima semana, antes do vencimento do prazo legal, disse a empresa em comunicado ao mercado nesta sexta-feira.</p>, <p>“A Petrobras pretende apresentar o pedido de reconsideração antecipadamente ao vencimento do prazo legal, até o dia 24/05/2023”, disse a Petrobras.</p>, <p><strong>Conclusão do processo de desinterdição do Polo Bahia Terra</strong></p>, <p>A Agência Nacional do Petróleo, Gás Natural e Biocombustíveis (ANP) concluiu na última sexta-feira o processo de desinterdição das 38 instalações do Polo Bahia Terra, da Petrobras (PETR4).</p>, <p></p>, <p>As atividades haviam sido paralisadas em dezembro de 2022, por questões de segurança.</p>, <p>“Com isso, será retornada cerca de 32% da produção terrestre de petróleo e gás natural no Estado da Bahia, com 1.291,8 m³/dia de petróleo e 373,2 mil m³/dia de gás natural”, afirmou a ANP.</p>, <p>As instalações foram desinterditadas gradualmente, conforme o cumprimento, pela Petrobras, de condições estabelecidas pela agência, destacou a autarquia.</p>, <p>Após a Agência Nacional de Telecomunicações (Anatel) ter aberto um processo contra a Oi (OIBR3;OIBR4), <a href=\"https://www.infomoney.com.br/mercados/oi-diz-que-recuperacao-judicial-nao-impactou-operacoes-anatel-abre-processo-contra-tele/\">a empresa de telefonia</a> publicou comunicado afirmando que não há razão para um medida desse tipo e que o seu novo pedido de recuperação judicial não impactou as operações.</p>, <p>O processo foi instaurado pela Anatel no dia 8, para avaliar se a Oi tem condições econômicas de manter a outorga. Ele pode, em um caso extremo, culminar na cassação da concessão de telefonia fixa da empresa.</p>, <p>O sinal vermelho acendeu na agência reguladora diante da constatação do tamanho da dívida da Oi (R$ 43,7 bilhões), além de uma piora nos indicadores de serviços prestados pela operadora, com aumento das reclamações de clientes.</p>, <p>A abertura do processo de caducidade da concessão de telefonia fixa da Oi era uma possibilidade que vinha ganhando força na Anatel desde março, coma piora da situação financeira da operadora. Mas a medida é complexa, porque exige fazer uma relicitação do serviço — ou que ele seja tocado pelo próprio governo, via Telebrás, se não houver interessados.</p>]\n"
     ]
    }
   ],
   "source": [
    "p_tags = parsed_hmtl.find_all(\"p\")\n",
    "common_parent_p_tags = None\n",
    "for p_tag in p_tags:\n",
    "    parent_p_tags = p_tag.parent.find_all(\"p\", recursive=False)\n",
    "    if common_parent_p_tags is None or len(parent_p_tags) > len(common_parent_p_tags):\n",
    "        common_parent_p_tags = parent_p_tags\n",
    "        print(\"\\nNumber of p tags:\", len(common_parent_p_tags))\n",
    "        print(common_parent_p_tags)"
   ]
  },
  {
   "cell_type": "code",
   "execution_count": 124,
   "id": "27230839",
   "metadata": {},
   "outputs": [
    {
     "name": "stdout",
     "output_type": "stream",
     "text": [
      "['O radar corporativo desta segunda-feira (22) traz AutoBAn, da CCR (CCRO3), aprovou a emissão de R$ 2,65 bilhões em debêntures simples com prazo de vencimento de cinco anos.', 'Já Hapvida informou que Irlau Machado Filho, que comandava a NotreDame Intermédica, está de saída do Conselho de Administração da empresa.', 'A Oi (OIBR3;OIBR4), em nova recuperação judicial, após adiamentos, divulgará seus resultados do quarto trimestre de 2022 (4T22) nesta segunda-feira (22), depois do fechamento do mercado.', 'Ibovespa hoje: acompanhe o que movimenta Bolsa, Dólar e Juros Ao Vivo', 'A Vivara (VIVA3) anunciou a antecipação da distribuição de dividendos para a próxima sexta-feira (26).', 'Confira mais destaques:', '', 'A concessionária AutoBAn, da CCR (CCRO3), aprovou a emissão de R$ 2,65 bilhões em debêntures simples com prazo de vencimento de cinco anos.', 'Os recursos obtidos com a emissão das debêntures serão utilizados para reforço de caixa da companhia, disse o comunicado, acrescentando que a liquidação financeira seguirá as condições habituais desse tipo de transação.', 'A Hapvida informou que Irlau Machado Filho, que comandava a NotreDame Intermédica, está de saída do Conselho de Administração da empresa.', 'A Hapvida concluiu a aquisição da rival Intermédica no início do ano passado, e, por alguns meses, a nova companhia foi comandada conjuntamente por Machado e o atual presidente-executivo Jorge Pinheiro, à frente da Hapvida desde 2001.', 'No entanto, no final de novembro de 2022, a Hapvida anunciou a saída de Machado tanto da copresidência quanto do conselho. Dias depois, porém, a companhia afirmou que, na verdade, ele permaneceria no conselho.', 'A Vivara (VIVA3) vai pagar R$ 85,7 milhões em dividendos na próxima sexta-feira, 26 de maio. A companhia anunciou a antecipação da distribuição dos proventos na última sexta-feira (19).', '', 'O valor equivale a R$ 0,364192307 por ação.', 'A Tenda (TEND3) comunicou que vai ceder carteiras de financiamento direto com a companhia, chamadas de “pró-soluto”.', 'O objetivo é a emissão de até R$ 157,4 milhões em certificados de recebíveis imobiliários (CRIs), em duas séries, pela True Securitizadora.', 'De acordo com a Tenda, os créditos imobiliários serão cedidos por meio da celebração, para cada uma das emissões, do respectivo Instrumento Particular de Contrato de Cessão de Créditos Imobiliários e Outras Avenças, a ser celebrado entre as cedentes e a securitizadora, por meio dos quais as cedentes, na qualidade de legítimas titulares dos créditos imobiliários, cederão à securitizadora, em definitivo, sem coobrigação, a totalidades dos créditos imobiliários de suas respectivas titularidades.', 'A gestora BlackRock informou que passou a deter 5,013% do capital da PRIO (PRIO3).', 'A 3R Petroleum recebeu licença operacional do Ibama referente a campos do Polo Potiguar, o que era a última condição precedente para a compra do ativo junto à Petrobras (PETR4).', 'As licenças foram para os campos de Ubarana, Ubarana Oeste e Cioba, disse a 3R em fato relevante.', 'A diretoria da Petrobras aprovou no início de 2022 a venda de 22 concessões de um grupo de ativos na Bacia Potiguar para a 3R Petroleum por US$ 1,38 bilhão.', 'A Petrobras (PETR3;PETR4) recorrerá contra decisão do Ibama que\\xa0negou pedido de licença para perfuração na Bacia da Foz do Rio Amazonas\\xa0até meados da próxima semana, antes do vencimento do prazo legal, disse a empresa em comunicado ao mercado nesta sexta-feira.', '“A Petrobras pretende apresentar o pedido de reconsideração antecipadamente ao vencimento do prazo legal, até o dia 24/05/2023”, disse a Petrobras.', 'Conclusão do processo de desinterdição do Polo Bahia Terra', 'A Agência Nacional do Petróleo, Gás Natural e Biocombustíveis (ANP) concluiu na última sexta-feira o processo de desinterdição das 38 instalações do Polo Bahia Terra, da Petrobras (PETR4).', '', 'As atividades haviam sido paralisadas em dezembro de 2022, por questões de segurança.', '“Com isso, será retornada cerca de 32% da produção terrestre de petróleo e gás natural no Estado da Bahia, com 1.291,8 m³/dia de petróleo e 373,2 mil m³/dia de gás natural”, afirmou a ANP.', 'As instalações foram desinterditadas gradualmente, conforme o cumprimento, pela Petrobras, de condições estabelecidas pela agência, destacou a autarquia.', 'Após a Agência Nacional de Telecomunicações (Anatel) ter aberto um processo contra a Oi (OIBR3;OIBR4), a empresa de telefonia publicou comunicado afirmando que não há razão para um medida desse tipo e que o seu novo pedido de recuperação judicial não impactou as operações.', 'O processo foi instaurado pela Anatel no dia 8, para avaliar se a Oi tem condições econômicas de manter a outorga. Ele pode, em um caso extremo, culminar na cassação da concessão de telefonia fixa da empresa.', 'O sinal vermelho acendeu na agência reguladora diante da constatação do tamanho da dívida da Oi (R$ 43,7 bilhões), além de uma piora nos indicadores de serviços prestados pela operadora, com aumento das reclamações de clientes.', 'A abertura do processo de caducidade da concessão de telefonia fixa da Oi era uma possibilidade que vinha ganhando força na Anatel desde março, coma piora da situação financeira da operadora. Mas a medida é complexa, porque exige fazer uma relicitação do serviço — ou que ele seja tocado pelo próprio governo, via Telebrás, se não houver interessados.']\n"
     ]
    }
   ],
   "source": [
    "p_tags_text = [x.text for x in common_parent_p_tags]\n",
    "print(p_tags_text)"
   ]
  },
  {
   "cell_type": "code",
   "execution_count": null,
   "id": "c337653f",
   "metadata": {},
   "outputs": [],
   "source": []
  },
  {
   "cell_type": "code",
   "execution_count": null,
   "id": "8338c2cd",
   "metadata": {},
   "outputs": [],
   "source": []
  }
 ],
 "metadata": {
  "kernelspec": {
   "display_name": "Python 3",
   "language": "python",
   "name": "python3"
  },
  "language_info": {
   "codemirror_mode": {
    "name": "ipython",
    "version": 3
   },
   "file_extension": ".py",
   "mimetype": "text/x-python",
   "name": "python",
   "nbconvert_exporter": "python",
   "pygments_lexer": "ipython3",
   "version": "3.8.8"
  }
 },
 "nbformat": 4,
 "nbformat_minor": 5
}
