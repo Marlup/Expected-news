{
 "cells": [
  {
   "cell_type": "code",
   "execution_count": 5,
   "id": "b8b229bd",
   "metadata": {},
   "outputs": [],
   "source": [
    "import pandas as pd\n",
    "import sqlite3\n",
    "import os"
   ]
  },
  {
   "cell_type": "code",
   "execution_count": 7,
   "id": "5abd3df4",
   "metadata": {},
   "outputs": [
    {
     "data": {
      "text/plain": [
       "['.git',\n",
       " '.gitignore',\n",
       " 'db.sqlite3',\n",
       " 'DWAD',\n",
       " 'fast_news.sqlite3',\n",
       " 'gptnews_web',\n",
       " 'instructions-diagrams-and-documents',\n",
       " 'LICENSE',\n",
       " 'manage.py',\n",
       " 'news',\n",
       " 'README.md',\n",
       " 'testing']"
      ]
     },
     "execution_count": 7,
     "metadata": {},
     "output_type": "execute_result"
    }
   ],
   "source": [
    "os.listdir(\"../../\")"
   ]
  },
  {
   "cell_type": "code",
   "execution_count": 69,
   "id": "4cbc0acd",
   "metadata": {},
   "outputs": [
    {
     "name": "stdout",
     "output_type": "stream",
     "text": [
      "   in_store                           media_store\n",
      "0  https://  https://cronicaglobal.elespanol.com/\n",
      "1  https://                      https://efe.com/\n",
      "2  https://                   https://elpais.com/\n",
      "3  https://            https://lavozdegalicia.es/\n",
      "4  https://                 https://okdiario.com/\n",
      "                  in_store                 media_store  \\\n",
      "0  https://www.tiktok.com/  https://www.ultimahora.es/   \n",
      "1                 https://  https://www.ultimahora.es/   \n",
      "2                      NaN                         NaN   \n",
      "\n",
      "             in_extraction            media_extraction  \n",
      "0  https://www.tiktok.com/  https://www.ultimahora.es/  \n",
      "1                 https://  https://www.ultimahora.es/  \n",
      "2                dadsgddgf  https://www.ultimahora.es/  \n"
     ]
    }
   ],
   "source": [
    "def read_garbage(where_params):\n",
    "    with sqlite3.connect(\"../../db.sqlite3\", \n",
    "                         timeout=10) as conn:\n",
    "        cursor = conn.cursor()\n",
    "        if not isinstance(where_params, (tuple, list)):\n",
    "            where_params = (where_params, )\n",
    "        query_str = \"\"\"\n",
    "            SELECT \n",
    "                url,\n",
    "                mediaUrl\n",
    "            FROM \n",
    "                garbage\n",
    "            \"\"\"\n",
    "        return cursor.execute(query_str).fetchall()\n",
    "\n",
    "def read_garbage_where(where_params):\n",
    "    with sqlite3.connect(\"../../db.sqlite3\", \n",
    "                         timeout=10) as conn:\n",
    "        cursor = conn.cursor()\n",
    "        if not isinstance(where_params, (tuple, list)):\n",
    "            where_params = (where_params, )\n",
    "        query_str = \"\"\"\n",
    "            SELECT \n",
    "                url,\n",
    "                mediaUrl\n",
    "            FROM \n",
    "                garbage\n",
    "            WHERE\n",
    "                url = ?\n",
    "            AND\n",
    "                mediaUrl = ?\n",
    "            \"\"\"\n",
    "        return cursor.execute(query_str, \n",
    "                              where_params).fetchall()\n",
    "\n",
    "media_url = \"https://www.ultimahora.es/\"\n",
    "input_urls = [\"https://www.tiktok.com/\", \"https://\", \"dadsgddgf\"]\n",
    "\n",
    "read_urls = pd.DataFrame(read_garbage((media_url, )), \n",
    "                         columns=[\"in_store\", \"media_store\"]\n",
    "                         )\n",
    "print(read_urls.head())\n",
    "# Urls from garbage table query\n",
    "novel_urls = read_urls.merge(pd.DataFrame({\"in_extraction\": input_urls, \n",
    "                                           \"media_extraction\": [media_url] * len(input_urls)}) \\\n",
    "                                        .drop_duplicates(), \n",
    "                         left_on=[\"in_store\", \"media_store\"], \n",
    "                         right_on=[\"in_extraction\", \"media_extraction\"], \n",
    "                         how=\"right\"\n",
    "                            )\n",
    "print(novel_urls.head())\n",
    "# Merge extracted and loaded news in order to process the new ones\n",
    "urls_to_process = novel_urls.loc[novel_urls[[\"in_store\", \"media_store\"]].isnull().all(axis=1), \"in_extraction\"] \\\n",
    "                            .tolist()"
   ]
  },
  {
   "cell_type": "code",
   "execution_count": 70,
   "id": "fb632c6b",
   "metadata": {},
   "outputs": [
    {
     "data": {
      "text/html": [
       "<div>\n",
       "<style scoped>\n",
       "    .dataframe tbody tr th:only-of-type {\n",
       "        vertical-align: middle;\n",
       "    }\n",
       "\n",
       "    .dataframe tbody tr th {\n",
       "        vertical-align: top;\n",
       "    }\n",
       "\n",
       "    .dataframe thead th {\n",
       "        text-align: right;\n",
       "    }\n",
       "</style>\n",
       "<table border=\"1\" class=\"dataframe\">\n",
       "  <thead>\n",
       "    <tr style=\"text-align: right;\">\n",
       "      <th></th>\n",
       "      <th>in_store</th>\n",
       "      <th>media_store</th>\n",
       "      <th>in_extraction</th>\n",
       "      <th>media_extraction</th>\n",
       "    </tr>\n",
       "  </thead>\n",
       "  <tbody>\n",
       "    <tr>\n",
       "      <th>0</th>\n",
       "      <td>https://www.tiktok.com/</td>\n",
       "      <td>https://www.ultimahora.es/</td>\n",
       "      <td>https://www.tiktok.com/</td>\n",
       "      <td>https://www.ultimahora.es/</td>\n",
       "    </tr>\n",
       "    <tr>\n",
       "      <th>1</th>\n",
       "      <td>https://</td>\n",
       "      <td>https://www.ultimahora.es/</td>\n",
       "      <td>https://</td>\n",
       "      <td>https://www.ultimahora.es/</td>\n",
       "    </tr>\n",
       "    <tr>\n",
       "      <th>2</th>\n",
       "      <td>NaN</td>\n",
       "      <td>NaN</td>\n",
       "      <td>dadsgddgf</td>\n",
       "      <td>https://www.ultimahora.es/</td>\n",
       "    </tr>\n",
       "  </tbody>\n",
       "</table>\n",
       "</div>"
      ],
      "text/plain": [
       "                  in_store                 media_store  \\\n",
       "0  https://www.tiktok.com/  https://www.ultimahora.es/   \n",
       "1                 https://  https://www.ultimahora.es/   \n",
       "2                      NaN                         NaN   \n",
       "\n",
       "             in_extraction            media_extraction  \n",
       "0  https://www.tiktok.com/  https://www.ultimahora.es/  \n",
       "1                 https://  https://www.ultimahora.es/  \n",
       "2                dadsgddgf  https://www.ultimahora.es/  "
      ]
     },
     "execution_count": 70,
     "metadata": {},
     "output_type": "execute_result"
    }
   ],
   "source": [
    "novel_urls"
   ]
  },
  {
   "cell_type": "code",
   "execution_count": 71,
   "id": "5ce886ca",
   "metadata": {},
   "outputs": [
    {
     "data": {
      "text/plain": [
       "(0     True\n",
       " 1     True\n",
       " 2    False\n",
       " dtype: bool,\n",
       " 0     True\n",
       " 1     True\n",
       " 2    False\n",
       " dtype: bool)"
      ]
     },
     "execution_count": 71,
     "metadata": {},
     "output_type": "execute_result"
    }
   ],
   "source": [
    "novel_urls.in_store == novel_urls.in_extraction, \\\n",
    "novel_urls.media_store == novel_urls.media_extraction"
   ]
  },
  {
   "cell_type": "code",
   "execution_count": 80,
   "id": "5d036001",
   "metadata": {},
   "outputs": [],
   "source": [
    "import re"
   ]
  },
  {
   "cell_type": "code",
   "execution_count": 78,
   "id": "2847dcd0",
   "metadata": {},
   "outputs": [
    {
     "data": {
      "text/html": [
       "<div>\n",
       "<style scoped>\n",
       "    .dataframe tbody tr th:only-of-type {\n",
       "        vertical-align: middle;\n",
       "    }\n",
       "\n",
       "    .dataframe tbody tr th {\n",
       "        vertical-align: top;\n",
       "    }\n",
       "\n",
       "    .dataframe thead th {\n",
       "        text-align: right;\n",
       "    }\n",
       "</style>\n",
       "<table border=\"1\" class=\"dataframe\">\n",
       "  <thead>\n",
       "    <tr style=\"text-align: right;\">\n",
       "      <th></th>\n",
       "      <th>in_store</th>\n",
       "      <th>media_store</th>\n",
       "      <th>in_extraction</th>\n",
       "      <th>media_extraction</th>\n",
       "    </tr>\n",
       "  </thead>\n",
       "  <tbody>\n",
       "    <tr>\n",
       "      <th>0</th>\n",
       "      <td>https://www.tiktok.com/</td>\n",
       "      <td>https://www.ultimahora.es/</td>\n",
       "      <td>https://www.tiktok.com/</td>\n",
       "      <td>https://www.ultimahora.es/</td>\n",
       "    </tr>\n",
       "    <tr>\n",
       "      <th>1</th>\n",
       "      <td>https://</td>\n",
       "      <td>https://www.ultimahora.es/</td>\n",
       "      <td>https://</td>\n",
       "      <td>https://www.ultimahora.es/</td>\n",
       "    </tr>\n",
       "    <tr>\n",
       "      <th>2</th>\n",
       "      <td>NaN</td>\n",
       "      <td>NaN</td>\n",
       "      <td>dadsgddgf</td>\n",
       "      <td>https://www.ultimahora.es/</td>\n",
       "    </tr>\n",
       "  </tbody>\n",
       "</table>\n",
       "</div>"
      ],
      "text/plain": [
       "                  in_store                 media_store  \\\n",
       "0  https://www.tiktok.com/  https://www.ultimahora.es/   \n",
       "1                 https://  https://www.ultimahora.es/   \n",
       "2                      NaN                         NaN   \n",
       "\n",
       "             in_extraction            media_extraction  \n",
       "0  https://www.tiktok.com/  https://www.ultimahora.es/  \n",
       "1                 https://  https://www.ultimahora.es/  \n",
       "2                dadsgddgf  https://www.ultimahora.es/  "
      ]
     },
     "execution_count": 78,
     "metadata": {},
     "output_type": "execute_result"
    }
   ],
   "source": [
    "read_urls.merge(pd.DataFrame({\"in_extraction\": input_urls, \n",
    "                                           \"media_extraction\": [media_url] * len(input_urls)}) \\\n",
    "                                        .drop_duplicates(), \n",
    "                         left_on=[\"in_store\", \"media_store\"], \n",
    "                         right_on=[\"in_extraction\", \"media_extraction\"], \n",
    "                         how=\"right\"\n",
    "                            )"
   ]
  },
  {
   "cell_type": "code",
   "execution_count": 79,
   "id": "873a4f7c",
   "metadata": {},
   "outputs": [
    {
     "data": {
      "text/plain": [
       "2    dadsgddgf\n",
       "Name: in_extraction, dtype: object"
      ]
     },
     "execution_count": 79,
     "metadata": {},
     "output_type": "execute_result"
    }
   ],
   "source": [
    "novel_urls.loc[novel_urls[[\"in_store\", \"media_store\"]].isnull().all(axis=1), \"in_extraction\"]"
   ]
  },
  {
   "cell_type": "code",
   "execution_count": 49,
   "id": "57ae4dac",
   "metadata": {},
   "outputs": [
    {
     "data": {
      "text/html": [
       "<div>\n",
       "<style scoped>\n",
       "    .dataframe tbody tr th:only-of-type {\n",
       "        vertical-align: middle;\n",
       "    }\n",
       "\n",
       "    .dataframe tbody tr th {\n",
       "        vertical-align: top;\n",
       "    }\n",
       "\n",
       "    .dataframe thead th {\n",
       "        text-align: right;\n",
       "    }\n",
       "</style>\n",
       "<table border=\"1\" class=\"dataframe\">\n",
       "  <thead>\n",
       "    <tr style=\"text-align: right;\">\n",
       "      <th></th>\n",
       "      <th>in_store</th>\n",
       "      <th>media_store</th>\n",
       "      <th>in_extraction</th>\n",
       "      <th>media_extraction</th>\n",
       "    </tr>\n",
       "  </thead>\n",
       "  <tbody>\n",
       "    <tr>\n",
       "      <th>0</th>\n",
       "      <td>https://www.tiktok.com/</td>\n",
       "      <td>https://www.ultimahora.es/</td>\n",
       "      <td>https://www.tiktok.com/</td>\n",
       "      <td>https://www.ultimahora.es/</td>\n",
       "    </tr>\n",
       "  </tbody>\n",
       "</table>\n",
       "</div>"
      ],
      "text/plain": [
       "                  in_store                 media_store  \\\n",
       "0  https://www.tiktok.com/  https://www.ultimahora.es/   \n",
       "\n",
       "             in_extraction            media_extraction  \n",
       "0  https://www.tiktok.com/  https://www.ultimahora.es/  "
      ]
     },
     "execution_count": 49,
     "metadata": {},
     "output_type": "execute_result"
    }
   ],
   "source": [
    "novel_urls"
   ]
  },
  {
   "cell_type": "code",
   "execution_count": 15,
   "id": "6cd356ae",
   "metadata": {},
   "outputs": [
    {
     "data": {
      "text/plain": [
       "[('https://www.tiktok.com/', 'https://www.ultimahora.es/')]"
      ]
     },
     "execution_count": 15,
     "metadata": {},
     "output_type": "execute_result"
    }
   ],
   "source": [
    "read_garbage_where((\"https://www.tiktok.com/\", \n",
    "                    \"https://www.ultimahora.es/\"\n",
    "                   ))"
   ]
  },
  {
   "cell_type": "code",
   "execution_count": null,
   "id": "8a194c4a",
   "metadata": {},
   "outputs": [],
   "source": []
  }
 ],
 "metadata": {
  "kernelspec": {
   "display_name": "Python 3 (ipykernel)",
   "language": "python",
   "name": "python3"
  },
  "language_info": {
   "codemirror_mode": {
    "name": "ipython",
    "version": 3
   },
   "file_extension": ".py",
   "mimetype": "text/x-python",
   "name": "python",
   "nbconvert_exporter": "python",
   "pygments_lexer": "ipython3",
   "version": "3.9.13"
  }
 },
 "nbformat": 4,
 "nbformat_minor": 5
}
