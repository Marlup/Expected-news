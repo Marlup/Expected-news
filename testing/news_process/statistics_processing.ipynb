{
 "cells": [
  {
   "cell_type": "code",
   "execution_count": 43,
   "id": "e6c127fb",
   "metadata": {},
   "outputs": [],
   "source": [
    "import pandas as pd\n",
    "import os\n",
    "from datetime import datetime\n",
    "from constants import PATH_STATS\n",
    "\n",
    "SEP = \";\""
   ]
  },
  {
   "cell_type": "code",
   "execution_count": 3,
   "id": "47548576",
   "metadata": {},
   "outputs": [
    {
     "data": {
      "text/plain": [
       "['process_2023 09 21_23 13 20_pid_10420.csv',\n",
       " 'process_2023 09 21_23 13 20_pid_10632.csv',\n",
       " 'process_2023 09 21_23 13 20_pid_10788.csv',\n",
       " 'process_2023 09 21_23 13 20_pid_12420.csv',\n",
       " 'process_2023 09 21_23 13 20_pid_13980.csv',\n",
       " 'process_2023 09 21_23 13 20_pid_17444.csv',\n",
       " 'process_2023 09 21_23 13 20_pid_19000.csv',\n",
       " 'process_2023 09 21_23 13 20_pid_20408.csv',\n",
       " 'process_2023 09 21_23 13 20_pid_6536.csv',\n",
       " 'process_2023 09 21_23 13 20_pid_9948.csv',\n",
       " 'process_2023 09 21_23 13 20_pid_summary.csv']"
      ]
     },
     "execution_count": 3,
     "metadata": {},
     "output_type": "execute_result"
    }
   ],
   "source": [
    "os.listdir(os.path.join(PATH_STATS, \"webscraping\", \"processes_2023 09 21\"))"
   ]
  },
  {
   "cell_type": "code",
   "execution_count": 33,
   "id": "9ea1fd60",
   "metadata": {},
   "outputs": [
    {
     "data": {
      "text/plain": [
       "'2023 09 09/21/23'"
      ]
     },
     "execution_count": 33,
     "metadata": {},
     "output_type": "execute_result"
    }
   ],
   "source": [
    "# datetime.today().strftime(\"%Y %m %d\")\n",
    "# datetime.today().isoformat(sep=\" \", timespec=\"hours\")\n",
    "datetime.today().strftime(\"%Y %m %d\")"
   ]
  },
  {
   "cell_type": "code",
   "execution_count": 31,
   "id": "ebf650df",
   "metadata": {},
   "outputs": [
    {
     "data": {
      "text/plain": [
       "['process_2023 09 21_23 13 20_pid_10420.csv',\n",
       " 'process_2023 09 21_23 13 20_pid_10632.csv',\n",
       " 'process_2023 09 21_23 13 20_pid_10788.csv',\n",
       " 'process_2023 09 21_23 13 20_pid_12420.csv',\n",
       " 'process_2023 09 21_23 13 20_pid_13980.csv',\n",
       " 'process_2023 09 21_23 13 20_pid_17444.csv',\n",
       " 'process_2023 09 21_23 13 20_pid_19000.csv',\n",
       " 'process_2023 09 21_23 13 20_pid_20408.csv',\n",
       " 'process_2023 09 21_23 13 20_pid_6536.csv',\n",
       " 'process_2023 09 21_23 13 20_pid_9948.csv',\n",
       " 'process_2023 09 21_23 13 20_pid_summary.csv']"
      ]
     },
     "execution_count": 31,
     "metadata": {},
     "output_type": "execute_result"
    }
   ],
   "source": [
    "files_same_date = []\n",
    "date = \"2023 09 21_23 13 20\"\n",
    "process_folder = \"processes_2023 09 21\"\n",
    "main_path = os.path.join(PATH_STATS, \"webscraping\", process_folder)\n",
    "for f_name in os.listdir(main_path):\n",
    "    if date in f_name:\n",
    "        files_same_date.append(f_name)\n",
    "files_same_date"
   ]
  },
  {
   "cell_type": "code",
   "execution_count": 36,
   "id": "45e875f8",
   "metadata": {},
   "outputs": [
    {
     "name": "stdout",
     "output_type": "stream",
     "text": [
      "(54, 4)\n"
     ]
    },
    {
     "data": {
      "text/html": [
       "<div>\n",
       "<style scoped>\n",
       "    .dataframe tbody tr th:only-of-type {\n",
       "        vertical-align: middle;\n",
       "    }\n",
       "\n",
       "    .dataframe tbody tr th {\n",
       "        vertical-align: top;\n",
       "    }\n",
       "\n",
       "    .dataframe thead th {\n",
       "        text-align: right;\n",
       "    }\n",
       "</style>\n",
       "<table border=\"1\" class=\"dataframe\">\n",
       "  <thead>\n",
       "    <tr style=\"text-align: right;\">\n",
       "      <th></th>\n",
       "      <th>media_url</th>\n",
       "      <th>n_urls</th>\n",
       "      <th>n_body_gpt</th>\n",
       "      <th>duration</th>\n",
       "    </tr>\n",
       "  </thead>\n",
       "  <tbody>\n",
       "    <tr>\n",
       "      <th>1</th>\n",
       "      <td>https://www.huffingtonpost.es/</td>\n",
       "      <td>69</td>\n",
       "      <td>0</td>\n",
       "      <td>18.1</td>\n",
       "    </tr>\n",
       "    <tr>\n",
       "      <th>2</th>\n",
       "      <td>https://www.elplural.com/</td>\n",
       "      <td>29</td>\n",
       "      <td>0</td>\n",
       "      <td>3.8</td>\n",
       "    </tr>\n",
       "    <tr>\n",
       "      <th>3</th>\n",
       "      <td>https://www.elperiodicomediterraneo.com/</td>\n",
       "      <td>148</td>\n",
       "      <td>0</td>\n",
       "      <td>164.7</td>\n",
       "    </tr>\n",
       "    <tr>\n",
       "      <th>4</th>\n",
       "      <td>https://www.elcomercio.es/</td>\n",
       "      <td>87</td>\n",
       "      <td>0</td>\n",
       "      <td>211.4</td>\n",
       "    </tr>\n",
       "    <tr>\n",
       "      <th>5</th>\n",
       "      <td>https://efe.com/</td>\n",
       "      <td>49</td>\n",
       "      <td>0</td>\n",
       "      <td>24.2</td>\n",
       "    </tr>\n",
       "  </tbody>\n",
       "</table>\n",
       "</div>"
      ],
      "text/plain": [
       "                                  media_url  n_urls  n_body_gpt  duration\n",
       "1            https://www.huffingtonpost.es/      69           0      18.1\n",
       "2                 https://www.elplural.com/      29           0       3.8\n",
       "3  https://www.elperiodicomediterraneo.com/     148           0     164.7\n",
       "4                https://www.elcomercio.es/      87           0     211.4\n",
       "5                          https://efe.com/      49           0      24.2"
      ]
     },
     "execution_count": 36,
     "metadata": {},
     "output_type": "execute_result"
    }
   ],
   "source": [
    "df = []\n",
    "for file in files_same_date:\n",
    "    if \"summary\" not in file:\n",
    "        df.append(pd.read_csv(os.path.join(main_path, file), \n",
    "                              sep=SEP,\n",
    "                              names=[\"media_url\",\n",
    "                                     \"n_urls\",\n",
    "                                     \"n_body_gpt\",\n",
    "                                     \"duration\"\n",
    "                                     ]\n",
    "                                     )\n",
    "                                     )\n",
    "df = pd.concat(df, axis=0).iloc[1:]\n",
    "df = df.astype({\"media_url\": \"str\", \n",
    "                \"n_urls\": \"int\", \n",
    "                \"n_body_gpt\": \"int\", \n",
    "                \"duration\": \"float\"})\n",
    "print(df.shape)\n",
    "df.head()\n"
   ]
  },
  {
   "cell_type": "code",
   "execution_count": 37,
   "id": "1523d2f5",
   "metadata": {},
   "outputs": [
    {
     "data": {
      "text/plain": [
       "(n_urls        4119\n",
       " n_body_gpt       0\n",
       " dtype: int64,\n",
       " 5.176666666666667)"
      ]
     },
     "execution_count": 37,
     "metadata": {},
     "output_type": "execute_result"
    }
   ],
   "source": [
    "counts = df.filter(regex=\"n_\").sum()\n",
    "counts, df[\"duration\"].max() / 60"
   ]
  },
  {
   "cell_type": "code",
   "execution_count": 38,
   "id": "89dbcc36",
   "metadata": {},
   "outputs": [],
   "source": [
    "df.to_csv(os.path.join(main_path, \n",
    "                       \"process_\" + date + \"_concat.csv\"))"
   ]
  },
  {
   "cell_type": "code",
   "execution_count": 39,
   "id": "8cc83363",
   "metadata": {},
   "outputs": [],
   "source": [
    "for file in os.listdir(os.path.join(main_path)):\n",
    "    if \"summary\" not in file and \"concat\" not in file:\n",
    "        os.remove(os.path.join(main_path, file))"
   ]
  },
  {
   "cell_type": "code",
   "execution_count": 44,
   "id": "84344a34",
   "metadata": {},
   "outputs": [
    {
     "data": {
      "text/html": [
       "<div>\n",
       "<style scoped>\n",
       "    .dataframe tbody tr th:only-of-type {\n",
       "        vertical-align: middle;\n",
       "    }\n",
       "\n",
       "    .dataframe tbody tr th {\n",
       "        vertical-align: top;\n",
       "    }\n",
       "\n",
       "    .dataframe thead th {\n",
       "        text-align: right;\n",
       "    }\n",
       "</style>\n",
       "<table border=\"1\" class=\"dataframe\">\n",
       "  <thead>\n",
       "    <tr style=\"text-align: right;\">\n",
       "      <th></th>\n",
       "      <th>media_url</th>\n",
       "      <th>n_urls</th>\n",
       "      <th>n_body_gpt</th>\n",
       "      <th>duration</th>\n",
       "    </tr>\n",
       "  </thead>\n",
       "  <tbody>\n",
       "    <tr>\n",
       "      <th>1</th>\n",
       "      <td>Process summary</td>\n",
       "      <td>407</td>\n",
       "      <td>0</td>\n",
       "      <td>449.5</td>\n",
       "    </tr>\n",
       "    <tr>\n",
       "      <th>2</th>\n",
       "      <td>Process summary</td>\n",
       "      <td>386</td>\n",
       "      <td>0</td>\n",
       "      <td>460.3</td>\n",
       "    </tr>\n",
       "    <tr>\n",
       "      <th>3</th>\n",
       "      <td>Process summary</td>\n",
       "      <td>391</td>\n",
       "      <td>0</td>\n",
       "      <td>467.8</td>\n",
       "    </tr>\n",
       "    <tr>\n",
       "      <th>4</th>\n",
       "      <td>Process summary</td>\n",
       "      <td>444</td>\n",
       "      <td>0</td>\n",
       "      <td>498.8</td>\n",
       "    </tr>\n",
       "    <tr>\n",
       "      <th>5</th>\n",
       "      <td>Process summary</td>\n",
       "      <td>385</td>\n",
       "      <td>0</td>\n",
       "      <td>518.3</td>\n",
       "    </tr>\n",
       "  </tbody>\n",
       "</table>\n",
       "</div>"
      ],
      "text/plain": [
       "         media_url  n_urls  n_body_gpt  duration\n",
       "1  Process summary     407           0     449.5\n",
       "2  Process summary     386           0     460.3\n",
       "3  Process summary     391           0     467.8\n",
       "4  Process summary     444           0     498.8\n",
       "5  Process summary     385           0     518.3"
      ]
     },
     "execution_count": 44,
     "metadata": {},
     "output_type": "execute_result"
    }
   ],
   "source": [
    "df_summary = pd.read_csv(os.path.join(main_path, files_same_date[-1]), \n",
    "                                   sep=SEP,\n",
    "                                   header=None,\n",
    "                                   names=[\"media_url\",\n",
    "                                          \"n_urls\",\n",
    "                                          \"n_body_gpt\",\n",
    "                                          \"duration\"\n",
    "                                          ])\n",
    "df_summary = df_summary.iloc[1:]\n",
    "df_summary = df_summary.astype({\"media_url\": \"str\", \n",
    "                \"n_urls\": \"int\", \n",
    "                \"n_body_gpt\": \"int\", \n",
    "                \"duration\": \"float\"})\n",
    "df_summary.head()"
   ]
  },
  {
   "cell_type": "code",
   "execution_count": 45,
   "id": "c31c1684",
   "metadata": {},
   "outputs": [
    {
     "data": {
      "text/plain": [
       "(n_urls        3809\n",
       " n_body_gpt       0\n",
       " dtype: int64,\n",
       " 11.948333333333332)"
      ]
     },
     "execution_count": 45,
     "metadata": {},
     "output_type": "execute_result"
    }
   ],
   "source": [
    "counts_summ = df_summary.filter(regex=\"n_\").sum()\n",
    "counts_summ, df_summary[\"duration\"].max() / 60"
   ]
  },
  {
   "cell_type": "code",
   "execution_count": null,
   "id": "0313e917",
   "metadata": {},
   "outputs": [],
   "source": []
  }
 ],
 "metadata": {
  "kernelspec": {
   "display_name": "Python 3 (ipykernel)",
   "language": "python",
   "name": "python3"
  },
  "language_info": {
   "codemirror_mode": {
    "name": "ipython",
    "version": 3
   },
   "file_extension": ".py",
   "mimetype": "text/x-python",
   "name": "python",
   "nbconvert_exporter": "python",
   "pygments_lexer": "ipython3",
   "version": "3.9.13"
  }
 },
 "nbformat": 4,
 "nbformat_minor": 5
}
