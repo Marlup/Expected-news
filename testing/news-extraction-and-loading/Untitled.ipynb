{
 "cells": [
  {
   "cell_type": "code",
   "execution_count": 1,
   "id": "dca6d874",
   "metadata": {},
   "outputs": [],
   "source": [
    "import os"
   ]
  },
  {
   "cell_type": "code",
   "execution_count": 8,
   "id": "27263eee",
   "metadata": {},
   "outputs": [
    {
     "data": {
      "text/plain": [
       "['extraction checkpoint.json',\n",
       " 'extraction checkpoint.txt',\n",
       " 'extraction checkpoint_0.json',\n",
       " 'extraction checkpoint_1.json',\n",
       " 'extraction checkpoint_10.json',\n",
       " 'extraction checkpoint_11.json',\n",
       " 'extraction checkpoint_2.json',\n",
       " 'extraction checkpoint_3.json',\n",
       " 'extraction checkpoint_4.json',\n",
       " 'extraction checkpoint_5.json',\n",
       " 'extraction checkpoint_6.json',\n",
       " 'extraction checkpoint_7.json',\n",
       " 'extraction checkpoint_8.json',\n",
       " 'extraction checkpoint_9.json',\n",
       " 'final_url_sections_v3.csv',\n",
       " 'news_db.sqlite3',\n",
       " 'No-articles-urls.txt',\n",
       " 'No-valid-urls.txt',\n",
       " 'plain_spain_media name_to_url.txt',\n",
       " 'region_to_media_urls.json',\n",
       " 'role-prompt-body-extraction.txt',\n",
       " 'role-prompt-keys-extraction.txt',\n",
       " 'SCImago Media Ranking - Spain - Spanish_20082023.xlsx',\n",
       " 'scrapping-statistics',\n",
       " 'sections_split_0.txt',\n",
       " 'sections_split_1.txt',\n",
       " 'sections_split_2.txt',\n",
       " 'sections_split_3.txt',\n",
       " 'sections_split_4.txt',\n",
       " 'sections_split_5.txt',\n",
       " 'sections_split_6.txt',\n",
       " 'sections_split_7.txt',\n",
       " 'sections_split_8.txt',\n",
       " 'sections_split_9.txt',\n",
       " 'spain_audience_total_traffic_2023-07-09 11_08_51.csv',\n",
       " 'spain_media name_to_url.json',\n",
       " 'spain_media name_to_url.txt',\n",
       " 'test full news_okdiario.txt',\n",
       " 'test full news_vozpopuli.txt',\n",
       " 'test full news_xataka.txt',\n",
       " 'Too-many-retries-urls.txt']"
      ]
     },
     "execution_count": 8,
     "metadata": {},
     "output_type": "execute_result"
    }
   ],
   "source": [
    "os.listdir(os.path.join(\"..\", \"data\"))"
   ]
  },
  {
   "cell_type": "code",
   "execution_count": 9,
   "id": "1cff43ec",
   "metadata": {},
   "outputs": [
    {
     "data": {
      "text/plain": [
       "'..\\\\data\\\\No-valid-urls.txt'"
      ]
     },
     "execution_count": 9,
     "metadata": {},
     "output_type": "execute_result"
    }
   ],
   "source": [
    "os.path.join(os.path.join(\"..\", \"data\"), \"No-valid-urls.txt\")"
   ]
  },
  {
   "cell_type": "code",
   "execution_count": 7,
   "id": "43271d26",
   "metadata": {},
   "outputs": [
    {
     "data": {
      "text/plain": [
       "['extraction checkpoint.json',\n",
       " 'extraction checkpoint.txt',\n",
       " 'extraction checkpoint_0.json',\n",
       " 'extraction checkpoint_1.json',\n",
       " 'extraction checkpoint_10.json',\n",
       " 'extraction checkpoint_11.json',\n",
       " 'extraction checkpoint_2.json',\n",
       " 'extraction checkpoint_3.json',\n",
       " 'extraction checkpoint_4.json',\n",
       " 'extraction checkpoint_5.json',\n",
       " 'extraction checkpoint_6.json',\n",
       " 'extraction checkpoint_7.json',\n",
       " 'extraction checkpoint_8.json',\n",
       " 'extraction checkpoint_9.json',\n",
       " 'final_url_sections_v3.csv',\n",
       " 'news_db.sqlite3',\n",
       " 'No-articles-urls.txt',\n",
       " 'No-valid-urls.txt',\n",
       " 'plain_spain_media name_to_url.txt',\n",
       " 'region_to_media_urls.json',\n",
       " 'role-prompt-body-extraction.txt',\n",
       " 'role-prompt-keys-extraction.txt',\n",
       " 'SCImago Media Ranking - Spain - Spanish_20082023.xlsx',\n",
       " 'scrapping-statistics',\n",
       " 'sections_split_0.txt',\n",
       " 'sections_split_1.txt',\n",
       " 'sections_split_2.txt',\n",
       " 'sections_split_3.txt',\n",
       " 'sections_split_4.txt',\n",
       " 'sections_split_5.txt',\n",
       " 'sections_split_6.txt',\n",
       " 'sections_split_7.txt',\n",
       " 'sections_split_8.txt',\n",
       " 'sections_split_9.txt',\n",
       " 'spain_audience_total_traffic_2023-07-09 11_08_51.csv',\n",
       " 'spain_media name_to_url.json',\n",
       " 'spain_media name_to_url.txt',\n",
       " 'test full news_okdiario.txt',\n",
       " 'test full news_vozpopuli.txt',\n",
       " 'test full news_xataka.txt',\n",
       " 'Too-many-retries-urls.txt']"
      ]
     },
     "execution_count": 7,
     "metadata": {},
     "output_type": "execute_result"
    }
   ],
   "source": [
    "os.listdir(\"../data\")"
   ]
  }
 ],
 "metadata": {
  "kernelspec": {
   "display_name": "Python 3 (ipykernel)",
   "language": "python",
   "name": "python3"
  },
  "language_info": {
   "codemirror_mode": {
    "name": "ipython",
    "version": 3
   },
   "file_extension": ".py",
   "mimetype": "text/x-python",
   "name": "python",
   "nbconvert_exporter": "python",
   "pygments_lexer": "ipython3",
   "version": "3.9.13"
  }
 },
 "nbformat": 4,
 "nbformat_minor": 5
}
