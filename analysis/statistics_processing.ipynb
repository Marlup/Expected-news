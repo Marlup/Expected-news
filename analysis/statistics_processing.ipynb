{
 "cells": [
  {
   "cell_type": "code",
   "execution_count": 12,
   "id": "e6c127fb",
   "metadata": {},
   "outputs": [],
   "source": [
    "import pandas as pd\n",
    "import os\n",
    "from datetime import datetime\n",
    "from constants import PATH_STATS\n",
    "\n",
    "SEP = \";\""
   ]
  },
  {
   "cell_type": "code",
   "execution_count": 7,
   "id": "47548576",
   "metadata": {},
   "outputs": [
    {
     "data": {
      "text/plain": [
       "(['processes_2023 09 20', 'processes_2023 09 21', 'processes_2023 09 24'],\n",
       " ['process_2023 09 21_23 13 20_concat.csv',\n",
       "  'process_2023 09 21_23 13 20_pid_summary.csv',\n",
       "  'process_2023 09 21_23 51 14_concat.csv',\n",
       "  'process_2023 09 21_23 51 14_pid_summary.csv'])"
      ]
     },
     "execution_count": 7,
     "metadata": {},
     "output_type": "execute_result"
    }
   ],
   "source": [
    "os.listdir(os.path.join(PATH_STATS, \"webscraping\")), \\\n",
    "os.listdir(os.path.join(PATH_STATS, \"webscraping\", \"processes_2023 09 21\"))"
   ]
  },
  {
   "cell_type": "code",
   "execution_count": 8,
   "id": "9ea1fd60",
   "metadata": {},
   "outputs": [
    {
     "data": {
      "text/plain": [
       "'2023 09 24'"
      ]
     },
     "execution_count": 8,
     "metadata": {},
     "output_type": "execute_result"
    }
   ],
   "source": [
    "# datetime.today().strftime(\"%Y %m %d\")\n",
    "# datetime.today().isoformat(sep=\" \", timespec=\"hours\")\n",
    "datetime.today().strftime(\"%Y %m %d\")"
   ]
  },
  {
   "cell_type": "code",
   "execution_count": 28,
   "id": "ebf650df",
   "metadata": {},
   "outputs": [
    {
     "data": {
      "text/plain": [
       "['process_2023 09 24_15 52 01_pid_13256.csv',\n",
       " 'process_2023 09 24_15 52 01_pid_15828.csv',\n",
       " 'process_2023 09 24_15 52 01_pid_17020.csv',\n",
       " 'process_2023 09 24_15 52 01_pid_2564.csv',\n",
       " 'process_2023 09 24_15 52 01_pid_2676.csv',\n",
       " 'process_2023 09 24_15 52 01_pid_2804.csv',\n",
       " 'process_2023 09 24_15 52 01_pid_3056.csv',\n",
       " 'process_2023 09 24_15 52 01_pid_3744.csv',\n",
       " 'process_2023 09 24_15 52 01_pid_4652.csv',\n",
       " 'process_2023 09 24_15 52 01_pid_6188.csv',\n",
       " 'process_2023 09 24_15 52 01_pid_summary.csv']"
      ]
     },
     "execution_count": 28,
     "metadata": {},
     "output_type": "execute_result"
    }
   ],
   "source": [
    "files_same_date = []\n",
    "date = input(\"Write a date with format 'year month day': \")\n",
    "try:\n",
    "    date_parts = date.split(\" \")\n",
    "    y, m, d = date_parts\n",
    "    if date_parts != 3 or (len(y) != 4 or len(m) != 2 or len(d) != 2):\n",
    "        date = datetime.today().strftime(\"%Y %m %d\")\n",
    "except:\n",
    "    date = datetime.today().strftime(\"%Y %m %d\")\n",
    "time = input(\"Write a time with format 'hours minutes seconds': \")\n",
    "try:\n",
    "    time_parts = time.split(\" \")\n",
    "    h, m, s = time_parts\n",
    "    if time_parts != 3 or (len(h) != 2 or len(m) != 2 or len(s) != 2):\n",
    "        on_last_folder = True\n",
    "except:\n",
    "    on_last_folder = True\n",
    "for folder in os.listdir(os.path.join(PATH_STATS, \"webscraping\")):\n",
    "    if date in folder:\n",
    "        process_folder = folder\n",
    "        break\n",
    "\n",
    "main_path = os.path.join(PATH_STATS, \"webscraping\", process_folder)\n",
    "if on_last_folder:\n",
    "    complete_path = os.path.join(main_path, os.listdir(main_path)[-1])\n",
    "    stats_files = os.listdir(complete_path)\n",
    "else:\n",
    "    complete_path = os.path.join(main_path, time)\n",
    "    stats_files = os.listdir(complete_path)\n",
    "stats_files"
   ]
  },
  {
   "cell_type": "code",
   "execution_count": 29,
   "id": "45e875f8",
   "metadata": {},
   "outputs": [
    {
     "name": "stdout",
     "output_type": "stream",
     "text": [
      "(54, 4)\n"
     ]
    },
    {
     "data": {
      "text/html": [
       "<div>\n",
       "<style scoped>\n",
       "    .dataframe tbody tr th:only-of-type {\n",
       "        vertical-align: middle;\n",
       "    }\n",
       "\n",
       "    .dataframe tbody tr th {\n",
       "        vertical-align: top;\n",
       "    }\n",
       "\n",
       "    .dataframe thead th {\n",
       "        text-align: right;\n",
       "    }\n",
       "</style>\n",
       "<table border=\"1\" class=\"dataframe\">\n",
       "  <thead>\n",
       "    <tr style=\"text-align: right;\">\n",
       "      <th></th>\n",
       "      <th>media_url</th>\n",
       "      <th>n_urls</th>\n",
       "      <th>n_body_gpt</th>\n",
       "      <th>duration</th>\n",
       "    </tr>\n",
       "  </thead>\n",
       "  <tbody>\n",
       "    <tr>\n",
       "      <th>1</th>\n",
       "      <td>https://www.larioja.com/</td>\n",
       "      <td>0</td>\n",
       "      <td>0</td>\n",
       "      <td>0.3</td>\n",
       "    </tr>\n",
       "    <tr>\n",
       "      <th>2</th>\n",
       "      <td>https://www.ideal.es/</td>\n",
       "      <td>1</td>\n",
       "      <td>0</td>\n",
       "      <td>0.8</td>\n",
       "    </tr>\n",
       "    <tr>\n",
       "      <th>3</th>\n",
       "      <td>https://www.diariodemallorca.es/</td>\n",
       "      <td>0</td>\n",
       "      <td>0</td>\n",
       "      <td>0.4</td>\n",
       "    </tr>\n",
       "    <tr>\n",
       "      <th>0</th>\n",
       "      <td>https://www.ultimahora.es/</td>\n",
       "      <td>0</td>\n",
       "      <td>0</td>\n",
       "      <td>0.2</td>\n",
       "    </tr>\n",
       "    <tr>\n",
       "      <th>1</th>\n",
       "      <td>https://www.lavanguardia.com/</td>\n",
       "      <td>2</td>\n",
       "      <td>0</td>\n",
       "      <td>1.4</td>\n",
       "    </tr>\n",
       "  </tbody>\n",
       "</table>\n",
       "</div>"
      ],
      "text/plain": [
       "                          media_url  n_urls  n_body_gpt  duration\n",
       "1          https://www.larioja.com/       0           0       0.3\n",
       "2             https://www.ideal.es/       1           0       0.8\n",
       "3  https://www.diariodemallorca.es/       0           0       0.4\n",
       "0        https://www.ultimahora.es/       0           0       0.2\n",
       "1     https://www.lavanguardia.com/       2           0       1.4"
      ]
     },
     "execution_count": 29,
     "metadata": {},
     "output_type": "execute_result"
    }
   ],
   "source": [
    "df = []\n",
    "for file in stats_files:\n",
    "    if \"summary\" not in file:\n",
    "        df.append(pd.read_csv(os.path.join(complete_path, file), \n",
    "                              sep=SEP,\n",
    "                              names=[\"media_url\",\n",
    "                                     \"n_urls\",\n",
    "                                     \"n_body_gpt\",\n",
    "                                     \"duration\"\n",
    "                                     ]\n",
    "                                     )\n",
    "                                     )\n",
    "df = pd.concat(df, axis=0).iloc[1:]\n",
    "df = df.astype({\"media_url\": \"str\", \n",
    "                \"n_urls\": \"int\", \n",
    "                \"n_body_gpt\": \"int\", \n",
    "                \"duration\": \"float\"})\n",
    "\n",
    "df.to_csv(os.path.join(complete_path, \n",
    "                       \"process_\" + date + \"_concat.csv\"))\n",
    "\n",
    "for file in os.listdir(os.path.join(complete_path)):\n",
    "    if \"summary\" not in file and \"concat\" not in file:\n",
    "        os.remove(os.path.join(complete_path, file))\n",
    "\n",
    "print(df.shape)\n",
    "df.head()"
   ]
  },
  {
   "cell_type": "code",
   "execution_count": 30,
   "id": "1523d2f5",
   "metadata": {},
   "outputs": [
    {
     "data": {
      "text/plain": [
       "(n_urls        49\n",
       " n_body_gpt     0\n",
       " dtype: int64,\n",
       " 0.060000000000000005)"
      ]
     },
     "execution_count": 30,
     "metadata": {},
     "output_type": "execute_result"
    }
   ],
   "source": [
    "counts = df.filter(regex=\"n_\").sum()\n",
    "counts, df[\"duration\"].max() / 60"
   ]
  },
  {
   "cell_type": "code",
   "execution_count": 31,
   "id": "84344a34",
   "metadata": {},
   "outputs": [
    {
     "data": {
      "text/html": [
       "<div>\n",
       "<style scoped>\n",
       "    .dataframe tbody tr th:only-of-type {\n",
       "        vertical-align: middle;\n",
       "    }\n",
       "\n",
       "    .dataframe tbody tr th {\n",
       "        vertical-align: top;\n",
       "    }\n",
       "\n",
       "    .dataframe thead th {\n",
       "        text-align: right;\n",
       "    }\n",
       "</style>\n",
       "<table border=\"1\" class=\"dataframe\">\n",
       "  <thead>\n",
       "    <tr style=\"text-align: right;\">\n",
       "      <th></th>\n",
       "      <th>media_url</th>\n",
       "      <th>n_urls</th>\n",
       "      <th>n_body_gpt</th>\n",
       "      <th>duration</th>\n",
       "    </tr>\n",
       "  </thead>\n",
       "  <tbody>\n",
       "    <tr>\n",
       "      <th>1</th>\n",
       "      <td>Process summary</td>\n",
       "      <td>7</td>\n",
       "      <td>0</td>\n",
       "      <td>50.4</td>\n",
       "    </tr>\n",
       "    <tr>\n",
       "      <th>2</th>\n",
       "      <td>Process summary</td>\n",
       "      <td>1</td>\n",
       "      <td>0</td>\n",
       "      <td>50.8</td>\n",
       "    </tr>\n",
       "    <tr>\n",
       "      <th>3</th>\n",
       "      <td>Process summary</td>\n",
       "      <td>5</td>\n",
       "      <td>0</td>\n",
       "      <td>51.9</td>\n",
       "    </tr>\n",
       "    <tr>\n",
       "      <th>4</th>\n",
       "      <td>Process summary</td>\n",
       "      <td>6</td>\n",
       "      <td>0</td>\n",
       "      <td>52.5</td>\n",
       "    </tr>\n",
       "    <tr>\n",
       "      <th>5</th>\n",
       "      <td>Process summary</td>\n",
       "      <td>7</td>\n",
       "      <td>0</td>\n",
       "      <td>52.8</td>\n",
       "    </tr>\n",
       "  </tbody>\n",
       "</table>\n",
       "</div>"
      ],
      "text/plain": [
       "         media_url  n_urls  n_body_gpt  duration\n",
       "1  Process summary       7           0      50.4\n",
       "2  Process summary       1           0      50.8\n",
       "3  Process summary       5           0      51.9\n",
       "4  Process summary       6           0      52.5\n",
       "5  Process summary       7           0      52.8"
      ]
     },
     "execution_count": 31,
     "metadata": {},
     "output_type": "execute_result"
    }
   ],
   "source": [
    "df_summary = pd.read_csv(os.path.join(complete_path, stats_files[-1]), \n",
    "                                   sep=SEP,\n",
    "                                   header=None,\n",
    "                                   names=[\"media_url\",\n",
    "                                          \"n_urls\",\n",
    "                                          \"n_body_gpt\",\n",
    "                                          \"duration\"\n",
    "                                          ])\n",
    "df_summary = df_summary.iloc[1:]\n",
    "df_summary = df_summary.astype({\"media_url\": \"str\", \n",
    "                \"n_urls\": \"int\", \n",
    "                \"n_body_gpt\": \"int\", \n",
    "                \"duration\": \"float\"})\n",
    "df_summary.head()"
   ]
  },
  {
   "cell_type": "code",
   "execution_count": 32,
   "id": "c31c1684",
   "metadata": {},
   "outputs": [
    {
     "data": {
      "text/plain": [
       "(n_urls        41\n",
       " n_body_gpt     0\n",
       " dtype: int64,\n",
       " 1.0450000000000002)"
      ]
     },
     "execution_count": 32,
     "metadata": {},
     "output_type": "execute_result"
    }
   ],
   "source": [
    "counts_summ = df_summary.filter(regex=\"n_\").sum()\n",
    "counts_summ, df_summary[\"duration\"].max() / 60"
   ]
  },
  {
   "cell_type": "code",
   "execution_count": null,
   "id": "0313e917",
   "metadata": {},
   "outputs": [],
   "source": []
  }
 ],
 "metadata": {
  "kernelspec": {
   "display_name": "Python 3 (ipykernel)",
   "language": "python",
   "name": "python3"
  },
  "language_info": {
   "codemirror_mode": {
    "name": "ipython",
    "version": 3
   },
   "file_extension": ".py",
   "mimetype": "text/x-python",
   "name": "python",
   "nbconvert_exporter": "python",
   "pygments_lexer": "ipython3",
   "version": "3.9.13"
  }
 },
 "nbformat": 4,
 "nbformat_minor": 5
}
