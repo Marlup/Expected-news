{
 "cells": [
  {
   "cell_type": "code",
   "execution_count": 1,
   "id": "372c7d67",
   "metadata": {},
   "outputs": [
    {
     "name": "stderr",
     "output_type": "stream",
     "text": [
      "c:\\Users\\marsu\\anaconda3\\lib\\site-packages\\scipy\\__init__.py:177: UserWarning: A NumPy version >=1.18.5 and <1.26.0 is required for this version of SciPy (detected version 1.26.0\n",
      "  warnings.warn(f\"A NumPy version >={np_minversion} and <{np_maxversion}\"\n"
     ]
    }
   ],
   "source": [
    "from nltk.stem import SnowballStemmer\n",
    "import sqlite3\n",
    "import pandas as pd"
   ]
  },
  {
   "cell_type": "code",
   "execution_count": 2,
   "id": "28ca1a94",
   "metadata": {},
   "outputs": [],
   "source": [
    "spanish_sn_stemmer = SnowballStemmer('spanish')"
   ]
  },
  {
   "cell_type": "code",
   "execution_count": 14,
   "id": "e356b24c",
   "metadata": {},
   "outputs": [],
   "source": [
    "with sqlite3.connect(\"../../db.sqlite3\") as conn:\n",
    "    cur = conn.cursor()\n",
    "    data = cur.execute(\"\"\"\n",
    "                        SELECT \n",
    "                            url,\n",
    "                            description,\n",
    "                            score\n",
    "                        FROM \n",
    "                            news\n",
    "                    \"\"\") \\\n",
    "                .fetchall()\n",
    "\n",
    "    df = pd.DataFrame(data, \n",
    "                    columns=['url', \n",
    "                             'desc', \n",
    "                             'score'\n",
    "                             ])\n",
    "    # Filter out empty descriptions\n",
    "    df = df[df[\"desc\"] != \"\"].reset_index(drop=True)\n",
    "    df[\"score\"] = df[\"score\"] + 1\n",
    "\n",
    "    # Extract 1 random row from each 'desc' groupby\n",
    "    in_index_one_random_from_groups = df.groupby(\"desc\") \\\n",
    "                                        .sample(n=1, weights=\"score\").index\n",
    "    out_index_one_random_from_groups = df.index.difference(in_index_one_random_from_groups)\n",
    "    # Filter out duplicates\n",
    "    urls_to_preprocess = df.iloc[in_index_one_random_from_groups][\"url\"].tolist()\n",
    "    urls_to_preprocess = tuple((x, ) for x in urls_to_preprocess)\n",
    "    # Filter out fully processed rows\n",
    "    urls_to_only_update = df.iloc[out_index_one_random_from_groups][\"url\"].tolist()\n",
    "    urls_to_only_update = tuple((x, ) for x in urls_to_only_update)\n",
    "\n",
    "    cur.executemany(\"\"\"\n",
    "        UPDATE  \n",
    "            news\n",
    "        SET\n",
    "            preprocessed = True,\n",
    "            updateDate = DATETIME('now', 'localtime', 'utc')\n",
    "        WHERE\n",
    "            DATETIME(updateDate) != ''\n",
    "        AND\n",
    "            DATETIME(creationDate, 'utc') >= DATETIME('now', 'localtime', 'utc', '-2 days')\n",
    "        AND\n",
    "            url = ?\n",
    "    \"\"\", urls_to_preprocess)\n",
    "    conn.commit()\n",
    "    cur.executemany(\"\"\"\n",
    "        UPDATE  \n",
    "            news\n",
    "        SET\n",
    "            updateDate = DATETIME('now', 'localtime', 'utc')\n",
    "        WHERE\n",
    "            DATETIME(updateDate) != ''\n",
    "        AND\n",
    "            DATETIME(creationDate, 'utc') >= DATETIME('now', 'localtime', 'utc', '-2 days')\n",
    "        AND\n",
    "            url = ?\n",
    "    \"\"\", urls_to_only_update)\n",
    "    conn.commit()"
   ]
  },
  {
   "cell_type": "code",
   "execution_count": 17,
   "id": "1a04bd20",
   "metadata": {},
   "outputs": [
    {
     "data": {
      "text/plain": [
       "(23181, 14415)"
      ]
     },
     "execution_count": 17,
     "metadata": {},
     "output_type": "execute_result"
    }
   ],
   "source": [
    "len(urls_to_preprocess), len(urls_to_only_update)"
   ]
  },
  {
   "cell_type": "code",
   "execution_count": null,
   "id": "d6f569ec",
   "metadata": {},
   "outputs": [],
   "source": []
  }
 ],
 "metadata": {
  "kernelspec": {
   "display_name": "Python 3 (ipykernel)",
   "language": "python",
   "name": "python3"
  },
  "language_info": {
   "codemirror_mode": {
    "name": "ipython",
    "version": 3
   },
   "file_extension": ".py",
   "mimetype": "text/x-python",
   "name": "python",
   "nbconvert_exporter": "python",
   "pygments_lexer": "ipython3",
   "version": "3.9.18"
  }
 },
 "nbformat": 4,
 "nbformat_minor": 5
}
